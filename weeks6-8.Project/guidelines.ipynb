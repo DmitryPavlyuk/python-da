{
 "cells": [
  {
   "cell_type": "markdown",
   "id": "0fe3e959",
   "metadata": {},
   "source": [
    "# Python for Data Analytics"
   ]
  },
  {
   "cell_type": "markdown",
   "id": "06a3d5ad",
   "metadata": {},
   "source": [
    "## Independent Project Guidelines"
   ]
  },
  {
   "cell_type": "markdown",
   "id": "88ab8900",
   "metadata": {},
   "source": [
    "Data analytics project is a showcase of your skills on data processing using Python. Main stages of the project:\n",
    "\n",
    "1. __Selection of your research data set__\n",
    "\n",
    "Selection can be based on your profesional activities (preferred), personal side projects, hobbies, or just pure curiosity.\n",
    "\n",
    "2. __Organising a Jupiter notebook that will be used for all operations and the project report__\n",
    "\n",
    "For brevity reasons, the report is limited by 2000 words (excl. source codes)\n",
    "\n",
    "3. __Data collection__\n",
    "\n",
    "This is preferable to organise data collection from the notebook - e.g., downloading of data from open sources. If the data set are not public or not available for automatic collection, then this is allowed to use local files for loading.\n",
    "\n",
    "4. __Business understanding__\n",
    "\n",
    "Describe potential applications of the data set - how and for which purposes it can be used.\n",
    "\n",
    "5. __Loading the data set__\n",
    "\n",
    "The data set can be heterogeneous and include numeric data, text fragments, images, etc. This is highly recommended to use NumPy, Pandas and/or pure Python data structures to highlight your skills on these libraries\n",
    "\n",
    "6. __Data understanding / visualisation__\n",
    "\n",
    "This is recommended to use Matplotlib/Seaborn for visualising your data set. Note that your plots should tell the story - supplement them with interesting conclusions/insights\n",
    "\n",
    "7. __Data preparation__\n",
    "\n",
    "Data clean up, transformation, indexing, aggreagation, etc. - everything you need for further stages\n",
    "\n",
    "8. __Data modelling (optional)__\n",
    "\n",
    "Illustrate solution of one of the stated business problems using the loaded data set. The possible solution require modelling, which will be mainly covered by next study courses, so this is optional at the moment.\n"
   ]
  },
  {
   "cell_type": "markdown",
   "id": "65c134f6",
   "metadata": {},
   "source": [
    "## Project Examples\n",
    "\n",
    "Using your own data set is the preferred option, but if you have no ideas  - use one of the recommendations below."
   ]
  },
  {
   "cell_type": "markdown",
   "id": "3e8f2889",
   "metadata": {},
   "source": [
    "### General Transit Feed Specification (GTFS) data\n",
    "\n",
    "GTFS defines a common format for public transportation schedules and associated geographic information. This format is used by many public transport operators to publish schedule information - e.g., Rigas Satiksme https://data.gov.lv/dati/lv/dataset/marsrutu-saraksti-rigas-satiksme-sabiedriskajam-transportam\n",
    "\n",
    "The data format is quite complicated, but opens a wide range of applications"
   ]
  },
  {
   "cell_type": "markdown",
   "id": "c7b13e73",
   "metadata": {},
   "source": [
    "### Public Transport smart card data\n",
    "\n",
    "Registration data of smart cards is another valuable source of information. This is publicly available in Riga (e.g., Rigas Satiksme https://data.gov.lv/dati/lv/dataset/e-talonu-validaciju-dati-rigas-satiksme-sabiedriskajos-transportlidzeklos) and has a relatively simple format."
   ]
  },
  {
   "cell_type": "markdown",
   "id": "52c89305",
   "metadata": {},
   "source": [
    "### Regional statistics\n",
    "\n",
    "Regional statistic data covers a lot of indicators - economic, social, demographic, etc. has a large potential for visualisation and trends. The data for Latvia is provided here https://data.gov.lv/eng, but for other countries are also publicly available."
   ]
  },
  {
   "cell_type": "markdown",
   "id": "901db2c0",
   "metadata": {},
   "source": [
    "### Regional statistics\n",
    "\n",
    "Regional statistic data covers a lot of indicators - economic, social, demographic, etc. has a large potential for visualisation and trends. The data for Latvia is provided here https://data.gov.lv/eng, but for other countries are also publicly available."
   ]
  },
  {
   "cell_type": "markdown",
   "id": "f4baedc7",
   "metadata": {},
   "source": [
    "### Web scrapping: Wikipedia\n",
    "\n",
    "Wikipedia is a perfect source of textual data, available for automatic scrapping. It is primarily used for text mining, but also a great source for visualising activities, trends, or just a source for specific information (e.g., a bot for finding dates of births from famous person's Wiki articles)"
   ]
  },
  {
   "cell_type": "markdown",
   "id": "59bdcace",
   "metadata": {},
   "source": [
    "### Web scrapping: Market\n",
    "\n",
    "If you are interested in market analysis (e.g., real estate, cars, etc.), you can collect data from a website of private advertisements.\n",
    "\n",
    "Please avoid scrapping personal data and intellectual property."
   ]
  },
  {
   "cell_type": "markdown",
   "id": "bee2a827",
   "metadata": {},
   "source": [
    "### World Statistics\n",
    "\n",
    "There is a wide vareity of data sources on global processes in our world - population, migration, spread of deseases, etc. E.g., Our World in Data https://ourworldindata.org/ is a great collection of data sets for visualisation and analysis."
   ]
  },
  {
   "cell_type": "markdown",
   "id": "9b3f5e04",
   "metadata": {},
   "source": [
    "### Social Networks\n",
    "\n",
    "Many social networks provide APIs for automatic data collection - e.g., Twitter or Facebook API. In addition to textual and image analysis, social networks cen be used for monitoring trends, etc."
   ]
  },
  {
   "cell_type": "markdown",
   "id": "04cec468",
   "metadata": {},
   "source": [
    "### Airbnb open data\n",
    "\n",
    "Airbnb's open API lets you extract data on Airbnb stays from the public website. Data includes all the information needed to find out more about hosts and geographical availability, both of which are necessary metrics to make predictions and draw conclusions."
   ]
  },
  {
   "cell_type": "markdown",
   "id": "f09f62ec",
   "metadata": {},
   "source": [
    "## Final notes"
   ]
  },
  {
   "cell_type": "markdown",
   "id": "57e0d376",
   "metadata": {},
   "source": [
    "In addition to the provided report, the project require a short presentation (max. 7 minutes) to your group mates, describing data set, steps of data processing and most interesting results."
   ]
  }
 ],
 "metadata": {
  "kernelspec": {
   "display_name": "Python 3 (ipykernel)",
   "language": "python",
   "name": "python3"
  },
  "language_info": {
   "codemirror_mode": {
    "name": "ipython",
    "version": 3
   },
   "file_extension": ".py",
   "mimetype": "text/x-python",
   "name": "python",
   "nbconvert_exporter": "python",
   "pygments_lexer": "ipython3",
   "version": "3.9.12"
  }
 },
 "nbformat": 4,
 "nbformat_minor": 5
}
