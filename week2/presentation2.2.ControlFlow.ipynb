{
 "cells": [
  {
   "cell_type": "markdown",
   "id": "69429c05",
   "metadata": {
    "slideshow": {
     "slide_type": "slide"
    }
   },
   "source": [
    "# 2.2. Control Flow\n",
    "\n",
    "Module M-227-04: Programming for Data Analytics\n",
    "\n",
    "Instructor: prof. Dmitry Pavlyuk"
   ]
  },
  {
   "cell_type": "markdown",
   "id": "c3e9804a",
   "metadata": {
    "slideshow": {
     "slide_type": "slide"
    }
   },
   "source": [
    "Core constructions:\n",
    "* __if else__ conditional statements\n",
    "* __for__ loops\n",
    "* __while__ loops"
   ]
  },
  {
   "cell_type": "markdown",
   "id": "df82e0b1",
   "metadata": {
    "slideshow": {
     "slide_type": "slide"
    }
   },
   "source": [
    "## Conditional Statements"
   ]
  },
  {
   "cell_type": "code",
   "execution_count": 1,
   "id": "094f3f69",
   "metadata": {
    "slideshow": {
     "slide_type": "-"
    }
   },
   "outputs": [
    {
     "name": "stdout",
     "output_type": "stream",
     "text": [
      "This is True!\n"
     ]
    }
   ],
   "source": [
    "if True:\n",
    "    print(\"This is True!\")"
   ]
  },
  {
   "cell_type": "code",
   "execution_count": 2,
   "id": "ccd60652",
   "metadata": {
    "slideshow": {
     "slide_type": "-"
    }
   },
   "outputs": [
    {
     "name": "stdout",
     "output_type": "stream",
     "text": [
      "10 is equal to 5 multiplied by 2!\n"
     ]
    }
   ],
   "source": [
    "if 10 == 5 * 2:\n",
    "    print(\"10 is equal to 5 multiplied by 2!\")"
   ]
  },
  {
   "cell_type": "code",
   "execution_count": 3,
   "id": "9941ce3c",
   "metadata": {
    "slideshow": {
     "slide_type": "-"
    }
   },
   "outputs": [],
   "source": [
    "if 10 == 3 * 2:\n",
    "    print(\"This is not executed!\")"
   ]
  },
  {
   "cell_type": "markdown",
   "id": "2683436e",
   "metadata": {
    "slideshow": {
     "slide_type": "subslide"
    }
   },
   "source": [
    "### _if_ example"
   ]
  },
  {
   "cell_type": "code",
   "execution_count": 4,
   "id": "5d0ec157",
   "metadata": {
    "slideshow": {
     "slide_type": "-"
    }
   },
   "outputs": [
    {
     "name": "stdout",
     "output_type": "stream",
     "text": [
      "The string will be executed\n",
      "Thanks for finishing the process!\n"
     ]
    }
   ],
   "source": [
    "x = 15\n",
    "\n",
    "if x >= 10:\n",
    "    print(\"The string will be executed\")\n",
    "print(\"Thanks for finishing the process!\")"
   ]
  },
  {
   "cell_type": "markdown",
   "id": "392569aa",
   "metadata": {
    "slideshow": {
     "slide_type": "subslide"
    }
   },
   "source": [
    "### _if ... else_ example"
   ]
  },
  {
   "cell_type": "code",
   "execution_count": 5,
   "id": "5a8c0cbe",
   "metadata": {
    "slideshow": {
     "slide_type": "-"
    }
   },
   "outputs": [
    {
     "name": "stdout",
     "output_type": "stream",
     "text": [
      "Insert an integer number:20\n",
      "Sorry, you failed!\n",
      "Thanks for joining us!\n"
     ]
    }
   ],
   "source": [
    "x = int(input(\"Insert an integer number:\"))\n",
    "\n",
    "if x >= 30:\n",
    "    print(\"You are succeeded!\")\n",
    "else :\n",
    "    print(\"Sorry, you failed!\")\n",
    "    \n",
    "print(\"Thanks for joining us!\")"
   ]
  },
  {
   "cell_type": "markdown",
   "id": "64ae8ebb",
   "metadata": {
    "slideshow": {
     "slide_type": "subslide"
    }
   },
   "source": [
    "### _if ... elif ... else_ example"
   ]
  },
  {
   "cell_type": "code",
   "execution_count": 6,
   "id": "d87aba44",
   "metadata": {
    "slideshow": {
     "slide_type": "subslide"
    }
   },
   "outputs": [
    {
     "name": "stdout",
     "output_type": "stream",
     "text": [
      "Insert an integer number:30\n",
      "You are in the middle!\n",
      "Thanks for joining us!\n"
     ]
    }
   ],
   "source": [
    "x = int(input(\"Insert an integer number:\"))\n",
    "\n",
    "if x > 30:\n",
    "    print(\"You are succeeded!\")\n",
    "elif x == 30:\n",
    "    print(\"You are in the middle!\")\n",
    "else:\n",
    "    print(\"Sorry, you failed!\")\n",
    "    \n",
    "print(\"Thanks for joining us!\")"
   ]
  },
  {
   "cell_type": "markdown",
   "id": "ea85f1bd",
   "metadata": {
    "slideshow": {
     "slide_type": "slide"
    }
   },
   "source": [
    "## The while loop\n",
    "\n",
    "Keep on iterating until the condition is __False__ (initially unknown number of times)"
   ]
  },
  {
   "cell_type": "code",
   "execution_count": 7,
   "id": "cca23a1a",
   "metadata": {
    "slideshow": {
     "slide_type": "-"
    }
   },
   "outputs": [
    {
     "name": "stdout",
     "output_type": "stream",
     "text": [
      "x = 1\n",
      "x = 2\n",
      "x = 3\n",
      "x = 4\n",
      "x = 5\n",
      "x = 6\n",
      "x = 7\n",
      "x = 8\n",
      "x = 9\n",
      "x = 10\n",
      "x = 11\n",
      "x = 12\n",
      "x = 13\n",
      "x = 14\n",
      "Total = 105\n"
     ]
    }
   ],
   "source": [
    "x = 0\n",
    "total = 0\n",
    "while total < 100:\n",
    "    x = x + 1\n",
    "    total = total + x\n",
    "    print(f\"x = {x}\")\n",
    "print(f\"Total = {total}\")"
   ]
  },
  {
   "cell_type": "markdown",
   "id": "a4654b8e",
   "metadata": {
    "slideshow": {
     "slide_type": "slide"
    }
   },
   "source": [
    "## The for loop\n",
    "\n",
    "Iterate a __predefined__ number of times"
   ]
  },
  {
   "cell_type": "code",
   "execution_count": 8,
   "id": "aee508ee",
   "metadata": {
    "slideshow": {
     "slide_type": "-"
    }
   },
   "outputs": [
    {
     "name": "stdout",
     "output_type": "stream",
     "text": [
      "P\n",
      "r\n",
      "o\n",
      "g\n",
      "r\n",
      "a\n",
      "m\n",
      "m\n",
      "i\n",
      "n\n",
      "g\n"
     ]
    }
   ],
   "source": [
    "for char in \"Programming\":\n",
    "    print(char)"
   ]
  },
  {
   "cell_type": "markdown",
   "id": "f693aa49",
   "metadata": {
    "slideshow": {
     "slide_type": "subslide"
    }
   },
   "source": [
    "## Iterating using _range_"
   ]
  },
  {
   "cell_type": "code",
   "execution_count": 9,
   "id": "13f168bf",
   "metadata": {
    "scrolled": false,
    "slideshow": {
     "slide_type": "-"
    }
   },
   "outputs": [
    {
     "name": "stdout",
     "output_type": "stream",
     "text": [
      "Programming week 0\n",
      "Programming week 1\n",
      "Programming week 2\n",
      "Programming week 3\n",
      "Programming week 4\n"
     ]
    }
   ],
   "source": [
    "for i in range(5):\n",
    "    print(f\"Programming week {i}\")"
   ]
  },
  {
   "cell_type": "markdown",
   "id": "06aa491e",
   "metadata": {
    "slideshow": {
     "slide_type": "subslide"
    }
   },
   "source": [
    "## Iterating using _range_"
   ]
  },
  {
   "cell_type": "code",
   "execution_count": 10,
   "id": "209e8e62",
   "metadata": {
    "scrolled": false,
    "slideshow": {
     "slide_type": "-"
    }
   },
   "outputs": [
    {
     "name": "stdout",
     "output_type": "stream",
     "text": [
      "10\n",
      "12\n",
      "14\n",
      "16\n",
      "18\n",
      "20\n",
      "22\n",
      "24\n",
      "26\n",
      "28\n"
     ]
    }
   ],
   "source": [
    "for i in range(5, 15):\n",
    "    print(i + i)"
   ]
  },
  {
   "cell_type": "markdown",
   "id": "43304e14",
   "metadata": {
    "slideshow": {
     "slide_type": "subslide"
    }
   },
   "source": [
    "## Iterating through a tuple"
   ]
  },
  {
   "cell_type": "code",
   "execution_count": 11,
   "id": "651f29b2",
   "metadata": {
    "scrolled": true,
    "slideshow": {
     "slide_type": "-"
    }
   },
   "outputs": [
    {
     "name": "stdout",
     "output_type": "stream",
     "text": [
      "Monday\n",
      "Tuesday\n",
      "Wednesday\n",
      "Thursday\n",
      "Friday\n",
      "Saturday\n",
      "Sunday\n"
     ]
    }
   ],
   "source": [
    "weekdays = ('Monday', 'Tuesday', 'Wednesday', 'Thursday', 'Friday','Saturday', 'Sunday')\n",
    "for day in weekdays:\n",
    "    print(day)"
   ]
  },
  {
   "cell_type": "markdown",
   "id": "b363d0f6",
   "metadata": {
    "slideshow": {
     "slide_type": "subslide"
    }
   },
   "source": [
    "## Iterating through a dictionary"
   ]
  },
  {
   "cell_type": "code",
   "execution_count": 12,
   "id": "c92a9e6b",
   "metadata": {
    "scrolled": false,
    "slideshow": {
     "slide_type": "-"
    }
   },
   "outputs": [
    {
     "name": "stdout",
     "output_type": "stream",
     "text": [
      "Monday : Moon\n",
      "Tuesday : Mars\n",
      "Wednesday : Mercury\n",
      "Thursday : Jupiter\n",
      "Friday : Venus\n",
      "Saturday : Saturn\n",
      "Sunday : Sun\n"
     ]
    }
   ],
   "source": [
    "dict1 = {'Monday': 'Moon', 'Tuesday' : 'Mars', 'Wednesday' : 'Mercury', 'Thursday' : 'Jupiter',\n",
    "         'Friday' : 'Venus','Saturday' : 'Saturn', 'Sunday' : 'Sun'}\n",
    "for day in dict1:\n",
    "    print(day + \" : \" +dict1[day])"
   ]
  },
  {
   "cell_type": "markdown",
   "id": "aab56056",
   "metadata": {
    "slideshow": {
     "slide_type": "slide"
    }
   },
   "source": [
    "# Special statements\n",
    "\n",
    "* __break__ jumps out of a loop\n",
    "* __continue__ jumps over one iteration in the loop.\n",
    "\n",
    "\n",
    "* __pass__  does nothing, but you avoid getting an error when empty code is not allowed. The statement is used as a placeholder for future code. "
   ]
  },
  {
   "cell_type": "markdown",
   "id": "4ed80765",
   "metadata": {
    "slideshow": {
     "slide_type": "subslide"
    }
   },
   "source": [
    "## Using _break_ statement"
   ]
  },
  {
   "cell_type": "code",
   "execution_count": 13,
   "id": "09e97dc7",
   "metadata": {
    "slideshow": {
     "slide_type": "-"
    }
   },
   "outputs": [
    {
     "name": "stdout",
     "output_type": "stream",
     "text": [
      "0\n",
      "1\n",
      "2\n",
      "The last number in the loop is 3\n"
     ]
    }
   ],
   "source": [
    "for x in range(0, 5):\n",
    "    if x == 3:\n",
    "        break\n",
    "    print(x)\n",
    "    \n",
    "print(f\"The last number in the loop is {x}\")"
   ]
  },
  {
   "cell_type": "markdown",
   "id": "f2f150fa",
   "metadata": {
    "slideshow": {
     "slide_type": "subslide"
    }
   },
   "source": [
    "## Using _continue_ statement"
   ]
  },
  {
   "cell_type": "code",
   "execution_count": 14,
   "id": "362f39ba",
   "metadata": {
    "slideshow": {
     "slide_type": "-"
    }
   },
   "outputs": [
    {
     "name": "stdout",
     "output_type": "stream",
     "text": [
      "0\n",
      "1\n",
      "2\n",
      "4\n",
      "5\n",
      "6\n",
      "The last number in the loop is x = 6\n"
     ]
    }
   ],
   "source": [
    "for x in range(0, 7):\n",
    "    if x == 3:\n",
    "        continue\n",
    "    print(x)\n",
    "    \n",
    "print(f\"The last number in the loop is x = {x}\")"
   ]
  },
  {
   "cell_type": "markdown",
   "id": "89263c9e",
   "metadata": {
    "slideshow": {
     "slide_type": "subslide"
    }
   },
   "source": [
    "## Using _pass_ statement"
   ]
  },
  {
   "cell_type": "code",
   "execution_count": 15,
   "id": "5c58854c",
   "metadata": {
    "slideshow": {
     "slide_type": "-"
    }
   },
   "outputs": [],
   "source": [
    "if \"yellow\" in {\"red\", \"green\", \"blue\"}:\n",
    "    print(\"Base colour!\")\n",
    "else: \n",
    "    pass # Will do something later\n",
    "    "
   ]
  },
  {
   "cell_type": "markdown",
   "id": "5f3de40f",
   "metadata": {
    "slideshow": {
     "slide_type": "slide"
    }
   },
   "source": [
    "# Thank you"
   ]
  }
 ],
 "metadata": {
  "celltoolbar": "Slideshow",
  "kernelspec": {
   "display_name": "Python 3 (ipykernel)",
   "language": "python",
   "name": "python3"
  },
  "language_info": {
   "codemirror_mode": {
    "name": "ipython",
    "version": 3
   },
   "file_extension": ".py",
   "mimetype": "text/x-python",
   "name": "python",
   "nbconvert_exporter": "python",
   "pygments_lexer": "ipython3",
   "version": "3.9.12"
  }
 },
 "nbformat": 4,
 "nbformat_minor": 5
}
