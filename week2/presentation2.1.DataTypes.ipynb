{
 "cells": [
  {
   "cell_type": "markdown",
   "id": "69429c05",
   "metadata": {
    "slideshow": {
     "slide_type": "slide"
    }
   },
   "source": [
    "# 2.1. Data Structures\n",
    "\n",
    "Module M-227-04: Programming for Data Analytics\n",
    "\n",
    "Instructor: prof. Dmitry Pavlyuk"
   ]
  },
  {
   "cell_type": "markdown",
   "id": "25533839",
   "metadata": {
    "slideshow": {
     "slide_type": "slide"
    }
   },
   "source": [
    "## Important Data Structures\n",
    "\n",
    "* __Tuple__ is a fixed-length immutable sequence of Python objects\n",
    "* __List__ is a variable-length ordered mutable sequence of Python objects\n",
    "* __Set__ is an mutable unordered collection of unique Python objects\n",
    "* __Dictionary__ stores a mutable collection of key-value pairs, where key and value are Python objects. "
   ]
  },
  {
   "cell_type": "code",
   "execution_count": 1,
   "id": "1de1b91e",
   "metadata": {
    "slideshow": {
     "slide_type": "subslide"
    }
   },
   "outputs": [
    {
     "name": "stdout",
     "output_type": "stream",
     "text": [
      "Tuple  (1, 2, 3)\n",
      "List  [1, 2, 3]\n",
      "Set  {1, 2, 3}\n",
      "Dictionary  {1: 'One', 2: 'Two', 3: 'Three'}\n"
     ]
    }
   ],
   "source": [
    "tuple1 = (1, 2, 3)\n",
    "print(\"Tuple \", tuple1)\n",
    "list1 = [1, 2, 3]\n",
    "print(\"List \", list1)\n",
    "set1 = {1, 2, 3}\n",
    "print(\"Set \", set1)\n",
    "dict1 = {1:\"One\", 2:\"Two\", 3:\"Three\"}\n",
    "print(\"Dictionary \", dict1)"
   ]
  },
  {
   "cell_type": "markdown",
   "id": "cdfb4a48",
   "metadata": {
    "slideshow": {
     "slide_type": "slide"
    }
   },
   "source": [
    "## Tuples vs. Lists"
   ]
  },
  {
   "cell_type": "markdown",
   "id": "9bbd8258",
   "metadata": {
    "slideshow": {
     "slide_type": "subslide"
    }
   },
   "source": [
    "Similar structures:"
   ]
  },
  {
   "cell_type": "code",
   "execution_count": 2,
   "id": "d5145ec8",
   "metadata": {
    "slideshow": {
     "slide_type": "-"
    }
   },
   "outputs": [
    {
     "name": "stdout",
     "output_type": "stream",
     "text": [
      "(1, 2, 3)\n",
      "<class 'tuple'>\n",
      "Third element =  3\n"
     ]
    }
   ],
   "source": [
    "tuple1 = (1, 2, 3)\n",
    "print(tuple1)\n",
    "print(type(tuple1))\n",
    "print(\"Third element = \", tuple1[2])"
   ]
  },
  {
   "cell_type": "code",
   "execution_count": 3,
   "id": "4899a42b",
   "metadata": {
    "slideshow": {
     "slide_type": "-"
    }
   },
   "outputs": [
    {
     "name": "stdout",
     "output_type": "stream",
     "text": [
      "[1, 2, 3]\n",
      "<class 'list'>\n",
      "Third element =  3\n"
     ]
    }
   ],
   "source": [
    "list1 = [1, 2, 3]\n",
    "print(list1)\n",
    "print(type(list1))\n",
    "print(\"Third element = \", list1[2])"
   ]
  },
  {
   "cell_type": "markdown",
   "id": "c0f4b614",
   "metadata": {
    "slideshow": {
     "slide_type": "subslide"
    }
   },
   "source": [
    "## Key differences:"
   ]
  },
  {
   "cell_type": "markdown",
   "id": "40f96f20",
   "metadata": {
    "slideshow": {
     "slide_type": "-"
    }
   },
   "source": [
    "* Tuples use less memory than lists"
   ]
  },
  {
   "cell_type": "code",
   "execution_count": 4,
   "id": "c7e8f83c",
   "metadata": {
    "slideshow": {
     "slide_type": "-"
    }
   },
   "outputs": [
    {
     "name": "stdout",
     "output_type": "stream",
     "text": [
      "64\n",
      "120\n"
     ]
    }
   ],
   "source": [
    "import sys\n",
    "\n",
    "print(sys.getsizeof(tuple1))\n",
    "print(sys.getsizeof(list1))"
   ]
  },
  {
   "cell_type": "markdown",
   "id": "a612248e",
   "metadata": {
    "slideshow": {
     "slide_type": "subslide"
    }
   },
   "source": [
    "* Tuples are used by reference, lists are copied"
   ]
  },
  {
   "cell_type": "code",
   "execution_count": 5,
   "id": "998659c9",
   "metadata": {
    "slideshow": {
     "slide_type": "-"
    }
   },
   "outputs": [
    {
     "name": "stdout",
     "output_type": "stream",
     "text": [
      "The same tuple?  True\n",
      "The same list?  False\n"
     ]
    }
   ],
   "source": [
    "tuple2 = tuple(tuple1)\n",
    "print(\"The same tuple? \", tuple2 is tuple1)\n",
    "list2 = list(list1)\n",
    "print(\"The same list? \", list2 is list1)"
   ]
  },
  {
   "cell_type": "markdown",
   "id": "fa72a4fa",
   "metadata": {
    "slideshow": {
     "slide_type": "subslide"
    }
   },
   "source": [
    "* Tuples construction is faster than lists"
   ]
  },
  {
   "cell_type": "code",
   "execution_count": 6,
   "id": "86772ecb",
   "metadata": {
    "slideshow": {
     "slide_type": "-"
    }
   },
   "outputs": [
    {
     "name": "stdout",
     "output_type": "stream",
     "text": [
      "7.1999999997629516e-06\n",
      "4.619999999988522e-05\n"
     ]
    }
   ],
   "source": [
    "import timeit\n",
    "print(timeit.timeit(\"(1,2,3,4,5)\",number=1000))\n",
    "print(timeit.timeit(\"[1,2,3,4,5]\",number=1000))"
   ]
  },
  {
   "cell_type": "markdown",
   "id": "e6c3b108",
   "metadata": {
    "slideshow": {
     "slide_type": "subslide"
    }
   },
   "source": [
    "* Tuples are hashable (will explain later)\n",
    "* Tuples are immutable, e.g., can not add/delete element, can not sort tuples"
   ]
  },
  {
   "cell_type": "code",
   "execution_count": 7,
   "id": "9ec61e91",
   "metadata": {
    "slideshow": {
     "slide_type": "-"
    }
   },
   "outputs": [
    {
     "name": "stdout",
     "output_type": "stream",
     "text": [
      "Updated list =  ['First', 2, 3]\n"
     ]
    }
   ],
   "source": [
    "list1[0]='First'\n",
    "print(\"Updated list = \", list1)"
   ]
  },
  {
   "cell_type": "code",
   "execution_count": 8,
   "id": "84eff919",
   "metadata": {
    "slideshow": {
     "slide_type": "-"
    },
    "tags": [
     "raises-exception"
    ]
   },
   "outputs": [
    {
     "ename": "TypeError",
     "evalue": "'tuple' object does not support item assignment",
     "output_type": "error",
     "traceback": [
      "\u001b[1;31m---------------------------------------------------------------------------\u001b[0m",
      "\u001b[1;31mTypeError\u001b[0m                                 Traceback (most recent call last)",
      "Input \u001b[1;32mIn [8]\u001b[0m, in \u001b[0;36m<cell line: 1>\u001b[1;34m()\u001b[0m\n\u001b[1;32m----> 1\u001b[0m tuple1[\u001b[38;5;241m0\u001b[39m]\u001b[38;5;241m=\u001b[39m\u001b[38;5;124m'\u001b[39m\u001b[38;5;124mFirst\u001b[39m\u001b[38;5;124m'\u001b[39m \u001b[38;5;66;03m#error!\u001b[39;00m\n\u001b[0;32m      2\u001b[0m \u001b[38;5;28mprint\u001b[39m(\u001b[38;5;124m\"\u001b[39m\u001b[38;5;124mUpdated tuple = \u001b[39m\u001b[38;5;124m\"\u001b[39m, tuple1)\n",
      "\u001b[1;31mTypeError\u001b[0m: 'tuple' object does not support item assignment"
     ]
    }
   ],
   "source": [
    "tuple1[0]='First' #error!\n",
    "print(\"Updated tuple = \", tuple1)"
   ]
  },
  {
   "cell_type": "markdown",
   "id": "12743f49",
   "metadata": {
    "slideshow": {
     "slide_type": "slide"
    }
   },
   "source": [
    "### Tuples: good examples"
   ]
  },
  {
   "cell_type": "code",
   "execution_count": 9,
   "id": "1f03d5d7",
   "metadata": {
    "slideshow": {
     "slide_type": "-"
    }
   },
   "outputs": [
    {
     "name": "stdout",
     "output_type": "stream",
     "text": [
      "('Monday', 'Tuesday', 'Wednesday', 'Thursday', 'Friday', 'Saturday', 'Sunday')\n",
      "(56.9677, 24.1056)\n",
      "(255, 255, 255)\n"
     ]
    }
   ],
   "source": [
    "weekdays = ('Monday', 'Tuesday', 'Wednesday', 'Thursday', 'Friday','Saturday', 'Sunday')\n",
    "print(weekdays)\n",
    "rigaCoords = (56.9677, 24.1056)\n",
    "print(rigaCoords)\n",
    "rgbColor = (255, 255, 255) #white\n",
    "print(rgbColor)\n"
   ]
  },
  {
   "cell_type": "markdown",
   "id": "d355310d",
   "metadata": {
    "slideshow": {
     "slide_type": "-"
    }
   },
   "source": [
    "Tuples: questionable usage"
   ]
  },
  {
   "cell_type": "code",
   "execution_count": 10,
   "id": "3dff1ff8",
   "metadata": {
    "slideshow": {
     "slide_type": "-"
    }
   },
   "outputs": [
    {
     "name": "stdout",
     "output_type": "stream",
     "text": [
      "('Alexey', 'Anar', 'Erika', 'Jevgenijs', 'Janis', 'Vjaceslav', 'Nikita')\n"
     ]
    }
   ],
   "source": [
    "students = ('Alexey', 'Anar', 'Erika', 'Jevgenijs', 'Janis', 'Vjaceslav', 'Nikita')\n",
    "print(students)\n"
   ]
  },
  {
   "cell_type": "markdown",
   "id": "6caa2b02",
   "metadata": {
    "slideshow": {
     "slide_type": "slide"
    }
   },
   "source": [
    "## Lists vs. Sets"
   ]
  },
  {
   "cell_type": "markdown",
   "id": "84d1d62f",
   "metadata": {
    "slideshow": {
     "slide_type": "-"
    }
   },
   "source": [
    "Similar structures, but no duplicates"
   ]
  },
  {
   "cell_type": "code",
   "execution_count": 11,
   "id": "14da7354",
   "metadata": {
    "scrolled": true,
    "slideshow": {
     "slide_type": "-"
    }
   },
   "outputs": [
    {
     "name": "stdout",
     "output_type": "stream",
     "text": [
      "[1, 2, 3, 3, 3, 3]\n",
      "<class 'list'>\n"
     ]
    }
   ],
   "source": [
    "list1 = [1, 2, 3, 3, 3, 3]\n",
    "print(list1)\n",
    "print(type(list1))"
   ]
  },
  {
   "cell_type": "code",
   "execution_count": 12,
   "id": "e796bef5",
   "metadata": {
    "scrolled": true,
    "slideshow": {
     "slide_type": "-"
    }
   },
   "outputs": [
    {
     "name": "stdout",
     "output_type": "stream",
     "text": [
      "{1, 2, 3}\n",
      "<class 'set'>\n"
     ]
    }
   ],
   "source": [
    "set1 = {1, 2, 3, 3, 3, 3}\n",
    "print(set1)\n",
    "print(type(set1))"
   ]
  },
  {
   "cell_type": "markdown",
   "id": "bbf8fe01",
   "metadata": {
    "slideshow": {
     "slide_type": "subslide"
    }
   },
   "source": [
    "* Sets are faster than lists for checking presence of object"
   ]
  },
  {
   "cell_type": "code",
   "execution_count": 13,
   "id": "959978af",
   "metadata": {
    "scrolled": true,
    "slideshow": {
     "slide_type": "-"
    }
   },
   "outputs": [
    {
     "name": "stdout",
     "output_type": "stream",
     "text": [
      "True\n",
      "True\n",
      "Time for checking in list =  5.1300000000420454e-05\n",
      "Time for checking in set =  2.2100000000246922e-05\n"
     ]
    }
   ],
   "source": [
    "print(5 in [1,2,3,4,5])\n",
    "print(5 in {1,2,3,4,5})\n",
    "import timeit\n",
    "print(\"Time for checking in list = \", timeit.timeit(\"5 in [1,2,3,4,5]\",number=1000))\n",
    "print(\"Time for checking in set = \",timeit.timeit(\"5 in {1,2,3,4,5}\",number=1000))"
   ]
  },
  {
   "cell_type": "markdown",
   "id": "c622fc3c",
   "metadata": {
    "slideshow": {
     "slide_type": "subslide"
    }
   },
   "source": [
    "* Element in sets can not be accessed by index"
   ]
  },
  {
   "cell_type": "code",
   "execution_count": 14,
   "id": "05b61d9f",
   "metadata": {
    "scrolled": true,
    "slideshow": {
     "slide_type": "-"
    },
    "tags": [
     "raises-exception"
    ]
   },
   "outputs": [
    {
     "ename": "TypeError",
     "evalue": "'set' object is not subscriptable",
     "output_type": "error",
     "traceback": [
      "\u001b[1;31m---------------------------------------------------------------------------\u001b[0m",
      "\u001b[1;31mTypeError\u001b[0m                                 Traceback (most recent call last)",
      "Input \u001b[1;32mIn [14]\u001b[0m, in \u001b[0;36m<cell line: 1>\u001b[1;34m()\u001b[0m\n\u001b[1;32m----> 1\u001b[0m \u001b[38;5;28mprint\u001b[39m(\u001b[43mset1\u001b[49m\u001b[43m[\u001b[49m\u001b[38;5;241;43m0\u001b[39;49m\u001b[43m]\u001b[49m)\n",
      "\u001b[1;31mTypeError\u001b[0m: 'set' object is not subscriptable"
     ]
    }
   ],
   "source": [
    "print(set1[0])"
   ]
  },
  {
   "cell_type": "markdown",
   "id": "f4ee9550",
   "metadata": {
    "slideshow": {
     "slide_type": "subslide"
    }
   },
   "source": [
    "* Set operations"
   ]
  },
  {
   "cell_type": "code",
   "execution_count": 15,
   "id": "8e3e0637",
   "metadata": {
    "scrolled": true,
    "slideshow": {
     "slide_type": "-"
    }
   },
   "outputs": [
    {
     "name": "stdout",
     "output_type": "stream",
     "text": [
      "Instersection of {2, 3, 5} and {2, 4, 6} is {2}\n",
      "Union of {2, 3, 5} and {2, 4, 6} is {2, 3, 4, 5, 6}\n"
     ]
    }
   ],
   "source": [
    "set2 = {2, 3, 5}\n",
    "set3 = {2, 4, 6}\n",
    "print(f\"Instersection of {set2} and {set3} is {set2.intersection(set3)}\")\n",
    "print(f\"Union of {set2} and {set3} is {set2.union(set3)}\")"
   ]
  },
  {
   "cell_type": "markdown",
   "id": "6af4da7d",
   "metadata": {
    "slideshow": {
     "slide_type": "slide"
    }
   },
   "source": [
    "## Dictionaries\n",
    "\n",
    "A dictionary stores a collection of key-value pairs, where key and value are Python objects. Each key is associated with a value so that a value can be conveniently retrieved, inserted, modified, or deleted given a particular key."
   ]
  },
  {
   "cell_type": "code",
   "execution_count": 16,
   "id": "34828e8f",
   "metadata": {
    "scrolled": true,
    "slideshow": {
     "slide_type": "subslide"
    }
   },
   "outputs": [
    {
     "name": "stdout",
     "output_type": "stream",
     "text": [
      "{'Monday': 'Moon', 'Tuesday': 'Mars', 'Wednesday': 'Mercury', 'Thursday': 'Jupiter', 'Friday': 'Venus', 'Saturday': 'Saturn'}\n",
      "<class 'dict'>\n",
      "dict_keys(['Monday', 'Tuesday', 'Wednesday', 'Thursday', 'Friday', 'Saturday'])\n",
      "dict_values(['Moon', 'Mars', 'Mercury', 'Jupiter', 'Venus', 'Saturn'])\n"
     ]
    }
   ],
   "source": [
    "dict1 = {'Monday': 'Moon', 'Tuesday' : 'Mars', 'Wednesday' : 'Mercury', 'Thursday' : 'Jupiter',\n",
    "         'Friday' : 'Venus','Saturday' : 'Saturn'}\n",
    "print(dict1)\n",
    "print(type(dict1))\n",
    "print(dict1.keys())\n",
    "print(dict1.values())"
   ]
  },
  {
   "cell_type": "code",
   "execution_count": 17,
   "id": "616b5ae9",
   "metadata": {
    "slideshow": {
     "slide_type": "subslide"
    }
   },
   "outputs": [
    {
     "name": "stdout",
     "output_type": "stream",
     "text": [
      "{'Monday': 'Moon', 'Tuesday': 'Mars', 'Wednesday': 'Mercury', 'Thursday': 'Jupiter', 'Friday': 'Venus', 'Saturday': 'Saturn', 'Sunday': 'Sun'}\n"
     ]
    }
   ],
   "source": [
    "dict1['Sunday'] = 'Sun'\n",
    "print(dict1)"
   ]
  },
  {
   "cell_type": "code",
   "execution_count": 18,
   "id": "6f847e94",
   "metadata": {
    "slideshow": {
     "slide_type": "-"
    }
   },
   "outputs": [
    {
     "name": "stdout",
     "output_type": "stream",
     "text": [
      "{'Tuesday': 'Mars', 'Wednesday': 'Mercury', 'Thursday': 'Jupiter', 'Friday': 'Venus', 'Saturday': 'Saturn', 'Sunday': 'Sun'}\n"
     ]
    }
   ],
   "source": [
    "dict1.pop('Monday')\n",
    "print(dict1)"
   ]
  },
  {
   "cell_type": "markdown",
   "id": "edddacd2",
   "metadata": {
    "slideshow": {
     "slide_type": "subslide"
    }
   },
   "source": [
    "### Complex keys"
   ]
  },
  {
   "cell_type": "code",
   "execution_count": 19,
   "id": "f2b1c09c",
   "metadata": {},
   "outputs": [
    {
     "name": "stdout",
     "output_type": "stream",
     "text": [
      "{(56.9677, 24.1056): 'Riga', (51.5072, 0.12): 'London'}\n"
     ]
    }
   ],
   "source": [
    "coords = dict()\n",
    "coords[(56.9677, 24.1056)] = 'Riga'\n",
    "coords[(51.5072, 0.12)] = 'London'\n",
    "print(coords)"
   ]
  },
  {
   "cell_type": "markdown",
   "id": "eaa5c8f7",
   "metadata": {
    "slideshow": {
     "slide_type": "subslide"
    }
   },
   "source": [
    "### Hashability"
   ]
  },
  {
   "cell_type": "code",
   "execution_count": 20,
   "id": "9b561f05",
   "metadata": {
    "scrolled": false,
    "slideshow": {
     "slide_type": "-"
    },
    "tags": [
     "raises-exception"
    ]
   },
   "outputs": [
    {
     "ename": "TypeError",
     "evalue": "unhashable type: 'list'",
     "output_type": "error",
     "traceback": [
      "\u001b[1;31m---------------------------------------------------------------------------\u001b[0m",
      "\u001b[1;31mTypeError\u001b[0m                                 Traceback (most recent call last)",
      "Input \u001b[1;32mIn [20]\u001b[0m, in \u001b[0;36m<cell line: 1>\u001b[1;34m()\u001b[0m\n\u001b[1;32m----> 1\u001b[0m coords[[\u001b[38;5;241m50.8476\u001b[39m, \u001b[38;5;241m4.3572\u001b[39m]] \u001b[38;5;241m=\u001b[39m \u001b[38;5;124m'\u001b[39m\u001b[38;5;124mBrussel\u001b[39m\u001b[38;5;124m'\u001b[39m\n\u001b[0;32m      2\u001b[0m \u001b[38;5;28mprint\u001b[39m(coords)\n",
      "\u001b[1;31mTypeError\u001b[0m: unhashable type: 'list'"
     ]
    }
   ],
   "source": [
    "coords[[50.8476, 4.3572]] = 'Brussel'\n",
    "print(coords)"
   ]
  },
  {
   "cell_type": "code",
   "execution_count": 21,
   "id": "5ff732a8",
   "metadata": {
    "scrolled": true,
    "slideshow": {
     "slide_type": "-"
    },
    "tags": [
     "raises-exception"
    ]
   },
   "outputs": [
    {
     "ename": "TypeError",
     "evalue": "unhashable type: 'set'",
     "output_type": "error",
     "traceback": [
      "\u001b[1;31m---------------------------------------------------------------------------\u001b[0m",
      "\u001b[1;31mTypeError\u001b[0m                                 Traceback (most recent call last)",
      "Input \u001b[1;32mIn [21]\u001b[0m, in \u001b[0;36m<cell line: 1>\u001b[1;34m()\u001b[0m\n\u001b[1;32m----> 1\u001b[0m coords[{\u001b[38;5;241m50.8476\u001b[39m, \u001b[38;5;241m4.3572\u001b[39m}] \u001b[38;5;241m=\u001b[39m \u001b[38;5;124m'\u001b[39m\u001b[38;5;124mBrussel\u001b[39m\u001b[38;5;124m'\u001b[39m\n\u001b[0;32m      2\u001b[0m \u001b[38;5;28mprint\u001b[39m(coords)\n",
      "\u001b[1;31mTypeError\u001b[0m: unhashable type: 'set'"
     ]
    }
   ],
   "source": [
    "coords[{50.8476, 4.3572}] = 'Brussel'\n",
    "print(coords)"
   ]
  },
  {
   "cell_type": "code",
   "execution_count": 22,
   "id": "6174ae24",
   "metadata": {
    "scrolled": true,
    "slideshow": {
     "slide_type": "subslide"
    }
   },
   "outputs": [
    {
     "data": {
      "text/plain": [
       "1658362060139021477"
      ]
     },
     "execution_count": 22,
     "metadata": {},
     "output_type": "execute_result"
    }
   ],
   "source": [
    "hash((50.8476, 4.3572))"
   ]
  },
  {
   "cell_type": "code",
   "execution_count": 23,
   "id": "37bed5f0",
   "metadata": {
    "scrolled": true,
    "slideshow": {
     "slide_type": "-"
    },
    "tags": [
     "raises-exception"
    ]
   },
   "outputs": [
    {
     "ename": "TypeError",
     "evalue": "unhashable type: 'set'",
     "output_type": "error",
     "traceback": [
      "\u001b[1;31m---------------------------------------------------------------------------\u001b[0m",
      "\u001b[1;31mTypeError\u001b[0m                                 Traceback (most recent call last)",
      "Input \u001b[1;32mIn [23]\u001b[0m, in \u001b[0;36m<cell line: 1>\u001b[1;34m()\u001b[0m\n\u001b[1;32m----> 1\u001b[0m \u001b[38;5;28;43mhash\u001b[39;49m\u001b[43m(\u001b[49m\u001b[43m{\u001b[49m\u001b[38;5;241;43m50.8476\u001b[39;49m\u001b[43m,\u001b[49m\u001b[43m \u001b[49m\u001b[38;5;241;43m4.3572\u001b[39;49m\u001b[43m}\u001b[49m\u001b[43m)\u001b[49m\n",
      "\u001b[1;31mTypeError\u001b[0m: unhashable type: 'set'"
     ]
    }
   ],
   "source": [
    "hash({50.8476, 4.3572})"
   ]
  },
  {
   "cell_type": "code",
   "execution_count": 24,
   "id": "e692358c",
   "metadata": {
    "scrolled": false,
    "slideshow": {
     "slide_type": "-"
    },
    "tags": [
     "raises-exception"
    ]
   },
   "outputs": [
    {
     "ename": "TypeError",
     "evalue": "unhashable type: 'list'",
     "output_type": "error",
     "traceback": [
      "\u001b[1;31m---------------------------------------------------------------------------\u001b[0m",
      "\u001b[1;31mTypeError\u001b[0m                                 Traceback (most recent call last)",
      "Input \u001b[1;32mIn [24]\u001b[0m, in \u001b[0;36m<cell line: 1>\u001b[1;34m()\u001b[0m\n\u001b[1;32m----> 1\u001b[0m \u001b[38;5;28;43mhash\u001b[39;49m\u001b[43m(\u001b[49m\u001b[43m[\u001b[49m\u001b[38;5;241;43m50.8476\u001b[39;49m\u001b[43m,\u001b[49m\u001b[43m \u001b[49m\u001b[38;5;241;43m4.3572\u001b[39;49m\u001b[43m]\u001b[49m\u001b[43m)\u001b[49m\n",
      "\u001b[1;31mTypeError\u001b[0m: unhashable type: 'list'"
     ]
    }
   ],
   "source": [
    "hash([50.8476, 4.3572])\n"
   ]
  },
  {
   "cell_type": "code",
   "execution_count": 25,
   "id": "b5f1b9ac",
   "metadata": {
    "scrolled": true,
    "slideshow": {
     "slide_type": "-"
    }
   },
   "outputs": [
    {
     "name": "stdout",
     "output_type": "stream",
     "text": [
      "{(56.9677, 24.1056): 'Riga', (51.5072, 0.12): 'London', (50.8476, 4.3572): 'Brussel'}\n"
     ]
    }
   ],
   "source": [
    "coords[(50.8476, 4.3572)] = 'Brussel'\n",
    "print(coords)"
   ]
  },
  {
   "cell_type": "markdown",
   "id": "5f3de40f",
   "metadata": {
    "slideshow": {
     "slide_type": "slide"
    }
   },
   "source": [
    "# Thank you"
   ]
  }
 ],
 "metadata": {
  "celltoolbar": "Slideshow",
  "kernelspec": {
   "display_name": "Python 3 (ipykernel)",
   "language": "python",
   "name": "python3"
  },
  "language_info": {
   "codemirror_mode": {
    "name": "ipython",
    "version": 3
   },
   "file_extension": ".py",
   "mimetype": "text/x-python",
   "name": "python",
   "nbconvert_exporter": "python",
   "pygments_lexer": "ipython3",
   "version": "3.9.12"
  }
 },
 "nbformat": 4,
 "nbformat_minor": 5
}
