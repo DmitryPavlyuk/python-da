{
 "cells": [
  {
   "cell_type": "markdown",
   "id": "69429c05",
   "metadata": {
    "slideshow": {
     "slide_type": "slide"
    }
   },
   "source": [
    "## 2. Python Data Structures and Sequences\n",
    "\n",
    "Module M-227-04: Programming for Data Analytics\n",
    "\n",
    "Instructor: prof. Dmitry Pavlyuk"
   ]
  },
  {
   "cell_type": "markdown",
   "id": "3be68af0",
   "metadata": {
    "slideshow": {
     "slide_type": "slide"
    }
   },
   "source": [
    "# Python language basics\n"
   ]
  },
  {
   "cell_type": "markdown",
   "id": "4b7c4fe6",
   "metadata": {
    "slideshow": {
     "slide_type": "subslide"
    }
   },
   "source": [
    "## Intendation matters!"
   ]
  },
  {
   "cell_type": "code",
   "execution_count": 43,
   "id": "0ff92a41",
   "metadata": {
    "slideshow": {
     "slide_type": "fragment"
    }
   },
   "outputs": [
    {
     "name": "stdout",
     "output_type": "stream",
     "text": [
      "Hello\n"
     ]
    }
   ],
   "source": [
    "if (True):\n",
    "    print(\"Hello\")\n",
    "# Working!"
   ]
  },
  {
   "cell_type": "code",
   "execution_count": 44,
   "id": "448067ab",
   "metadata": {
    "slideshow": {
     "slide_type": "fragment"
    }
   },
   "outputs": [
    {
     "ename": "IndentationError",
     "evalue": "expected an indented block (1665540517.py, line 2)",
     "output_type": "error",
     "traceback": [
      "\u001b[1;36m  Input \u001b[1;32mIn [44]\u001b[1;36m\u001b[0m\n\u001b[1;33m    print(\"Hello\")\u001b[0m\n\u001b[1;37m    ^\u001b[0m\n\u001b[1;31mIndentationError\u001b[0m\u001b[1;31m:\u001b[0m expected an indented block\n"
     ]
    }
   ],
   "source": [
    "if (True):\n",
    "print(\"Hello\")\n",
    "# Intendation error"
   ]
  },
  {
   "cell_type": "markdown",
   "id": "63a49359",
   "metadata": {
    "slideshow": {
     "slide_type": "subslide"
    }
   },
   "source": [
    "## Python object model"
   ]
  },
  {
   "cell_type": "markdown",
   "id": "ccf101f4",
   "metadata": {
    "slideshow": {
     "slide_type": "fragment"
    }
   },
   "source": [
    "* Everything is an object and contains data and code: data in the form of fields (often known as attributes or properties), and code, in the form of methods.\n",
    "* Every object is an instance of a class __type(o)__"
   ]
  },
  {
   "cell_type": "code",
   "execution_count": null,
   "id": "80e3fbf2",
   "metadata": {
    "slideshow": {
     "slide_type": "fragment"
    }
   },
   "outputs": [],
   "source": [
    "int_object = 3 #Integer object\n",
    "string_object = \"Content\" # String object\n",
    "print(\"Type of int_object:\", type(int_object))\n",
    "print(\"Type of string_object:\", type(string_object))\n",
    "print(\"Propery bit_length of int_object:\", int_object.bit_length)\n",
    "print(\"Method upper() of string_object:\", string_object.upper())\n"
   ]
  },
  {
   "cell_type": "markdown",
   "id": "f8066b15",
   "metadata": {
    "slideshow": {
     "slide_type": "fragment"
    }
   },
   "source": [
    "* Mutable and immutable objects"
   ]
  },
  {
   "cell_type": "code",
   "execution_count": null,
   "id": "b80a2daa",
   "metadata": {},
   "outputs": [],
   "source": [
    "print(string_object[0])\n",
    "string_object[0] = \"A\"\n",
    "# Error!"
   ]
  },
  {
   "cell_type": "markdown",
   "id": "b37c7748",
   "metadata": {
    "slideshow": {
     "slide_type": "subslide"
    }
   },
   "source": [
    "## Functions"
   ]
  },
  {
   "cell_type": "markdown",
   "id": "3bba2136",
   "metadata": {
    "slideshow": {
     "slide_type": "fragment"
    }
   },
   "source": [
    "* You call __functions__ using parentheses and passing zero or more arguments \n",
    "* Functions themselves are also the object"
   ]
  },
  {
   "cell_type": "code",
   "execution_count": null,
   "id": "575ba465",
   "metadata": {
    "slideshow": {
     "slide_type": "fragment"
    }
   },
   "outputs": [],
   "source": [
    "# Length of the string object\n",
    "print(len(string_object))\n",
    "\n",
    "# The third power of the int object\n",
    "print(pow(int_object, 3))"
   ]
  },
  {
   "cell_type": "markdown",
   "id": "3b3a0f5a",
   "metadata": {
    "slideshow": {
     "slide_type": "fragment"
    }
   },
   "source": [
    "* You can define your own function:"
   ]
  },
  {
   "cell_type": "code",
   "execution_count": null,
   "id": "b6b286e5",
   "metadata": {
    "slideshow": {
     "slide_type": "fragment"
    }
   },
   "outputs": [],
   "source": [
    "def plusone(x):\n",
    "    return(x+1)\n",
    "    \n",
    "    \n",
    "print(plusone(10))"
   ]
  },
  {
   "cell_type": "markdown",
   "id": "8f911c79",
   "metadata": {
    "slideshow": {
     "slide_type": "subslide"
    }
   },
   "source": [
    "## Modules"
   ]
  },
  {
   "cell_type": "markdown",
   "id": "564ec1f8",
   "metadata": {
    "slideshow": {
     "slide_type": "fragment"
    }
   },
   "source": [
    "* Modules are files with Python definitions (e.g., functions) and statements\n",
    "* Modules should be imported before usage\n",
    "* You can import the complete module or just a specific function"
   ]
  },
  {
   "cell_type": "code",
   "execution_count": null,
   "id": "ddd8a14e",
   "metadata": {
    "slideshow": {
     "slide_type": "fragment"
    }
   },
   "outputs": [],
   "source": [
    "import math\n",
    "print(math.factorial(3))"
   ]
  },
  {
   "cell_type": "markdown",
   "id": "12bdff2a",
   "metadata": {
    "slideshow": {
     "slide_type": "fragment"
    }
   },
   "source": [
    "* You can import the complete module or just a specific function"
   ]
  },
  {
   "cell_type": "code",
   "execution_count": null,
   "id": "7c4f21d6",
   "metadata": {
    "slideshow": {
     "slide_type": "fragment"
    }
   },
   "outputs": [],
   "source": [
    "from math import factorial\n",
    "print(factorial(3))"
   ]
  },
  {
   "cell_type": "markdown",
   "id": "780ce658",
   "metadata": {
    "slideshow": {
     "slide_type": "fragment"
    }
   },
   "source": [
    "* You can organise your own functions in a module (.py file)"
   ]
  },
  {
   "cell_type": "markdown",
   "id": "a627825a",
   "metadata": {
    "slideshow": {
     "slide_type": "slide"
    }
   },
   "source": [
    "# Data types"
   ]
  },
  {
   "cell_type": "markdown",
   "id": "3f2620c3",
   "metadata": {
    "slideshow": {
     "slide_type": "subslide"
    }
   },
   "source": [
    "## Scalar types"
   ]
  },
  {
   "cell_type": "markdown",
   "id": "1518f164",
   "metadata": {
    "slideshow": {
     "slide_type": "fragment"
    }
   },
   "source": [
    "* You already familiar with scalar Python types:\n",
    "| Type  | Description                                                                    |\n",
    "|-------|--------------------------------------------------------------------------------|\n",
    "| None  | The Python “null” value (only one instance of the None object exists)          |\n",
    "| str   | String type; holds Unicode strings                                             |\n",
    "| bytes | Raw binary data                                                                |\n",
    "| float | Double-precision floating-point number                                         |\n",
    "| bool  | A boolean True or False value                                                  |\n",
    "| int   | Arbitrary precision integer                                                    |"
   ]
  },
  {
   "cell_type": "markdown",
   "id": "65572ea0",
   "metadata": {
    "slideshow": {
     "slide_type": "subslide"
    }
   },
   "source": [
    "## Date and time"
   ]
  },
  {
   "cell_type": "markdown",
   "id": "0c70b1dd",
   "metadata": {
    "slideshow": {
     "slide_type": "fragment"
    }
   },
   "source": [
    "* The built-in Python datetime module provides datetime, date, and time types (the datetime type combines the information stored in date and time and is the most commonly used)"
   ]
  },
  {
   "cell_type": "code",
   "execution_count": 45,
   "id": "88a168ed",
   "metadata": {
    "slideshow": {
     "slide_type": "fragment"
    }
   },
   "outputs": [
    {
     "name": "stdout",
     "output_type": "stream",
     "text": [
      "2022-09-11\n",
      "2022-09-11 18:12:55.970834\n",
      "11 September 2022 18:12\n",
      "2022-09-01\n",
      "Full days from the semester start: 10\n"
     ]
    }
   ],
   "source": [
    "import datetime as dt\n",
    "\n",
    "print(dt.date.today())\n",
    "print(dt.datetime.now())\n",
    "print(dt.datetime.now().strftime(\"%d %B %Y %H:%M\"))\n",
    "\n",
    "start = dt.date(2022, 9, 1)\n",
    "print(start)\n",
    "print(\"Full days from the semester start:\", (dt.date.today()-start).days)\n"
   ]
  },
  {
   "cell_type": "markdown",
   "id": "aab56056",
   "metadata": {
    "slideshow": {
     "slide_type": "slide"
    }
   },
   "source": [
    "# Thank you"
   ]
  }
 ],
 "metadata": {
  "celltoolbar": "Slideshow",
  "kernelspec": {
   "display_name": "Python 3 (ipykernel)",
   "language": "python",
   "name": "python3"
  },
  "language_info": {
   "codemirror_mode": {
    "name": "ipython",
    "version": 3
   },
   "file_extension": ".py",
   "mimetype": "text/x-python",
   "name": "python",
   "nbconvert_exporter": "python",
   "pygments_lexer": "ipython3",
   "version": "3.9.12"
  }
 },
 "nbformat": 4,
 "nbformat_minor": 5
}
