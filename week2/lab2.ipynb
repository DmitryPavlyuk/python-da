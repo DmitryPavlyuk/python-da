{
 "cells": [
  {
   "cell_type": "markdown",
   "id": "88ab8900",
   "metadata": {},
   "source": [
    "# Python for Data Analytics\n",
    "## Week 2 lab: Data Structures and Control Flow"
   ]
  },
  {
   "cell_type": "markdown",
   "id": "bacd6b39",
   "metadata": {},
   "source": [
    "### Review Week 2 presentation notebooks"
   ]
  },
  {
   "cell_type": "markdown",
   "id": "f14f1924",
   "metadata": {},
   "source": [
    "Lists, tuples,sets, and dictionaries are containers for other data. They can be used to combine your data in more complex ways.\n",
    "\n",
    "|Data structure | Properties| Syntax|\n",
    "|----|----|----|\n",
    "|List | Ordered, mutable sequence | mylist = [1,2,3] |\n",
    "|Tuple | Ordered, immutable sequence | mytuple = (1,2,3) |\n",
    "|Set | Unordered set of unique values | set(1,2,3) |\n",
    "|Dictionary | Mutable set of key, value pairs | mydict = {'first_value':1, 'second_value:2} |\n"
   ]
  },
  {
   "cell_type": "markdown",
   "id": "4decdefe",
   "metadata": {},
   "source": [
    "### Logic operators\n",
    "\n",
    "We test conditions using logic operators.\n",
    "\n",
    "| Symbol | Task Performed |\n",
    "|----|---|\n",
    "| == | True, if it is equal |\n",
    "| !=  | True, if not equal to |\n",
    "| < | less than |\n",
    "| <= | less than or equal to |\n",
    "| > | greater than |\n",
    "| >= | greater than or equal to |"
   ]
  },
  {
   "cell_type": "code",
   "execution_count": 1,
   "id": "537e1ee9",
   "metadata": {},
   "outputs": [],
   "source": [
    "# NOTE: We declare variables using '='\n",
    "a = 5\n",
    "b = 7"
   ]
  },
  {
   "cell_type": "code",
   "execution_count": 2,
   "id": "86263edd",
   "metadata": {},
   "outputs": [
    {
     "data": {
      "text/plain": [
       "False"
      ]
     },
     "execution_count": 2,
     "metadata": {},
     "output_type": "execute_result"
    }
   ],
   "source": [
    "# But compare them using '=='\n",
    "a == b"
   ]
  },
  {
   "cell_type": "code",
   "execution_count": 3,
   "id": "18bd6303",
   "metadata": {},
   "outputs": [
    {
     "data": {
      "text/plain": [
       "True"
      ]
     },
     "execution_count": 3,
     "metadata": {},
     "output_type": "execute_result"
    }
   ],
   "source": [
    "# Test whether a does not equal b\n",
    "a != b"
   ]
  },
  {
   "cell_type": "code",
   "execution_count": 4,
   "id": "5ac09ab1",
   "metadata": {},
   "outputs": [
    {
     "name": "stdout",
     "output_type": "stream",
     "text": [
      "True\n",
      "<class 'bool'>\n"
     ]
    }
   ],
   "source": [
    "# Logic expressions evaluate to True or False (datatype: Bool)\n",
    "test = b > a\n",
    "print(test)\n",
    "print(type(test))"
   ]
  },
  {
   "cell_type": "markdown",
   "id": "dd6a1d88",
   "metadata": {},
   "source": [
    "### Testing conditions inside a loop\n",
    "Combining loops with logic allows you to build more sophisticated code structures:"
   ]
  },
  {
   "cell_type": "code",
   "execution_count": 5,
   "id": "96a7bdc5",
   "metadata": {},
   "outputs": [
    {
     "name": "stdout",
     "output_type": "stream",
     "text": [
      "Mon Work + TSI\n",
      "Tue Work + TSI\n",
      "Wed Work + TSI\n",
      "Thu Work + TSI\n",
      "Fri TSI\n",
      "Sat TSI\n",
      "Sun Home!\n"
     ]
    }
   ],
   "source": [
    "days = ['Mon','Tue','Wed','Thu','Fri','Sat','Sun']\n",
    "\n",
    "for day in days:\n",
    "    if day == 'Sat' or day == 'Fri':\n",
    "        location = 'TSI'\n",
    "    elif day == 'Sun':\n",
    "        location = 'Home!'\n",
    "    else:\n",
    "        location = 'Work + TSI'\n",
    "    print(day, location)"
   ]
  },
  {
   "cell_type": "code",
   "execution_count": 3,
   "id": "27bd6af7",
   "metadata": {},
   "outputs": [
    {
     "name": "stdout",
     "output_type": "stream",
     "text": [
      "Welcome to Nick's Apartment Block.\n",
      "Type your pet's breed to see if it's accepted: dog\n",
      "Sorry your dog is NOT ACCEPTED\n"
     ]
    }
   ],
   "source": [
    "authorized_pets = ['small dog', 'cat', 'hamster','budgerigar']\n",
    "\n",
    "print(\"Welcome to Nick's Apartment Block.\")\n",
    "my_pet = input(\"Type your pet's breed to see if it's accepted: \")\n",
    "\n",
    "if my_pet in authorized_pets:\n",
    "    print(f\"Congratulations, your {my_pet} is welcome here!\")\n",
    "else:\n",
    "    print(f\"Sorry your {my_pet} is NOT ACCEPTED\")"
   ]
  },
  {
   "cell_type": "markdown",
   "id": "17ddf60a",
   "metadata": {},
   "source": [
    "# Exercises\n",
    "\n",
    "Please organise your solutions as a separate notebook and upload to the LMS (Moodle):\n",
    "* Notebook (.ipynb)\n",
    "* Generate pdf (File -> Download as -> PDF)."
   ]
  },
  {
   "cell_type": "markdown",
   "id": "fdd73426",
   "metadata": {},
   "source": [
    "### EXERCISE 1\n",
    "\n",
    "Review operations on lists (_adding/removing_ elements, _slicing_, _sorting_, etc.). Illustrate their usage on a list of your choice."
   ]
  },
  {
   "cell_type": "code",
   "execution_count": null,
   "id": "0e4e5fa5",
   "metadata": {},
   "outputs": [],
   "source": [
    "# YOUR CODE HERE:"
   ]
  },
  {
   "cell_type": "markdown",
   "id": "cbdd67ce",
   "metadata": {},
   "source": [
    "### EXERCISE 2\n",
    "\n",
    "Review operations on sets (like _intersection_ or _pop_) using the table https://wesmckinney.com/book/python-builtin.html#tbl-table_set_operations and illustrate usage of at least 3 of them for a set of your choice."
   ]
  },
  {
   "cell_type": "code",
   "execution_count": null,
   "id": "91471030",
   "metadata": {},
   "outputs": [],
   "source": [
    "# YOUR CODE HERE:"
   ]
  },
  {
   "cell_type": "markdown",
   "id": "b3f78aa5",
   "metadata": {},
   "source": [
    "### EXERCISE 3\n",
    "\n",
    "Write a Python program to concatenate a tuple to a string."
   ]
  },
  {
   "cell_type": "code",
   "execution_count": null,
   "id": "a69f742c",
   "metadata": {},
   "outputs": [],
   "source": [
    "# YOUR CODE HERE:"
   ]
  },
  {
   "cell_type": "markdown",
   "id": "37697a92",
   "metadata": {},
   "source": [
    "### EXERCISE 4\n",
    "\n",
    "Write a Python program to a string of comma-separated values into a tuple"
   ]
  },
  {
   "cell_type": "code",
   "execution_count": null,
   "id": "33000c66",
   "metadata": {},
   "outputs": [],
   "source": [
    "# YOUR CODE HERE:"
   ]
  },
  {
   "cell_type": "markdown",
   "id": "9544ed0a",
   "metadata": {},
   "source": [
    "### EXERCISE 5\n",
    "\n",
    "Write a Python program to check if all values in a list are different"
   ]
  },
  {
   "cell_type": "code",
   "execution_count": null,
   "id": "b0b36cca",
   "metadata": {},
   "outputs": [],
   "source": [
    "# YOUR CODE HERE:"
   ]
  },
  {
   "cell_type": "markdown",
   "id": "10450db7",
   "metadata": {},
   "source": [
    "### EXERCISE 6\n",
    "\n",
    "Write a Python program calculate the product, multiplying all the numbers of a given tuple.\n",
    "\n",
    "Original Tuple:\n",
    "(4, 3, 2, 2, -1, 18)\n",
    "Product: -864\n",
    "\n",
    "Original Tuple:\n",
    "(2, 4, 8, 8, 3, 2, 9)\n",
    "Product: 27648\n",
    "\n",
    "\n",
    "Original Tuple:\n",
    "(1, \"Two\", 3, \"Four\", 5)\n",
    "Product: 15"
   ]
  },
  {
   "cell_type": "code",
   "execution_count": null,
   "id": "d83217cd",
   "metadata": {},
   "outputs": [],
   "source": [
    "# YOUR CODE HERE:"
   ]
  },
  {
   "cell_type": "markdown",
   "id": "55b41329",
   "metadata": {},
   "source": [
    "### EXERCISE 7\n",
    "Write a script to:\n",
    "\n",
    "* Print out the numbers from 1 to 20 but replacing numbers with 'Fizz' if divisible by 3, 'Buzz' if divisible by '5', and 'FizzBuzz' if divisible by 3 and 5.\n",
    "\n",
    "Hint: the 'mod' operator, denoted %, is used to check divisibility. Example: 10 % 2 == 0."
   ]
  },
  {
   "cell_type": "code",
   "execution_count": null,
   "id": "de0be9ad",
   "metadata": {},
   "outputs": [],
   "source": [
    "# YOUR CODE HERE:"
   ]
  },
  {
   "cell_type": "markdown",
   "id": "58c271e2",
   "metadata": {},
   "source": [
    "### EXERCISE 8\n",
    "\n",
    "Write a program to:\n",
    "1. Generate a random number (kept secret from the user) using random.randint(0, 32)\n",
    "2. Prompt the user \"Guess a number\" and record their input.\n",
    "3. Tell them if they were correct, too high, or too low.\n",
    "\n",
    "BONUS POINTS: limit the number of guesses to 5."
   ]
  },
  {
   "cell_type": "code",
   "execution_count": null,
   "id": "3100f02f",
   "metadata": {},
   "outputs": [],
   "source": [
    "# YOUR CODE HERE:"
   ]
  },
  {
   "cell_type": "markdown",
   "id": "b1d3ec6d",
   "metadata": {},
   "source": [
    "### EXERCISE 9\n",
    "\n",
    "Write a program that stores information about several European countries and their capital cities and conducts a quiz for the user: ask for a capital of a randomly selected country and validate the provided answer.\n",
    "\n",
    "BONUS POINTS: Repeat 5 times and calculate the score"
   ]
  },
  {
   "cell_type": "code",
   "execution_count": null,
   "id": "538f5fb9",
   "metadata": {},
   "outputs": [],
   "source": [
    "# YOUR CODE HERE:"
   ]
  },
  {
   "cell_type": "markdown",
   "id": "d49447c3",
   "metadata": {},
   "source": [
    "### EXERCISE 10\n",
    "\n",
    "Develop a data structure for the following _Student_ object:\n",
    "\n",
    "_Student_\n",
    "* ID\n",
    "* First name\n",
    "* Last name\n",
    "* Address\n",
    "    * Number\n",
    "    * Street\n",
    "    * City\n",
    "    * Country\n",
    "    * Postcode\n",
    "    * Coordinates\n",
    "        * Longitude\n",
    "        * Latitude\n",
    "* Courses\n",
    "    * Mathematics\n",
    "        * Attendance\n",
    "        * Final grade\n",
    "    * Programming\n",
    "        * Attendance\n",
    "        * Final grade\n",
    "    * Databases\n",
    "        * Attendance\n",
    "        * Final grade\n",
    "    * IT\n",
    "        * Attendance\n",
    "        * Final grade\n",
    "\n",
    "Using the developed data structure, compose a list fo 3-4 students. Use the composed list for:\n",
    "1. Printing all student names as \"Last name, First name\"\n",
    "2. Getting a list of all grades for a specified course\n",
    "3. Checking that all ID are unique\n",
    "4. Finding students with identical addresses\n",
    "5. Finding a student with the smallest attendance (sum of course attendances)\n",
    "6. Finding a student with the highest performance (sum of grades)\n",
    "7. Removing one of the students (and re-printing the list)\n",
    "8. Finding a pair of students with closest addesses (based on coordinates)\n"
   ]
  },
  {
   "cell_type": "code",
   "execution_count": null,
   "id": "3d620a5c",
   "metadata": {},
   "outputs": [],
   "source": [
    "# YOUR CODE HERE:"
   ]
  },
  {
   "attachments": {},
   "cell_type": "markdown",
   "id": "c23fc6be",
   "metadata": {},
   "source": [
    "### EXERCISE 11\n",
    "\n",
    "Develop a data structure for storing the graph data below:\n",
    "<img src=\"https://raw.githubusercontent.com/DmitryPavlyuk/python-da/main/week2/img/city_graph.png\">\n",
    "\n",
    "Extend the data with population of Latvian cities: https://en.wikipedia.org/wiki/List_of_cities_and_towns_in_Latvia\n",
    "\n",
    "Use the composed data structure for:\n",
    "1. Listing all cities, ordering them by population\n",
    "2. Listing all cities directly connected to Riga, ordering them by distance\n",
    "3. Finding a closiest city directly cinnected to Daugavpils"
   ]
  },
  {
   "cell_type": "code",
   "execution_count": null,
   "id": "3e0427f1",
   "metadata": {},
   "outputs": [],
   "source": [
    "# YOUR CODE HERE:"
   ]
  },
  {
   "cell_type": "markdown",
   "id": "994ed602",
   "metadata": {},
   "source": [
    "### EXERCISE 12\n",
    "\n",
    "Develop a data structure for storing the hierachical information of used cars:\n",
    "\n",
    "Brand -> Model -> Car (year, price)\n",
    "\n",
    "(1 brands, 2-3 models under each brand, 2-3 cars under each model). \n",
    "\n",
    "Fill the structure with real data from a public source - e.g., http://www.ss.lv"
   ]
  },
  {
   "cell_type": "code",
   "execution_count": null,
   "id": "53046d3c",
   "metadata": {},
   "outputs": [],
   "source": [
    "# YOUR CODE HERE:"
   ]
  }
 ],
 "metadata": {
  "kernelspec": {
   "display_name": "Python 3 (ipykernel)",
   "language": "python",
   "name": "python3"
  },
  "language_info": {
   "codemirror_mode": {
    "name": "ipython",
    "version": 3
   },
   "file_extension": ".py",
   "mimetype": "text/x-python",
   "name": "python",
   "nbconvert_exporter": "python",
   "pygments_lexer": "ipython3",
   "version": "3.9.12"
  }
 },
 "nbformat": 4,
 "nbformat_minor": 5
}
