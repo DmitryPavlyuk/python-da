{
 "cells": [
  {
   "cell_type": "markdown",
   "id": "69429c05",
   "metadata": {
    "slideshow": {
     "slide_type": "slide"
    }
   },
   "source": [
    "# 4.1. NumPy - numerical Python\n",
    "\n",
    "Module M-227-04: Programming for Data Analytics\n",
    "\n",
    "Instructor: prof. Dmitry Pavlyuk"
   ]
  },
  {
   "cell_type": "markdown",
   "id": "3237706b",
   "metadata": {
    "slideshow": {
     "slide_type": "slide"
    }
   },
   "source": [
    "## Multidimensional Data\n",
    "\n",
    "* Geospatial data sets\n",
    "    * Longitude/latitute (2 dimensions)\n",
    "    * Time (1 dimension)\n",
    "    * Indicators - temperature, humidity, pressure, etc. (1 dimension)\n",
    "* Images\n",
    "    * Coordinates (2 dimensions)\n",
    "    * Channels (1 dimensional)\n",
    "* Video (Images + Time)\n",
    "* OLAP cubes (hypercubes) - multidimensional\n",
    "* Tensors in machine learning - multidimensional\n"
   ]
  },
  {
   "cell_type": "markdown",
   "id": "5f3de40f",
   "metadata": {
    "slideshow": {
     "slide_type": "slide"
    }
   },
   "source": [
    "## NumPy\n",
    "\n",
    "NumPy is a library that adding support for large multi-dimensional arrays, along with a large collection of high-level mathematical functions to operate on these arrays"
   ]
  },
  {
   "cell_type": "code",
   "execution_count": 1,
   "id": "26a9433c",
   "metadata": {},
   "outputs": [
    {
     "name": "stdout",
     "output_type": "stream",
     "text": [
      "Requirement already satisfied: numpy in c:\\users\\dmitry\\anaconda3\\lib\\site-packages (1.21.5)\n"
     ]
    }
   ],
   "source": [
    "!pip install numpy"
   ]
  },
  {
   "cell_type": "code",
   "execution_count": 2,
   "id": "212bfe42",
   "metadata": {},
   "outputs": [],
   "source": [
    "import numpy as np"
   ]
  },
  {
   "cell_type": "markdown",
   "id": "780512f2",
   "metadata": {},
   "source": [
    "* Efficient multidimensional array (ndarray) providing fast array-oriented arithmetic operations and flexible broadcasting capabilities\n",
    "* Mathematical functions (linear algebra, statistics) for fast operations on entire arrays of data without having to write loops\n",
    "* Tools for reading/writing array data to disk and working with memory-mapped files"
   ]
  },
  {
   "cell_type": "markdown",
   "id": "e58ab392",
   "metadata": {
    "slideshow": {
     "slide_type": "subslide"
    }
   },
   "source": [
    "### One-dimensional arrays - vectors"
   ]
  },
  {
   "cell_type": "code",
   "execution_count": 3,
   "id": "36823686",
   "metadata": {},
   "outputs": [
    {
     "data": {
      "text/plain": [
       "array([0., 0., 0.])"
      ]
     },
     "execution_count": 3,
     "metadata": {},
     "output_type": "execute_result"
    }
   ],
   "source": [
    "arr1d = np.zeros(3)\n",
    "arr1d"
   ]
  },
  {
   "cell_type": "markdown",
   "id": "ae73fbc0",
   "metadata": {
    "slideshow": {
     "slide_type": "subslide"
    }
   },
   "source": [
    "### Two-dimensional arrays - matrices"
   ]
  },
  {
   "cell_type": "code",
   "execution_count": 4,
   "id": "c03b51bc",
   "metadata": {},
   "outputs": [
    {
     "data": {
      "text/plain": [
       "array([[0., 0., 0.],\n",
       "       [0., 0., 0.],\n",
       "       [0., 0., 0.]])"
      ]
     },
     "execution_count": 4,
     "metadata": {},
     "output_type": "execute_result"
    }
   ],
   "source": [
    "arr2d = np.zeros((3,3))\n",
    "arr2d"
   ]
  },
  {
   "cell_type": "markdown",
   "id": "3d493892",
   "metadata": {
    "slideshow": {
     "slide_type": "subslide"
    }
   },
   "source": [
    "### Three-dimensional arrays - cubes"
   ]
  },
  {
   "cell_type": "code",
   "execution_count": 5,
   "id": "0175347d",
   "metadata": {},
   "outputs": [
    {
     "data": {
      "text/plain": [
       "array([[[0., 0., 0., 0.],\n",
       "        [0., 0., 0., 0.],\n",
       "        [0., 0., 0., 0.]],\n",
       "\n",
       "       [[0., 0., 0., 0.],\n",
       "        [0., 0., 0., 0.],\n",
       "        [0., 0., 0., 0.]],\n",
       "\n",
       "       [[0., 0., 0., 0.],\n",
       "        [0., 0., 0., 0.],\n",
       "        [0., 0., 0., 0.]]])"
      ]
     },
     "execution_count": 5,
     "metadata": {},
     "output_type": "execute_result"
    }
   ],
   "source": [
    "arr3d = np.zeros((3,3,4))\n",
    "arr3d"
   ]
  },
  {
   "cell_type": "markdown",
   "id": "9a5c3793",
   "metadata": {
    "slideshow": {
     "slide_type": "slide"
    }
   },
   "source": [
    "## Efficiency of operations"
   ]
  },
  {
   "cell_type": "code",
   "execution_count": 6,
   "id": "aefd1650",
   "metadata": {},
   "outputs": [],
   "source": [
    "import timeit"
   ]
  },
  {
   "cell_type": "code",
   "execution_count": 7,
   "id": "9dc93c49",
   "metadata": {},
   "outputs": [
    {
     "data": {
      "text/plain": [
       "0.09821349999999995"
      ]
     },
     "execution_count": 7,
     "metadata": {},
     "output_type": "execute_result"
    }
   ],
   "source": [
    "timeit.timeit(\"np.arange(1000000)\", number=100, setup=\"import numpy as np\")"
   ]
  },
  {
   "cell_type": "code",
   "execution_count": 8,
   "id": "b0d890ec",
   "metadata": {},
   "outputs": [
    {
     "data": {
      "text/plain": [
       "2.0277386"
      ]
     },
     "execution_count": 8,
     "metadata": {},
     "output_type": "execute_result"
    }
   ],
   "source": [
    "timeit.timeit(\"list(range(1000000))\", number=100)"
   ]
  },
  {
   "cell_type": "markdown",
   "id": "310f6a66",
   "metadata": {
    "slideshow": {
     "slide_type": "slide"
    }
   },
   "source": [
    "## ndaray - internal structure"
   ]
  },
  {
   "cell_type": "markdown",
   "id": "89ad677a",
   "metadata": {},
   "source": [
    "__ndarray__ internally consists of the following:\n",
    "\n",
    "* Pointer to data - a block of data in RAM or in a memory-mapped file\n",
    "* Data type or dtype describing fixed-size value cells in the array\n",
    "* Tuple indicating the array's shape\n",
    "* Tuple of strides - integers indicating the number of bytes to step in order to advance one element along a dimension"
   ]
  },
  {
   "cell_type": "code",
   "execution_count": 9,
   "id": "ec4c3580",
   "metadata": {
    "scrolled": true
   },
   "outputs": [
    {
     "name": "stdout",
     "output_type": "stream",
     "text": [
      "[[1. 1. 1.]\n",
      " [1. 1. 1.]]\n",
      "(2, 3)\n",
      "float64\n",
      "(24, 8)\n"
     ]
    }
   ],
   "source": [
    "arr = np.ones((2,3))\n",
    "print(arr)\n",
    "print(arr.shape)\n",
    "print(arr.dtype)\n",
    "print(arr.strides)"
   ]
  },
  {
   "cell_type": "markdown",
   "id": "9f4fefdb",
   "metadata": {
    "slideshow": {
     "slide_type": "subslide"
    }
   },
   "source": [
    "## Data types - int, short, uint, ushort"
   ]
  },
  {
   "cell_type": "code",
   "execution_count": 10,
   "id": "4af4a21b",
   "metadata": {
    "slideshow": {
     "slide_type": "-"
    }
   },
   "outputs": [
    {
     "name": "stdout",
     "output_type": "stream",
     "text": [
      "[[1 1 1]\n",
      " [1 1 1]]\n",
      "(2, 3)\n",
      "int32\n",
      "(12, 4)\n"
     ]
    }
   ],
   "source": [
    "arr = np.ones((2,3), dtype=int)\n",
    "print(arr)\n",
    "print(arr.shape)\n",
    "print(arr.dtype)\n",
    "print(arr.strides)"
   ]
  },
  {
   "cell_type": "code",
   "execution_count": 11,
   "id": "b62feed2",
   "metadata": {
    "scrolled": true
   },
   "outputs": [
    {
     "name": "stdout",
     "output_type": "stream",
     "text": [
      "[[1 1 1]\n",
      " [1 1 1]]\n",
      "(2, 3)\n",
      "int16\n",
      "(6, 2)\n"
     ]
    }
   ],
   "source": [
    "arr = np.ones((2,3), dtype=np.short)\n",
    "print(arr)\n",
    "print(arr.shape)\n",
    "print(arr.dtype)\n",
    "print(arr.strides)"
   ]
  },
  {
   "cell_type": "markdown",
   "id": "7f5fdc13",
   "metadata": {
    "slideshow": {
     "slide_type": "subslide"
    }
   },
   "source": [
    "## Data types - hierarchy\n",
    "\n",
    "<img src=\"https://numpy.org/doc/stable/_images/dtype-hierarchy.png\" alt=\"NumPy data types\">"
   ]
  },
  {
   "cell_type": "markdown",
   "id": "7403a06a",
   "metadata": {
    "slideshow": {
     "slide_type": "subslide"
    }
   },
   "source": [
    "## Converting data type"
   ]
  },
  {
   "cell_type": "code",
   "execution_count": 12,
   "id": "c4e7ad64",
   "metadata": {},
   "outputs": [
    {
     "data": {
      "text/plain": [
       "array([[1., 1., 1.],\n",
       "       [1., 1., 1.]])"
      ]
     },
     "execution_count": 12,
     "metadata": {},
     "output_type": "execute_result"
    }
   ],
   "source": [
    "arr.astype(float)"
   ]
  },
  {
   "cell_type": "markdown",
   "id": "22f611cb",
   "metadata": {
    "slideshow": {
     "slide_type": "slide"
    }
   },
   "source": [
    "## Creating arrays"
   ]
  },
  {
   "cell_type": "markdown",
   "id": "782597a5",
   "metadata": {},
   "source": [
    "### Standard arrays:\n",
    "* np.ones - array of ones\n",
    "* np.zeros - array of ones\n",
    "* np.eye, np.identity - array of ones\n"
   ]
  },
  {
   "cell_type": "markdown",
   "id": "e141d502",
   "metadata": {
    "slideshow": {
     "slide_type": "subslide"
    }
   },
   "source": [
    "### Examples"
   ]
  },
  {
   "cell_type": "code",
   "execution_count": 13,
   "id": "7220fbbd",
   "metadata": {
    "slideshow": {
     "slide_type": "-"
    }
   },
   "outputs": [
    {
     "data": {
      "text/plain": [
       "array([[[1., 1.],\n",
       "        [1., 1.],\n",
       "        [1., 1.]],\n",
       "\n",
       "       [[1., 1.],\n",
       "        [1., 1.],\n",
       "        [1., 1.]]])"
      ]
     },
     "execution_count": 13,
     "metadata": {},
     "output_type": "execute_result"
    }
   ],
   "source": [
    "np.ones((2,3,2))"
   ]
  },
  {
   "cell_type": "code",
   "execution_count": 14,
   "id": "90286f72",
   "metadata": {},
   "outputs": [
    {
     "data": {
      "text/plain": [
       "array([[[0., 0.],\n",
       "        [0., 0.],\n",
       "        [0., 0.]],\n",
       "\n",
       "       [[0., 0.],\n",
       "        [0., 0.],\n",
       "        [0., 0.]]])"
      ]
     },
     "execution_count": 14,
     "metadata": {},
     "output_type": "execute_result"
    }
   ],
   "source": [
    "np.zeros((2,3,2))"
   ]
  },
  {
   "cell_type": "code",
   "execution_count": 15,
   "id": "c7000182",
   "metadata": {},
   "outputs": [
    {
     "data": {
      "text/plain": [
       "array([[1., 0., 0.],\n",
       "       [0., 1., 0.],\n",
       "       [0., 0., 1.]])"
      ]
     },
     "execution_count": 15,
     "metadata": {},
     "output_type": "execute_result"
    }
   ],
   "source": [
    "np.eye(3)"
   ]
  },
  {
   "cell_type": "markdown",
   "id": "85d64ca0",
   "metadata": {
    "slideshow": {
     "slide_type": "subslide"
    }
   },
   "source": [
    "### From list or tuple:"
   ]
  },
  {
   "cell_type": "code",
   "execution_count": 16,
   "id": "141fb706",
   "metadata": {},
   "outputs": [
    {
     "data": {
      "text/plain": [
       "array([1, 2, 3, 4, 5])"
      ]
     },
     "execution_count": 16,
     "metadata": {},
     "output_type": "execute_result"
    }
   ],
   "source": [
    "np.array([1, 2, 3, 4, 5])"
   ]
  },
  {
   "cell_type": "markdown",
   "id": "756257dd",
   "metadata": {
    "slideshow": {
     "slide_type": "subslide"
    }
   },
   "source": [
    "### From iterable:"
   ]
  },
  {
   "cell_type": "code",
   "execution_count": 17,
   "id": "cf8464e4",
   "metadata": {},
   "outputs": [
    {
     "data": {
      "text/plain": [
       "array([0, 1, 2, 3, 4])"
      ]
     },
     "execution_count": 17,
     "metadata": {},
     "output_type": "execute_result"
    }
   ],
   "source": [
    "np.array(range(5))"
   ]
  },
  {
   "cell_type": "code",
   "execution_count": 18,
   "id": "ac864478",
   "metadata": {},
   "outputs": [
    {
     "data": {
      "text/plain": [
       "array([0, 1, 2, 3, 4])"
      ]
     },
     "execution_count": 18,
     "metadata": {},
     "output_type": "execute_result"
    }
   ],
   "source": [
    "np.array(np.arange(5))"
   ]
  },
  {
   "cell_type": "code",
   "execution_count": 19,
   "id": "224149f3",
   "metadata": {},
   "outputs": [
    {
     "data": {
      "text/plain": [
       "array([[ 0,  1,  2,  3],\n",
       "       [ 4,  5,  6,  7],\n",
       "       [ 8,  9, 10, 11]])"
      ]
     },
     "execution_count": 19,
     "metadata": {},
     "output_type": "execute_result"
    }
   ],
   "source": [
    "arr = np.array(np.arange(12))\n",
    "arr.reshape(3,4)"
   ]
  },
  {
   "cell_type": "markdown",
   "id": "ff80fc5e",
   "metadata": {
    "slideshow": {
     "slide_type": "subslide"
    }
   },
   "source": [
    "### From CSV"
   ]
  },
  {
   "cell_type": "code",
   "execution_count": 20,
   "id": "1b36c14d",
   "metadata": {},
   "outputs": [
    {
     "data": {
      "text/plain": [
       "array([[5.1, 3.5, 1.4, 0.2],\n",
       "       [4.9, 3. , 1.4, 0.2],\n",
       "       [4.7, 3.2, 1.3, 0.2],\n",
       "       [4.6, 3.1, 1.5, 0.2],\n",
       "       [5. , 3.6, 1.4, 0.2],\n",
       "       [5.4, 3.9, 1.7, 0.4],\n",
       "       [4.6, 3.4, 1.4, 0.3],\n",
       "       [5. , 3.4, 1.5, 0.2],\n",
       "       [4.4, 2.9, 1.4, 0.2],\n",
       "       [4.9, 3.1, 1.5, 0.1]])"
      ]
     },
     "execution_count": 20,
     "metadata": {},
     "output_type": "execute_result"
    }
   ],
   "source": [
    "iris_data = np.genfromtxt('iris.csv', delimiter=',', skip_header=1, usecols=(0,1,2,3))\n",
    "iris_data[0:10]"
   ]
  },
  {
   "cell_type": "markdown",
   "id": "0816d7a2",
   "metadata": {
    "slideshow": {
     "slide_type": "slide"
    }
   },
   "source": [
    "## Basic operations"
   ]
  },
  {
   "cell_type": "markdown",
   "id": "890d11fc",
   "metadata": {
    "slideshow": {
     "slide_type": "subslide"
    }
   },
   "source": [
    "### Reshaping"
   ]
  },
  {
   "cell_type": "code",
   "execution_count": 21,
   "id": "b60527b1",
   "metadata": {},
   "outputs": [
    {
     "data": {
      "text/plain": [
       "array([ 1,  2,  3,  4,  5,  6,  7,  8,  9, 10, 11, 12])"
      ]
     },
     "execution_count": 21,
     "metadata": {},
     "output_type": "execute_result"
    }
   ],
   "source": [
    "arr = np.array(np.arange(1,13))\n",
    "arr"
   ]
  },
  {
   "cell_type": "code",
   "execution_count": 22,
   "id": "24b67465",
   "metadata": {},
   "outputs": [
    {
     "name": "stdout",
     "output_type": "stream",
     "text": [
      "[[ 1  2  3  4  5  6]\n",
      " [ 7  8  9 10 11 12]]\n"
     ]
    }
   ],
   "source": [
    "print(arr.reshape(2,6))"
   ]
  },
  {
   "cell_type": "code",
   "execution_count": 23,
   "id": "1acf8816",
   "metadata": {
    "scrolled": false
   },
   "outputs": [
    {
     "name": "stdout",
     "output_type": "stream",
     "text": [
      "[[ 1  2]\n",
      " [ 3  4]\n",
      " [ 5  6]\n",
      " [ 7  8]\n",
      " [ 9 10]\n",
      " [11 12]]\n"
     ]
    }
   ],
   "source": [
    "print(arr.reshape(6,2))"
   ]
  },
  {
   "cell_type": "code",
   "execution_count": 24,
   "id": "bfcb65aa",
   "metadata": {},
   "outputs": [
    {
     "name": "stdout",
     "output_type": "stream",
     "text": [
      "[[ 1  2  3  4]\n",
      " [ 5  6  7  8]\n",
      " [ 9 10 11 12]]\n"
     ]
    }
   ],
   "source": [
    "print(arr.reshape(3,4))"
   ]
  },
  {
   "cell_type": "markdown",
   "id": "c72b8895",
   "metadata": {
    "slideshow": {
     "slide_type": "subslide"
    }
   },
   "source": [
    "### Indexing"
   ]
  },
  {
   "cell_type": "code",
   "execution_count": 25,
   "id": "00f89b96",
   "metadata": {
    "slideshow": {
     "slide_type": "-"
    }
   },
   "outputs": [],
   "source": [
    "arr = arr.reshape(3,4)"
   ]
  },
  {
   "cell_type": "markdown",
   "id": "ad1124cb",
   "metadata": {},
   "source": [
    "* First element:"
   ]
  },
  {
   "cell_type": "code",
   "execution_count": 26,
   "id": "09b1a2ab",
   "metadata": {},
   "outputs": [
    {
     "data": {
      "text/plain": [
       "1"
      ]
     },
     "execution_count": 26,
     "metadata": {},
     "output_type": "execute_result"
    }
   ],
   "source": [
    "arr[0,0]"
   ]
  },
  {
   "cell_type": "markdown",
   "id": "3f7eb711",
   "metadata": {},
   "source": [
    "* First column:"
   ]
  },
  {
   "cell_type": "code",
   "execution_count": 27,
   "id": "a18e3557",
   "metadata": {
    "scrolled": false
   },
   "outputs": [
    {
     "data": {
      "text/plain": [
       "array([1, 5, 9])"
      ]
     },
     "execution_count": 27,
     "metadata": {},
     "output_type": "execute_result"
    }
   ],
   "source": [
    "arr[:,0]"
   ]
  },
  {
   "cell_type": "markdown",
   "id": "a3901249",
   "metadata": {
    "slideshow": {
     "slide_type": "subslide"
    }
   },
   "source": [
    "### Fancy indexing"
   ]
  },
  {
   "cell_type": "markdown",
   "id": "205901f9",
   "metadata": {},
   "source": [
    "Fancy indexing allows indexing an array using a sequence of integers"
   ]
  },
  {
   "cell_type": "code",
   "execution_count": 28,
   "id": "e5c9a217",
   "metadata": {
    "scrolled": true
   },
   "outputs": [
    {
     "name": "stdout",
     "output_type": "stream",
     "text": [
      "Full array:\n",
      " [[ 1  2  3  4]\n",
      " [ 5  6  7  8]\n",
      " [ 9 10 11 12]]\n",
      "Indexing:\n",
      " [[ 9 10 11 12]\n",
      " [ 1  2  3  4]\n",
      " [ 5  6  7  8]]\n"
     ]
    }
   ],
   "source": [
    "print(\"Full array:\\n\",arr)\n",
    "print(\"Indexing:\\n\",arr[[2,0,1]])"
   ]
  },
  {
   "cell_type": "markdown",
   "id": "35c52a70",
   "metadata": {
    "slideshow": {
     "slide_type": "subslide"
    }
   },
   "source": [
    "### Boolean indexing"
   ]
  },
  {
   "cell_type": "code",
   "execution_count": 29,
   "id": "16f8a5ff",
   "metadata": {
    "scrolled": false
   },
   "outputs": [
    {
     "data": {
      "text/plain": [
       "array([[ 1,  2,  3,  4],\n",
       "       [ 9, 10, 11, 12]])"
      ]
     },
     "execution_count": 29,
     "metadata": {},
     "output_type": "execute_result"
    }
   ],
   "source": [
    "arr[[True,False,True]]"
   ]
  },
  {
   "cell_type": "code",
   "execution_count": 30,
   "id": "9c9fe300",
   "metadata": {
    "scrolled": true
   },
   "outputs": [
    {
     "data": {
      "text/plain": [
       "array([False, False, False, False, False, False, False, False, False,\n",
       "       False, False, False, False, False, False, False, False, False,\n",
       "       False, False, False, False, False, False, False, False, False,\n",
       "       False, False, False, False, False, False, False, False, False,\n",
       "       False, False, False, False, False, False, False, False, False,\n",
       "       False, False, False, False, False, False, False, False, False,\n",
       "       False, False, False, False, False, False, False, False, False,\n",
       "       False, False, False, False, False, False, False, False, False,\n",
       "       False, False, False, False, False, False, False, False, False,\n",
       "       False, False, False, False, False, False, False, False, False,\n",
       "       False, False, False, False, False, False, False, False, False,\n",
       "       False, False, False,  True, False, False,  True, False,  True,\n",
       "       False,  True, False, False, False, False, False, False, False,\n",
       "        True,  True, False, False, False,  True, False, False,  True,\n",
       "       False, False, False,  True,  True,  True, False, False, False,\n",
       "        True, False, False, False, False, False, False, False, False,\n",
       "       False, False, False, False, False, False])"
      ]
     },
     "execution_count": 30,
     "metadata": {},
     "output_type": "execute_result"
    }
   ],
   "source": [
    "large = iris_data[:,0]>7\n",
    "large"
   ]
  },
  {
   "cell_type": "code",
   "execution_count": 31,
   "id": "f3b1f27f",
   "metadata": {
    "scrolled": true,
    "slideshow": {
     "slide_type": "subslide"
    }
   },
   "outputs": [
    {
     "data": {
      "text/plain": [
       "array([[7.1, 3. , 5.9, 2.1],\n",
       "       [7.6, 3. , 6.6, 2.1],\n",
       "       [7.3, 2.9, 6.3, 1.8],\n",
       "       [7.2, 3.6, 6.1, 2.5],\n",
       "       [7.7, 3.8, 6.7, 2.2],\n",
       "       [7.7, 2.6, 6.9, 2.3],\n",
       "       [7.7, 2.8, 6.7, 2. ],\n",
       "       [7.2, 3.2, 6. , 1.8],\n",
       "       [7.2, 3. , 5.8, 1.6],\n",
       "       [7.4, 2.8, 6.1, 1.9],\n",
       "       [7.9, 3.8, 6.4, 2. ],\n",
       "       [7.7, 3. , 6.1, 2.3]])"
      ]
     },
     "execution_count": 31,
     "metadata": {},
     "output_type": "execute_result"
    }
   ],
   "source": [
    "iris_data[large]"
   ]
  },
  {
   "cell_type": "markdown",
   "id": "d051781c",
   "metadata": {
    "slideshow": {
     "slide_type": "subslide"
    }
   },
   "source": [
    "### Slicing"
   ]
  },
  {
   "cell_type": "markdown",
   "id": "80aa7808",
   "metadata": {
    "slideshow": {
     "slide_type": "-"
    }
   },
   "source": [
    "For every dimension the slice object is __[start:end:step]__\n",
    "* If we don't pass start its considered 0\n",
    "* If we don't pass end its considered length of array in that dimension\n",
    "* If we don't pass step its considered 1"
   ]
  },
  {
   "cell_type": "markdown",
   "id": "f37a37ca",
   "metadata": {
    "slideshow": {
     "slide_type": "subslide"
    }
   },
   "source": [
    "* First column:"
   ]
  },
  {
   "cell_type": "code",
   "execution_count": 32,
   "id": "80b3984f",
   "metadata": {
    "scrolled": true
   },
   "outputs": [
    {
     "data": {
      "text/plain": [
       "array([[1],\n",
       "       [5],\n",
       "       [9]])"
      ]
     },
     "execution_count": 32,
     "metadata": {},
     "output_type": "execute_result"
    }
   ],
   "source": [
    "arr[:,0:1]"
   ]
  },
  {
   "cell_type": "markdown",
   "id": "15049eaa",
   "metadata": {},
   "source": [
    "* First 2 columns:"
   ]
  },
  {
   "cell_type": "code",
   "execution_count": 33,
   "id": "9091a4f5",
   "metadata": {
    "scrolled": true
   },
   "outputs": [
    {
     "data": {
      "text/plain": [
       "array([[ 1,  2],\n",
       "       [ 5,  6],\n",
       "       [ 9, 10]])"
      ]
     },
     "execution_count": 33,
     "metadata": {},
     "output_type": "execute_result"
    }
   ],
   "source": [
    "arr[:,0:2]"
   ]
  },
  {
   "cell_type": "markdown",
   "id": "f080d6cb",
   "metadata": {
    "slideshow": {
     "slide_type": "subslide"
    }
   },
   "source": [
    "* First row:"
   ]
  },
  {
   "cell_type": "code",
   "execution_count": 34,
   "id": "e5dff477",
   "metadata": {},
   "outputs": [
    {
     "data": {
      "text/plain": [
       "array([[1, 2, 3, 4]])"
      ]
     },
     "execution_count": 34,
     "metadata": {},
     "output_type": "execute_result"
    }
   ],
   "source": [
    "arr[0:1,:]"
   ]
  },
  {
   "cell_type": "markdown",
   "id": "0e83c2dc",
   "metadata": {},
   "source": [
    "* First 2 rows:"
   ]
  },
  {
   "cell_type": "code",
   "execution_count": 35,
   "id": "94986d88",
   "metadata": {},
   "outputs": [
    {
     "data": {
      "text/plain": [
       "array([[1, 2, 3, 4],\n",
       "       [5, 6, 7, 8]])"
      ]
     },
     "execution_count": 35,
     "metadata": {},
     "output_type": "execute_result"
    }
   ],
   "source": [
    "arr[0:2,:]"
   ]
  },
  {
   "cell_type": "markdown",
   "id": "8f6b5e80",
   "metadata": {},
   "source": [
    "* First 2 rows of iris data set:"
   ]
  },
  {
   "cell_type": "code",
   "execution_count": 36,
   "id": "9ce7669e",
   "metadata": {},
   "outputs": [
    {
     "data": {
      "text/plain": [
       "array([[5.1, 3.5, 1.4, 0.2],\n",
       "       [4.9, 3. , 1.4, 0.2]])"
      ]
     },
     "execution_count": 36,
     "metadata": {},
     "output_type": "execute_result"
    }
   ],
   "source": [
    "iris_data[0:2,:]"
   ]
  },
  {
   "cell_type": "markdown",
   "id": "c4542da4",
   "metadata": {
    "slideshow": {
     "slide_type": "slide"
    }
   },
   "source": [
    "## Slicing Vs. Copy"
   ]
  },
  {
   "cell_type": "markdown",
   "id": "cc417ce7",
   "metadata": {
    "slideshow": {
     "slide_type": "subslide"
    }
   },
   "source": [
    "### Slicing / View"
   ]
  },
  {
   "cell_type": "code",
   "execution_count": 37,
   "id": "f48bd675",
   "metadata": {},
   "outputs": [
    {
     "name": "stdout",
     "output_type": "stream",
     "text": [
      "Full array:\n",
      " [[ 0  1  2  3]\n",
      " [ 4  5  6  7]\n",
      " [ 8  9 10 11]\n",
      " [12 13 14 15]]\n",
      "Slice:\n",
      " [[ 5  6]\n",
      " [ 9 10]]\n"
     ]
    }
   ],
   "source": [
    "arr = np.arange(16).reshape(4,4)\n",
    "print(\"Full array:\\n\",arr)\n",
    "\n",
    "arr_slice = arr[1:3, 1:3]\n",
    "print(\"Slice:\\n\", arr_slice)"
   ]
  },
  {
   "cell_type": "code",
   "execution_count": 38,
   "id": "13d038dd",
   "metadata": {},
   "outputs": [
    {
     "name": "stdout",
     "output_type": "stream",
     "text": [
      "Slice:\n",
      " [[999 999]\n",
      " [999 999]]\n",
      "Full array:\n",
      " [[  0   1   2   3]\n",
      " [  4 999 999   7]\n",
      " [  8 999 999  11]\n",
      " [ 12  13  14  15]]\n"
     ]
    }
   ],
   "source": [
    "arr_slice[:,:]=999\n",
    "print(\"Slice:\\n\", arr_slice)\n",
    "print(\"Full array:\\n\",arr)"
   ]
  },
  {
   "cell_type": "markdown",
   "id": "3fbcce9f",
   "metadata": {
    "slideshow": {
     "slide_type": "subslide"
    }
   },
   "source": [
    "### Copying"
   ]
  },
  {
   "cell_type": "code",
   "execution_count": 39,
   "id": "74e9bbe6",
   "metadata": {
    "slideshow": {
     "slide_type": "slide"
    }
   },
   "outputs": [
    {
     "name": "stdout",
     "output_type": "stream",
     "text": [
      "Slice:\n",
      " [[999 999]\n",
      " [999 999]]\n",
      "Full array:\n",
      " [[ 0  1  2  3]\n",
      " [ 4  5  6  7]\n",
      " [ 8  9 10 11]\n",
      " [12 13 14 15]]\n"
     ]
    }
   ],
   "source": [
    "arr = np.arange(16).reshape(4,4)\n",
    "arr_slice_copy = arr[1:3, 1:3].copy()\n",
    "arr_slice_copy[:,:]=999\n",
    "print(\"Slice:\\n\", arr_slice_copy)\n",
    "print(\"Full array:\\n\",arr)"
   ]
  },
  {
   "cell_type": "markdown",
   "id": "2a36c02d",
   "metadata": {
    "slideshow": {
     "slide_type": "slide"
    }
   },
   "source": [
    "## Element-wise Operations"
   ]
  },
  {
   "cell_type": "code",
   "execution_count": 40,
   "id": "572e7c1a",
   "metadata": {},
   "outputs": [
    {
     "name": "stdout",
     "output_type": "stream",
     "text": [
      "Array 1:\n",
      " [[6 1 4]\n",
      " [4 8 4]\n",
      " [6 3 5]]\n",
      "Array 2:\n",
      " [[8 7 9]\n",
      " [9 2 7]\n",
      " [8 8 9]]\n"
     ]
    }
   ],
   "source": [
    "np.random.seed(0)\n",
    "arr1 = np.random.randint(1,10,(3,3))\n",
    "print(f\"Array 1:\\n {arr1}\")\n",
    "\n",
    "arr2 = np.random.randint(1,10,(3,3))\n",
    "print(f\"Array 2:\\n {arr2}\")"
   ]
  },
  {
   "cell_type": "markdown",
   "id": "7ff37b34",
   "metadata": {
    "slideshow": {
     "slide_type": "slide"
    }
   },
   "source": [
    "* Sum/Difference"
   ]
  },
  {
   "cell_type": "code",
   "execution_count": 41,
   "id": "9fb58d64",
   "metadata": {},
   "outputs": [
    {
     "data": {
      "text/plain": [
       "array([[14,  8, 13],\n",
       "       [13, 10, 11],\n",
       "       [14, 11, 14]])"
      ]
     },
     "execution_count": 41,
     "metadata": {},
     "output_type": "execute_result"
    }
   ],
   "source": [
    "arr1+arr2"
   ]
  },
  {
   "cell_type": "code",
   "execution_count": 42,
   "id": "a863beb7",
   "metadata": {},
   "outputs": [
    {
     "data": {
      "text/plain": [
       "array([[-2, -6, -5],\n",
       "       [-5,  6, -3],\n",
       "       [-2, -5, -4]])"
      ]
     },
     "execution_count": 42,
     "metadata": {},
     "output_type": "execute_result"
    }
   ],
   "source": [
    "arr1-arr2"
   ]
  },
  {
   "cell_type": "markdown",
   "id": "95e82f2f",
   "metadata": {
    "slideshow": {
     "slide_type": "slide"
    }
   },
   "source": [
    "* Join"
   ]
  },
  {
   "cell_type": "code",
   "execution_count": 43,
   "id": "5213a3bb",
   "metadata": {},
   "outputs": [
    {
     "data": {
      "text/plain": [
       "array([[6, 1, 4],\n",
       "       [4, 8, 4],\n",
       "       [6, 3, 5],\n",
       "       [8, 7, 9],\n",
       "       [9, 2, 7],\n",
       "       [8, 8, 9]])"
      ]
     },
     "execution_count": 43,
     "metadata": {},
     "output_type": "execute_result"
    }
   ],
   "source": [
    "np.concatenate((arr1, arr2))"
   ]
  },
  {
   "cell_type": "code",
   "execution_count": 44,
   "id": "dc56049c",
   "metadata": {},
   "outputs": [
    {
     "data": {
      "text/plain": [
       "array([[6, 1, 4, 8, 7, 9],\n",
       "       [4, 8, 4, 9, 2, 7],\n",
       "       [6, 3, 5, 8, 8, 9]])"
      ]
     },
     "execution_count": 44,
     "metadata": {},
     "output_type": "execute_result"
    }
   ],
   "source": [
    "np.concatenate((arr1, arr2), axis=1)"
   ]
  },
  {
   "cell_type": "markdown",
   "id": "6fa42bca",
   "metadata": {},
   "source": [
    "* Element-wise (Hadamard) Multiplication"
   ]
  },
  {
   "cell_type": "code",
   "execution_count": 45,
   "id": "c928b8f9",
   "metadata": {},
   "outputs": [
    {
     "name": "stdout",
     "output_type": "stream",
     "text": [
      "[[48  7 36]\n",
      " [36 16 28]\n",
      " [48 24 45]]\n"
     ]
    }
   ],
   "source": [
    "print(np.multiply(arr1, arr2))"
   ]
  },
  {
   "cell_type": "markdown",
   "id": "b92c0c7b",
   "metadata": {
    "slideshow": {
     "slide_type": "subslide"
    }
   },
   "source": [
    "### Universal functions\n",
    "\n",
    "Fast Element-Wise Array Functions\n",
    "* np.sqrt\n",
    "* np.exp\n",
    "* np.isnan\n",
    "* np.where"
   ]
  },
  {
   "cell_type": "code",
   "execution_count": 46,
   "id": "11cf8a65",
   "metadata": {},
   "outputs": [
    {
     "name": "stdout",
     "output_type": "stream",
     "text": [
      "Array:\n",
      " [[6 1 4]\n",
      " [4 8 4]\n",
      " [6 3 5]]\n",
      "Element-wise square root:\n",
      " [[2.44948974 1.         2.        ]\n",
      " [2.         2.82842712 2.        ]\n",
      " [2.44948974 1.73205081 2.23606798]]\n"
     ]
    }
   ],
   "source": [
    "print(f\"Array:\\n {arr1}\")\n",
    "print(f\"Element-wise square root:\\n {np.sqrt(arr1)}\")\n"
   ]
  },
  {
   "cell_type": "markdown",
   "id": "11374f1d",
   "metadata": {
    "slideshow": {
     "slide_type": "slide"
    }
   },
   "source": [
    "## Matrix Operations"
   ]
  },
  {
   "cell_type": "markdown",
   "id": "5c04bf3c",
   "metadata": {
    "slideshow": {
     "slide_type": "subslide"
    }
   },
   "source": [
    "### Transposition"
   ]
  },
  {
   "cell_type": "code",
   "execution_count": 47,
   "id": "c812aa94",
   "metadata": {},
   "outputs": [
    {
     "name": "stdout",
     "output_type": "stream",
     "text": [
      "Matrix:\n",
      "[[6 1 4]\n",
      " [4 8 4]\n",
      " [6 3 5]]\n",
      "Transposed:\n",
      "[[6 4 6]\n",
      " [1 8 3]\n",
      " [4 4 5]]\n",
      "Transposed:\n",
      "[[6 4 6]\n",
      " [1 8 3]\n",
      " [4 4 5]]\n"
     ]
    }
   ],
   "source": [
    "print(f\"Matrix:\\n{arr1}\")\n",
    "print(f\"Transposed:\\n{np.transpose(arr1)}\")\n",
    "print(f\"Transposed:\\n{arr1.T}\")"
   ]
  },
  {
   "cell_type": "markdown",
   "id": "ada75188",
   "metadata": {
    "slideshow": {
     "slide_type": "subslide"
    }
   },
   "source": [
    "### Multiplication by a scalar"
   ]
  },
  {
   "cell_type": "code",
   "execution_count": 48,
   "id": "63442171",
   "metadata": {},
   "outputs": [
    {
     "name": "stdout",
     "output_type": "stream",
     "text": [
      "Matrix:\n",
      "[[6 1 4]\n",
      " [4 8 4]\n",
      " [6 3 5]]\n",
      "Matrix * 10:\n",
      "[[60 10 40]\n",
      " [40 80 40]\n",
      " [60 30 50]]\n"
     ]
    }
   ],
   "source": [
    "print(f\"Matrix:\\n{arr1}\")\n",
    "print(f\"Matrix * 10:\\n{arr1 * 10}\")"
   ]
  },
  {
   "cell_type": "markdown",
   "id": "546b28c7",
   "metadata": {
    "slideshow": {
     "slide_type": "subslide"
    }
   },
   "source": [
    "### Matrix Multiplication"
   ]
  },
  {
   "cell_type": "code",
   "execution_count": 49,
   "id": "89050c86",
   "metadata": {},
   "outputs": [
    {
     "data": {
      "text/plain": [
       "array([[ 89,  76,  97],\n",
       "       [136,  76, 128],\n",
       "       [115,  88, 120]])"
      ]
     },
     "execution_count": 49,
     "metadata": {},
     "output_type": "execute_result"
    }
   ],
   "source": [
    "np.matmul(arr1, arr2)"
   ]
  },
  {
   "cell_type": "code",
   "execution_count": 50,
   "id": "81d0bd8b",
   "metadata": {},
   "outputs": [
    {
     "data": {
      "text/plain": [
       "array([[ 89,  76,  97],\n",
       "       [136,  76, 128],\n",
       "       [115,  88, 120]])"
      ]
     },
     "execution_count": 50,
     "metadata": {},
     "output_type": "execute_result"
    }
   ],
   "source": [
    "arr1 @ arr2"
   ]
  },
  {
   "cell_type": "code",
   "execution_count": 51,
   "id": "bfc9497b",
   "metadata": {},
   "outputs": [
    {
     "data": {
      "text/plain": [
       "array([[ 89,  76,  97],\n",
       "       [136,  76, 128],\n",
       "       [115,  88, 120]])"
      ]
     },
     "execution_count": 51,
     "metadata": {},
     "output_type": "execute_result"
    }
   ],
   "source": [
    "np.dot(arr1, arr2)"
   ]
  },
  {
   "cell_type": "markdown",
   "id": "608802c2",
   "metadata": {
    "slideshow": {
     "slide_type": "subslide"
    }
   },
   "source": [
    "__Note__\n",
    "\n",
    "__np.matmul__ or __@__ is preferred for matrixes, while __np.dot__ is more general and works for vectors and matrixes of different dimensions"
   ]
  },
  {
   "cell_type": "code",
   "execution_count": 52,
   "id": "ebbe24ce",
   "metadata": {
    "slideshow": {
     "slide_type": "-"
    }
   },
   "outputs": [
    {
     "name": "stdout",
     "output_type": "stream",
     "text": [
      "Ones: [1. 1. 1.]\n",
      "Dot product [1. 1. 1.] * [1. 1. 1.] = 3.0\n"
     ]
    }
   ],
   "source": [
    "arr_ones = np.ones(3)\n",
    "print(f\"Ones: {arr_ones}\")\n",
    "print(f\"Dot product {arr_ones} * {arr_ones} = {np.dot(arr_ones,arr_ones)}\")"
   ]
  },
  {
   "cell_type": "markdown",
   "id": "0da70ddd",
   "metadata": {
    "slideshow": {
     "slide_type": "subslide"
    }
   },
   "source": [
    "### Inverse matrix calculation"
   ]
  },
  {
   "cell_type": "code",
   "execution_count": 53,
   "id": "3ef16da7",
   "metadata": {},
   "outputs": [
    {
     "name": "stdout",
     "output_type": "stream",
     "text": [
      "Matrix:\n",
      "[[6 1 4]\n",
      " [4 8 4]\n",
      " [6 3 5]]\n",
      "Inversed:\n",
      "[[ 1.          0.25       -1.        ]\n",
      " [ 0.14285714  0.21428571 -0.28571429]\n",
      " [-1.28571429 -0.42857143  1.57142857]]\n",
      "Their product:\n",
      "[[ 1.00000000e+00  0.00000000e+00 -8.88178420e-16]\n",
      " [ 0.00000000e+00  1.00000000e+00 -8.88178420e-16]\n",
      " [-2.22044605e-16 -3.33066907e-16  1.00000000e+00]]\n"
     ]
    }
   ],
   "source": [
    "arr1_inv = np.linalg.inv(arr1)\n",
    "print(f\"Matrix:\\n{arr1}\")\n",
    "print(f\"Inversed:\\n{arr1_inv}\")\n",
    "print(f\"Their product:\\n{np.matmul(arr1, arr1_inv)}\")"
   ]
  },
  {
   "cell_type": "markdown",
   "id": "33f64302",
   "metadata": {
    "slideshow": {
     "slide_type": "subslide"
    }
   },
   "source": [
    "### Solving system of linear equations:\n",
    "\n",
    "\n",
    " 8x + 3y − 2z = 9\n",
    " \n",
    "−4x + 7y + 5z = 15\n",
    "\n",
    " 3x + 4y − 12z= 35"
   ]
  },
  {
   "cell_type": "code",
   "execution_count": 54,
   "id": "3771f213",
   "metadata": {},
   "outputs": [
    {
     "name": "stdout",
     "output_type": "stream",
     "text": [
      "Solution:: [-0.58226371  3.22870478 -1.98599767]\n"
     ]
    }
   ],
   "source": [
    "A = np.array([[8, 3, -2], [-4, 7, 5], [3, 4, -12]])\n",
    "b = np.array([9, 15, 35])\n",
    "x = np.linalg.solve(A, b)\n",
    "print(f\"Solution:: {x}\")"
   ]
  },
  {
   "cell_type": "markdown",
   "id": "e0939f1f",
   "metadata": {},
   "source": [
    "$$Ax = b$$\n",
    "\n",
    "$$x = A^{-1}b$$"
   ]
  },
  {
   "cell_type": "code",
   "execution_count": 55,
   "id": "bd76d9de",
   "metadata": {},
   "outputs": [
    {
     "name": "stdout",
     "output_type": "stream",
     "text": [
      "Solution:: [-0.58226371  3.22870478 -1.98599767]\n"
     ]
    }
   ],
   "source": [
    "x= np.linalg.inv(A).dot(b)\n",
    "print(f\"Solution:: {x}\")"
   ]
  },
  {
   "cell_type": "markdown",
   "id": "d2318859",
   "metadata": {
    "slideshow": {
     "slide_type": "slide"
    }
   },
   "source": [
    "## Statistics"
   ]
  },
  {
   "cell_type": "markdown",
   "id": "74ec0c0e",
   "metadata": {
    "slideshow": {
     "slide_type": "subslide"
    }
   },
   "source": [
    "### Basic functions"
   ]
  },
  {
   "cell_type": "code",
   "execution_count": 56,
   "id": "b71d19b9",
   "metadata": {},
   "outputs": [
    {
     "data": {
      "text/plain": [
       "array([5.84333333, 3.05733333, 3.758     , 1.19933333])"
      ]
     },
     "execution_count": 56,
     "metadata": {},
     "output_type": "execute_result"
    }
   ],
   "source": [
    "iris_data.mean(axis=0)"
   ]
  },
  {
   "cell_type": "code",
   "execution_count": 57,
   "id": "e6730b7b",
   "metadata": {},
   "outputs": [
    {
     "data": {
      "text/plain": [
       "array([4.3, 2. , 1. , 0.1])"
      ]
     },
     "execution_count": 57,
     "metadata": {},
     "output_type": "execute_result"
    }
   ],
   "source": [
    "iris_data.min(axis=0)"
   ]
  },
  {
   "cell_type": "code",
   "execution_count": 58,
   "id": "7166b377",
   "metadata": {},
   "outputs": [
    {
     "data": {
      "text/plain": [
       "array([7.9, 4.4, 6.9, 2.5])"
      ]
     },
     "execution_count": 58,
     "metadata": {},
     "output_type": "execute_result"
    }
   ],
   "source": [
    "iris_data.max(axis=0)"
   ]
  },
  {
   "cell_type": "markdown",
   "id": "91911b8a",
   "metadata": {
    "slideshow": {
     "slide_type": "subslide"
    }
   },
   "source": [
    "### Cumulative functions"
   ]
  },
  {
   "cell_type": "code",
   "execution_count": 59,
   "id": "0caf4d5c",
   "metadata": {
    "scrolled": true
   },
   "outputs": [
    {
     "name": "stdout",
     "output_type": "stream",
     "text": [
      "[[5.1 3.5 1.4 0.2]\n",
      " [4.9 3.  1.4 0.2]\n",
      " [4.7 3.2 1.3 0.2]\n",
      " [4.6 3.1 1.5 0.2]\n",
      " [5.  3.6 1.4 0.2]]\n"
     ]
    }
   ],
   "source": [
    "print(iris_data[0:5])"
   ]
  },
  {
   "cell_type": "code",
   "execution_count": 60,
   "id": "0890616f",
   "metadata": {},
   "outputs": [
    {
     "name": "stdout",
     "output_type": "stream",
     "text": [
      "[[ 5.1  3.5  1.4  0.2]\n",
      " [10.   6.5  2.8  0.4]\n",
      " [14.7  9.7  4.1  0.6]\n",
      " [19.3 12.8  5.6  0.8]\n",
      " [24.3 16.4  7.   1. ]]\n"
     ]
    }
   ],
   "source": [
    "print(iris_data.cumsum(axis=0)[0:5])"
   ]
  },
  {
   "cell_type": "markdown",
   "id": "50e26c3c",
   "metadata": {
    "slideshow": {
     "slide_type": "slide"
    }
   },
   "source": [
    "## Broadcasting\n",
    "\n",
    "Broadcasting governs how operations work between arrays of different shapes. It can be a powerful feature, but it can cause confusion, even for experienced users."
   ]
  },
  {
   "cell_type": "code",
   "execution_count": 61,
   "id": "265a689e",
   "metadata": {},
   "outputs": [
    {
     "data": {
      "text/plain": [
       "array([[24,  4, 16],\n",
       "       [16, 32, 16],\n",
       "       [24, 12, 20]])"
      ]
     },
     "execution_count": 61,
     "metadata": {},
     "output_type": "execute_result"
    }
   ],
   "source": [
    "arr1*4"
   ]
  },
  {
   "cell_type": "code",
   "execution_count": 62,
   "id": "caee85b6",
   "metadata": {},
   "outputs": [
    {
     "data": {
      "text/plain": [
       "array([[-0.74333333,  0.44266667, -2.358     , -0.99933333],\n",
       "       [-0.94333333, -0.05733333, -2.358     , -0.99933333],\n",
       "       [-1.14333333,  0.14266667, -2.458     , -0.99933333],\n",
       "       [-1.24333333,  0.04266667, -2.258     , -0.99933333],\n",
       "       [-0.84333333,  0.54266667, -2.358     , -0.99933333],\n",
       "       [-0.44333333,  0.84266667, -2.058     , -0.79933333],\n",
       "       [-1.24333333,  0.34266667, -2.358     , -0.89933333],\n",
       "       [-0.84333333,  0.34266667, -2.258     , -0.99933333],\n",
       "       [-1.44333333, -0.15733333, -2.358     , -0.99933333],\n",
       "       [-0.94333333,  0.04266667, -2.258     , -1.09933333]])"
      ]
     },
     "execution_count": 62,
     "metadata": {},
     "output_type": "execute_result"
    }
   ],
   "source": [
    "(iris_data - iris_data.mean(axis=0))[:10]"
   ]
  },
  {
   "cell_type": "markdown",
   "id": "853172c5",
   "metadata": {
    "slideshow": {
     "slide_type": "slide"
    }
   },
   "source": [
    "## Saving/Restoring arrays"
   ]
  },
  {
   "cell_type": "code",
   "execution_count": 63,
   "id": "9be1da90",
   "metadata": {
    "scrolled": true
   },
   "outputs": [
    {
     "data": {
      "text/plain": [
       "array([[6, 1, 4],\n",
       "       [4, 8, 4],\n",
       "       [6, 3, 5]])"
      ]
     },
     "execution_count": 63,
     "metadata": {},
     "output_type": "execute_result"
    }
   ],
   "source": [
    "np.save(\"arr1.npy\", arr1)\n",
    "np.load(\"arr1.npy\")"
   ]
  },
  {
   "cell_type": "code",
   "execution_count": 64,
   "id": "06f13799",
   "metadata": {
    "scrolled": true
   },
   "outputs": [
    {
     "name": "stdout",
     "output_type": "stream",
     "text": [
      "[[6 1 4]\n",
      " [4 8 4]\n",
      " [6 3 5]]\n",
      "[[8 7 9]\n",
      " [9 2 7]\n",
      " [8 8 9]]\n"
     ]
    }
   ],
   "source": [
    "np.savez(\"arrs.npz\", arr1 = arr1, arr2 = arr2)\n",
    "loaded = np.load(\"arrs.npz\")\n",
    "print(loaded[\"arr1\"])\n",
    "print(loaded[\"arr2\"])"
   ]
  },
  {
   "cell_type": "markdown",
   "id": "8c1b6b5e",
   "metadata": {
    "slideshow": {
     "slide_type": "slide"
    }
   },
   "source": [
    "# Thank you"
   ]
  }
 ],
 "metadata": {
  "celltoolbar": "Slideshow",
  "kernelspec": {
   "display_name": "Python 3 (ipykernel)",
   "language": "python",
   "name": "python3"
  },
  "language_info": {
   "codemirror_mode": {
    "name": "ipython",
    "version": 3
   },
   "file_extension": ".py",
   "mimetype": "text/x-python",
   "name": "python",
   "nbconvert_exporter": "python",
   "pygments_lexer": "ipython3",
   "version": "3.9.12"
  }
 },
 "nbformat": 4,
 "nbformat_minor": 5
}
