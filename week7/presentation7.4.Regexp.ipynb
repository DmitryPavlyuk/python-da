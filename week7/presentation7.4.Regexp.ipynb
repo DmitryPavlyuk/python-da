{
 "cells": [
  {
   "cell_type": "markdown",
   "id": "69429c05",
   "metadata": {
    "slideshow": {
     "slide_type": "slide"
    }
   },
   "source": [
    "# 7.4. Regular Expressions\n",
    "\n",
    "Module M-227-04: Programming for Data Analytics\n",
    "\n",
    "Instructor: prof. Dmitry Pavlyuk"
   ]
  },
  {
   "cell_type": "markdown",
   "id": "f3a30ab0",
   "metadata": {
    "slideshow": {
     "slide_type": "slide"
    }
   },
   "source": [
    "## Regular expression\n",
    "\n",
    "regular expression (\"regex\"): a description of a pattern of text can test whether a string matches the expression's pattern can use a regex to search/replace characters in a string regular expressions are extremely powerful but tough to read.\n",
    "\n",
    "For example,\n",
    "\n",
    "__[a-zA-Z_-]+@[a-zA-Z_-]+.[a-zA-Z]{2,4}__\n",
    "\n",
    "is a simplified(!) regular expression for email address."
   ]
  },
  {
   "cell_type": "markdown",
   "id": "d18caf32",
   "metadata": {
    "slideshow": {
     "slide_type": "subslide"
    }
   },
   "source": [
    "## Patterns\n",
    "\n",
    "Regular expressions are __patterns__ used to match character combinations in strings.\n",
    "\n",
    "- Letters and numbers match themselves\n",
    "- Patterns are case sensitive\n",
    "- __Punctuations__ has special meanings!"
   ]
  },
  {
   "cell_type": "code",
   "execution_count": 1,
   "id": "84ef1aeb",
   "metadata": {},
   "outputs": [
    {
     "name": "stdout",
     "output_type": "stream",
     "text": [
      "'data' in the citation? True\n",
      "'charles' in the citation? False\n"
     ]
    }
   ],
   "source": [
    "import re\n",
    "citation = 'Errors using inadequate data are much less than those using no data at all. [Charles Babbage]'\n",
    "\n",
    "pattern1 = \"data\"\n",
    "pattern2 = \"charles\"\n",
    "print(f\"'{pattern1}' in the citation?\",re.search(pattern1, citation) is not None)\n",
    "print(f\"'{pattern2}' in the citation?\",re.search(pattern2, citation) is not None)"
   ]
  },
  {
   "cell_type": "markdown",
   "id": "32aab97d",
   "metadata": {
    "slideshow": {
     "slide_type": "subslide"
    }
   },
   "source": [
    "## Pattern matching: square brackets\n",
    "\n",
    "Square brackets mean that any of the listed characters will match\n",
    "- [ab] matches either _a_ or _b_\n",
    "- [a-d] matches either _a_ or _b_ or _c_ or _d_\n",
    "- Caret means __not__: [^a-d] # anything but _a_, _b_, _c_ or _d_"
   ]
  },
  {
   "cell_type": "code",
   "execution_count": 2,
   "id": "d3a30379",
   "metadata": {},
   "outputs": [
    {
     "name": "stdout",
     "output_type": "stream",
     "text": [
      "'charles' in the citation? False\n",
      "'charles' in the citation? True\n"
     ]
    }
   ],
   "source": [
    "pattern2 = \"charles\"\n",
    "print(f\"'{pattern2}' in the citation?\",re.search(pattern2, citation) is not None)\n",
    "pattern3 = \"[cC]harles\"\n",
    "print(f\"'{pattern2}' in the citation?\",re.search(pattern3, citation) is not None)"
   ]
  },
  {
   "cell_type": "markdown",
   "id": "2bbded60",
   "metadata": {
    "slideshow": {
     "slide_type": "subslide"
    }
   },
   "source": [
    "## Special symbols\n",
    "\n",
    "- \"__.__\" means __any__ character (if you need for \".\" you must use a backslash - \\.)\n",
    "- \"__*__\" asterisk sign repeats the previous character 0 or more times\n",
    "- \"__+__\" asterisk sign repeats the previous character 1 or more times\n",
    "- \"__?__\" asterisk sign repeats the previous character 0 or 1 times"
   ]
  },
  {
   "cell_type": "markdown",
   "id": "dedf67c3",
   "metadata": {
    "slideshow": {
     "slide_type": "subslide"
    }
   },
   "source": [
    "## Special symbols"
   ]
  },
  {
   "cell_type": "code",
   "execution_count": 3,
   "id": "e3e26991",
   "metadata": {},
   "outputs": [
    {
     "name": "stdout",
     "output_type": "stream",
     "text": [
      "Pattern d.m\n",
      "\td.m matches dm? False\n",
      "\td.m matches dom? True\n",
      "\td.m matches doom? False\n",
      "\td.m matches dooom? False\n",
      "Pattern do*m\n",
      "\tdo*m matches dm? True\n",
      "\tdo*m matches dom? True\n",
      "\tdo*m matches doom? True\n",
      "\tdo*m matches dooom? True\n",
      "Pattern do+m\n",
      "\tdo+m matches dm? False\n",
      "\tdo+m matches dom? True\n",
      "\tdo+m matches doom? True\n",
      "\tdo+m matches dooom? True\n",
      "Pattern do?m\n",
      "\tdo?m matches dm? True\n",
      "\tdo?m matches dom? True\n",
      "\tdo?m matches doom? False\n",
      "\tdo?m matches dooom? False\n"
     ]
    }
   ],
   "source": [
    "words = [\"dm\", \"dom\", \"doom\", \"dooom\"]\n",
    "patterns = [\"d.m\",\"do*m\",\"do+m\",\"do?m\"]\n",
    "for pattern in patterns:\n",
    "    print(f\"Pattern {pattern}\")\n",
    "    for word in words:\n",
    "        m = re.match(pattern, word)\n",
    "        print(f\"\\t{pattern} matches {word}? {m is not None}\")"
   ]
  },
  {
   "cell_type": "markdown",
   "id": "4148e0ef",
   "metadata": {
    "slideshow": {
     "slide_type": "subslide"
    }
   },
   "source": [
    "## Special symbols"
   ]
  },
  {
   "cell_type": "markdown",
   "id": "79513810",
   "metadata": {},
   "source": [
    "- $ - end of the string\n",
    "- ^ - start of the string\n",
    "- \\d - digit\n",
    "- \\D - not a digit\n",
    "- \\w - a word character\n",
    "- \\W - not a word character\n",
    "- \\s - a whitespace  = [ \\t\\n\\r\\f\\v] (plus other Unicode spaces)\n",
    "- \\S - not a whitespace\n",
    "- \\b - a word boundary\n",
    "- \\B - not a word boundary\n"
   ]
  },
  {
   "cell_type": "markdown",
   "id": "2c3a6926",
   "metadata": {
    "slideshow": {
     "slide_type": "subslide"
    }
   },
   "source": [
    "## Special symbols"
   ]
  },
  {
   "cell_type": "code",
   "execution_count": 4,
   "id": "575eab22",
   "metadata": {},
   "outputs": [
    {
     "name": "stdout",
     "output_type": "stream",
     "text": [
      "Pattern d\\wm\n",
      "\td\\wm matches dm? False\n",
      "\td\\wm matches dom? True\n",
      "\td\\wm matches d m? False\n",
      "Pattern d\\Sm\n",
      "\td\\Sm matches dm? False\n",
      "\td\\Sm matches dom? True\n",
      "\td\\Sm matches d m? False\n",
      "Pattern ^d\\Wm\n",
      "\t^d\\Wm matches dm? False\n",
      "\t^d\\Wm matches dom? False\n",
      "\t^d\\Wm matches d m? True\n"
     ]
    }
   ],
   "source": [
    "words = [\"dm\", \"dom\", \"d m\"]\n",
    "patterns = [r\"d\\wm\",r\"d\\Sm\",r\"^d\\Wm\"]\n",
    "for pattern in patterns:\n",
    "    print(f\"Pattern {pattern}\")\n",
    "    for word in words:\n",
    "        m = re.match(pattern, word)\n",
    "        print(f\"\\t{pattern} matches {word}? {m is not None}\")"
   ]
  },
  {
   "cell_type": "markdown",
   "id": "517d7f82",
   "metadata": {
    "slideshow": {
     "slide_type": "subslide"
    }
   },
   "source": [
    "## Braces / curly brackets\n",
    "\n",
    "Braces are a more detailed way to indicate number of repeats\n",
    "- {2} exactly two time\n",
    "- {2,} at least two times\n",
    "- {,2} at most two times\n",
    "- {1,3} from 1 to 3 times"
   ]
  },
  {
   "cell_type": "markdown",
   "id": "6b15c672",
   "metadata": {
    "slideshow": {
     "slide_type": "subslide"
    }
   },
   "source": [
    "## Braces / curly brackets"
   ]
  },
  {
   "cell_type": "code",
   "execution_count": 5,
   "id": "7d5937e4",
   "metadata": {},
   "outputs": [
    {
     "name": "stdout",
     "output_type": "stream",
     "text": [
      "Pattern do{2}m\n",
      "\tdo{2}m matches dm? False\n",
      "\tdo{2}m matches dom? False\n",
      "\tdo{2}m matches doom? True\n",
      "\tdo{2}m matches dooom? False\n",
      "Pattern do{2,}m\n",
      "\tdo{2,}m matches dm? False\n",
      "\tdo{2,}m matches dom? False\n",
      "\tdo{2,}m matches doom? True\n",
      "\tdo{2,}m matches dooom? True\n",
      "Pattern do{,2}m\n",
      "\tdo{,2}m matches dm? True\n",
      "\tdo{,2}m matches dom? True\n",
      "\tdo{,2}m matches doom? True\n",
      "\tdo{,2}m matches dooom? False\n",
      "Pattern do{1,3}m\n",
      "\tdo{1,3}m matches dm? False\n",
      "\tdo{1,3}m matches dom? True\n",
      "\tdo{1,3}m matches doom? True\n",
      "\tdo{1,3}m matches dooom? True\n"
     ]
    }
   ],
   "source": [
    "words = [\"dm\", \"dom\", \"doom\", \"dooom\"]\n",
    "patterns = [\"do{2}m\",\"do{2,}m\",\"do{,2}m\",\"do{1,3}m\"]\n",
    "for pattern in patterns:\n",
    "    print(f\"Pattern {pattern}\")\n",
    "    for word in words:\n",
    "        m = re.match(pattern, word)\n",
    "        print(f\"\\t{pattern} matches {word}? {m is not None}\")"
   ]
  },
  {
   "cell_type": "markdown",
   "id": "ac5efba8",
   "metadata": {
    "slideshow": {
     "slide_type": "slide"
    }
   },
   "source": [
    "## Regular expression: functions\n"
   ]
  },
  {
   "cell_type": "markdown",
   "id": "bfa91e19",
   "metadata": {
    "slideshow": {
     "slide_type": "slide"
    }
   },
   "source": [
    "## Regular expression: functions\n",
    "\n",
    "- .match() - does the pattern match the beginning of the string? Returns None or a Match object\n",
    "- .search() - does the pattern match anywhere in the string? Returns None or a Match object\n",
    "- .findall() - does the pattern match anywhere in the string? Returns a list of strings (or an empty list)\n"
   ]
  },
  {
   "cell_type": "markdown",
   "id": "23297ba7",
   "metadata": {
    "slideshow": {
     "slide_type": "subslide"
    }
   },
   "source": [
    "## Regular expression: functions\n"
   ]
  },
  {
   "cell_type": "code",
   "execution_count": 6,
   "id": "59122e83",
   "metadata": {},
   "outputs": [
    {
     "name": "stdout",
     "output_type": "stream",
     "text": [
      "None\n",
      "<re.Match object; span=(23, 27), match='8:30'>\n",
      "['8:30', '18:30', '8:30', '16:00']\n"
     ]
    }
   ],
   "source": [
    "tsi_hours = \"\"\"\n",
    "Working Hours\n",
    "Mon-Fri 8:30 – 18:30\n",
    "Sat 8:30-16:00\n",
    "\"\"\"\n",
    "pattern = r\"\\d{1,2}:\\d{2}\"\n",
    "print(re.match(pattern, tsi_hours))\n",
    "print(re.search(pattern, tsi_hours))\n",
    "print(re.findall(pattern, tsi_hours))"
   ]
  },
  {
   "cell_type": "markdown",
   "id": "a0b45976",
   "metadata": {
    "slideshow": {
     "slide_type": "subslide"
    }
   },
   "source": [
    "## Parentheses / round brackets\n",
    "\n",
    "Parentheses allow to indicate what should be returned"
   ]
  },
  {
   "cell_type": "code",
   "execution_count": 7,
   "id": "fe93e36d",
   "metadata": {},
   "outputs": [
    {
     "name": "stdout",
     "output_type": "stream",
     "text": [
      "['8:30', '18:30', '8:30', '16:00']\n",
      "['8', '18', '8', '16']\n",
      "[('8', '30'), ('18', '30'), ('8', '30'), ('16', '00')]\n"
     ]
    }
   ],
   "source": [
    "pattern = r\"\\d{1,2}:\\d{2}\"\n",
    "print(re.findall(pattern, tsi_hours))\n",
    "pattern = r\"(\\d{1,2}):\\d{2}\"\n",
    "print(re.findall(pattern, tsi_hours))\n",
    "pattern = r\"(\\d{1,2}):(\\d{2})\"\n",
    "print(re.findall(pattern, tsi_hours))"
   ]
  },
  {
   "cell_type": "markdown",
   "id": "03d21a66",
   "metadata": {
    "slideshow": {
     "slide_type": "slide"
    }
   },
   "source": [
    "## Example: Parsing Raw Emails"
   ]
  },
  {
   "cell_type": "markdown",
   "id": "462dec3d",
   "metadata": {
    "slideshow": {
     "slide_type": "slide"
    }
   },
   "source": [
    "## Parsing raw emails"
   ]
  },
  {
   "cell_type": "code",
   "execution_count": 8,
   "id": "570afdb3",
   "metadata": {},
   "outputs": [
    {
     "name": "stdout",
     "output_type": "stream",
     "text": [
      "From r  Wed Oct 30 21:41:56 2002\n",
      "Return-Path: <james_ngola2002@maktoob.com>\n",
      "X-Sieve: cmu-sieve 2.0\n",
      "Return-Path: <james_ngola2002@maktoob.com>\n",
      "Message-Id: <200210310241.g9V2fNm6028281@cs.CU>\n",
      "From: \"MR. JAMES NGOLA.\" <james_ngola2002@maktoob.com>\n",
      "Reply-To: james_ngola2002@maktoob.com\n",
      "To: webmaster@aclweb.org\n",
      "Date: Thu, 31 Oct 2002 02:38:20 +0000\n",
      "Subject: URGENT BUSINESS ASSISTANCE AND PARTNERSHIP\n",
      "X-Mailer: Microsoft Outlook Express 5.00.2919.6900 DM\n",
      "MIME-Version: 1.0\n",
      "Content-Type: text/plain; charset=\"us-ascii\"\n",
      "Content-Transfer-Encoding: 8bit\n",
      "X-MIME-Autoconverted: from quoted-printable to 8bit by sideshowmel.si.UM id g9V2foW24311\n",
      "Status: O\n",
      "\n",
      "FROM:MR. JAMES NGOLA.\n",
      "CONFIDENTIAL TEL: 233-27-587908.\n",
      "E-MAIL: (james_ngola2002@maktoob.com).\n",
      "\n",
      "URGENT BUSINESS ASSISTANCE AND PARTNERSHIP.\n",
      "\n",
      "\n",
      "DEAR FRIEND,\n"
     ]
    }
   ],
   "source": [
    "with open('fraudlent_emails.txt') as f:\n",
    "    text = f.read()\n",
    "print(text[:800])"
   ]
  },
  {
   "cell_type": "markdown",
   "id": "24938517",
   "metadata": {
    "slideshow": {
     "slide_type": "subslide"
    }
   },
   "source": [
    "## Parsing raw emails: extract email addresses"
   ]
  },
  {
   "cell_type": "code",
   "execution_count": 9,
   "id": "0b20c96a",
   "metadata": {},
   "outputs": [
    {
     "data": {
      "text/plain": [
       "['webmaster@aclweb.org',\n",
       " 'nng@spinfinder.com',\n",
       " 'nng@spinfinder.com',\n",
       " 'nng@spinfinder.com',\n",
       " 'webmaster@aclweb.org',\n",
       " 'webmaster@aclweb.org',\n",
       " 'tony_m@lawyer.com']"
      ]
     },
     "execution_count": 9,
     "metadata": {},
     "output_type": "execute_result"
    }
   ],
   "source": [
    "pattern = r\"([a-zA-Z_-]+@[a-zA-Z_-]+.[a-zA-Z]{2,4})\"\n",
    "\n",
    "emails = re.findall(pattern, text)\n",
    "emails"
   ]
  },
  {
   "cell_type": "markdown",
   "id": "79fc15bb",
   "metadata": {
    "slideshow": {
     "slide_type": "subslide"
    }
   },
   "source": [
    "## Parsing raw emails: extract subjects"
   ]
  },
  {
   "cell_type": "code",
   "execution_count": 10,
   "id": "2e4eea5f",
   "metadata": {},
   "outputs": [
    {
     "data": {
      "text/plain": [
       "['URGENT BUSINESS ASSISTANCE AND PARTNERSHIP',\n",
       " 'URGENT ASSISTANCE /RELATIONSHIP (P)',\n",
       " 'GOOD DAY TO YOU',\n",
       " 'GOOD DAY TO YOU',\n",
       " 'I Need Your Assistance.']"
      ]
     },
     "execution_count": 10,
     "metadata": {},
     "output_type": "execute_result"
    }
   ],
   "source": [
    "pattern = r\"Subject\\:\\ ([^\\n]+)\"\n",
    "\n",
    "subjects = re.findall(pattern, text)\n",
    "subjects"
   ]
  },
  {
   "cell_type": "markdown",
   "id": "fb40973b",
   "metadata": {
    "slideshow": {
     "slide_type": "subslide"
    }
   },
   "source": [
    "## Parsing raw emails: extract Reply-To"
   ]
  },
  {
   "cell_type": "code",
   "execution_count": 11,
   "id": "53df3ec7",
   "metadata": {},
   "outputs": [
    {
     "data": {
      "text/plain": [
       "['james_ngola2002@maktoob.com', 'obong_715@epatra.com', 'm_abacha03@www.com']"
      ]
     },
     "execution_count": 11,
     "metadata": {},
     "output_type": "execute_result"
    }
   ],
   "source": [
    "pattern = r\"Reply-To\\:\\ ([^\\n]+)\"\n",
    "\n",
    "replytos = re.findall(pattern, text)\n",
    "replytos"
   ]
  },
  {
   "cell_type": "markdown",
   "id": "672432cf",
   "metadata": {
    "slideshow": {
     "slide_type": "subslide"
    }
   },
   "source": [
    "## Parsing Raw emails: extract X- headers"
   ]
  },
  {
   "cell_type": "code",
   "execution_count": 12,
   "id": "d44d7232",
   "metadata": {},
   "outputs": [
    {
     "data": {
      "text/plain": [
       "[('X-Sieve', ' cmu-sieve 2.0'),\n",
       " ('X-Mailer', ' Microsoft Outlook Express 5.00.2919.6900 DM'),\n",
       " ('X-MIME-Autoconverted',\n",
       "  ' from quoted-printable to 8bit by sideshowmel.si.UM id g9V2foW24311'),\n",
       " ('X-Sieve', ' cmu-sieve 2.0'),\n",
       " ('X-Sieve', ' cmu-sieve 2.0'),\n",
       " ('X-Mailer', ' Microsoft Outlook Express 5.00.2919.6900DM'),\n",
       " ('X-MIME-Autoconverted',\n",
       "  ' from quoted-printable to 8bit by sideshowmel.si.UM id g9VMRBW20642'),\n",
       " ('X-Sieve', ' cmu-sieve 2.0'),\n",
       " ('X-Sieve', ' cmu-sieve 2.0'),\n",
       " ('X-Mailer', ' Microsoft Outlook Express 5.00.2919.6900 DM'),\n",
       " ('X-MIME-Autoconverted',\n",
       "  ' from quoted-printable to 8bit by sideshowmel.si.UM id gA19mVW29040')]"
      ]
     },
     "execution_count": 12,
     "metadata": {},
     "output_type": "execute_result"
    }
   ],
   "source": [
    "pattern = r\"(X-[a-zA-Z_-]+)\\:([^\\n]+)\"\n",
    "\n",
    "xheaders = re.findall(pattern, text)\n",
    "xheaders"
   ]
  },
  {
   "cell_type": "markdown",
   "id": "8c1b6b5e",
   "metadata": {
    "slideshow": {
     "slide_type": "slide"
    }
   },
   "source": [
    "# Thank you"
   ]
  }
 ],
 "metadata": {
  "celltoolbar": "Slideshow",
  "kernelspec": {
   "display_name": "Python 3 (ipykernel)",
   "language": "python",
   "name": "python3"
  },
  "language_info": {
   "codemirror_mode": {
    "name": "ipython",
    "version": 3
   },
   "file_extension": ".py",
   "mimetype": "text/x-python",
   "name": "python",
   "nbconvert_exporter": "python",
   "pygments_lexer": "ipython3",
   "version": "3.9.12"
  }
 },
 "nbformat": 4,
 "nbformat_minor": 5
}
