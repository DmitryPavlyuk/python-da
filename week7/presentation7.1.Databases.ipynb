{
 "cells": [
  {
   "cell_type": "markdown",
   "id": "69429c05",
   "metadata": {
    "slideshow": {
     "slide_type": "slide"
    }
   },
   "source": [
    "# 7.1. Data Collection\n",
    "\n",
    "Module M-227-04: Programming for Data Analytics\n",
    "\n",
    "Instructor: prof. Dmitry Pavlyuk"
   ]
  },
  {
   "cell_type": "markdown",
   "id": "6647fccb",
   "metadata": {
    "slideshow": {
     "slide_type": "slide"
    }
   },
   "source": [
    "## Ways of Data Collection\n",
    "\n",
    "1. From files - mainly for static or rarely updated data\n",
    "    * Discussed on Week 3\n",
    "2. From a Database - standardised language (SQL), highly optimised requests\n",
    "    * Good for in-house, but rarely available to public\n",
    "3. Using an Application Programming Interface (API) - structured requests/responses\n",
    "    * The most appropriate and efficient way, but not always available\n",
    "4. Web Scrapping - weakly structured data\n",
    "    * Widely used, but has many questionable aspects\n",
    "5. Regular expressions - unstructured text data with some patterns.\n",
    "    * The useful tool for extracting data from texts"
   ]
  },
  {
   "cell_type": "markdown",
   "id": "5ca66be3",
   "metadata": {
    "slideshow": {
     "slide_type": "slide"
    }
   },
   "source": [
    "## Accessing Databases"
   ]
  },
  {
   "cell_type": "markdown",
   "id": "f005c79c",
   "metadata": {
    "slideshow": {
     "slide_type": "slide"
    }
   },
   "source": [
    "## Database Creation - Loading data\n",
    "\n",
    "We re-use data on students, student groups, courses, and results from Week 5."
   ]
  },
  {
   "cell_type": "code",
   "execution_count": 1,
   "id": "4a959a30",
   "metadata": {},
   "outputs": [],
   "source": [
    "import pandas as pd\n",
    "data_dir = \"../week5/data/\"\n",
    "courses_df = pd.read_csv(data_dir+'st_courses.csv').set_index(\"course_id\")\n",
    "groups_df = pd.read_csv(data_dir+'st_groups.csv').set_index(\"group_id\")\n",
    "students_df = pd.read_csv(data_dir+'st_students.csv').set_index(\"student_id\")\n",
    "results_df = pd.read_csv(data_dir+'st_results.csv') .set_index([\"course_id\",\"student_id\"])"
   ]
  },
  {
   "cell_type": "markdown",
   "id": "fb20cd18",
   "metadata": {
    "slideshow": {
     "slide_type": "slide"
    }
   },
   "source": [
    "## Database Creation - SQLite\n",
    "\n",
    "__SQLite__ is a C library that provides a lightweight disk-based database that doesn't require a separate server process and allows accessing the database using the SQL query language. Some applications can use SQLite for internal data storage. It's also possible to prototype an application using SQLite and then port the code to a larger database such as PostgreSQL or Oracle."
   ]
  },
  {
   "cell_type": "code",
   "execution_count": 2,
   "id": "3f10e10b",
   "metadata": {},
   "outputs": [],
   "source": [
    "import sqlite3\n",
    "DB_PATH = 'students.db'\n",
    "conn = sqlite3.connect(DB_PATH)\n",
    "courses_df.to_sql(\"course\", conn, if_exists=\"replace\")\n",
    "groups_df.to_sql(\"student_group\", conn, if_exists=\"replace\")\n",
    "students_df.to_sql(\"student\", conn, if_exists=\"replace\")\n",
    "results_df.to_sql(\"result\", conn, if_exists=\"replace\")\n",
    "conn.close()"
   ]
  },
  {
   "cell_type": "markdown",
   "id": "437b9c9a",
   "metadata": {
    "slideshow": {
     "slide_type": "subslide"
    }
   },
   "source": [
    "## Reviewing the database schema"
   ]
  },
  {
   "cell_type": "code",
   "execution_count": 3,
   "id": "b56fc232",
   "metadata": {},
   "outputs": [
    {
     "name": "stdout",
     "output_type": "stream",
     "text": [
      "Table COURSE:\n",
      " [(0, 'course_id', 'INTEGER', 0, None, 0), (1, 'course_name', 'TEXT', 0, None, 0)]\n",
      "Table STUDENT_GROUP:\n",
      " [(0, 'group_id', 'INTEGER', 0, None, 0), (1, 'group_name', 'TEXT', 0, None, 0), (2, 'group_year_started', 'INTEGER', 0, None, 0)]\n",
      "Table STUDENT:\n",
      " [(0, 'student_id', 'INTEGER', 0, None, 0), (1, 'lastname', 'TEXT', 0, None, 0), (2, 'firstname', 'TEXT', 0, None, 0), (3, 'group_id', 'INTEGER', 0, None, 0)]\n",
      "Table RESULT:\n",
      " [(0, 'course_id', 'INTEGER', 0, None, 0), (1, 'student_id', 'INTEGER', 0, None, 0), (2, 'attendance', 'INTEGER', 0, None, 0), (3, 'grade', 'REAL', 0, None, 0)]\n"
     ]
    }
   ],
   "source": [
    "conn = sqlite3.connect(DB_PATH)\n",
    "print(\"Table COURSE:\\n\", conn.cursor().execute(\"PRAGMA table_info('course')\").fetchall())\n",
    "print(\"Table STUDENT_GROUP:\\n\",conn.cursor().execute(\"PRAGMA table_info('student_group')\").fetchall())\n",
    "print(\"Table STUDENT:\\n\",conn.cursor().execute(\"PRAGMA table_info('student')\").fetchall())\n",
    "print(\"Table RESULT:\\n\",conn.cursor().execute(\"PRAGMA table_info('result')\").fetchall())\n",
    "conn.close()"
   ]
  },
  {
   "cell_type": "markdown",
   "id": "5e6a70f3",
   "metadata": {
    "slideshow": {
     "slide_type": "subslide"
    }
   },
   "source": [
    "## Reading data from the _course_ table"
   ]
  },
  {
   "cell_type": "code",
   "execution_count": 4,
   "id": "4bc4e63f",
   "metadata": {},
   "outputs": [
    {
     "name": "stdout",
     "output_type": "stream",
     "text": [
      "(1, 'Information Systems and Technologies')\n",
      "(2, 'Mathematics for data analytics')\n",
      "(3, 'Modern Database Technologies')\n",
      "(4, 'Programming for Data Analytics')\n",
      "(5, 'Advanced Artificial Intelligence')\n"
     ]
    }
   ],
   "source": [
    "conn = sqlite3.connect(DB_PATH)\n",
    "cursor = conn.execute(\"SELECT * from course\")\n",
    "for row in cursor:\n",
    "    print(row)\n",
    "conn.close()"
   ]
  },
  {
   "cell_type": "code",
   "execution_count": 5,
   "id": "605c9585",
   "metadata": {},
   "outputs": [
    {
     "name": "stdout",
     "output_type": "stream",
     "text": [
      "(1, 'Information Systems and Technologies')\n",
      "(2, 'Mathematics for data analytics')\n",
      "(3, 'Modern Database Technologies')\n",
      "(4, 'Programming for Data Analytics')\n",
      "(5, 'Advanced Artificial Intelligence')\n"
     ]
    }
   ],
   "source": [
    "conn = sqlite3.connect(DB_PATH)\n",
    "cursor = conn.execute(\"SELECT course_id, course_name from course\")\n",
    "for row in cursor:\n",
    "    print(row)\n",
    "conn.close()"
   ]
  },
  {
   "cell_type": "markdown",
   "id": "dd460019",
   "metadata": {
    "slideshow": {
     "slide_type": "subslide"
    }
   },
   "source": [
    "## Reading data: LEFT JOIN"
   ]
  },
  {
   "cell_type": "code",
   "execution_count": 6,
   "id": "f541b53a",
   "metadata": {
    "scrolled": true
   },
   "outputs": [
    {
     "name": "stdout",
     "output_type": "stream",
     "text": [
      "(101, 'Jurijs', 'M', '4201MDA')\n",
      "(102, 'Kaspars', 'J', '4101MDA')\n",
      "(103, 'Jānis', 'Z', '4203MDA')\n",
      "(104, 'Iļja', 'P', '4201MDA')\n",
      "(105, 'Andris', 'Z', '4201MDA')\n",
      "(106, 'Ņikita', 'Z', '4203MDA')\n",
      "(107, 'Ahmed', 'J', '4101MDA')\n",
      "(108, 'Tamanjit', 'K', '4201MDA')\n",
      "(109, 'Alexey', 'K', '4203MDA')\n",
      "(110, 'Vjačeslavs', 'M', '4203MDA')\n",
      "(111, 'Jevgenijs', 'B', '4203MDA')\n",
      "(112, 'Ērika', 'T', '4203MDA')\n",
      "(113, 'Simeon', 'I', '4101MDA')\n",
      "(114, 'Oskars', 'K', '4101MDA')\n"
     ]
    }
   ],
   "source": [
    "conn = sqlite3.connect(DB_PATH)\n",
    "cursor = conn.execute(\"\"\"\n",
    "SELECT \n",
    "    student_id, \n",
    "    firstname, \n",
    "    lastname, \n",
    "    group_name \n",
    "FROM \n",
    "    student LEFT JOIN student_group ON student.group_id = student_group.group_id;\n",
    "\"\"\")\n",
    "for row in cursor:\n",
    "    print(row)\n",
    "conn.close()"
   ]
  },
  {
   "cell_type": "markdown",
   "id": "87ef6984",
   "metadata": {
    "slideshow": {
     "slide_type": "subslide"
    }
   },
   "source": [
    "## Reading data: GROUP BY"
   ]
  },
  {
   "cell_type": "code",
   "execution_count": 7,
   "id": "e7b4494f",
   "metadata": {
    "scrolled": false
   },
   "outputs": [
    {
     "name": "stdout",
     "output_type": "stream",
     "text": [
      "(1, '4101MDA', 4)\n",
      "(2, '4201MDA', 4)\n",
      "(3, '4203MDA', 6)\n"
     ]
    }
   ],
   "source": [
    "conn = sqlite3.connect(DB_PATH)\n",
    "cursor = conn.execute(\"\"\"\n",
    "SELECT \n",
    "    student_group.group_id, \n",
    "    group_name,\n",
    "    count(*)\n",
    "FROM \n",
    "    student_group LEFT JOIN student ON student.group_id = student_group.group_id\n",
    "GROUP BY\n",
    "    student_group.group_id\n",
    "\"\"\")\n",
    "for row in cursor:\n",
    "    print(row)\n",
    "conn.close()"
   ]
  },
  {
   "cell_type": "markdown",
   "id": "8c1b6b5e",
   "metadata": {
    "slideshow": {
     "slide_type": "slide"
    }
   },
   "source": [
    "# Thank you"
   ]
  }
 ],
 "metadata": {
  "celltoolbar": "Slideshow",
  "kernelspec": {
   "display_name": "Python 3 (ipykernel)",
   "language": "python",
   "name": "python3"
  },
  "language_info": {
   "codemirror_mode": {
    "name": "ipython",
    "version": 3
   },
   "file_extension": ".py",
   "mimetype": "text/x-python",
   "name": "python",
   "nbconvert_exporter": "python",
   "pygments_lexer": "ipython3",
   "version": "3.9.12"
  }
 },
 "nbformat": 4,
 "nbformat_minor": 5
}
