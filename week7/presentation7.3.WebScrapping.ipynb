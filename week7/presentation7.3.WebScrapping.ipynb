{
 "cells": [
  {
   "cell_type": "markdown",
   "id": "69429c05",
   "metadata": {
    "slideshow": {
     "slide_type": "slide"
    }
   },
   "source": [
    "# 7.3. Web Scrapping\n",
    "\n",
    "Module M-227-04: Programming for Data Analytics\n",
    "\n",
    "Instructor: prof. Dmitry Pavlyuk"
   ]
  },
  {
   "cell_type": "markdown",
   "id": "f3a30ab0",
   "metadata": {
    "slideshow": {
     "slide_type": "slide"
    }
   },
   "source": [
    "## Web Scrapping"
   ]
  },
  {
   "cell_type": "markdown",
   "id": "e27f1755",
   "metadata": {},
   "source": [
    "Web scraping (or data scraping) is a technique used to collect content and data from the internet. This data is usually saved in a local file so that it can be manipulated and analyzed as needed.\n",
    "\n",
    "* If there is data on a website, then in theory, it is scrapable!\n",
    "* Search engines regularly use web scraping to analyze, rank, and index their content.\n",
    "* Web scraping is legal if you scrape data publicly available on the internet. __BUT__ further usages of scrapped information can be illegal (copyrights, intellectual property, sensitive information)\n",
    "* Check whether the website is using the robots.txt protocol to communicate that scraping is prohibited, \n"
   ]
  },
  {
   "cell_type": "markdown",
   "id": "672612f2",
   "metadata": {
    "slideshow": {
     "slide_type": "subslide"
    }
   },
   "source": [
    "## Web Scrapping: main stages\n",
    "\n",
    "- Stage 1. Finding a website with necessary data\n",
    "- Stage 2. Check web scrapping limitations - website's term of use, robots.txt, etc.\n",
    "- Stage 3. Inspect the internal page structure and find data to extract\n",
    "- Stage 4. Write the code to receive the website's HTML\n",
    "- Stage 5. Write the code to parse HTML data\n",
    "- Stage 6. Store parsed data locally"
   ]
  },
  {
   "cell_type": "markdown",
   "id": "c03df47f",
   "metadata": {
    "slideshow": {
     "slide_type": "subslide"
    }
   },
   "source": [
    "## HTML\n",
    "\n",
    "The HyperText Markup Language or HTML is the standard markup language for documents designed to be displayed in a web browser. It can be assisted by technologies such as Cascading Style Sheets (CSS) and scripting languages such as JavaScript (JS)."
   ]
  },
  {
   "cell_type": "code",
   "execution_count": 1,
   "id": "a58ff27c",
   "metadata": {},
   "outputs": [],
   "source": [
    "html = \"\"\"\n",
    "<!doctype html>\n",
    "<html lang=en>\n",
    "    <head>\n",
    "        <meta charset=utf-8>\n",
    "        <title>Page title</title>\n",
    "    </head>\n",
    "    <body>\n",
    "        <p>Body Content</p>\n",
    "    </body>\n",
    "</html>\n",
    "\"\"\""
   ]
  },
  {
   "cell_type": "markdown",
   "id": "26839999",
   "metadata": {},
   "source": [
    "## HTML\n",
    "\n",
    "<img src=\"https://upload.wikimedia.org/wikipedia/commons/5/5a/DOM-model.svg\"/>\n",
    "DOM illustration by Birger Eriksson (CC-BY-SA)."
   ]
  },
  {
   "cell_type": "markdown",
   "id": "9a8c8832",
   "metadata": {
    "slideshow": {
     "slide_type": "subslide"
    }
   },
   "source": [
    "## HTML vs. XML\n",
    "\n",
    "HTML and XML are related: HTML displays data and describes the structure of a webpage, whereas XML stores and transfers any data. HTML is a predefined language, while XML is a standard language that defines other languages.\n",
    "\n",
    "* XML mainly focuses on data transfer while HTML is focused on presentation of the data\n",
    "* XML is content driven whereas HTML is format driven.\n",
    "* XML is Case sensitive while HTML is Case insensitive.\n",
    "* XML provides namespaces support while HTML doesn't provide namespaces support.\n",
    "* XML is strict for closing tag while HTML is not strict.\n",
    "* XML tags are extensible whereas HTML has limited predefined tags."
   ]
  },
  {
   "cell_type": "markdown",
   "id": "d74fd141",
   "metadata": {
    "slideshow": {
     "slide_type": "slide"
    }
   },
   "source": [
    "## HTML parsing"
   ]
  },
  {
   "cell_type": "markdown",
   "id": "34a2304b",
   "metadata": {
    "slideshow": {
     "slide_type": "subslide"
    }
   },
   "source": [
    "## Pandas\n",
    "\n",
    "__Pandas__ has embedded routines for parsing tables (see my presentations on Pandas)"
   ]
  },
  {
   "cell_type": "code",
   "execution_count": 2,
   "id": "740e0e17",
   "metadata": {
    "scrolled": true,
    "slideshow": {
     "slide_type": "-"
    }
   },
   "outputs": [
    {
     "data": {
      "text/html": [
       "<div>\n",
       "<style scoped>\n",
       "    .dataframe tbody tr th:only-of-type {\n",
       "        vertical-align: middle;\n",
       "    }\n",
       "\n",
       "    .dataframe tbody tr th {\n",
       "        vertical-align: top;\n",
       "    }\n",
       "\n",
       "    .dataframe thead th {\n",
       "        text-align: right;\n",
       "    }\n",
       "</style>\n",
       "<table border=\"1\" class=\"dataframe\">\n",
       "  <thead>\n",
       "    <tr style=\"text-align: right;\">\n",
       "      <th></th>\n",
       "      <th>Sludinājumi \\tdatums.2</th>\n",
       "      <th>Gads</th>\n",
       "      <th>Tilp.</th>\n",
       "      <th>Nobrauk.</th>\n",
       "      <th>Cena</th>\n",
       "    </tr>\n",
       "  </thead>\n",
       "  <tbody>\n",
       "    <tr>\n",
       "      <th>0</th>\n",
       "      <td>Ļoti smuks, Bez rūsas - nav tikko pārkrāsots. ...</td>\n",
       "      <td>2012</td>\n",
       "      <td>1.6D</td>\n",
       "      <td>-</td>\n",
       "      <td>6,990 €</td>\n",
       "    </tr>\n",
       "    <tr>\n",
       "      <th>1</th>\n",
       "      <td>VW Passat Highline 125 kW (170 hp). Farkops, d...</td>\n",
       "      <td>2011</td>\n",
       "      <td>2.0D</td>\n",
       "      <td>292 tūkst.</td>\n",
       "      <td>7,600 €</td>\n",
       "    </tr>\n",
       "    <tr>\n",
       "      <th>2</th>\n",
       "      <td>Lielisks ģimenes auto. Pārdodam sakarā ar jaun...</td>\n",
       "      <td>2010</td>\n",
       "      <td>2.0D</td>\n",
       "      <td>330 tūkst.</td>\n",
       "      <td>7,400 €</td>\n",
       "    </tr>\n",
       "    <tr>\n",
       "      <th>3</th>\n",
       "      <td>Auto labā tehniskā un vizuālā stāvoklī. Visas ...</td>\n",
       "      <td>2013</td>\n",
       "      <td>2.0D</td>\n",
       "      <td>335 tūkst.</td>\n",
       "      <td>7,500 €</td>\n",
       "    </tr>\n",
       "    <tr>\n",
       "      <th>4</th>\n",
       "      <td>Ļoti labā vizuālā un tehniskā stāvoklī. Pats b...</td>\n",
       "      <td>2011</td>\n",
       "      <td>2.0D</td>\n",
       "      <td>265 tūkst.</td>\n",
       "      <td>10,500 €</td>\n",
       "    </tr>\n",
       "  </tbody>\n",
       "</table>\n",
       "</div>"
      ],
      "text/plain": [
       "                              Sludinājumi \\tdatums.2  Gads Tilp.    Nobrauk.  \\\n",
       "0  Ļoti smuks, Bez rūsas - nav tikko pārkrāsots. ...  2012  1.6D           -   \n",
       "1  VW Passat Highline 125 kW (170 hp). Farkops, d...  2011  2.0D  292 tūkst.   \n",
       "2  Lielisks ģimenes auto. Pārdodam sakarā ar jaun...  2010  2.0D  330 tūkst.   \n",
       "3  Auto labā tehniskā un vizuālā stāvoklī. Visas ...  2013  2.0D  335 tūkst.   \n",
       "4  Ļoti labā vizuālā un tehniskā stāvoklī. Pats b...  2011  2.0D  265 tūkst.   \n",
       "\n",
       "       Cena  \n",
       "0   6,990 €  \n",
       "1   7,600 €  \n",
       "2   7,400 €  \n",
       "3   7,500 €  \n",
       "4  10,500 €  "
      ]
     },
     "execution_count": 2,
     "metadata": {},
     "output_type": "execute_result"
    }
   ],
   "source": [
    "import pandas as pd\n",
    "ss_bmw = pd.read_html('https://www.ss.lv/lv/transport/cars/volkswagen/passat-b7/sell/', header=0)\n",
    "main_table = sorted(ss_bmw,key=lambda x:len(x), reverse=True)[0]\n",
    "main_table.dropna(axis='columns').head()"
   ]
  },
  {
   "cell_type": "markdown",
   "id": "c2707e4d",
   "metadata": {
    "slideshow": {
     "slide_type": "-"
    }
   },
   "source": [
    "__But what if data on the website is not table-structured?__"
   ]
  },
  {
   "cell_type": "markdown",
   "id": "b1346185",
   "metadata": {
    "slideshow": {
     "slide_type": "subslide"
    }
   },
   "source": [
    "## Beautiful Soup\n",
    "\n",
    "Beautiful Soup is a Python package for parsing HTML and XML documents. It creates a parse tree for parsed pages that can be used to extract data from HTML."
   ]
  },
  {
   "cell_type": "code",
   "execution_count": 3,
   "id": "2b76e65f",
   "metadata": {},
   "outputs": [
    {
     "name": "stdout",
     "output_type": "stream",
     "text": [
      "Requirement already satisfied: beautifulsoup4 in c:\\users\\dmitry\\anaconda3\\lib\\site-packages (4.11.1)\n",
      "Requirement already satisfied: soupsieve>1.2 in c:\\users\\dmitry\\anaconda3\\lib\\site-packages (from beautifulsoup4) (2.3.1)\n"
     ]
    }
   ],
   "source": [
    "!pip install beautifulsoup4"
   ]
  },
  {
   "cell_type": "code",
   "execution_count": 4,
   "id": "2e62f963",
   "metadata": {},
   "outputs": [],
   "source": [
    "from bs4 import BeautifulSoup"
   ]
  },
  {
   "cell_type": "markdown",
   "id": "99e0c494",
   "metadata": {
    "slideshow": {
     "slide_type": "subslide"
    }
   },
   "source": [
    "## Simple Parsing"
   ]
  },
  {
   "cell_type": "code",
   "execution_count": 5,
   "id": "eca09fad",
   "metadata": {},
   "outputs": [
    {
     "name": "stdout",
     "output_type": "stream",
     "text": [
      "\n",
      "<!doctype html>\n",
      "<html lang=en>\n",
      "    <head>\n",
      "        <meta charset=utf-8>\n",
      "        <title>Page title</title>\n",
      "    </head>\n",
      "    <body>\n",
      "        <p>Body Content</p>\n",
      "    </body>\n",
      "</html>\n",
      "\n"
     ]
    }
   ],
   "source": [
    "print(html)"
   ]
  },
  {
   "cell_type": "code",
   "execution_count": 6,
   "id": "a133de57",
   "metadata": {},
   "outputs": [
    {
     "name": "stdout",
     "output_type": "stream",
     "text": [
      "Parsed Title: Page title\n",
      "Parsed Body: Body Content\n"
     ]
    }
   ],
   "source": [
    "parsed = BeautifulSoup(html, 'html')\n",
    "print(\"Parsed Title:\",parsed.select(\"title\")[0].text)\n",
    "print(\"Parsed Body:\",parsed.select(\"html > body > p\")[0].text)"
   ]
  },
  {
   "cell_type": "markdown",
   "id": "c2adea60",
   "metadata": {
    "slideshow": {
     "slide_type": "subslide"
    }
   },
   "source": [
    "## Beautiful Soup: basics\n",
    "- parsed.prettify() - prettier HTML\n",
    "- parsed.title - first title tag\n",
    "- parsed.p - first p tag\n",
    "- parsed.p.em - first em tag within the first p tag"
   ]
  },
  {
   "cell_type": "markdown",
   "id": "3b9c1909",
   "metadata": {
    "slideshow": {
     "slide_type": "subslide"
    }
   },
   "source": [
    "## Beautiful Soup: searching\n",
    "- parsed.find_all(True) - all descendants\n",
    "- parsed.find_all(\"a\") - descendants by tag name (all _a_)\n",
    "- parsed.find_all(\"a\",limit=10) - first 10 _a_ tags\n",
    "- parsed.find_all(\"a\",recursive=False) - all _a_ immediately inside the tag\n",
    "- parsed.find_all(href=\"https://tsi.lv/\") - by attribute\n",
    "- parsed.find_all(class_=\"post\") - by class\n",
    "- parsed.select(\"html > body > p\") - CSS-like selector"
   ]
  },
  {
   "cell_type": "markdown",
   "id": "e77772df",
   "metadata": {
    "slideshow": {
     "slide_type": "subslide"
    }
   },
   "source": [
    "## Getting website HTML"
   ]
  },
  {
   "cell_type": "markdown",
   "id": "81f06a1c",
   "metadata": {},
   "source": [
    "A website HTML is commonly received using the HTTP protocol (see previous presentation).\n",
    "\n",
    "Check https://tsi.lv/robots.txt first!"
   ]
  },
  {
   "cell_type": "code",
   "execution_count": 7,
   "id": "ec0149fe",
   "metadata": {},
   "outputs": [
    {
     "name": "stdout",
     "output_type": "stream",
     "text": [
      "Requesting https://tsi.lv ...\n",
      "Received; Response code: 200\n"
     ]
    }
   ],
   "source": [
    "import requests\n",
    "url = \"https://tsi.lv\"\n",
    "print(\"Requesting\", url,'...')\n",
    "response = requests.get(url)\n",
    "print(\"Received; Response code:\", response.status_code)"
   ]
  },
  {
   "cell_type": "markdown",
   "id": "f5dc4054",
   "metadata": {
    "slideshow": {
     "slide_type": "subslide"
    }
   },
   "source": [
    "## Getting website HTML"
   ]
  },
  {
   "cell_type": "code",
   "execution_count": 8,
   "id": "8531521a",
   "metadata": {},
   "outputs": [
    {
     "name": "stdout",
     "output_type": "stream",
     "text": [
      "Received HTML:\n",
      "\n",
      "<!doctype html>\n",
      "<html lang=\"en-US\">\n",
      "<head>\n",
      "\t<meta charset=\"UTF-8\">\n",
      "\t\t<meta name=\"viewport\" content=\"width=device-width, initial-scale=1\">\n",
      "\t<link rel=\"profile\" href=\"https://gmpg.org/xfn/11\">\n",
      "\t<meta name='robots' content='index, follow, max-image-preview:large, max-snippet:-1, max-video-preview:-1' / \n",
      "...\n"
     ]
    }
   ],
   "source": [
    "print(\"Received HTML:\\n\")\n",
    "print(response.text[0:300],'\\n...')"
   ]
  },
  {
   "cell_type": "markdown",
   "id": "d4bd9aa7",
   "metadata": {
    "slideshow": {
     "slide_type": "slide"
    }
   },
   "source": [
    "## Examples"
   ]
  },
  {
   "cell_type": "markdown",
   "id": "d6b2436c",
   "metadata": {
    "slideshow": {
     "slide_type": "subslide"
    }
   },
   "source": [
    "## Example 1: TSI website external links"
   ]
  },
  {
   "cell_type": "code",
   "execution_count": 9,
   "id": "c68f652f",
   "metadata": {},
   "outputs": [
    {
     "name": "stdout",
     "output_type": "stream",
     "text": [
      "Requesting https://tsi.lv ...\n",
      "Received; Response code: 200\n",
      "https://dinotrans.com/ \n",
      "http://www.topsailgroup.eu/ \n",
      "http://l-ekspresis.eu/en/ \n",
      "https://www.autoosta.lv/?lang=en \n",
      "https://www.evolution.com/ \n",
      "https://www.facebook.com/TSIpage Facebook\n",
      "https://www.instagram.com/tsi_university/ Instagram\n",
      "http://www.linkedin.com/company/transporta-un-sakaru-instit-ts Linkedin\n",
      "http://vk.com/tsipage Vk\n",
      "https://www.youtube.com/TSIRiga Youtube\n",
      "https://apps.apple.com/us/app/tsi-schedule/id606137492 \n",
      "https://play.google.com/store/apps/details?id=tsi.phonegap.schedule&hl=en \n"
     ]
    }
   ],
   "source": [
    "import requests\n",
    "url = \"https://tsi.lv\"\n",
    "print(\"Requesting\", url,'...')\n",
    "response = requests.get(url)\n",
    "print(\"Received; Response code:\", response.status_code)\n",
    "soup = BeautifulSoup(response.text, 'html')\n",
    "links = soup.find_all('a')\n",
    "for link in links:\n",
    "    try:\n",
    "        if (link['href'].startswith('http') and ('tsi.lv' not in link['href'])):\n",
    "            print(link['href'], link.text.strip())\n",
    "    except: pass\n",
    "   "
   ]
  },
  {
   "cell_type": "markdown",
   "id": "cd717278",
   "metadata": {
    "slideshow": {
     "slide_type": "subslide"
    }
   },
   "source": [
    "## Example 2: TSI academic staff\n",
    "\n"
   ]
  },
  {
   "cell_type": "code",
   "execution_count": 10,
   "id": "0b4f4a3c",
   "metadata": {},
   "outputs": [
    {
     "name": "stdout",
     "output_type": "stream",
     "text": [
      "Parsing https://tsi.lv/about-us/academic-staff/?jsf=jet-engine:staff&pagenum=1 ...\n",
      "Parsing https://tsi.lv/about-us/academic-staff/?jsf=jet-engine:staff&pagenum=2 ...\n",
      "Parsing https://tsi.lv/about-us/academic-staff/?jsf=jet-engine:staff&pagenum=3 ...\n",
      "Parsing https://tsi.lv/about-us/academic-staff/?jsf=jet-engine:staff&pagenum=4 ...\n",
      "Parsing https://tsi.lv/about-us/academic-staff/?jsf=jet-engine:staff&pagenum=5 ...\n",
      "Parsing https://tsi.lv/about-us/academic-staff/?jsf=jet-engine:staff&pagenum=6 ...\n",
      "Parsing https://tsi.lv/about-us/academic-staff/?jsf=jet-engine:staff&pagenum=7 ...\n",
      "Parsing https://tsi.lv/about-us/academic-staff/?jsf=jet-engine:staff&pagenum=8 ...\n",
      "Parsing https://tsi.lv/about-us/academic-staff/?jsf=jet-engine:staff&pagenum=9 ...\n",
      "Parsing https://tsi.lv/about-us/academic-staff/?jsf=jet-engine:staff&pagenum=10 ...\n"
     ]
    }
   ],
   "source": [
    "profs = []\n",
    "base_url = \"https://tsi.lv/about-us/academic-staff/?jsf=jet-engine:staff&pagenum=\"\n",
    "pages = 10\n",
    "import re\n",
    "for i in range(1,pages+1):\n",
    "    url = base_url+str(i)\n",
    "    print(\"Parsing\",url,\"...\")\n",
    "    response = requests.get(url)\n",
    "    soup = BeautifulSoup(response.text, 'html')\n",
    "    blocks = soup.find('div',{'class':\"jet-listing-grid__items\"}).find_all('div', {\"class\":'jet-listing-grid__item'})\n",
    "    for block in blocks:\n",
    "        try:\n",
    "            name = block.find('div', {\"data-id\": \"50d7e9b\"}).\\\n",
    "                find('div', {\"class\":'jet-listing-dynamic-field__content'}).text\n",
    "        except: pass\n",
    "        try:\n",
    "            position = block.find('div', {\"data-id\": \"26fd42e\"}).\\\n",
    "                find('div', {\"class\":'jet-listing-dynamic-field__content'}).text.strip()\n",
    "        except: pass\n",
    "        try:\n",
    "            email = block.find('div', {\"data-id\": \"50539e7\"}).\\\n",
    "                find('div', {\"class\":'jet-listing jet-listing-dynamic-link'}).find_all('a')[1].text.strip()\n",
    "        except: pass\n",
    "        profs.append({'name':re.search(r\"(\\S+)\\s(\\S{1})\",name).group(), \n",
    "                      'position':position,\n",
    "                      'email':\"***\".join(re.findall(r\"(\\S{2})\\S+(@{1}\\S+)\",email)[0])})"
   ]
  },
  {
   "cell_type": "markdown",
   "id": "fa0b27a9",
   "metadata": {
    "slideshow": {
     "slide_type": "subslide"
    }
   },
   "source": [
    "## Example 2: TSI academic staff\n",
    "\n"
   ]
  },
  {
   "cell_type": "code",
   "execution_count": 11,
   "id": "bc941355",
   "metadata": {},
   "outputs": [
    {
     "data": {
      "text/html": [
       "<div>\n",
       "<style scoped>\n",
       "    .dataframe tbody tr th:only-of-type {\n",
       "        vertical-align: middle;\n",
       "    }\n",
       "\n",
       "    .dataframe tbody tr th {\n",
       "        vertical-align: top;\n",
       "    }\n",
       "\n",
       "    .dataframe thead th {\n",
       "        text-align: right;\n",
       "    }\n",
       "</style>\n",
       "<table border=\"1\" class=\"dataframe\">\n",
       "  <thead>\n",
       "    <tr style=\"text-align: right;\">\n",
       "      <th></th>\n",
       "      <th>name</th>\n",
       "      <th>position</th>\n",
       "      <th>email</th>\n",
       "    </tr>\n",
       "  </thead>\n",
       "  <tbody>\n",
       "    <tr>\n",
       "      <th>0</th>\n",
       "      <td>Iyad A</td>\n",
       "      <td>Assoc. prof</td>\n",
       "      <td>Al***@tsi.lv</td>\n",
       "    </tr>\n",
       "    <tr>\n",
       "      <th>1</th>\n",
       "      <td>Jelena B</td>\n",
       "      <td>Lecturer</td>\n",
       "      <td>Ba***@tsi.lv</td>\n",
       "    </tr>\n",
       "    <tr>\n",
       "      <th>2</th>\n",
       "      <td>Dmitrij B</td>\n",
       "      <td>Assoc. prof</td>\n",
       "      <td>Bo***@tsi.lv</td>\n",
       "    </tr>\n",
       "    <tr>\n",
       "      <th>3</th>\n",
       "      <td>Evelina B</td>\n",
       "      <td>Assistant professor</td>\n",
       "      <td>Bu***@tsi.lv</td>\n",
       "    </tr>\n",
       "    <tr>\n",
       "      <th>4</th>\n",
       "      <td>Aleksandr B</td>\n",
       "      <td>Assistant professor</td>\n",
       "      <td>Bu***@tsi.lv</td>\n",
       "    </tr>\n",
       "  </tbody>\n",
       "</table>\n",
       "</div>"
      ],
      "text/plain": [
       "          name             position         email\n",
       "0       Iyad A          Assoc. prof  Al***@tsi.lv\n",
       "1     Jelena B             Lecturer  Ba***@tsi.lv\n",
       "2    Dmitrij B          Assoc. prof  Bo***@tsi.lv\n",
       "3    Evelina B  Assistant professor  Bu***@tsi.lv\n",
       "4  Aleksandr B  Assistant professor  Bu***@tsi.lv"
      ]
     },
     "execution_count": 11,
     "metadata": {},
     "output_type": "execute_result"
    }
   ],
   "source": [
    "profs_df = pd.DataFrame(profs)\n",
    "profs_df = profs_df.drop_duplicates()\n",
    "profs_df.head()"
   ]
  },
  {
   "cell_type": "markdown",
   "id": "8b5bb5fe",
   "metadata": {
    "slideshow": {
     "slide_type": "subslide"
    }
   },
   "source": [
    "## Example 2: TSI academic staff"
   ]
  },
  {
   "cell_type": "code",
   "execution_count": 12,
   "id": "031b614c",
   "metadata": {},
   "outputs": [
    {
     "data": {
      "text/html": [
       "<div>\n",
       "<style scoped>\n",
       "    .dataframe tbody tr th:only-of-type {\n",
       "        vertical-align: middle;\n",
       "    }\n",
       "\n",
       "    .dataframe tbody tr th {\n",
       "        vertical-align: top;\n",
       "    }\n",
       "\n",
       "    .dataframe thead th {\n",
       "        text-align: right;\n",
       "    }\n",
       "</style>\n",
       "<table border=\"1\" class=\"dataframe\">\n",
       "  <thead>\n",
       "    <tr style=\"text-align: right;\">\n",
       "      <th></th>\n",
       "      <th>name</th>\n",
       "      <th>email</th>\n",
       "    </tr>\n",
       "    <tr>\n",
       "      <th>position</th>\n",
       "      <th></th>\n",
       "      <th></th>\n",
       "    </tr>\n",
       "  </thead>\n",
       "  <tbody>\n",
       "    <tr>\n",
       "      <th>Assistant professor</th>\n",
       "      <td>17</td>\n",
       "      <td>17</td>\n",
       "    </tr>\n",
       "    <tr>\n",
       "      <th>Assoc. prof</th>\n",
       "      <td>10</td>\n",
       "      <td>10</td>\n",
       "    </tr>\n",
       "    <tr>\n",
       "      <th>Emeritus professor</th>\n",
       "      <td>1</td>\n",
       "      <td>1</td>\n",
       "    </tr>\n",
       "    <tr>\n",
       "      <th>Lecturer</th>\n",
       "      <td>14</td>\n",
       "      <td>14</td>\n",
       "    </tr>\n",
       "    <tr>\n",
       "      <th>Professor</th>\n",
       "      <td>11</td>\n",
       "      <td>11</td>\n",
       "    </tr>\n",
       "    <tr>\n",
       "      <th>State emeritus scientist, professor</th>\n",
       "      <td>1</td>\n",
       "      <td>1</td>\n",
       "    </tr>\n",
       "  </tbody>\n",
       "</table>\n",
       "</div>"
      ],
      "text/plain": [
       "                                     name  email\n",
       "position                                        \n",
       "Assistant professor                    17     17\n",
       "Assoc. prof                            10     10\n",
       "Emeritus professor                      1      1\n",
       "Lecturer                               14     14\n",
       "Professor                              11     11\n",
       "State emeritus scientist, professor     1      1"
      ]
     },
     "execution_count": 12,
     "metadata": {},
     "output_type": "execute_result"
    }
   ],
   "source": [
    "profs_df[-profs_df[\"position\"].str.contains('uest')].groupby('position').count()"
   ]
  },
  {
   "cell_type": "code",
   "execution_count": 13,
   "id": "73f9d6ad",
   "metadata": {},
   "outputs": [],
   "source": [
    "profs_df.to_csv(\"tsi_profs.csv\")"
   ]
  },
  {
   "cell_type": "markdown",
   "id": "8c1b6b5e",
   "metadata": {
    "slideshow": {
     "slide_type": "slide"
    }
   },
   "source": [
    "# Thank you"
   ]
  }
 ],
 "metadata": {
  "celltoolbar": "Slideshow",
  "kernelspec": {
   "display_name": "Python 3 (ipykernel)",
   "language": "python",
   "name": "python3"
  },
  "language_info": {
   "codemirror_mode": {
    "name": "ipython",
    "version": 3
   },
   "file_extension": ".py",
   "mimetype": "text/x-python",
   "name": "python",
   "nbconvert_exporter": "python",
   "pygments_lexer": "ipython3",
   "version": "3.9.12"
  }
 },
 "nbformat": 4,
 "nbformat_minor": 5
}
