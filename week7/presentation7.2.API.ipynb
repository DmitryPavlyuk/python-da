{
 "cells": [
  {
   "cell_type": "markdown",
   "id": "69429c05",
   "metadata": {
    "slideshow": {
     "slide_type": "slide"
    }
   },
   "source": [
    "# 7.2. Application Programming Interface (API)\n",
    "\n",
    "Module M-227-04: Programming for Data Analytics\n",
    "\n",
    "Instructor: prof. Dmitry Pavlyuk"
   ]
  },
  {
   "cell_type": "markdown",
   "id": "f3a30ab0",
   "metadata": {
    "slideshow": {
     "slide_type": "slide"
    }
   },
   "source": [
    "## Core definitions\n",
    "\n",
    "* A network __protocol__ is an established set of rules that determine how data is transmitted between different devices in the network.\n",
    "* __Hypertext Transfer Protocol__ (HTTP) is a stateless application-level protocol for client-server communications\n",
    "* __Hypertext Transfer Protocol Secure__ (HTTPS) is an extension of the Hypertext Transfer Protocol that used for secure communications.\n",
    "* __Application Programming Interface__ (API) is an interface that provides programmatic access to service functionality and data within an application or a database. \n"
   ]
  },
  {
   "cell_type": "markdown",
   "id": "c790146b",
   "metadata": {
    "slideshow": {
     "slide_type": "subslide"
    }
   },
   "source": [
    "## HTTP Request\n",
    "\n",
    "* __Request-URI__\n",
    "<img src=\"https://upload.wikimedia.org/wikipedia/commons/d/d6/URI_syntax_diagram.svg\" />\n",
    "\n",
    "\n",
    "* __Request Method__\n",
    "    * GET, POST, PUT, HEAD, DELETE, CONNECT, TRACE, OPTIONS\n",
    "* __Request Headers__\n",
    "    * User-Agent, Accept-Encoding, Referer, etc.\n",
    "    \n",
    "* __Hypertext Transfer Protocol Secure__ (HTTPS) is an extension of the Hypertext Transfer Protocol that used for secure communications.\n",
    "* __Application Programming Interface__ (API) is an interface that provides programmatic access to service functionality and data within an application or a database. \n"
   ]
  },
  {
   "cell_type": "markdown",
   "id": "89c42404",
   "metadata": {
    "slideshow": {
     "slide_type": "subslide"
    }
   },
   "source": [
    "## HTTP Request Example\n",
    "\n",
    "- GET /course/view.php?id=3285 HTTP/1.1\n",
    "- Accept: text/html,application/xhtml+xml,application/xml;q=0.9,image/avif,image/webp,image/apng,*/*;q=0.8,application/signed-exchange;v=b3;q=0.9\n",
    "- Accept-Encoding: gzip, deflate, br\n",
    "- Accept-Language: en-US,en;q=0.9\n",
    "- Cache-Control: no-cache\n",
    "- Connection: keep-alive\n",
    "- Host: e.tsi.lv\n",
    "- Pragma: no-cache\n",
    "- Referer: https://e.tsi.lv/course/index.php?categoryid=1086\n",
    "- User-Agent: Mozilla/5.0 (Windows NT 10.0; Win64; x64) AppleWebKit/537.36 (KHTML, like Gecko) Chrome/107.0.0.0 Safari/537.36"
   ]
  },
  {
   "cell_type": "markdown",
   "id": "cd046078",
   "metadata": {
    "slideshow": {
     "slide_type": "subslide"
    }
   },
   "source": [
    "## HTTP Response Codes\n",
    "\n",
    "| Code | Meaning | Description |\n",
    "| --- | --- | --- |\n",
    "| `200` | OK  | The requested action was successful. |\n",
    "| `201` | Created | A new resource was created. |\n",
    "| `202` | Accepted | The request was received, but no modification has been made yet. |\n",
    "| `204` | No Content | The request was successful, but the response has no content. |\n",
    "| `400` | Bad Request | The request was malformed. |\n",
    "| `401` | Unauthorized | The client is not authorized to perform the requested action. |\n",
    "| `404` | Not Found | The requested resource was not found. |\n",
    "| `415` | Unsupported Media Type | The request data format is not supported by the server. |\n",
    "| `422` | Unprocessable Entity | The request data was properly formatted but contained invalid or missing data. |\n",
    "| `500` | Internal Server Error | The server threw an error when processing the request. |"
   ]
  },
  {
   "cell_type": "markdown",
   "id": "5479ac04",
   "metadata": {
    "slideshow": {
     "slide_type": "subslide"
    }
   },
   "source": [
    "## HTTP Response Example\n",
    "\n",
    "- Cache-Control: no-store, no-cache, must-revalidate\n",
    "- Connection: keep-alive\n",
    "- Content-Encoding: gzip\n",
    "- Content-Language: en\n",
    "- Content-Type: text/html; charset=utf-8\n",
    "- Date: Fri, 25 Nov 2022 12:45:35 GMT\n",
    "- Expires: Mon, 20 Aug 1969 09:23:00 GMT\n",
    "- Last-Modified: Fri, 25 Nov 2022 12:45:35 GMT\n",
    "- Pragma: no-cache\n",
    "- Server: nginx\n",
    "\n",
    "\\<Response content>"
   ]
  },
  {
   "cell_type": "markdown",
   "id": "4f3fea15",
   "metadata": {
    "slideshow": {
     "slide_type": "subslide"
    }
   },
   "source": [
    "## API\n",
    "\n",
    "* __RPC__ - remote procedural call (RPC) protocol is a simple means to send multiple parameters and receive results. RPC APIs invoke executable actions or processes, while REST APIs mainly exchange data or resources such as documents. \n",
    "\n",
    "* __REST__ -  representational state transfer (REST) architecture is the most popular approach to building APIs. REST relies on a client/server approach and provides considerable flexibility in development and implementation.\n",
    "\n",
    "* __SOAP__ - simple object access protocol (SOAP) is a messaging standard defined by the WWW Consortium and broadly used to create web APIs, usually with XML.\n",
    "\n"
   ]
  },
  {
   "cell_type": "markdown",
   "id": "25299c60",
   "metadata": {
    "slideshow": {
     "slide_type": "slide"
    }
   },
   "source": [
    "## REST"
   ]
  },
  {
   "cell_type": "markdown",
   "id": "9e799923",
   "metadata": {
    "slideshow": {
     "slide_type": "subslide"
    }
   },
   "source": [
    "## REST\n",
    "REST stands for representational state transfer and is a software architecture style that defines a pattern for client and server communications over a network.\n",
    "\n",
    "A request is sent from client to server in the form of HTTP request. After that, a response comes back from the server in the form of a resource which can be anything like HTML, XML, Image, or JSON. Now JSON is the most popular format being used. \n",
    "\n",
    "REST provides a set of constraints:\n",
    "- Stateless: The server won't maintain any state between requests from the client.\n",
    "- Client-server: The client and server must be decoupled from each other, allowing each to develop independently.\n",
    "- Cacheable: The data retrieved from the server should be cacheable either by the client or by the server.\n",
    "- Uniform interface: The server will provide a uniform interface for accessing resources without defining their representation."
   ]
  },
  {
   "cell_type": "markdown",
   "id": "b156b74a",
   "metadata": {
    "slideshow": {
     "slide_type": "subslide"
    }
   },
   "source": [
    "## REST: currency exchange example"
   ]
  },
  {
   "cell_type": "code",
   "execution_count": 1,
   "id": "f8e49aff",
   "metadata": {},
   "outputs": [
    {
     "name": "stdout",
     "output_type": "stream",
     "text": [
      "Requesting https://www.freeforexapi.com/api/live?pairs=EURUSD\n",
      "Response: {'rates': {'EURUSD': {'rate': 1.037199, 'timestamp': 1669706523}}, 'code': 200}\n"
     ]
    }
   ],
   "source": [
    "import requests\n",
    "import urllib.parse\n",
    "\n",
    "api = \"https://www.freeforexapi.com/api/live\"\n",
    "params = {'pairs':'EURUSD'}\n",
    "api_url = api+\"?\"+urllib.parse.urlencode(params)\n",
    "print(\"Requesting\", api_url)\n",
    "response = requests.get(api_url)\n",
    "data = response.json()\n",
    "print(\"Response:\", data)"
   ]
  },
  {
   "cell_type": "code",
   "execution_count": 2,
   "id": "91ac480d",
   "metadata": {},
   "outputs": [
    {
     "name": "stdout",
     "output_type": "stream",
     "text": [
      "10 euro is now 10.37 dollars\n"
     ]
    }
   ],
   "source": [
    "rate = data[\"rates\"][\"EURUSD\"][\"rate\"]\n",
    "\n",
    "print(f\"10 euro is now {10*rate:.2f} dollars\")"
   ]
  },
  {
   "cell_type": "markdown",
   "id": "9b2fde76",
   "metadata": {
    "slideshow": {
     "slide_type": "subslide"
    }
   },
   "source": [
    "## REST: Google Books"
   ]
  },
  {
   "cell_type": "code",
   "execution_count": 18,
   "id": "f0b8c658",
   "metadata": {},
   "outputs": [
    {
     "name": "stdout",
     "output_type": "stream",
     "text": [
      "Requesting https://www.googleapis.com/books/v1/volumes?q=python+data+analytics&maxResults=40\n"
     ]
    },
    {
     "data": {
      "text/plain": [
       "{'kind': 'books#volume',\n",
       " 'id': '1LRTDwAAQBAJ',\n",
       " 'etag': 'WSpwdMwaTWk',\n",
       " 'selfLink': 'https://www.googleapis.com/books/v1/volumes/1LRTDwAAQBAJ',\n",
       " 'volumeInfo': {'title': 'Advanced Data Analytics Using Python',\n",
       "  'subtitle': 'With Machine Learning, Deep Learning and NLP Examples',\n",
       "  'authors': ['Sayan Mukhopadhyay'],\n",
       "  'publisher': 'Apress',\n",
       "  'publishedDate': '2018-03-29',\n",
       "  'description': 'Gain a broad foundation of advanced data analytics concepts and discover the recent revolution in databases such as Neo4j, Elasticsearch, and MongoDB. This book discusses how to implement ETL techniques including topical crawling, which is applied in domains such as high-frequency algorithmic trading and goal-oriented dialog systems. You’ll also see examples of machine learning concepts such as semi-supervised learning, deep learning, and NLP. Advanced Data Analytics Using Python also covers important traditional data analysis techniques such as time series and principal component analysis. After reading this book you will have experience of every technical aspect of an analytics project. You’ll get to know the concepts using Python code, giving you samples to use in your own projects. What You Will Learn Work with data analysis techniques such as classification, clustering, regression, and forecasting Handle structured and unstructured data, ETL techniques, and different kinds of databases such as Neo4j, Elasticsearch, MongoDB, and MySQL Examine the different big data frameworks, including Hadoop and Spark Discover advanced machine learning concepts such as semi-supervised learning, deep learning, and NLP Who This Book Is For Data scientists and software developers interested in the field of data analytics.',\n",
       "  'industryIdentifiers': [{'type': 'ISBN_13', 'identifier': '9781484234501'},\n",
       "   {'type': 'ISBN_10', 'identifier': '1484234502'}],\n",
       "  'readingModes': {'text': True, 'image': True},\n",
       "  'pageCount': 195,\n",
       "  'printType': 'BOOK',\n",
       "  'categories': ['Computers'],\n",
       "  'maturityRating': 'NOT_MATURE',\n",
       "  'allowAnonLogging': False,\n",
       "  'contentVersion': '0.0.1.0.preview.3',\n",
       "  'panelizationSummary': {'containsEpubBubbles': False,\n",
       "   'containsImageBubbles': False},\n",
       "  'imageLinks': {'smallThumbnail': 'http://books.google.com/books/content?id=1LRTDwAAQBAJ&printsec=frontcover&img=1&zoom=5&edge=curl&source=gbs_api',\n",
       "   'thumbnail': 'http://books.google.com/books/content?id=1LRTDwAAQBAJ&printsec=frontcover&img=1&zoom=1&edge=curl&source=gbs_api'},\n",
       "  'language': 'en',\n",
       "  'previewLink': 'http://books.google.lv/books?id=1LRTDwAAQBAJ&printsec=frontcover&dq=python+data+analytics&hl=&cd=1&source=gbs_api',\n",
       "  'infoLink': 'http://books.google.lv/books?id=1LRTDwAAQBAJ&dq=python+data+analytics&hl=&source=gbs_api',\n",
       "  'canonicalVolumeLink': 'https://books.google.com/books/about/Advanced_Data_Analytics_Using_Python.html?hl=&id=1LRTDwAAQBAJ'},\n",
       " 'saleInfo': {'country': 'LV',\n",
       "  'saleability': 'NOT_FOR_SALE',\n",
       "  'isEbook': False},\n",
       " 'accessInfo': {'country': 'LV',\n",
       "  'viewability': 'PARTIAL',\n",
       "  'embeddable': True,\n",
       "  'publicDomain': False,\n",
       "  'textToSpeechPermission': 'ALLOWED',\n",
       "  'epub': {'isAvailable': True,\n",
       "   'acsTokenLink': 'http://books.google.lv/books/download/Advanced_Data_Analytics_Using_Python-sample-epub.acsm?id=1LRTDwAAQBAJ&format=epub&output=acs4_fulfillment_token&dl_type=sample&source=gbs_api'},\n",
       "  'pdf': {'isAvailable': True,\n",
       "   'acsTokenLink': 'http://books.google.lv/books/download/Advanced_Data_Analytics_Using_Python-sample-pdf.acsm?id=1LRTDwAAQBAJ&format=pdf&output=acs4_fulfillment_token&dl_type=sample&source=gbs_api'},\n",
       "  'webReaderLink': 'http://play.google.com/books/reader?id=1LRTDwAAQBAJ&hl=&source=gbs_api',\n",
       "  'accessViewStatus': 'SAMPLE',\n",
       "  'quoteSharingAllowed': False},\n",
       " 'searchInfo': {'textSnippet': 'This book discusses how to implement ETL techniques including topical crawling, which is applied in domains such as high-frequency algorithmic trading and goal-oriented dialog systems.'}}"
      ]
     },
     "execution_count": 18,
     "metadata": {},
     "output_type": "execute_result"
    }
   ],
   "source": [
    "api = \"https://www.googleapis.com/books/v1/volumes\"\n",
    "params = {'q':'python data analytics','maxResults': 40}\n",
    "api_url = api+\"?\"+urllib.parse.urlencode(params)\n",
    "print(\"Requesting\", api_url)\n",
    "response = requests.get(api_url)\n",
    "res = response.json()\n",
    "res[\"items\"][0]"
   ]
  },
  {
   "cell_type": "markdown",
   "id": "d85de07d",
   "metadata": {
    "slideshow": {
     "slide_type": "subslide"
    }
   },
   "source": [
    "## REST: Google Books"
   ]
  },
  {
   "cell_type": "code",
   "execution_count": 4,
   "id": "a195cab2",
   "metadata": {},
   "outputs": [
    {
     "data": {
      "text/html": [
       "<div>\n",
       "<style scoped>\n",
       "    .dataframe tbody tr th:only-of-type {\n",
       "        vertical-align: middle;\n",
       "    }\n",
       "\n",
       "    .dataframe tbody tr th {\n",
       "        vertical-align: top;\n",
       "    }\n",
       "\n",
       "    .dataframe thead th {\n",
       "        text-align: right;\n",
       "    }\n",
       "</style>\n",
       "<table border=\"1\" class=\"dataframe\">\n",
       "  <thead>\n",
       "    <tr style=\"text-align: right;\">\n",
       "      <th></th>\n",
       "      <th>title</th>\n",
       "      <th>subtitle</th>\n",
       "      <th>authors</th>\n",
       "      <th>publisher</th>\n",
       "      <th>publishedDate</th>\n",
       "      <th>description</th>\n",
       "      <th>industryIdentifiers</th>\n",
       "      <th>readingModes</th>\n",
       "      <th>pageCount</th>\n",
       "      <th>printType</th>\n",
       "      <th>...</th>\n",
       "      <th>allowAnonLogging</th>\n",
       "      <th>contentVersion</th>\n",
       "      <th>panelizationSummary</th>\n",
       "      <th>imageLinks</th>\n",
       "      <th>language</th>\n",
       "      <th>previewLink</th>\n",
       "      <th>infoLink</th>\n",
       "      <th>canonicalVolumeLink</th>\n",
       "      <th>averageRating</th>\n",
       "      <th>ratingsCount</th>\n",
       "    </tr>\n",
       "  </thead>\n",
       "  <tbody>\n",
       "    <tr>\n",
       "      <th>0</th>\n",
       "      <td>Advanced Data Analytics Using Python</td>\n",
       "      <td>With Machine Learning, Deep Learning and NLP E...</td>\n",
       "      <td>[Sayan Mukhopadhyay]</td>\n",
       "      <td>Apress</td>\n",
       "      <td>2018-03-29</td>\n",
       "      <td>Gain a broad foundation of advanced data analy...</td>\n",
       "      <td>[{'type': 'ISBN_13', 'identifier': '9781484234...</td>\n",
       "      <td>{'text': True, 'image': True}</td>\n",
       "      <td>195.0</td>\n",
       "      <td>BOOK</td>\n",
       "      <td>...</td>\n",
       "      <td>False</td>\n",
       "      <td>0.0.1.0.preview.3</td>\n",
       "      <td>{'containsEpubBubbles': False, 'containsImageB...</td>\n",
       "      <td>{'smallThumbnail': 'http://books.google.com/bo...</td>\n",
       "      <td>en</td>\n",
       "      <td>http://books.google.lv/books?id=1LRTDwAAQBAJ&amp;p...</td>\n",
       "      <td>http://books.google.lv/books?id=1LRTDwAAQBAJ&amp;d...</td>\n",
       "      <td>https://books.google.com/books/about/Advanced_...</td>\n",
       "      <td>NaN</td>\n",
       "      <td>NaN</td>\n",
       "    </tr>\n",
       "    <tr>\n",
       "      <th>1</th>\n",
       "      <td>Python Data Analytics</td>\n",
       "      <td>With Pandas, NumPy, and Matplotlib</td>\n",
       "      <td>[Fabio Nelli]</td>\n",
       "      <td>Apress</td>\n",
       "      <td>2018-09-27</td>\n",
       "      <td>Explore the latest Python tools and techniques...</td>\n",
       "      <td>[{'type': 'ISBN_13', 'identifier': '9781484239...</td>\n",
       "      <td>{'text': True, 'image': True}</td>\n",
       "      <td>576.0</td>\n",
       "      <td>BOOK</td>\n",
       "      <td>...</td>\n",
       "      <td>True</td>\n",
       "      <td>1.1.1.0.preview.3</td>\n",
       "      <td>{'containsEpubBubbles': False, 'containsImageB...</td>\n",
       "      <td>{'smallThumbnail': 'http://books.google.com/bo...</td>\n",
       "      <td>en</td>\n",
       "      <td>http://books.google.lv/books?id=1cpwDwAAQBAJ&amp;p...</td>\n",
       "      <td>http://books.google.lv/books?id=1cpwDwAAQBAJ&amp;d...</td>\n",
       "      <td>https://books.google.com/books/about/Python_Da...</td>\n",
       "      <td>5.0</td>\n",
       "      <td>1.0</td>\n",
       "    </tr>\n",
       "    <tr>\n",
       "      <th>2</th>\n",
       "      <td>Python for Data Science For Dummies</td>\n",
       "      <td>NaN</td>\n",
       "      <td>[John Paul Mueller, Luca Massaron]</td>\n",
       "      <td>John Wiley &amp; Sons</td>\n",
       "      <td>2019-02-27</td>\n",
       "      <td>The fast and easy way to learn Python programm...</td>\n",
       "      <td>[{'type': 'ISBN_13', 'identifier': '9781119547...</td>\n",
       "      <td>{'text': False, 'image': True}</td>\n",
       "      <td>502.0</td>\n",
       "      <td>BOOK</td>\n",
       "      <td>...</td>\n",
       "      <td>False</td>\n",
       "      <td>0.7.2.0.preview.1</td>\n",
       "      <td>{'containsEpubBubbles': False, 'containsImageB...</td>\n",
       "      <td>{'smallThumbnail': 'http://books.google.com/bo...</td>\n",
       "      <td>en</td>\n",
       "      <td>http://books.google.lv/books?id=Uh2EDwAAQBAJ&amp;p...</td>\n",
       "      <td>http://books.google.lv/books?id=Uh2EDwAAQBAJ&amp;d...</td>\n",
       "      <td>https://books.google.com/books/about/Python_fo...</td>\n",
       "      <td>NaN</td>\n",
       "      <td>NaN</td>\n",
       "    </tr>\n",
       "    <tr>\n",
       "      <th>3</th>\n",
       "      <td>Data Analytics with Spark Using Python</td>\n",
       "      <td>NaN</td>\n",
       "      <td>[Jeffrey Aven]</td>\n",
       "      <td>Addison-Wesley Professional</td>\n",
       "      <td>2018-06-18</td>\n",
       "      <td>Solve Data Analytics Problems with Spark, PySp...</td>\n",
       "      <td>[{'type': 'ISBN_13', 'identifier': '9780134844...</td>\n",
       "      <td>{'text': True, 'image': True}</td>\n",
       "      <td>99998.0</td>\n",
       "      <td>BOOK</td>\n",
       "      <td>...</td>\n",
       "      <td>True</td>\n",
       "      <td>1.3.3.0.preview.3</td>\n",
       "      <td>{'containsEpubBubbles': False, 'containsImageB...</td>\n",
       "      <td>{'smallThumbnail': 'http://books.google.com/bo...</td>\n",
       "      <td>en</td>\n",
       "      <td>http://books.google.lv/books?id=db9aDwAAQBAJ&amp;p...</td>\n",
       "      <td>https://play.google.com/store/books/details?id...</td>\n",
       "      <td>https://play.google.com/store/books/details?id...</td>\n",
       "      <td>NaN</td>\n",
       "      <td>NaN</td>\n",
       "    </tr>\n",
       "    <tr>\n",
       "      <th>4</th>\n",
       "      <td>Data Science and Analytics with Python</td>\n",
       "      <td>NaN</td>\n",
       "      <td>[Jesus Rogel-Salazar]</td>\n",
       "      <td>Chapman and Hall/CRC</td>\n",
       "      <td>2017-06-15</td>\n",
       "      <td>The book is designed for practitioners in data...</td>\n",
       "      <td>[{'type': 'ISBN_10', 'identifier': '1498742092...</td>\n",
       "      <td>{'text': False, 'image': False}</td>\n",
       "      <td>248.0</td>\n",
       "      <td>BOOK</td>\n",
       "      <td>...</td>\n",
       "      <td>False</td>\n",
       "      <td>preview-1.0.0</td>\n",
       "      <td>{'containsEpubBubbles': False, 'containsImageB...</td>\n",
       "      <td>{'smallThumbnail': 'http://books.google.com/bo...</td>\n",
       "      <td>en</td>\n",
       "      <td>http://books.google.lv/books?id=TRVZrgEACAAJ&amp;d...</td>\n",
       "      <td>http://books.google.lv/books?id=TRVZrgEACAAJ&amp;d...</td>\n",
       "      <td>https://books.google.com/books/about/Data_Scie...</td>\n",
       "      <td>NaN</td>\n",
       "      <td>NaN</td>\n",
       "    </tr>\n",
       "  </tbody>\n",
       "</table>\n",
       "<p>5 rows × 22 columns</p>\n",
       "</div>"
      ],
      "text/plain": [
       "                                    title  \\\n",
       "0    Advanced Data Analytics Using Python   \n",
       "1                   Python Data Analytics   \n",
       "2     Python for Data Science For Dummies   \n",
       "3  Data Analytics with Spark Using Python   \n",
       "4  Data Science and Analytics with Python   \n",
       "\n",
       "                                            subtitle  \\\n",
       "0  With Machine Learning, Deep Learning and NLP E...   \n",
       "1                 With Pandas, NumPy, and Matplotlib   \n",
       "2                                                NaN   \n",
       "3                                                NaN   \n",
       "4                                                NaN   \n",
       "\n",
       "                              authors                    publisher  \\\n",
       "0                [Sayan Mukhopadhyay]                       Apress   \n",
       "1                       [Fabio Nelli]                       Apress   \n",
       "2  [John Paul Mueller, Luca Massaron]            John Wiley & Sons   \n",
       "3                      [Jeffrey Aven]  Addison-Wesley Professional   \n",
       "4               [Jesus Rogel-Salazar]         Chapman and Hall/CRC   \n",
       "\n",
       "  publishedDate                                        description  \\\n",
       "0    2018-03-29  Gain a broad foundation of advanced data analy...   \n",
       "1    2018-09-27  Explore the latest Python tools and techniques...   \n",
       "2    2019-02-27  The fast and easy way to learn Python programm...   \n",
       "3    2018-06-18  Solve Data Analytics Problems with Spark, PySp...   \n",
       "4    2017-06-15  The book is designed for practitioners in data...   \n",
       "\n",
       "                                 industryIdentifiers  \\\n",
       "0  [{'type': 'ISBN_13', 'identifier': '9781484234...   \n",
       "1  [{'type': 'ISBN_13', 'identifier': '9781484239...   \n",
       "2  [{'type': 'ISBN_13', 'identifier': '9781119547...   \n",
       "3  [{'type': 'ISBN_13', 'identifier': '9780134844...   \n",
       "4  [{'type': 'ISBN_10', 'identifier': '1498742092...   \n",
       "\n",
       "                      readingModes  pageCount printType  ... allowAnonLogging  \\\n",
       "0    {'text': True, 'image': True}      195.0      BOOK  ...            False   \n",
       "1    {'text': True, 'image': True}      576.0      BOOK  ...             True   \n",
       "2   {'text': False, 'image': True}      502.0      BOOK  ...            False   \n",
       "3    {'text': True, 'image': True}    99998.0      BOOK  ...             True   \n",
       "4  {'text': False, 'image': False}      248.0      BOOK  ...            False   \n",
       "\n",
       "      contentVersion                                panelizationSummary  \\\n",
       "0  0.0.1.0.preview.3  {'containsEpubBubbles': False, 'containsImageB...   \n",
       "1  1.1.1.0.preview.3  {'containsEpubBubbles': False, 'containsImageB...   \n",
       "2  0.7.2.0.preview.1  {'containsEpubBubbles': False, 'containsImageB...   \n",
       "3  1.3.3.0.preview.3  {'containsEpubBubbles': False, 'containsImageB...   \n",
       "4      preview-1.0.0  {'containsEpubBubbles': False, 'containsImageB...   \n",
       "\n",
       "                                          imageLinks language  \\\n",
       "0  {'smallThumbnail': 'http://books.google.com/bo...       en   \n",
       "1  {'smallThumbnail': 'http://books.google.com/bo...       en   \n",
       "2  {'smallThumbnail': 'http://books.google.com/bo...       en   \n",
       "3  {'smallThumbnail': 'http://books.google.com/bo...       en   \n",
       "4  {'smallThumbnail': 'http://books.google.com/bo...       en   \n",
       "\n",
       "                                         previewLink  \\\n",
       "0  http://books.google.lv/books?id=1LRTDwAAQBAJ&p...   \n",
       "1  http://books.google.lv/books?id=1cpwDwAAQBAJ&p...   \n",
       "2  http://books.google.lv/books?id=Uh2EDwAAQBAJ&p...   \n",
       "3  http://books.google.lv/books?id=db9aDwAAQBAJ&p...   \n",
       "4  http://books.google.lv/books?id=TRVZrgEACAAJ&d...   \n",
       "\n",
       "                                            infoLink  \\\n",
       "0  http://books.google.lv/books?id=1LRTDwAAQBAJ&d...   \n",
       "1  http://books.google.lv/books?id=1cpwDwAAQBAJ&d...   \n",
       "2  http://books.google.lv/books?id=Uh2EDwAAQBAJ&d...   \n",
       "3  https://play.google.com/store/books/details?id...   \n",
       "4  http://books.google.lv/books?id=TRVZrgEACAAJ&d...   \n",
       "\n",
       "                                 canonicalVolumeLink averageRating  \\\n",
       "0  https://books.google.com/books/about/Advanced_...           NaN   \n",
       "1  https://books.google.com/books/about/Python_Da...           5.0   \n",
       "2  https://books.google.com/books/about/Python_fo...           NaN   \n",
       "3  https://play.google.com/store/books/details?id...           NaN   \n",
       "4  https://books.google.com/books/about/Data_Scie...           NaN   \n",
       "\n",
       "  ratingsCount  \n",
       "0          NaN  \n",
       "1          1.0  \n",
       "2          NaN  \n",
       "3          NaN  \n",
       "4          NaN  \n",
       "\n",
       "[5 rows x 22 columns]"
      ]
     },
     "execution_count": 4,
     "metadata": {},
     "output_type": "execute_result"
    }
   ],
   "source": [
    "import pandas as pd\n",
    "df = pd.DataFrame([x['volumeInfo'] for x in res[\"items\"]])\n",
    "df.head()"
   ]
  },
  {
   "cell_type": "markdown",
   "id": "3d239037",
   "metadata": {
    "slideshow": {
     "slide_type": "subslide"
    }
   },
   "source": [
    "## REST: Google Books"
   ]
  },
  {
   "cell_type": "code",
   "execution_count": 5,
   "id": "04c48361",
   "metadata": {},
   "outputs": [
    {
     "data": {
      "text/html": [
       "<div>\n",
       "<style scoped>\n",
       "    .dataframe tbody tr th:only-of-type {\n",
       "        vertical-align: middle;\n",
       "    }\n",
       "\n",
       "    .dataframe tbody tr th {\n",
       "        vertical-align: top;\n",
       "    }\n",
       "\n",
       "    .dataframe thead th {\n",
       "        text-align: right;\n",
       "    }\n",
       "</style>\n",
       "<table border=\"1\" class=\"dataframe\">\n",
       "  <thead>\n",
       "    <tr style=\"text-align: right;\">\n",
       "      <th></th>\n",
       "      <th>title</th>\n",
       "      <th>authors</th>\n",
       "      <th>publishedDate</th>\n",
       "    </tr>\n",
       "  </thead>\n",
       "  <tbody>\n",
       "    <tr>\n",
       "      <th>0</th>\n",
       "      <td>Advanced Data Analytics Using Python</td>\n",
       "      <td>[Sayan Mukhopadhyay]</td>\n",
       "      <td>2018-03-29</td>\n",
       "    </tr>\n",
       "    <tr>\n",
       "      <th>1</th>\n",
       "      <td>Python Data Analytics</td>\n",
       "      <td>[Fabio Nelli]</td>\n",
       "      <td>2018-09-27</td>\n",
       "    </tr>\n",
       "    <tr>\n",
       "      <th>2</th>\n",
       "      <td>Python for Data Science For Dummies</td>\n",
       "      <td>[John Paul Mueller, Luca Massaron]</td>\n",
       "      <td>2019-02-27</td>\n",
       "    </tr>\n",
       "    <tr>\n",
       "      <th>3</th>\n",
       "      <td>Data Analytics with Spark Using Python</td>\n",
       "      <td>[Jeffrey Aven]</td>\n",
       "      <td>2018-06-18</td>\n",
       "    </tr>\n",
       "    <tr>\n",
       "      <th>4</th>\n",
       "      <td>Data Science and Analytics with Python</td>\n",
       "      <td>[Jesus Rogel-Salazar]</td>\n",
       "      <td>2017-06-15</td>\n",
       "    </tr>\n",
       "    <tr>\n",
       "      <th>5</th>\n",
       "      <td>Python: Data Analytics and Visualization</td>\n",
       "      <td>[Phuong Vo.T.H, Martin Czygan, Ashish Kumar, K...</td>\n",
       "      <td>2017-03-31</td>\n",
       "    </tr>\n",
       "    <tr>\n",
       "      <th>6</th>\n",
       "      <td>Python for Data Analytics</td>\n",
       "      <td>[Alex Root]</td>\n",
       "      <td>2019-09-06</td>\n",
       "    </tr>\n",
       "    <tr>\n",
       "      <th>7</th>\n",
       "      <td>Python for Data Analysis</td>\n",
       "      <td>[Wes McKinney]</td>\n",
       "      <td>2013</td>\n",
       "    </tr>\n",
       "    <tr>\n",
       "      <th>8</th>\n",
       "      <td>Derivatives Analytics with Python</td>\n",
       "      <td>[Yves Hilpisch]</td>\n",
       "      <td>2015-08-03</td>\n",
       "    </tr>\n",
       "    <tr>\n",
       "      <th>9</th>\n",
       "      <td>Python Data Analytics</td>\n",
       "      <td>[Stephen Ward]</td>\n",
       "      <td>2019-10-24</td>\n",
       "    </tr>\n",
       "  </tbody>\n",
       "</table>\n",
       "</div>"
      ],
      "text/plain": [
       "                                      title  \\\n",
       "0      Advanced Data Analytics Using Python   \n",
       "1                     Python Data Analytics   \n",
       "2       Python for Data Science For Dummies   \n",
       "3    Data Analytics with Spark Using Python   \n",
       "4    Data Science and Analytics with Python   \n",
       "5  Python: Data Analytics and Visualization   \n",
       "6                 Python for Data Analytics   \n",
       "7                  Python for Data Analysis   \n",
       "8         Derivatives Analytics with Python   \n",
       "9                     Python Data Analytics   \n",
       "\n",
       "                                             authors publishedDate  \n",
       "0                               [Sayan Mukhopadhyay]    2018-03-29  \n",
       "1                                      [Fabio Nelli]    2018-09-27  \n",
       "2                 [John Paul Mueller, Luca Massaron]    2019-02-27  \n",
       "3                                     [Jeffrey Aven]    2018-06-18  \n",
       "4                              [Jesus Rogel-Salazar]    2017-06-15  \n",
       "5  [Phuong Vo.T.H, Martin Czygan, Ashish Kumar, K...    2017-03-31  \n",
       "6                                        [Alex Root]    2019-09-06  \n",
       "7                                     [Wes McKinney]          2013  \n",
       "8                                    [Yves Hilpisch]    2015-08-03  \n",
       "9                                     [Stephen Ward]    2019-10-24  "
      ]
     },
     "execution_count": 5,
     "metadata": {},
     "output_type": "execute_result"
    }
   ],
   "source": [
    "df[['title','authors','publishedDate']].head(10)"
   ]
  },
  {
   "cell_type": "markdown",
   "id": "df7871f3",
   "metadata": {
    "slideshow": {
     "slide_type": "slide"
    }
   },
   "source": [
    "## SOAP"
   ]
  },
  {
   "cell_type": "markdown",
   "id": "bff0017a",
   "metadata": {
    "slideshow": {
     "slide_type": "subslide"
    }
   },
   "source": [
    "## SOAP\n",
    "\n",
    "XML-based requests and responses"
   ]
  },
  {
   "cell_type": "code",
   "execution_count": 6,
   "id": "8141590d",
   "metadata": {},
   "outputs": [
    {
     "name": "stdout",
     "output_type": "stream",
     "text": [
      "<?xml version=\"1.0\" encoding=\"utf-8\"?>\r\n",
      "<soap:Envelope xmlns:soap=\"http://schemas.xmlsoap.org/soap/envelope/\">\r\n",
      "  <soap:Body>\r\n",
      "    <m:CountryIntPhoneCodeResponse xmlns:m=\"http://www.oorsprong.org/websamples.countryinfo\">\r\n",
      "      <m:CountryIntPhoneCodeResult>371</m:CountryIntPhoneCodeResult>\r\n",
      "    </m:CountryIntPhoneCodeResponse>\r\n",
      "  </soap:Body>\r\n",
      "</soap:Envelope>\n"
     ]
    }
   ],
   "source": [
    "url = \"http://webservices.oorsprong.org/websamples.countryinfo/CountryInfoService.wso\"\n",
    "code = \"LV\"\n",
    "payload = f\"\"\"<?xml version=\\\"1.0\\\" encoding=\\\"utf-8\\\"?>\n",
    "            <soap:Envelope xmlns:soap=\\\"http://schemas.xmlsoap.org/soap/envelope/\\\">\n",
    "                <soap:Body>\n",
    "                    <CountryIntPhoneCode xmlns=\\\"http://www.oorsprong.org/websamples.countryinfo\\\">\n",
    "                        <sCountryISOCode>{code}</sCountryISOCode>\n",
    "                    </CountryIntPhoneCode>\n",
    "                </soap:Body>\n",
    "            </soap:Envelope>\"\"\"\n",
    "headers = {'Content-Type': 'text/xml; charset=utf-8'}\n",
    "response = requests.request(\"POST\", url, headers = headers, data=payload)\n",
    "\n",
    "text = response.text\n",
    "print(text)"
   ]
  },
  {
   "cell_type": "markdown",
   "id": "b8488c52",
   "metadata": {
    "slideshow": {
     "slide_type": "subslide"
    }
   },
   "source": [
    "## Parsing SOAP response: Phone Code"
   ]
  },
  {
   "cell_type": "code",
   "execution_count": 7,
   "id": "3c007a93",
   "metadata": {},
   "outputs": [
    {
     "name": "stdout",
     "output_type": "stream",
     "text": [
      "Phone code for LV is 371\n"
     ]
    }
   ],
   "source": [
    "from xml.etree import ElementTree\n",
    "\n",
    "namespaces = {\n",
    "    'soap': 'http://schemas.xmlsoap.org/soap/envelope/',\n",
    "    'm': 'http://www.oorsprong.org/websamples.countryinfo'\n",
    "}\n",
    "dom = ElementTree.fromstring(text)\n",
    "names = dom.findall(\n",
    "    'soap:Body/m:CountryIntPhoneCodeResponse/m:CountryIntPhoneCodeResult',\n",
    "    namespaces\n",
    ")\n",
    "print(f\"Phone code for {code} is {names[0].text}\")"
   ]
  },
  {
   "cell_type": "markdown",
   "id": "2d8726da",
   "metadata": {
    "slideshow": {
     "slide_type": "subslide"
    }
   },
   "source": [
    "## Parsing SOAP response: Country Flag"
   ]
  },
  {
   "cell_type": "code",
   "execution_count": 8,
   "id": "929889f6",
   "metadata": {},
   "outputs": [
    {
     "name": "stdout",
     "output_type": "stream",
     "text": [
      "Country flag for LV\n",
      "http://www.oorsprong.org/WebSamples.CountryInfo/Flags/Latvia.jpg\n"
     ]
    },
    {
     "data": {
      "text/html": [
       "<img src=\"http://www.oorsprong.org/WebSamples.CountryInfo/Flags/Latvia.jpg\"/>"
      ],
      "text/plain": [
       "<IPython.core.display.Image object>"
      ]
     },
     "metadata": {},
     "output_type": "display_data"
    }
   ],
   "source": [
    "payload = f\"\"\"<?xml version=\\\"1.0\\\" encoding=\\\"utf-8\\\"?>\n",
    "            <soap:Envelope xmlns:soap=\\\"http://schemas.xmlsoap.org/soap/envelope/\\\">\n",
    "                <soap:Body>\n",
    "                    <CountryFlag xmlns=\\\"http://www.oorsprong.org/websamples.countryinfo\\\">\n",
    "                        <sCountryISOCode>{code}</sCountryISOCode>\n",
    "                    </CountryFlag>\n",
    "                </soap:Body>\n",
    "            </soap:Envelope>\"\"\"\n",
    "headers = {'Content-Type': 'text/xml; charset=utf-8'}\n",
    "response = requests.request(\"POST\", url, headers = headers, data=payload)\n",
    "\n",
    "text = response.text\n",
    "dom = ElementTree.fromstring(text)\n",
    "names = dom.findall('soap:Body/m:CountryFlagResponse/m:CountryFlagResult',namespaces)\n",
    "from IPython.display import Image\n",
    "print(f\"Country flag for {code}\")\n",
    "print(names[0].text)\n",
    "display(Image(url=names[0].text))"
   ]
  },
  {
   "cell_type": "markdown",
   "id": "830bdcef",
   "metadata": {
    "slideshow": {
     "slide_type": "slide"
    }
   },
   "source": [
    "## Authentication"
   ]
  },
  {
   "cell_type": "markdown",
   "id": "756afbca",
   "metadata": {
    "slideshow": {
     "slide_type": "subslide"
    }
   },
   "source": [
    "## Authentication\n",
    "\n",
    "* No Authentication\n",
    "* HTTP Basic Authentication\n",
    "* API Key Authentication\n",
    "* OAuth Authentication"
   ]
  },
  {
   "cell_type": "markdown",
   "id": "b6450a7a",
   "metadata": {
    "slideshow": {
     "slide_type": "subslide"
    }
   },
   "source": [
    "## HTTP Basic Authentication\n",
    "\n",
    "The simplest way to handle authentication is through the use of HTTP, where the username and password are sent alongside every API call. You can use an HTTP header and encode the username and password.\n",
    "\n",
    "* WWW-Authenticate: Basic realm=\"Our Site\"\n",
    "* Authorization: Basic userid:password\n"
   ]
  },
  {
   "cell_type": "markdown",
   "id": "77ac5e99",
   "metadata": {
    "slideshow": {
     "slide_type": "subslide"
    }
   },
   "source": [
    "## HTTP Basic Authentication\n",
    "\n",
    "The simplest way to handle authentication is through the use of HTTP, where the username and password are sent alongside every API call. You can use an HTTP header and encode the username and password.\n",
    "\n",
    "* WWW-Authenticate: Basic realm=\"Our Site\"\n",
    "* Authorization: Basic userid:password\n"
   ]
  },
  {
   "cell_type": "markdown",
   "id": "30d89c03",
   "metadata": {
    "slideshow": {
     "slide_type": "subslide"
    }
   },
   "source": [
    "## HTTP Basic Authentication: userid:password\n"
   ]
  },
  {
   "cell_type": "code",
   "execution_count": 9,
   "id": "05c7a6c5",
   "metadata": {},
   "outputs": [
    {
     "name": "stdout",
     "output_type": "stream",
     "text": [
      "200\n",
      "{'authenticated': True}\n"
     ]
    }
   ],
   "source": [
    "url = \"https://postman-echo.com/basic-auth\"\n",
    "username = \"postman\"\n",
    "password = \"password\"\n",
    "response = requests.get(url, auth=(username, password))\n",
    "print(response.status_code)\n",
    "if (response.status_code == 200):\n",
    "    print(response.json())"
   ]
  },
  {
   "cell_type": "code",
   "execution_count": 10,
   "id": "f5223d70",
   "metadata": {},
   "outputs": [
    {
     "name": "stdout",
     "output_type": "stream",
     "text": [
      "401\n"
     ]
    }
   ],
   "source": [
    "password = \"incorrectpassword\"\n",
    "response = requests.get(url, auth=(username, password))\n",
    "print(response.status_code)\n",
    "if (response.status_code == 200):\n",
    "    print(response.json())"
   ]
  },
  {
   "cell_type": "markdown",
   "id": "75d07ebf",
   "metadata": {
    "slideshow": {
     "slide_type": "subslide"
    }
   },
   "source": [
    "## HTTP Basic Authentication: Auth Token\n"
   ]
  },
  {
   "cell_type": "code",
   "execution_count": 11,
   "id": "649622e2",
   "metadata": {},
   "outputs": [
    {
     "name": "stdout",
     "output_type": "stream",
     "text": [
      "200\n",
      "{'authenticated': True}\n"
     ]
    }
   ],
   "source": [
    "header = {\"Authorization\" : \"Basic cG9zdG1hbjpwYXNzd29yZA==\"}\n",
    "response = requests.get(url, headers=header)\n",
    "print(response.status_code)\n",
    "print(response.json())"
   ]
  },
  {
   "cell_type": "markdown",
   "id": "fbf6abb7",
   "metadata": {
    "slideshow": {
     "slide_type": "subslide"
    }
   },
   "source": [
    "## API Key Authentication\n",
    "\n",
    "This method creates unique keys for developers and passes them alongside every request. The API generates a secret key that is a long, difficult-to-guess string of numbers and letters. It is typically passed alongside the API authorization header."
   ]
  },
  {
   "cell_type": "markdown",
   "id": "ca5825e9",
   "metadata": {},
   "source": [
    "The Cat API - Cats as a Service.\n",
    "\n",
    "Free API key is available at https://thecatapi.com/signup\n"
   ]
  },
  {
   "cell_type": "code",
   "execution_count": 12,
   "id": "bfafa2c0",
   "metadata": {},
   "outputs": [],
   "source": [
    "import pickle\n",
    "with open('catskey.pickle', 'rb') as infile:\n",
    "    keys = pickle.load(infile)"
   ]
  },
  {
   "cell_type": "markdown",
   "id": "0f7da3ed",
   "metadata": {
    "slideshow": {
     "slide_type": "subslide"
    }
   },
   "source": [
    "## API Key Authentication: Cats API\n"
   ]
  },
  {
   "cell_type": "code",
   "execution_count": 13,
   "id": "3ad09abb",
   "metadata": {},
   "outputs": [],
   "source": [
    "api_endpoint = \"https://api.thecatapi.com/v1/breeds\"\n",
    "headers = {\"x-api-key\" : keys['key']}\n",
    "response = requests.get(api_endpoint,headers = headers)\n",
    "\n",
    "data = response.json()"
   ]
  },
  {
   "cell_type": "code",
   "execution_count": 14,
   "id": "fdcaddea",
   "metadata": {},
   "outputs": [
    {
     "data": {
      "text/plain": [
       "{'weight': {'imperial': '7  -  10', 'metric': '3 - 5'},\n",
       " 'id': 'abys',\n",
       " 'name': 'Abyssinian',\n",
       " 'cfa_url': 'http://cfa.org/Breeds/BreedsAB/Abyssinian.aspx',\n",
       " 'vetstreet_url': 'http://www.vetstreet.com/cats/abyssinian',\n",
       " 'vcahospitals_url': 'https://vcahospitals.com/know-your-pet/cat-breeds/abyssinian',\n",
       " 'temperament': 'Active, Energetic, Independent, Intelligent, Gentle',\n",
       " 'origin': 'Egypt',\n",
       " 'country_codes': 'EG',\n",
       " 'country_code': 'EG',\n",
       " 'description': 'The Abyssinian is easy to care for, and a joy to have in your home. They’re affectionate cats and love both people and other animals.',\n",
       " 'life_span': '14 - 15',\n",
       " 'indoor': 0,\n",
       " 'lap': 1,\n",
       " 'alt_names': '',\n",
       " 'adaptability': 5,\n",
       " 'affection_level': 5,\n",
       " 'child_friendly': 3,\n",
       " 'dog_friendly': 4,\n",
       " 'energy_level': 5,\n",
       " 'grooming': 1,\n",
       " 'health_issues': 2,\n",
       " 'intelligence': 5,\n",
       " 'shedding_level': 2,\n",
       " 'social_needs': 5,\n",
       " 'stranger_friendly': 5,\n",
       " 'vocalisation': 1,\n",
       " 'experimental': 0,\n",
       " 'hairless': 0,\n",
       " 'natural': 1,\n",
       " 'rare': 0,\n",
       " 'rex': 0,\n",
       " 'suppressed_tail': 0,\n",
       " 'short_legs': 0,\n",
       " 'wikipedia_url': 'https://en.wikipedia.org/wiki/Abyssinian_(cat)',\n",
       " 'hypoallergenic': 0,\n",
       " 'reference_image_id': '0XYvRd7oD',\n",
       " 'image': {'id': '0XYvRd7oD',\n",
       "  'width': 1204,\n",
       "  'height': 1445,\n",
       "  'url': 'https://cdn2.thecatapi.com/images/0XYvRd7oD.jpg'}}"
      ]
     },
     "execution_count": 14,
     "metadata": {},
     "output_type": "execute_result"
    }
   ],
   "source": [
    "data[0]"
   ]
  },
  {
   "cell_type": "markdown",
   "id": "4720b64f",
   "metadata": {
    "slideshow": {
     "slide_type": "subslide"
    }
   },
   "source": [
    "## API Key Authentication: Cats API\n"
   ]
  },
  {
   "cell_type": "code",
   "execution_count": 15,
   "id": "e87b8fb6",
   "metadata": {
    "slideshow": {
     "slide_type": "-"
    }
   },
   "outputs": [
    {
     "name": "stdout",
     "output_type": "stream",
     "text": [
      "Abyssinian\n"
     ]
    },
    {
     "data": {
      "text/html": [
       "<img src=\"https://cdn2.thecatapi.com/images/0XYvRd7oD.jpg\" width=\"200\"/>"
      ],
      "text/plain": [
       "<IPython.core.display.Image object>"
      ]
     },
     "metadata": {},
     "output_type": "display_data"
    },
    {
     "name": "stdout",
     "output_type": "stream",
     "text": [
      "Aegean\n"
     ]
    },
    {
     "data": {
      "text/html": [
       "<img src=\"https://cdn2.thecatapi.com/images/ozEvzdVM-.jpg\" width=\"200\"/>"
      ],
      "text/plain": [
       "<IPython.core.display.Image object>"
      ]
     },
     "metadata": {},
     "output_type": "display_data"
    },
    {
     "name": "stdout",
     "output_type": "stream",
     "text": [
      "American Bobtail\n"
     ]
    },
    {
     "data": {
      "text/html": [
       "<img src=\"https://cdn2.thecatapi.com/images/hBXicehMA.jpg\" width=\"200\"/>"
      ],
      "text/plain": [
       "<IPython.core.display.Image object>"
      ]
     },
     "metadata": {},
     "output_type": "display_data"
    }
   ],
   "source": [
    "for i in range(3):\n",
    "    print(data[i]['name'])\n",
    "    display(Image(url=data[i]['image']['url'],width=200))"
   ]
  },
  {
   "cell_type": "markdown",
   "id": "6b957c82",
   "metadata": {
    "slideshow": {
     "slide_type": "subslide"
    }
   },
   "source": [
    "## OAuth Authentication\n",
    "\n",
    "For HTTP services, you can give third-party developers access by using the OAuth 2.0 authorization framework. This framework can orchestrate approvals automatically between the API owner and the service, or you can also authorize developers to obtain access on their own."
   ]
  },
  {
   "cell_type": "markdown",
   "id": "8c1b6b5e",
   "metadata": {
    "slideshow": {
     "slide_type": "slide"
    }
   },
   "source": [
    "# Thank you"
   ]
  }
 ],
 "metadata": {
  "celltoolbar": "Slideshow",
  "kernelspec": {
   "display_name": "Python 3 (ipykernel)",
   "language": "python",
   "name": "python3"
  },
  "language_info": {
   "codemirror_mode": {
    "name": "ipython",
    "version": 3
   },
   "file_extension": ".py",
   "mimetype": "text/x-python",
   "name": "python",
   "nbconvert_exporter": "python",
   "pygments_lexer": "ipython3",
   "version": "3.9.12"
  }
 },
 "nbformat": 4,
 "nbformat_minor": 5
}
