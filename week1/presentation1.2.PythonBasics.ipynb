{
  "cells": [
    {
      "cell_type": "markdown",
      "metadata": {
        "id": "view-in-github",
        "colab_type": "text"
      },
      "source": [
        "<a href=\"https://colab.research.google.com/github/DmitryPavlyuk/python-da/blob/main/week1/presentation1.2.PythonBasics.ipynb\" target=\"_parent\"><img src=\"https://colab.research.google.com/assets/colab-badge.svg\" alt=\"Open In Colab\"/></a>"
      ]
    },
    {
      "cell_type": "markdown",
      "id": "69429c05",
      "metadata": {
        "id": "69429c05"
      },
      "source": [
        "# 1.2. Python Basics\n",
        "\n",
        "Module M-227-04: Programming for Data Analytics\n",
        "\n",
        "Instructor: prof. Dmitry Pavlyuk"
      ]
    },
    {
      "cell_type": "markdown",
      "id": "4b7c4fe6",
      "metadata": {
        "id": "4b7c4fe6"
      },
      "source": [
        "## Note: Intendation matters!"
      ]
    },
    {
      "cell_type": "code",
      "execution_count": null,
      "id": "0ff92a41",
      "metadata": {
        "id": "0ff92a41",
        "outputId": "26bec57d-b89b-41b0-f62d-2ef52bea1304"
      },
      "outputs": [
        {
          "name": "stdout",
          "output_type": "stream",
          "text": [
            "Hello\n"
          ]
        }
      ],
      "source": [
        "if (True):\n",
        "    print(\"Hello\")\n",
        "# Working!"
      ]
    },
    {
      "cell_type": "code",
      "execution_count": null,
      "id": "448067ab",
      "metadata": {
        "tags": [
          "raises-exception"
        ],
        "id": "448067ab",
        "outputId": "d513be6e-3791-46f0-bffe-2ec228720ab7"
      },
      "outputs": [
        {
          "ename": "IndentationError",
          "evalue": "expected an indented block (1665540517.py, line 2)",
          "output_type": "error",
          "traceback": [
            "\u001b[1;36m  Input \u001b[1;32mIn [2]\u001b[1;36m\u001b[0m\n\u001b[1;33m    print(\"Hello\")\u001b[0m\n\u001b[1;37m    ^\u001b[0m\n\u001b[1;31mIndentationError\u001b[0m\u001b[1;31m:\u001b[0m expected an indented block\n"
          ]
        }
      ],
      "source": [
        "if (True):\n",
        "print(\"Hello\")\n",
        "# Intendation error"
      ]
    },
    {
      "cell_type": "markdown",
      "id": "a627825a",
      "metadata": {
        "id": "a627825a"
      },
      "source": [
        "## Variables"
      ]
    },
    {
      "cell_type": "markdown",
      "id": "2a99bf64",
      "metadata": {
        "id": "2a99bf64"
      },
      "source": [
        "* Variable is a reference to an object in memory\n",
        "\n",
        "![computer-memory-pyramid-1.png](https://raw.githubusercontent.com/DmitryPavlyuk/python-da/main/week1/img/memory_pyramid.png)\n",
        "* You can assign (bind) variable to any object at any time"
      ]
    },
    {
      "cell_type": "markdown",
      "id": "2f13d4f7",
      "metadata": {
        "id": "2f13d4f7"
      },
      "source": [
        "* The same object can be assigned to several variables"
      ]
    },
    {
      "cell_type": "code",
      "execution_count": null,
      "id": "ae714554",
      "metadata": {
        "scrolled": true,
        "id": "ae714554",
        "outputId": "c0219591-5cdf-4ad3-9f0c-e488fb224f8a"
      },
      "outputs": [
        {
          "name": "stdout",
          "output_type": "stream",
          "text": [
            "a= Dmitry\n",
            "b= dmitry\n"
          ]
        }
      ],
      "source": [
        "a = \"dmitry\"\n",
        "b = a\n",
        "a = a.capitalize()\n",
        "print(f\"a= {a}\")\n",
        "print(f\"b= {b}\")"
      ]
    },
    {
      "cell_type": "code",
      "execution_count": null,
      "id": "57796df0",
      "metadata": {
        "scrolled": true,
        "id": "57796df0",
        "outputId": "84a82c25-e5ae-4bc7-9cb5-832bf36ff777"
      },
      "outputs": [
        {
          "name": "stdout",
          "output_type": "stream",
          "text": [
            "a= [1, 2, 3, 4]\n",
            "b= [1, 2, 3, 4]\n"
          ]
        }
      ],
      "source": [
        "a = [1,2,3]\n",
        "b = a\n",
        "a.append(4)\n",
        "print(f\"a= {a}\")\n",
        "print(f\"b= {b}\")"
      ]
    },
    {
      "cell_type": "markdown",
      "id": "df6e70aa",
      "metadata": {
        "id": "df6e70aa"
      },
      "source": [
        "* In Python there is no tehnical problem to assign a variable to an object of different type"
      ]
    },
    {
      "cell_type": "code",
      "execution_count": null,
      "id": "19bf82d4",
      "metadata": {
        "id": "19bf82d4",
        "outputId": "33f83a72-5b98-400f-ed8b-be714ba81880"
      },
      "outputs": [
        {
          "name": "stdout",
          "output_type": "stream",
          "text": [
            "a= Dmitry\n",
            "a= 10\n"
          ]
        }
      ],
      "source": [
        "a = \"Dmitry\"\n",
        "print(f\"a= {a}\")\n",
        "a = 10\n",
        "print(f\"a= {a}\")"
      ]
    },
    {
      "cell_type": "markdown",
      "id": "63a49359",
      "metadata": {
        "id": "63a49359"
      },
      "source": [
        "## Python objects"
      ]
    },
    {
      "cell_type": "markdown",
      "id": "ccf101f4",
      "metadata": {
        "id": "ccf101f4"
      },
      "source": [
        "* Everything is an object and contains data and code: data in the form of fields (often known as attributes or properties), and code, in the form of methods.\n",
        "* Every object is an instance of a class __type(o)__\n",
        "* Python scalar types:\n",
        "\n",
        "| Type  | Description                                                                    |\n",
        "|-------|--------------------------------------------------------------------------------|\n",
        "| None  | The Python “null” value (only one instance of the None object exists)          |\n",
        "| str   | String type; holds Unicode strings                                             |\n",
        "| bytes | Raw binary data                                                                |\n",
        "| float | Double-precision floating-point number                                         |\n",
        "| bool  | A boolean True or False value                                                  |\n",
        "| int   | Arbitrary precision integer                                                    |"
      ]
    },
    {
      "cell_type": "code",
      "execution_count": null,
      "id": "80e3fbf2",
      "metadata": {
        "id": "80e3fbf2",
        "outputId": "10851b29-0410-4f1b-8887-dd214113066e"
      },
      "outputs": [
        {
          "name": "stdout",
          "output_type": "stream",
          "text": [
            "Type of int_object: <class 'int'>\n",
            "Type of string_object: <class 'str'>\n",
            "Propery bit_length of int_object: <built-in method bit_length of int object at 0x000001F32F996970>\n",
            "Method upper() of string_object: CONTENT\n"
          ]
        }
      ],
      "source": [
        "int_object = 3 #Integer object\n",
        "string_object = \"Content\" # String object\n",
        "print(\"Type of int_object:\", type(int_object))\n",
        "print(\"Type of string_object:\", type(string_object))\n",
        "print(\"Propery bit_length of int_object:\", int_object.bit_length)\n",
        "print(\"Method upper() of string_object:\", string_object.upper())\n"
      ]
    },
    {
      "cell_type": "markdown",
      "id": "f8066b15",
      "metadata": {
        "id": "f8066b15"
      },
      "source": [
        "### Mutable and immutable objects"
      ]
    },
    {
      "cell_type": "markdown",
      "id": "4e69539e",
      "metadata": {
        "id": "4e69539e"
      },
      "source": [
        "Mutability means an object's ability to change. An immutable object cannot change, but a mutable object can.\n",
        "\n",
        "For example, a list is mutable, but a string is not. In other words, you can freely change the elements of a list, but not the characters of a string."
      ]
    },
    {
      "cell_type": "code",
      "execution_count": null,
      "id": "b80a2daa",
      "metadata": {
        "tags": [
          "raises-exception"
        ],
        "id": "b80a2daa",
        "outputId": "5a13a64e-5a99-4139-c37e-7a608ef5a2d2"
      },
      "outputs": [
        {
          "name": "stdout",
          "output_type": "stream",
          "text": [
            "C\n"
          ]
        },
        {
          "ename": "TypeError",
          "evalue": "'str' object does not support item assignment",
          "output_type": "error",
          "traceback": [
            "\u001b[1;31m---------------------------------------------------------------------------\u001b[0m",
            "\u001b[1;31mTypeError\u001b[0m                                 Traceback (most recent call last)",
            "Input \u001b[1;32mIn [7]\u001b[0m, in \u001b[0;36m<cell line: 2>\u001b[1;34m()\u001b[0m\n\u001b[0;32m      1\u001b[0m \u001b[38;5;28mprint\u001b[39m(string_object[\u001b[38;5;241m0\u001b[39m])\n\u001b[1;32m----> 2\u001b[0m string_object[\u001b[38;5;241m0\u001b[39m] \u001b[38;5;241m=\u001b[39m \u001b[38;5;124m\"\u001b[39m\u001b[38;5;124mA\u001b[39m\u001b[38;5;124m\"\u001b[39m\n",
            "\u001b[1;31mTypeError\u001b[0m: 'str' object does not support item assignment"
          ]
        }
      ],
      "source": [
        "print(string_object[0])\n",
        "string_object[0] = \"A\"\n",
        "# Error!"
      ]
    },
    {
      "cell_type": "code",
      "execution_count": null,
      "id": "d3fe307d",
      "metadata": {
        "scrolled": true,
        "id": "d3fe307d",
        "outputId": "55a43da2-ff4c-4e18-c361-597834753a31"
      },
      "outputs": [
        {
          "name": "stdout",
          "output_type": "stream",
          "text": [
            "a= [1, 2, 3, 4]\n",
            "b= [1, 2, 3, 4]\n"
          ]
        }
      ],
      "source": [
        "a = [1,2,3]\n",
        "b = a\n",
        "a.append(4)\n",
        "print(f\"a= {a}\")\n",
        "print(f\"b= {b}\")"
      ]
    },
    {
      "cell_type": "code",
      "execution_count": null,
      "id": "7003f73a",
      "metadata": {
        "scrolled": true,
        "id": "7003f73a",
        "outputId": "bf3b86fd-ab09-4f35-e492-3e728e5623fb"
      },
      "outputs": [
        {
          "name": "stdout",
          "output_type": "stream",
          "text": [
            "a= Dmitry\n",
            "b= dmitry\n"
          ]
        }
      ],
      "source": [
        "a = \"dmitry\"\n",
        "b = a\n",
        "a = a.capitalize()\n",
        "print(f\"a= {a}\")\n",
        "print(f\"b= {b}\")"
      ]
    },
    {
      "cell_type": "markdown",
      "id": "65572ea0",
      "metadata": {
        "id": "65572ea0"
      },
      "source": [
        "### Date and time"
      ]
    },
    {
      "cell_type": "markdown",
      "id": "0c70b1dd",
      "metadata": {
        "id": "0c70b1dd"
      },
      "source": [
        "* The built-in Python datetime module provides datetime, date, and time types (the datetime type combines the information stored in date and time and is the most commonly used)"
      ]
    },
    {
      "cell_type": "code",
      "execution_count": null,
      "id": "88a168ed",
      "metadata": {
        "id": "88a168ed",
        "outputId": "6c04c3df-bd77-4baa-cb16-ebc1851be334"
      },
      "outputs": [
        {
          "name": "stdout",
          "output_type": "stream",
          "text": [
            "2022-09-26\n",
            "2022-09-26 09:28:39.680667\n",
            "26 September 2022 09:28\n",
            "2022-09-01\n",
            "Full days from the semester start: 25\n"
          ]
        }
      ],
      "source": [
        "import datetime as dt\n",
        "\n",
        "print(dt.date.today())\n",
        "print(dt.datetime.now())\n",
        "print(dt.datetime.now().strftime(\"%d %B %Y %H:%M\"))\n",
        "\n",
        "start = dt.date(2022, 9, 1)\n",
        "print(start)\n",
        "print(\"Full days from the semester start:\", (dt.date.today()-start).days)\n"
      ]
    },
    {
      "cell_type": "markdown",
      "id": "b37c7748",
      "metadata": {
        "id": "b37c7748"
      },
      "source": [
        "## Functions"
      ]
    },
    {
      "cell_type": "markdown",
      "id": "3bba2136",
      "metadata": {
        "id": "3bba2136"
      },
      "source": [
        "* You call __functions__ using parentheses and passing zero or more arguments\n",
        "* Functions themselves are also the object"
      ]
    },
    {
      "cell_type": "code",
      "execution_count": null,
      "id": "575ba465",
      "metadata": {
        "id": "575ba465",
        "outputId": "1cc4f4a8-24ef-494d-cc7b-c5286092de73"
      },
      "outputs": [
        {
          "name": "stdout",
          "output_type": "stream",
          "text": [
            "7\n",
            "27\n"
          ]
        }
      ],
      "source": [
        "# Length of the string object\n",
        "print(len(string_object))\n",
        "\n",
        "# The third power of the int object\n",
        "print(pow(int_object, 3))"
      ]
    },
    {
      "cell_type": "markdown",
      "id": "3b3a0f5a",
      "metadata": {
        "id": "3b3a0f5a"
      },
      "source": [
        "* You can define your own function:"
      ]
    },
    {
      "cell_type": "code",
      "execution_count": null,
      "id": "b6b286e5",
      "metadata": {
        "id": "b6b286e5",
        "outputId": "a2f8e421-285c-4c18-af9c-6aae4128343f"
      },
      "outputs": [
        {
          "name": "stdout",
          "output_type": "stream",
          "text": [
            "11\n"
          ]
        }
      ],
      "source": [
        "def plusone(x):\n",
        "    return(x+1)\n",
        "\n",
        "\n",
        "print(plusone(10))"
      ]
    },
    {
      "cell_type": "markdown",
      "id": "8f911c79",
      "metadata": {
        "id": "8f911c79"
      },
      "source": [
        "## Modules"
      ]
    },
    {
      "cell_type": "markdown",
      "id": "564ec1f8",
      "metadata": {
        "id": "564ec1f8"
      },
      "source": [
        "* Modules are files with Python definitions (e.g., functions) and statements\n",
        "* Modules should be imported before usage\n",
        "* You can import the complete module or just a specific function"
      ]
    },
    {
      "cell_type": "code",
      "execution_count": null,
      "id": "ddd8a14e",
      "metadata": {
        "id": "ddd8a14e",
        "outputId": "935ebdf1-cc0e-4ce3-b2a8-9351ab7f9465"
      },
      "outputs": [
        {
          "name": "stdout",
          "output_type": "stream",
          "text": [
            "6\n"
          ]
        }
      ],
      "source": [
        "import math\n",
        "print(math.factorial(3))"
      ]
    },
    {
      "cell_type": "markdown",
      "id": "12bdff2a",
      "metadata": {
        "id": "12bdff2a"
      },
      "source": [
        "* You can import the complete module or just a specific function"
      ]
    },
    {
      "cell_type": "code",
      "execution_count": null,
      "id": "7c4f21d6",
      "metadata": {
        "id": "7c4f21d6",
        "outputId": "642ce396-d531-4a81-dfa8-8d25ded68440"
      },
      "outputs": [
        {
          "name": "stdout",
          "output_type": "stream",
          "text": [
            "6\n"
          ]
        }
      ],
      "source": [
        "from math import factorial\n",
        "print(factorial(3))"
      ]
    },
    {
      "cell_type": "markdown",
      "id": "780ce658",
      "metadata": {
        "id": "780ce658"
      },
      "source": [
        "* You can organise your own functions in a module (.py file)\n",
        "\n",
        "__We will re-visit Python functions and modules next week in details__"
      ]
    },
    {
      "cell_type": "markdown",
      "id": "aab56056",
      "metadata": {
        "id": "aab56056"
      },
      "source": [
        "# Thank you"
      ]
    }
  ],
  "metadata": {
    "celltoolbar": "Slideshow",
    "kernelspec": {
      "display_name": "Python 3 (ipykernel)",
      "language": "python",
      "name": "python3"
    },
    "language_info": {
      "codemirror_mode": {
        "name": "ipython",
        "version": 3
      },
      "file_extension": ".py",
      "mimetype": "text/x-python",
      "name": "python",
      "nbconvert_exporter": "python",
      "pygments_lexer": "ipython3",
      "version": "3.9.12"
    },
    "colab": {
      "provenance": [],
      "include_colab_link": true
    }
  },
  "nbformat": 4,
  "nbformat_minor": 5
}