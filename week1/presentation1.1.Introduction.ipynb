{
  "cells": [
    {
      "cell_type": "markdown",
      "metadata": {
        "id": "view-in-github",
        "colab_type": "text"
      },
      "source": [
        "<a href=\"https://colab.research.google.com/github/DmitryPavlyuk/python-da/blob/main/week1/presentation1.1.Introduction.ipynb\" target=\"_parent\"><img src=\"https://colab.research.google.com/assets/colab-badge.svg\" alt=\"Open In Colab\"/></a>"
      ]
    },
    {
      "cell_type": "markdown",
      "id": "69429c05",
      "metadata": {
        "id": "69429c05"
      },
      "source": [
        "# 1. Introduction to Python programming\n",
        "\n",
        "Module M-227-04: Programming for Data Analytics\n",
        "\n",
        "Instructor: prof. Dmitry Pavlyuk"
      ]
    },
    {
      "cell_type": "markdown",
      "id": "46779e75",
      "metadata": {
        "id": "46779e75"
      },
      "source": [
        "## About the Course\n",
        "\n",
        "* Programming for Data Analytics\n",
        "* __6 credit points__ (9 ECTS): about 240 hours of studies (72 contact hours)\n",
        "* The course is designed for major students with little or no programming experience and emphasizes writing programmes that can retrieve and manipulate a large amounts of data.\n",
        "* Primary language - __<span style=\"color:#9D2235\">Python</span>__\n",
        "* Learning-by-doing approach – weekly practices\n",
        "* Assessment:\n",
        "    * Independent project (50%)\n",
        "    * Final practical exam on data processing (50%)"
      ]
    },
    {
      "cell_type": "markdown",
      "id": "bd95f932",
      "metadata": {
        "id": "bd95f932"
      },
      "source": [
        "## Main topics\n",
        "\n",
        "* Core Python\n",
        "* Multidimensional computing (_NumPy_ library)\n",
        "* Data wrangling (_pandas_ library)\n",
        "* Data visualisation (_matplotlib_ library)\n",
        "* Modelling (_statsmodels_, _scikit-learn_)"
      ]
    },
    {
      "cell_type": "markdown",
      "id": "1cee1ad5",
      "metadata": {
        "id": "1cee1ad5"
      },
      "source": [
        "## Materials\n",
        "\n",
        "1. McKinney, W. (2022), Python for Data Analysis: Data Wrangling with pandas, NumPy, and Jupyter: https://wesmckinney.com/book/\n",
        "2. Downey, A. (2016) Think Python: How to Think Like a Computer Scientist https://greenteapress.com/wp/think-python-2e/\n",
        "3. Course demo notebooks https://github.com/DmitryPavlyuk/python-da"
      ]
    },
    {
      "cell_type": "markdown",
      "id": "6f7330eb",
      "metadata": {
        "id": "6f7330eb"
      },
      "source": [
        "## What is Programming?\n",
        "\n",
        "Computer programming is the process of designing and building an executable computer program (software).\n",
        "\n",
        "Classes of software:\n",
        "* Word/spreadsheet processing software\n",
        "* Computer games\n",
        "* Web applications\n",
        "* Mobile applications\n",
        "* __<span style=\"color:#9D2235\">Data processing software</span>__"
      ]
    },
    {
      "cell_type": "markdown",
      "id": "3be68af0",
      "metadata": {
        "id": "3be68af0"
      },
      "source": [
        "# Python programming language"
      ]
    },
    {
      "cell_type": "markdown",
      "id": "8dd11be3",
      "metadata": {
        "id": "8dd11be3"
      },
      "source": [
        "## Python: short history\n",
        "\n",
        "* Released in 1991, Python 2.0 in 2000 (not supported now), Python 3.0 in 2008 – pretty old!\n",
        "* TIOBE Popularity Index – Python is very popular now"
      ]
    },
    {
      "cell_type": "markdown",
      "id": "e40dee92",
      "metadata": {
        "id": "e40dee92"
      },
      "source": [
        "![LanguagesTable.fw.png](https://raw.githubusercontent.com/DmitryPavlyuk/python-da/main/week1/img/LanguagesTable.fw.png)"
      ]
    },
    {
      "cell_type": "markdown",
      "id": "595cf3f5",
      "metadata": {
        "id": "595cf3f5"
      },
      "source": [
        "Note the dynamics of Python popularity!\n",
        "\n",
        "![LanguagesPlot.fw.png](https://raw.githubusercontent.com/DmitryPavlyuk/python-da/main/week1/img/LanguagesPlot.fw.png)"
      ]
    },
    {
      "cell_type": "markdown",
      "id": "4d9e71d9",
      "metadata": {
        "id": "4d9e71d9"
      },
      "source": [
        "## Python and R\n",
        "\n",
        "Python and R are the preferred languages in Data Science, Data Analysis, Machine Learning.\n",
        "\n",
        "![Python-Vs-R.jpg](https://raw.githubusercontent.com/DmitryPavlyuk/python-da/main/week1/img/Python-Vs-R.jpg)\n",
        "\n",
        "* Python is a general-purpose language (while R mainly is a statistical language), thus Python can be easier integrated in production environments\n",
        "* Python is better suitable for machine learning, deep learning, and large-scale web applications.\n",
        "* R is suitable for statistical learning having powerful libraries for data experiment and exploration."
      ]
    },
    {
      "cell_type": "markdown",
      "id": "baa0491a",
      "metadata": {
        "id": "baa0491a"
      },
      "source": [
        "## Types of programming languages"
      ]
    },
    {
      "cell_type": "markdown",
      "id": "ccf101f4",
      "metadata": {
        "id": "ccf101f4"
      },
      "source": [
        "* __Low-level__: direct machine (computer) instructions\n",
        "* __High-level__: computer-independent\n",
        "\n",
        "\n",
        "#### Python is a high-level language"
      ]
    },
    {
      "cell_type": "markdown",
      "id": "8275afbf",
      "metadata": {
        "id": "8275afbf"
      },
      "source": [
        "* __Declarative__: describe __what__ the programme does\n",
        "* __Imperative__: describe __how__ the programme should work\n",
        "\n",
        "#### Python is an imperative language"
      ]
    },
    {
      "cell_type": "markdown",
      "id": "70b6df37",
      "metadata": {
        "id": "70b6df37"
      },
      "source": [
        "* __Domain-specific__ (for particular application domain)\n",
        "* __General-purpose__\n",
        "\n",
        "#### Python is a general-purpose language"
      ]
    },
    {
      "cell_type": "markdown",
      "id": "b63dbde5",
      "metadata": {
        "id": "b63dbde5"
      },
      "source": [
        "* __Compiled__: transform the commands to a lower-level programme\n",
        "* __Interpreted__: translate every command and immediately execute it\n",
        "\n",
        "#### Python is an interpreted language"
      ]
    },
    {
      "cell_type": "markdown",
      "id": "a897b6c6",
      "metadata": {
        "id": "a897b6c6"
      },
      "source": [
        "## Programming environment"
      ]
    },
    {
      "cell_type": "markdown",
      "id": "ab90d007",
      "metadata": {
        "id": "ab90d007"
      },
      "source": [
        "A software programme is a set of instructions that allow for a certain type of computer operation.\n",
        "\n",
        "How to organise this set of instructions in Python:\n",
        "* using __Command-line interface__ (CLI) – send instructions as lines of text"
      ]
    },
    {
      "cell_type": "markdown",
      "id": "76c48894",
      "metadata": {
        "id": "76c48894"
      },
      "source": [
        "![pythonCLI.fw-2.png](https://raw.githubusercontent.com/DmitryPavlyuk/python-da/main/week1/img/pythonCLI.fw.png)"
      ]
    },
    {
      "cell_type": "markdown",
      "id": "1012a264",
      "metadata": {
        "id": "1012a264"
      },
      "source": [
        "How to organise this set of instructions in Python:\n",
        "* using __Scripts__ – compose a file with instructions"
      ]
    },
    {
      "cell_type": "markdown",
      "id": "b6b4d4d3",
      "metadata": {
        "id": "b6b4d4d3"
      },
      "source": [
        "![pythonScript.fw.png](https://raw.githubusercontent.com/DmitryPavlyuk/python-da/main/week1/img/pythonScript.fw.png)"
      ]
    },
    {
      "cell_type": "markdown",
      "id": "954bd1a5",
      "metadata": {
        "id": "954bd1a5"
      },
      "source": [
        "How to organise this set of instructions in Python:\n",
        "* using __Notebooks__ – interactively merge instructions, instructions’ results and text markdown"
      ]
    },
    {
      "cell_type": "markdown",
      "id": "314334cb",
      "metadata": {
        "id": "314334cb"
      },
      "source": [
        "## Local environment\n",
        "\n",
        "Anaconda is a distribution of the Python and R programming languages for scientific computing, that aims to simplify package management and deployment.\n",
        "\n",
        "* Install Anaconda with the latest Python (currently 3.9) - https://www.anaconda.com/\n",
        "    * Use Anaconda prompt from the Start menu to run “python” – the command line interface\n",
        "    * Use “Jupyter Notebook” to start an interactive notebook editor\n",
        "    * Use “Spyder” to start an environment for Python script editing\n",
        "    \n",
        "In this course we will mostly use Jupiter notebooks"
      ]
    },
    {
      "cell_type": "markdown",
      "id": "87fd2c51",
      "metadata": {
        "id": "87fd2c51"
      },
      "source": [
        "## Cloud environment\n",
        "\n",
        "* Register at Google Colab https://colab.research.google.com/ – a cloud environment for developing and running Python notebooks in  your browser\n",
        "* Optional: register at Github https://github.com/ for software cloud storage and version control\n",
        "\n",
        "All my materials are available in Github https://github.com/DmitryPavlyuk/python-da (request access)"
      ]
    },
    {
      "cell_type": "markdown",
      "id": "c775c74f",
      "metadata": {
        "id": "c775c74f"
      },
      "source": [
        "# First Python code"
      ]
    },
    {
      "cell_type": "markdown",
      "id": "0b20b2e0",
      "metadata": {
        "id": "0b20b2e0"
      },
      "source": [
        "Calculate core characteristics of a ball with given radius"
      ]
    },
    {
      "cell_type": "code",
      "execution_count": null,
      "id": "b348f38d",
      "metadata": {
        "id": "b348f38d"
      },
      "outputs": [],
      "source": [
        "radius = 5"
      ]
    },
    {
      "cell_type": "markdown",
      "id": "c43e922e",
      "metadata": {
        "id": "c43e922e"
      },
      "source": [
        "#### Diameter:\n",
        "\n",
        "$d=2r$"
      ]
    },
    {
      "cell_type": "code",
      "execution_count": null,
      "id": "aaec2605",
      "metadata": {
        "id": "aaec2605",
        "outputId": "16c89744-3567-47fd-c822-521ad4cc74e9"
      },
      "outputs": [
        {
          "name": "stdout",
          "output_type": "stream",
          "text": [
            "10\n"
          ]
        }
      ],
      "source": [
        "d = 2 * radius\n",
        "print(d)"
      ]
    },
    {
      "cell_type": "markdown",
      "id": "81e54c8f",
      "metadata": {
        "id": "81e54c8f"
      },
      "source": [
        "## Value of $\\pi$"
      ]
    },
    {
      "cell_type": "markdown",
      "id": "fd0a8280",
      "metadata": {
        "id": "fd0a8280"
      },
      "source": [
        "Importing ___math___ module"
      ]
    },
    {
      "cell_type": "code",
      "execution_count": null,
      "id": "7e0f5b17",
      "metadata": {
        "id": "7e0f5b17"
      },
      "outputs": [],
      "source": [
        "import math"
      ]
    },
    {
      "cell_type": "code",
      "execution_count": null,
      "id": "41dfad4a",
      "metadata": {
        "id": "41dfad4a",
        "outputId": "93068e9d-a932-426f-f014-6f91dd5e1dd6"
      },
      "outputs": [
        {
          "name": "stdout",
          "output_type": "stream",
          "text": [
            "3.141592653589793\n"
          ]
        }
      ],
      "source": [
        "print(math.pi)"
      ]
    },
    {
      "cell_type": "markdown",
      "id": "42704949",
      "metadata": {
        "id": "42704949"
      },
      "source": [
        "### Calculating ball characteristics"
      ]
    },
    {
      "cell_type": "markdown",
      "id": "2cab3b40",
      "metadata": {
        "id": "2cab3b40"
      },
      "source": [
        "#### Volume:\n",
        "\n",
        "$V=\\frac{4}{3}\\pi r^3$"
      ]
    },
    {
      "cell_type": "code",
      "execution_count": null,
      "id": "7c31eb52",
      "metadata": {
        "id": "7c31eb52",
        "outputId": "426afc2c-76a9-4233-d0bc-198e1d6e0696"
      },
      "outputs": [
        {
          "name": "stdout",
          "output_type": "stream",
          "text": [
            "523.5987755982989\n"
          ]
        }
      ],
      "source": [
        "volume = 4/3*math.pi*radius**3\n",
        "print(volume)"
      ]
    },
    {
      "cell_type": "markdown",
      "id": "0b63f9c0",
      "metadata": {
        "id": "0b63f9c0"
      },
      "source": [
        "#### Surface area\n",
        "$S = 4 \\pi r^2$"
      ]
    },
    {
      "cell_type": "code",
      "execution_count": null,
      "id": "d311726e",
      "metadata": {
        "id": "d311726e",
        "outputId": "e1144b1d-317b-4181-9bcf-22a3539a8751"
      },
      "outputs": [
        {
          "name": "stdout",
          "output_type": "stream",
          "text": [
            "314.1592653589793\n"
          ]
        }
      ],
      "source": [
        "area = 4*math.pi*radius**2\n",
        "print(area)"
      ]
    },
    {
      "cell_type": "markdown",
      "id": "aab56056",
      "metadata": {
        "id": "aab56056"
      },
      "source": [
        "# Thank you"
      ]
    }
  ],
  "metadata": {
    "celltoolbar": "Slideshow",
    "kernelspec": {
      "display_name": "Python 3 (ipykernel)",
      "language": "python",
      "name": "python3"
    },
    "language_info": {
      "codemirror_mode": {
        "name": "ipython",
        "version": 3
      },
      "file_extension": ".py",
      "mimetype": "text/x-python",
      "name": "python",
      "nbconvert_exporter": "python",
      "pygments_lexer": "ipython3",
      "version": "3.9.12"
    },
    "colab": {
      "provenance": [],
      "include_colab_link": true
    }
  },
  "nbformat": 4,
  "nbformat_minor": 5
}