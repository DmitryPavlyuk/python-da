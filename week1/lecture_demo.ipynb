{
 "cells": [
  {
   "cell_type": "markdown",
   "id": "c775c74f",
   "metadata": {
    "slideshow": {
     "slide_type": "slide"
    }
   },
   "source": [
    "# First Python code"
   ]
  },
  {
   "cell_type": "markdown",
   "id": "0b20b2e0",
   "metadata": {
    "slideshow": {
     "slide_type": "fragment"
    }
   },
   "source": [
    "Calculate core characteristics of a ball with given radius"
   ]
  },
  {
   "cell_type": "code",
   "execution_count": 2,
   "id": "b348f38d",
   "metadata": {
    "slideshow": {
     "slide_type": "fragment"
    }
   },
   "outputs": [],
   "source": [
    "radius = 5"
   ]
  },
  {
   "cell_type": "markdown",
   "id": "81e54c8f",
   "metadata": {
    "slideshow": {
     "slide_type": "fragment"
    }
   },
   "source": [
    "We need for a value of $\\pi$"
   ]
  },
  {
   "cell_type": "code",
   "execution_count": 3,
   "id": "7e0f5b17",
   "metadata": {
    "slideshow": {
     "slide_type": "fragment"
    }
   },
   "outputs": [
    {
     "name": "stdout",
     "output_type": "stream",
     "text": [
      "3.141592653589793\n"
     ]
    }
   ],
   "source": [
    "import math\n",
    "print(math.pi)"
   ]
  },
  {
   "cell_type": "markdown",
   "id": "c43e922e",
   "metadata": {
    "slideshow": {
     "slide_type": "slide"
    }
   },
   "source": [
    "## Diameter:\n",
    "\n",
    "$d=2r$"
   ]
  },
  {
   "cell_type": "code",
   "execution_count": 4,
   "id": "aaec2605",
   "metadata": {
    "slideshow": {
     "slide_type": "fragment"
    }
   },
   "outputs": [
    {
     "name": "stdout",
     "output_type": "stream",
     "text": [
      "10\n"
     ]
    }
   ],
   "source": [
    "d = 2 * radius\n",
    "print(d)"
   ]
  },
  {
   "cell_type": "markdown",
   "id": "2cab3b40",
   "metadata": {
    "slideshow": {
     "slide_type": "fragment"
    }
   },
   "source": [
    "## Volume:\n",
    "\n",
    "$V=\\frac{4}{3}\\pi r^3$"
   ]
  },
  {
   "cell_type": "code",
   "execution_count": 7,
   "id": "7c31eb52",
   "metadata": {
    "slideshow": {
     "slide_type": "fragment"
    }
   },
   "outputs": [
    {
     "name": "stdout",
     "output_type": "stream",
     "text": [
      "523.5987755982989\n"
     ]
    }
   ],
   "source": [
    "volume = 4/3*math.pi*radius**3\n",
    "print(volume)"
   ]
  },
  {
   "cell_type": "markdown",
   "id": "0b63f9c0",
   "metadata": {
    "slideshow": {
     "slide_type": "fragment"
    }
   },
   "source": [
    "## Surface area\n",
    "$S = 4 \\pi r^2$"
   ]
  },
  {
   "cell_type": "code",
   "execution_count": 1,
   "id": "d311726e",
   "metadata": {
    "slideshow": {
     "slide_type": "fragment"
    }
   },
   "outputs": [
    {
     "ename": "NameError",
     "evalue": "name 'math' is not defined",
     "output_type": "error",
     "traceback": [
      "\u001b[1;31m---------------------------------------------------------------------------\u001b[0m",
      "\u001b[1;31mNameError\u001b[0m                                 Traceback (most recent call last)",
      "Input \u001b[1;32mIn [1]\u001b[0m, in \u001b[0;36m<cell line: 1>\u001b[1;34m()\u001b[0m\n\u001b[1;32m----> 1\u001b[0m area \u001b[38;5;241m=\u001b[39m \u001b[38;5;241m4\u001b[39m\u001b[38;5;241m*\u001b[39m\u001b[43mmath\u001b[49m\u001b[38;5;241m.\u001b[39mpi\u001b[38;5;241m*\u001b[39mradius\u001b[38;5;241m*\u001b[39m\u001b[38;5;241m*\u001b[39m\u001b[38;5;241m2\u001b[39m\n\u001b[0;32m      2\u001b[0m \u001b[38;5;28mprint\u001b[39m(area)\n",
      "\u001b[1;31mNameError\u001b[0m: name 'math' is not defined"
     ]
    }
   ],
   "source": [
    "area = 4*math.pi*radius**2\n",
    "print(area)"
   ]
  },
  {
   "cell_type": "code",
   "execution_count": null,
   "id": "2f86b9a6",
   "metadata": {},
   "outputs": [],
   "source": []
  }
 ],
 "metadata": {
  "celltoolbar": "Slideshow",
  "kernelspec": {
   "display_name": "Python 3 (ipykernel)",
   "language": "python",
   "name": "python3"
  },
  "language_info": {
   "codemirror_mode": {
    "name": "ipython",
    "version": 3
   },
   "file_extension": ".py",
   "mimetype": "text/x-python",
   "name": "python",
   "nbconvert_exporter": "python",
   "pygments_lexer": "ipython3",
   "version": "3.9.12"
  }
 },
 "nbformat": 4,
 "nbformat_minor": 5
}
