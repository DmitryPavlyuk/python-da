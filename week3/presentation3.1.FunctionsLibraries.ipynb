{
 "cells": [
  {
   "cell_type": "markdown",
   "id": "69429c05",
   "metadata": {
    "slideshow": {
     "slide_type": "slide"
    }
   },
   "source": [
    "# 3.1. Functions and Libraries\n",
    "\n",
    "Module M-227-04: Programming for Data Analytics\n",
    "\n",
    "Instructor: prof. Dmitry Pavlyuk"
   ]
  },
  {
   "cell_type": "markdown",
   "id": "5f3de40f",
   "metadata": {
    "slideshow": {
     "slide_type": "slide"
    }
   },
   "source": [
    "## Functions"
   ]
  },
  {
   "cell_type": "markdown",
   "id": "2ff10d2f",
   "metadata": {
    "slideshow": {
     "slide_type": "-"
    }
   },
   "source": [
    " If you anticipate needing to repeat the same or very similar code more than once, it may be worth writing a reusable function."
   ]
  },
  {
   "cell_type": "code",
   "execution_count": 1,
   "id": "0453c6dc",
   "metadata": {
    "slideshow": {
     "slide_type": "-"
    }
   },
   "outputs": [],
   "source": [
    "def plusone(x):\n",
    "    \"This is a short explanation on your function: this function adds 1 to the passed argument\"\n",
    "    print(f\"Calling the 'plusone' function with argument '{x}'\")\n",
    "    return x+1"
   ]
  },
  {
   "cell_type": "code",
   "execution_count": 2,
   "id": "cf7f2a73",
   "metadata": {
    "slideshow": {
     "slide_type": "-"
    }
   },
   "outputs": [
    {
     "name": "stdout",
     "output_type": "stream",
     "text": [
      "Calling the 'plusone' function with argument '11'\n",
      "12\n"
     ]
    }
   ],
   "source": [
    "print(plusone(11))"
   ]
  },
  {
   "cell_type": "code",
   "execution_count": 3,
   "id": "15fcac79",
   "metadata": {
    "scrolled": true,
    "slideshow": {
     "slide_type": "-"
    }
   },
   "outputs": [
    {
     "name": "stdout",
     "output_type": "stream",
     "text": [
      "Help on function plusone in module __main__:\n",
      "\n",
      "plusone(x)\n",
      "    This is a short explanation on your function: this function adds 1 to the passed argument\n",
      "\n"
     ]
    }
   ],
   "source": [
    "help(plusone)"
   ]
  },
  {
   "cell_type": "markdown",
   "id": "d3a508bb",
   "metadata": {
    "slideshow": {
     "slide_type": "subslide"
    }
   },
   "source": [
    "### Function of two arguments"
   ]
  },
  {
   "cell_type": "code",
   "execution_count": 4,
   "id": "9daa086f",
   "metadata": {
    "slideshow": {
     "slide_type": "-"
    }
   },
   "outputs": [],
   "source": [
    "def my_power(base, exponent):\n",
    "    \"Return the 'base' to the power of 'exponent'\"\n",
    "    return base**exponent"
   ]
  },
  {
   "cell_type": "code",
   "execution_count": 5,
   "id": "752ac239",
   "metadata": {},
   "outputs": [
    {
     "data": {
      "text/plain": [
       "8"
      ]
     },
     "execution_count": 5,
     "metadata": {},
     "output_type": "execute_result"
    }
   ],
   "source": [
    "my_power(2,3)"
   ]
  },
  {
   "cell_type": "markdown",
   "id": "81bc5189",
   "metadata": {
    "slideshow": {
     "slide_type": "subslide"
    }
   },
   "source": [
    "### Function arguments\n",
    "\n",
    "* Positional vs. Keyword arguments"
   ]
  },
  {
   "cell_type": "code",
   "execution_count": 6,
   "id": "f38de38f",
   "metadata": {
    "slideshow": {
     "slide_type": "-"
    }
   },
   "outputs": [
    {
     "name": "stdout",
     "output_type": "stream",
     "text": [
      "8\n",
      "9\n"
     ]
    }
   ],
   "source": [
    "def my_power(base, exponent):\n",
    "    \"Return the 'base' to the power of 'exponent'\"\n",
    "    return(base**exponent)\n",
    "\n",
    "print(my_power(2,3))\n",
    "print(my_power(3,2))"
   ]
  },
  {
   "cell_type": "code",
   "execution_count": 7,
   "id": "625d8f2a",
   "metadata": {
    "scrolled": true,
    "slideshow": {
     "slide_type": "-"
    }
   },
   "outputs": [
    {
     "name": "stdout",
     "output_type": "stream",
     "text": [
      "8\n",
      "9\n",
      "9\n",
      "9\n"
     ]
    }
   ],
   "source": [
    "def my_power(base, exponent=1):\n",
    "    \"Return the 'base' to the power of 'exponent'\"\n",
    "    return(base**exponent)\n",
    "\n",
    "print(my_power(2,3))\n",
    "print(my_power(3,2))\n",
    "print(my_power(base=3,exponent=2))\n",
    "print(my_power(exponent=2,base=3))"
   ]
  },
  {
   "cell_type": "markdown",
   "id": "7808e923",
   "metadata": {
    "slideshow": {
     "slide_type": "subslide"
    }
   },
   "source": [
    "### Function arguments\n",
    "\n",
    "* Multiple positional arguments"
   ]
  },
  {
   "cell_type": "code",
   "execution_count": 8,
   "id": "27473567",
   "metadata": {
    "scrolled": true,
    "slideshow": {
     "slide_type": "-"
    }
   },
   "outputs": [
    {
     "name": "stdout",
     "output_type": "stream",
     "text": [
      "Hello, John!\n",
      "Hello, Jim!\n"
     ]
    }
   ],
   "source": [
    "def helloAll1(*names):\n",
    "    for name in names:\n",
    "        print(f\"Hello, {name}!\")\n",
    "\n",
    "helloAll1(\"John\", \"Jim\")"
   ]
  },
  {
   "cell_type": "markdown",
   "id": "9e04c142",
   "metadata": {
    "slideshow": {
     "slide_type": "subslide"
    }
   },
   "source": [
    "* Multiple keyword arguments"
   ]
  },
  {
   "cell_type": "code",
   "execution_count": 9,
   "id": "27706138",
   "metadata": {
    "scrolled": true,
    "slideshow": {
     "slide_type": "-"
    }
   },
   "outputs": [
    {
     "name": "stdout",
     "output_type": "stream",
     "text": [
      "Hello, Mr John!\n",
      "Hello, Dr Jim!\n"
     ]
    }
   ],
   "source": [
    "def helloAll2(**namesDict):\n",
    "    for name in namesDict:\n",
    "        print(f\"Hello, {name} {namesDict[name]}!\")\n",
    "    \n",
    "\n",
    "helloAll2(Mr = \"John\", Dr = \"Jim\")"
   ]
  },
  {
   "cell_type": "markdown",
   "id": "a8bc8eb1",
   "metadata": {
    "slideshow": {
     "slide_type": "subslide"
    }
   },
   "source": [
    "* All types of arguments"
   ]
  },
  {
   "cell_type": "code",
   "execution_count": 10,
   "id": "911db12f",
   "metadata": {
    "scrolled": true,
    "slideshow": {
     "slide_type": "-"
    }
   },
   "outputs": [
    {
     "name": "stdout",
     "output_type": "stream",
     "text": [
      "Hello, Janis!!!!!\n",
      "Hello, Jane!\n",
      "Hello, Jack!\n",
      "Hello, Mr John!\n",
      "Hello, Dr Jim!\n"
     ]
    }
   ],
   "source": [
    "def helloAll3(first, *names, **namesDict):\n",
    "    print(f\"Hello, {first}!!!!!\")\n",
    "    for name in names:\n",
    "        print(f\"Hello, {name}!\")\n",
    "    for name in namesDict:\n",
    "        print(f\"Hello, {name} {namesDict[name]}!\")\n",
    "    \n",
    "\n",
    "helloAll3(\"Janis\", \"Jane\", \"Jack\", Mr = \"John\", Dr = \"Jim\")"
   ]
  },
  {
   "cell_type": "markdown",
   "id": "4755bb3a",
   "metadata": {
    "slideshow": {
     "slide_type": "subslide"
    }
   },
   "source": [
    "### Function returns\n",
    "\n",
    "* Single value"
   ]
  },
  {
   "cell_type": "code",
   "execution_count": 11,
   "id": "541d040a",
   "metadata": {
    "slideshow": {
     "slide_type": "-"
    }
   },
   "outputs": [
    {
     "data": {
      "text/plain": [
       "5"
      ]
     },
     "execution_count": 11,
     "metadata": {},
     "output_type": "execute_result"
    }
   ],
   "source": [
    "def addition(a, b):\n",
    "    return a+b\n",
    "\n",
    "addition(2,3)"
   ]
  },
  {
   "cell_type": "markdown",
   "id": "2a8cf6cf",
   "metadata": {
    "slideshow": {
     "slide_type": "-"
    }
   },
   "source": [
    "* Tuple"
   ]
  },
  {
   "cell_type": "code",
   "execution_count": 12,
   "id": "381689db",
   "metadata": {
    "slideshow": {
     "slide_type": "-"
    }
   },
   "outputs": [
    {
     "data": {
      "text/plain": [
       "(5, 6)"
      ]
     },
     "execution_count": 12,
     "metadata": {},
     "output_type": "execute_result"
    }
   ],
   "source": [
    "def add_multiply1(a, b):\n",
    "    return a+b, a*b\n",
    "\n",
    "add_multiply1(2,3)"
   ]
  },
  {
   "cell_type": "markdown",
   "id": "71fd32c9",
   "metadata": {
    "slideshow": {
     "slide_type": "subslide"
    }
   },
   "source": [
    "* Dictionary"
   ]
  },
  {
   "cell_type": "code",
   "execution_count": 13,
   "id": "5bf7a5fe",
   "metadata": {
    "slideshow": {
     "slide_type": "-"
    }
   },
   "outputs": [
    {
     "data": {
      "text/plain": [
       "{'sum': 5, 'product': 6}"
      ]
     },
     "execution_count": 13,
     "metadata": {},
     "output_type": "execute_result"
    }
   ],
   "source": [
    "def add_multiply2(a, b):\n",
    "    return{\"sum\":a+b, \"product\":a*b}\n",
    "\n",
    "add_multiply2(2,3)"
   ]
  },
  {
   "cell_type": "markdown",
   "id": "717cc7a1",
   "metadata": {
    "slideshow": {
     "slide_type": "subslide"
    }
   },
   "source": [
    "### Testing functions: Asserts"
   ]
  },
  {
   "cell_type": "code",
   "execution_count": 14,
   "id": "dc41f426",
   "metadata": {},
   "outputs": [
    {
     "name": "stdout",
     "output_type": "stream",
     "text": [
      "Calling the 'plusone' function with argument '1'\n"
     ]
    }
   ],
   "source": [
    "assert plusone(1)==2, \"Ok\"\n",
    "assert add_multiply2(2,3)['product'] == 6, \"Ok\""
   ]
  },
  {
   "cell_type": "code",
   "execution_count": 15,
   "id": "e268fcba",
   "metadata": {
    "tags": [
     "raises-exception"
    ]
   },
   "outputs": [
    {
     "name": "stdout",
     "output_type": "stream",
     "text": [
      "Calling the 'plusone' function with argument '2'\n"
     ]
    },
    {
     "ename": "AssertionError",
     "evalue": "Ok",
     "output_type": "error",
     "traceback": [
      "\u001b[1;31m---------------------------------------------------------------------------\u001b[0m",
      "\u001b[1;31mAssertionError\u001b[0m                            Traceback (most recent call last)",
      "Input \u001b[1;32mIn [15]\u001b[0m, in \u001b[0;36m<cell line: 1>\u001b[1;34m()\u001b[0m\n\u001b[1;32m----> 1\u001b[0m \u001b[38;5;28;01massert\u001b[39;00m plusone(\u001b[38;5;241m2\u001b[39m)\u001b[38;5;241m==\u001b[39m\u001b[38;5;241m2\u001b[39m, \u001b[38;5;124m\"\u001b[39m\u001b[38;5;124mOk\u001b[39m\u001b[38;5;124m\"\u001b[39m\n",
      "\u001b[1;31mAssertionError\u001b[0m: Ok"
     ]
    }
   ],
   "source": [
    "assert plusone(2)==2, \"Ok\""
   ]
  },
  {
   "cell_type": "markdown",
   "id": "ed7c593e",
   "metadata": {
    "slideshow": {
     "slide_type": "slide"
    }
   },
   "source": [
    "## Functions are objects\n",
    "\n",
    "Functions are the objects, so you can pass them as arguments"
   ]
  },
  {
   "cell_type": "code",
   "execution_count": 16,
   "id": "1a4ff4c6",
   "metadata": {
    "slideshow": {
     "slide_type": "-"
    }
   },
   "outputs": [
    {
     "name": "stdout",
     "output_type": "stream",
     "text": [
      "['Alexey', 'Anar', 'Erika', 'Jevgenijs', 'Janis', 'Vjaceslav', 'Nikita']\n"
     ]
    }
   ],
   "source": [
    "students = ('aLexey!', '    anar', '..erika', ' Jevgenijs!!! ', '##janis', 'vjaceSLAV', 'NIKITa')\n",
    "\n",
    "import re\n",
    "def remove_punctuation(value):\n",
    "    return re.sub(\"[!#?.]\", \"\", value)\n",
    "\n",
    "\n",
    "def run_all_funcs(strings, funcs):\n",
    "    result = []\n",
    "    for value in strings:\n",
    "        for func in funcs:\n",
    "            value = func(value)\n",
    "        result.append(value)\n",
    "    return result\n",
    "\n",
    "clean_funcs = [str.strip, remove_punctuation, str.capitalize]\n",
    "students_cleaned = run_all_funcs(students,clean_funcs)\n",
    "print(students_cleaned)"
   ]
  },
  {
   "attachments": {
    "image.png": {
     "image/png": "[encoded data removed]"
    }
   },
   "cell_type": "markdown",
   "id": "93534186",
   "metadata": {
    "slideshow": {
     "slide_type": "slide"
    }
   },
   "source": [
    "## Namespaces\n",
    "\n",
    "A namespace is a 'place' with a set of names and their corresponding objects.\n",
    "\n",
    "![image.png](attachment:image.png)"
   ]
  },
  {
   "cell_type": "markdown",
   "id": "e098809f",
   "metadata": {
    "slideshow": {
     "slide_type": "subslide"
    }
   },
   "source": [
    "## Namespaces\n",
    "\n",
    "* The built-in namespace contains the names of all of Python’s built-in objects. These are available at all times when Python is running.\n",
    "* The global namespace contains any names defined at the level of the main program. Python creates the global namespace when the main program body starts, and it remains in existence until the interpreter terminates.\n",
    "* Python creates a new namespace whenever a function executes. That namespace is local to the function and remains in existence until the function terminates."
   ]
  },
  {
   "cell_type": "code",
   "execution_count": 17,
   "id": "90151fc4",
   "metadata": {},
   "outputs": [
    {
     "name": "stdout",
     "output_type": "stream",
     "text": [
      "Local value: My Local Value\n",
      "My Value\n"
     ]
    }
   ],
   "source": [
    "val = \"My Value\" \n",
    "def func():\n",
    "    val = \"My Local Value\" \n",
    "    print(\"Local value: \" + val)\n",
    "\n",
    "func()\n",
    "print(val)"
   ]
  },
  {
   "cell_type": "markdown",
   "id": "c2e9061b",
   "metadata": {
    "slideshow": {
     "slide_type": "subslide"
    }
   },
   "source": [
    "### Globals and Locals dictionaries"
   ]
  },
  {
   "cell_type": "markdown",
   "id": "3ad2ed15",
   "metadata": {},
   "source": [
    "* globals() returns an actual reference to the dictionary that contains the global namespace\n",
    "* locals() returns a dictionary that is a current copy of the local namespace, not a reference to it."
   ]
  },
  {
   "cell_type": "code",
   "execution_count": 18,
   "id": "c3477bb3",
   "metadata": {},
   "outputs": [
    {
     "name": "stdout",
     "output_type": "stream",
     "text": [
      "Local value: My Local Value\n",
      "Global value: My Value\n",
      "My Value\n"
     ]
    }
   ],
   "source": [
    "val = \"My Value\" \n",
    "def func():\n",
    "    val = \"My Local Value\" \n",
    "    local_vars = locals()\n",
    "    print(\"Local value: \" + local_vars[\"val\"])\n",
    "    global_vars = globals()\n",
    "    print(\"Global value: \" + global_vars[\"val\"])\n",
    "\n",
    "func()\n",
    "print(val)"
   ]
  },
  {
   "cell_type": "code",
   "execution_count": 19,
   "id": "433beef2",
   "metadata": {
    "slideshow": {
     "slide_type": "subslide"
    }
   },
   "outputs": [
    {
     "name": "stdout",
     "output_type": "stream",
     "text": [
      "My Local Value\n"
     ]
    }
   ],
   "source": [
    "val = \"My Value\" \n",
    "def func():\n",
    "    global val\n",
    "    val = \"My Local Value\"\n",
    "\n",
    "func()\n",
    "print(val)"
   ]
  },
  {
   "cell_type": "markdown",
   "id": "195c4df5",
   "metadata": {},
   "source": [
    "I recommend NOT to use _global_ variables in functions while it is not absolutely necessary!"
   ]
  },
  {
   "cell_type": "markdown",
   "id": "838e4e95",
   "metadata": {
    "slideshow": {
     "slide_type": "slide"
    }
   },
   "source": [
    "## Lambda functions"
   ]
  },
  {
   "cell_type": "markdown",
   "id": "ef26ae16",
   "metadata": {},
   "source": [
    "Python supports _anonymous_ or _lambda_ functions, which are a way of writing functions consisting of a single statement, the result of which is the return value.\n",
    "\n",
    "It's often clearer to pass a lambda function as an argument as opposed to writing a complete function declaration:"
   ]
  },
  {
   "cell_type": "code",
   "execution_count": 20,
   "id": "522184d0",
   "metadata": {},
   "outputs": [
    {
     "data": {
      "text/plain": [
       "['Alexey! Alexey! Alexey! ',\n",
       " 'Anar! Anar! Anar! ',\n",
       " 'Erika! Erika! Erika! ',\n",
       " 'Jevgenijs! Jevgenijs! Jevgenijs! ',\n",
       " 'Janis! Janis! Janis! ',\n",
       " 'Vjaceslav! Vjaceslav! Vjaceslav! ',\n",
       " 'Nikita! Nikita! Nikita! ']"
      ]
     },
     "execution_count": 20,
     "metadata": {},
     "output_type": "execute_result"
    }
   ],
   "source": [
    "funcs = [lambda s: s+\"! \",\n",
    "        lambda s: s*3,]\n",
    "run_all_funcs(students_cleaned,funcs)"
   ]
  },
  {
   "cell_type": "markdown",
   "id": "b159fc5b",
   "metadata": {
    "slideshow": {
     "slide_type": "slide"
    }
   },
   "source": [
    "## Libraries"
   ]
  },
  {
   "cell_type": "markdown",
   "id": "6677db32",
   "metadata": {
    "slideshow": {
     "slide_type": "slide"
    }
   },
   "source": [
    "A __library__ is an umbrella term referring to a reusable chunk of code. It is often assumed that while a __package__ is a collection of __modules__, a __library__ is a collection of __packages__.\n",
    "\n",
    "So\n",
    "* The __module__ is a simple Python file that contains collections of functions and variables and with having a .py extension file. \n",
    "* The __package__ is a simple directory having collections of modules.\n",
    "* The __library__ is having a collection of packages."
   ]
  },
  {
   "cell_type": "markdown",
   "id": "c2fc9c4b",
   "metadata": {
    "slideshow": {
     "slide_type": "slide"
    }
   },
   "source": [
    "## Standard libraries"
   ]
  },
  {
   "cell_type": "markdown",
   "id": "400eaa0c",
   "metadata": {
    "slideshow": {
     "slide_type": "-"
    }
   },
   "source": [
    "* Standard (built-in) libraries are usually installed with Python\n",
    "* A long list of built-in libraries https://docs.python.org/3/py-modindex.html\n",
    "* Most frequently used - __math__, __random__, __statistics__, __datetime__, __json__, etc.\n",
    "* Need to be imported before usage"
   ]
  },
  {
   "cell_type": "markdown",
   "id": "8ed5cdb0",
   "metadata": {
    "slideshow": {
     "slide_type": "subslide"
    }
   },
   "source": [
    "## Importing"
   ]
  },
  {
   "cell_type": "markdown",
   "id": "4dc15b50",
   "metadata": {
    "slideshow": {
     "slide_type": "-"
    }
   },
   "source": [
    "* Importing all content (functions, variables, etc.)"
   ]
  },
  {
   "cell_type": "code",
   "execution_count": 21,
   "id": "ba535e02",
   "metadata": {},
   "outputs": [
    {
     "name": "stdout",
     "output_type": "stream",
     "text": [
      "Pi is 3.141592653589793\n",
      "Square root of 2 is 1.4142135623730951\n"
     ]
    }
   ],
   "source": [
    "import math\n",
    "print(f\"Pi is {math.pi}\")\n",
    "print(f\"Square root of 2 is {math.sqrt(2)}\")"
   ]
  },
  {
   "cell_type": "markdown",
   "id": "1410caa4",
   "metadata": {},
   "source": [
    "* Importing all content by alias"
   ]
  },
  {
   "cell_type": "code",
   "execution_count": 22,
   "id": "12111f1e",
   "metadata": {},
   "outputs": [
    {
     "name": "stdout",
     "output_type": "stream",
     "text": [
      "Pi is 3.141592653589793\n",
      "Square root of 2 is 1.4142135623730951\n"
     ]
    }
   ],
   "source": [
    "import math as my_lovely_math\n",
    "print(f\"Pi is {my_lovely_math.pi}\")\n",
    "print(f\"Square root of 2 is {my_lovely_math.sqrt(2)}\")"
   ]
  },
  {
   "cell_type": "markdown",
   "id": "bfa8fd04",
   "metadata": {
    "slideshow": {
     "slide_type": "subslide"
    }
   },
   "source": [
    "* Importing selected variables, functions"
   ]
  },
  {
   "cell_type": "code",
   "execution_count": 23,
   "id": "01665c14",
   "metadata": {},
   "outputs": [
    {
     "name": "stdout",
     "output_type": "stream",
     "text": [
      "Pi is 3.141592653589793\n",
      "Square root of 2 is 1.4142135623730951\n"
     ]
    }
   ],
   "source": [
    "from math import pi, sqrt\n",
    "print(f\"Pi is {pi}\")\n",
    "print(f\"Square root of 2 is {sqrt(2)}\")"
   ]
  },
  {
   "cell_type": "markdown",
   "id": "526dd973",
   "metadata": {},
   "source": [
    "* Importing all functions (not recommended)"
   ]
  },
  {
   "cell_type": "code",
   "execution_count": 24,
   "id": "26411eb4",
   "metadata": {},
   "outputs": [
    {
     "name": "stdout",
     "output_type": "stream",
     "text": [
      "Pi is 3.141592653589793\n",
      "Square root of 2 is 1.4142135623730951\n"
     ]
    }
   ],
   "source": [
    "from math import *\n",
    "print(f\"Pi is {pi}\")\n",
    "print(f\"Square root of 2 is {sqrt(2)}\")"
   ]
  },
  {
   "cell_type": "markdown",
   "id": "6b6f58ad",
   "metadata": {
    "slideshow": {
     "slide_type": "subslide"
    }
   },
   "source": [
    "* Check library content"
   ]
  },
  {
   "cell_type": "code",
   "execution_count": 25,
   "id": "90cb5a1a",
   "metadata": {
    "slideshow": {
     "slide_type": "-"
    }
   },
   "outputs": [
    {
     "name": "stdout",
     "output_type": "stream",
     "text": [
      "__doc__, __loader__, __name__, __package__, __spec__, acos, acosh, asin, asinh, atan, atan2, atanh, ceil, comb, copysign, cos, cosh, degrees, dist, e, erf, erfc, exp, expm1, fabs, factorial, floor, fmod, frexp, fsum, gamma, gcd, hypot, inf, isclose, isfinite, isinf, isnan, isqrt, lcm, ldexp, lgamma, log, log10, log1p, log2, modf, nan, nextafter, perm, pi, pow, prod, radians, remainder, sin, sinh, sqrt, tan, tanh, tau, trunc, ulp\n"
     ]
    }
   ],
   "source": [
    "dir(math)\n",
    "print(\", \".join(dir(math)))"
   ]
  },
  {
   "cell_type": "markdown",
   "id": "f21c1d42",
   "metadata": {
    "slideshow": {
     "slide_type": "subslide"
    }
   },
   "source": [
    "## Examples"
   ]
  },
  {
   "cell_type": "code",
   "execution_count": 26,
   "id": "8255ae69",
   "metadata": {},
   "outputs": [
    {
     "name": "stdout",
     "output_type": "stream",
     "text": [
      "75\n"
     ]
    }
   ],
   "source": [
    "import random\n",
    "print(random.randint(0,100))"
   ]
  },
  {
   "cell_type": "code",
   "execution_count": 27,
   "id": "e81b3af2",
   "metadata": {},
   "outputs": [
    {
     "name": "stdout",
     "output_type": "stream",
     "text": [
      "50\n",
      "50\n",
      "10\n",
      "31.622776601683793\n"
     ]
    }
   ],
   "source": [
    "import statistics\n",
    "vals = [10, 30, 50, 70, 90]\n",
    "print(statistics.mean(vals))\n",
    "print(statistics.median(vals))\n",
    "print(statistics.mode(vals))\n",
    "print(statistics.stdev(vals))"
   ]
  },
  {
   "cell_type": "markdown",
   "id": "183013db",
   "metadata": {
    "slideshow": {
     "slide_type": "slide"
    }
   },
   "source": [
    "## Third-party libraries"
   ]
  },
  {
   "cell_type": "markdown",
   "id": "e1d05703",
   "metadata": {
    "slideshow": {
     "slide_type": "subslide"
    }
   },
   "source": [
    "## Installing\n",
    "\n",
    "* __pip__ installs _python_ packages in _any_ environment\n",
    "* __conda__ installs _any_ package in _conda_ environments"
   ]
  },
  {
   "cell_type": "markdown",
   "id": "b1d0f4c4",
   "metadata": {
    "slideshow": {
     "slide_type": "-"
    }
   },
   "source": [
    "* __pip__ from shell\n",
    "\n",
    "pip install numpy\n",
    "\n",
    "* __pip__ from Jupyter notebook"
   ]
  },
  {
   "cell_type": "code",
   "execution_count": 28,
   "id": "0e936dd4",
   "metadata": {
    "slideshow": {
     "slide_type": "-"
    }
   },
   "outputs": [
    {
     "name": "stdout",
     "output_type": "stream",
     "text": [
      "Requirement already satisfied: numpy in c:\\users\\dmitry\\anaconda3\\lib\\site-packages (1.21.5)\n"
     ]
    }
   ],
   "source": [
    "!pip install numpy"
   ]
  },
  {
   "cell_type": "markdown",
   "id": "4e468d82",
   "metadata": {
    "slideshow": {
     "slide_type": "slide"
    }
   },
   "source": [
    "## Your own modules\n",
    "\n",
    "Constructing you own module is simple - just creare the python script file (.py) with all your functions and use it as a built-in library:"
   ]
  },
  {
   "cell_type": "code",
   "execution_count": 29,
   "id": "4c84a6c5",
   "metadata": {
    "slideshow": {
     "slide_type": "-"
    }
   },
   "outputs": [
    {
     "name": "stdout",
     "output_type": "stream",
     "text": [
      "D\n",
      "m\n",
      "i\n",
      "t\n",
      "r\n",
      "y\n"
     ]
    }
   ],
   "source": [
    "import mylib\n",
    "\n",
    "mylib.myprint(\"Dmitry\")\n"
   ]
  },
  {
   "cell_type": "markdown",
   "id": "0a411193",
   "metadata": {
    "slideshow": {
     "slide_type": "subslide"
    }
   },
   "source": [
    "### Module: search paths"
   ]
  },
  {
   "cell_type": "code",
   "execution_count": 30,
   "id": "892604d6",
   "metadata": {},
   "outputs": [
    {
     "data": {
      "text/plain": [
       "['E:\\\\Dmitry\\\\Dropbox\\\\open\\\\courses\\\\M_Programming_for_DataAnalytics\\\\python-da\\\\week3',\n",
       " 'C:\\\\Users\\\\dmitry\\\\anaconda3\\\\python39.zip',\n",
       " 'C:\\\\Users\\\\dmitry\\\\anaconda3\\\\DLLs',\n",
       " 'C:\\\\Users\\\\dmitry\\\\anaconda3\\\\lib',\n",
       " 'C:\\\\Users\\\\dmitry\\\\anaconda3',\n",
       " '',\n",
       " 'C:\\\\Users\\\\dmitry\\\\anaconda3\\\\lib\\\\site-packages',\n",
       " 'C:\\\\Users\\\\dmitry\\\\anaconda3\\\\lib\\\\site-packages\\\\win32',\n",
       " 'C:\\\\Users\\\\dmitry\\\\anaconda3\\\\lib\\\\site-packages\\\\win32\\\\lib',\n",
       " 'C:\\\\Users\\\\dmitry\\\\anaconda3\\\\lib\\\\site-packages\\\\Pythonwin']"
      ]
     },
     "execution_count": 30,
     "metadata": {},
     "output_type": "execute_result"
    }
   ],
   "source": [
    "import sys\n",
    "sys.path"
   ]
  },
  {
   "cell_type": "markdown",
   "id": "f6eef532",
   "metadata": {
    "slideshow": {
     "slide_type": "subslide"
    }
   },
   "source": [
    "### Module: content"
   ]
  },
  {
   "cell_type": "code",
   "execution_count": 32,
   "id": "819a536e",
   "metadata": {
    "slideshow": {
     "slide_type": "-"
    }
   },
   "outputs": [
    {
     "name": "stdout",
     "output_type": "stream",
     "text": [
      "['__builtins__', '__cached__', '__doc__', '__file__', '__loader__', '__name__', '__package__', '__spec__', 'myprint']\n"
     ]
    }
   ],
   "source": [
    "print(dir(mylib))"
   ]
  },
  {
   "cell_type": "code",
   "execution_count": 31,
   "id": "07c56e5c",
   "metadata": {
    "slideshow": {
     "slide_type": "-"
    }
   },
   "outputs": [
    {
     "name": "stdout",
     "output_type": "stream",
     "text": [
      "Content of the mylib library\n",
      "---> start of content\n",
      "\n",
      "def myprint(s):\n",
      "    for c in s:\n",
      "        print(c)\n",
      "\n",
      "        \n",
      "if __name__ == \"__main__\":\n",
      "    myprint(\"Test string\")\n",
      "<--- end of content\n"
     ]
    }
   ],
   "source": [
    "with open('mylib.py') as f:\n",
    "    print(\"Content of the mylib library\")\n",
    "    print(\"---> start of content\")\n",
    "    print(f.read())\n",
    "    print(\"<--- end of content\")"
   ]
  },
  {
   "cell_type": "markdown",
   "id": "95ca6462",
   "metadata": {
    "slideshow": {
     "slide_type": "subslide"
    }
   },
   "source": [
    "### if __name__ == \"__main__\":\n",
    "\n",
    "This statement allows distinguishing two cases:\n",
    "* running the script as a separate programme (__True__ in this case)\n",
    "* loading the script as a library  (__False__ in this case)"
   ]
  },
  {
   "cell_type": "markdown",
   "id": "8c1b6b5e",
   "metadata": {
    "slideshow": {
     "slide_type": "slide"
    }
   },
   "source": [
    "# Thank you"
   ]
  }
 ],
 "metadata": {
  "celltoolbar": "Slideshow",
  "kernelspec": {
   "display_name": "Python 3 (ipykernel)",
   "language": "python",
   "name": "python3"
  },
  "language_info": {
   "codemirror_mode": {
    "name": "ipython",
    "version": 3
   },
   "file_extension": ".py",
   "mimetype": "text/x-python",
   "name": "python",
   "nbconvert_exporter": "python",
   "pygments_lexer": "ipython3",
   "version": "3.9.12"
  }
 },
 "nbformat": 4,
 "nbformat_minor": 5
}
