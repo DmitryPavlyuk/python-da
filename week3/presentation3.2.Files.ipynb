{
 "cells": [
  {
   "cell_type": "markdown",
   "id": "69429c05",
   "metadata": {
    "slideshow": {
     "slide_type": "slide"
    }
   },
   "source": [
    "# 3.2. Files\n",
    "\n",
    "Module M-227-04: Programming for Data Analytics\n",
    "\n",
    "Instructor: prof. Dmitry Pavlyuk"
   ]
  },
  {
   "cell_type": "markdown",
   "id": "8c1b6b5e",
   "metadata": {
    "slideshow": {
     "slide_type": "slide"
    }
   },
   "source": [
    "## Files\n",
    "\n",
    "Files are a usual way store and transfer data. In this topic we review how to read and write files in the following popular formats:\n",
    "\n",
    "* Plain text\n",
    "* CSV\n",
    "* XLSX\n",
    "* JSON\n",
    "* XML\n",
    "* Pickle\n"
   ]
  },
  {
   "cell_type": "markdown",
   "id": "2b6654c5",
   "metadata": {
    "slideshow": {
     "slide_type": "slide"
    }
   },
   "source": [
    "## Text files"
   ]
  },
  {
   "cell_type": "markdown",
   "id": "a0da6537",
   "metadata": {
    "slideshow": {
     "slide_type": "subslide"
    }
   },
   "source": [
    "### Reading a plain text file"
   ]
  },
  {
   "cell_type": "code",
   "execution_count": 1,
   "id": "0c10aa1d",
   "metadata": {
    "slideshow": {
     "slide_type": "-"
    }
   },
   "outputs": [
    {
     "name": "stdout",
     "output_type": "stream",
     "text": [
      " Alice's Adventures in Wonderland\n",
      " \n",
      "                 ALICE'S ADVENTURES IN WONDERLAND\n",
      " \n",
      "                           Lewis Carroll\n",
      " \n",
      "                THE MILLENNIUM FULCRUM EDITION 3.0\n",
      " \n",
      " \n",
      " \n",
      " \n",
      "                             CHAPTER I\n",
      " \n",
      "                       Down the Rabbit-Hole\n",
      " \n",
      " \n",
      "   Alice was beginning to get very tired of sitting by her sister\n",
      " on the bank, and of having nothing to do:  once or twice she had\n",
      " peeped into the book her sister was reading, but it had no\n",
      " pictures or conversations in\n"
     ]
    }
   ],
   "source": [
    "text = \"\"\n",
    "with open('files/alice_in_wonderland.txt', 'r') as file:\n",
    "    for line in file:\n",
    "        text = text+\" \"+line\n",
    "print(text[0:500])"
   ]
  },
  {
   "cell_type": "markdown",
   "id": "49ee28aa",
   "metadata": {
    "slideshow": {
     "slide_type": "subslide"
    }
   },
   "source": [
    "Let implement this as a function for further re-using"
   ]
  },
  {
   "cell_type": "code",
   "execution_count": 2,
   "id": "f21e806c",
   "metadata": {},
   "outputs": [],
   "source": [
    "def print_file_head(filename, count=500):\n",
    "    text = \"\"\n",
    "    with open(filename, 'r',encoding='utf-8',) as file:\n",
    "        for line in file:\n",
    "            text = text+\" \"+str(line)\n",
    "            if len(text)>count:\n",
    "                break;\n",
    "    print(text[0:count])\n",
    "    if len(text)>=count:\n",
    "        print(\"...\")"
   ]
  },
  {
   "cell_type": "markdown",
   "id": "72bf6c37",
   "metadata": {
    "slideshow": {
     "slide_type": "subslide"
    }
   },
   "source": [
    "### Basic text processing"
   ]
  },
  {
   "cell_type": "code",
   "execution_count": 3,
   "id": "db789014",
   "metadata": {
    "slideshow": {
     "slide_type": "-"
    }
   },
   "outputs": [
    {
     "name": "stdout",
     "output_type": "stream",
     "text": [
      "Total number of words: 2749\n",
      "Most popular words:\n"
     ]
    },
    {
     "data": {
      "text/plain": [
       "[('the', 1632),\n",
       " ('and', 845),\n",
       " ('to', 721),\n",
       " ('a', 627),\n",
       " ('she', 537),\n",
       " ('it', 526),\n",
       " ('of', 508),\n",
       " ('said', 462),\n",
       " ('i', 401),\n",
       " ('alice', 386)]"
      ]
     },
     "execution_count": 3,
     "metadata": {},
     "output_type": "execute_result"
    }
   ],
   "source": [
    "import re\n",
    "text=re.sub(r'[^A-Za-z ]+', '', text).lower().split()\n",
    "\n",
    "words = set(text)\n",
    "print(f\"Total number of words: {len(words)}\")\n",
    "\n",
    "word_stat = {}\n",
    "for word in words:\n",
    "    word_stat[word] = text.count(word)\n",
    "word_stat = sorted(word_stat.items(), key=lambda x: x[1], reverse=True)\n",
    "print(\"Most popular words:\")\n",
    "word_stat[:10]"
   ]
  },
  {
   "cell_type": "markdown",
   "id": "db50881a",
   "metadata": {
    "slideshow": {
     "slide_type": "slide"
    }
   },
   "source": [
    "## CSV and Excel files"
   ]
  },
  {
   "cell_type": "markdown",
   "id": "b8ce613a",
   "metadata": {
    "slideshow": {
     "slide_type": "subslide"
    }
   },
   "source": [
    "## CSV files\n",
    "\n",
    "A CSV (comma-separated values) file is a plain text file that has a specific format which allows data to be saved in a table structured format.\n",
    "\n",
    "Internal CSV structure:"
   ]
  },
  {
   "cell_type": "code",
   "execution_count": 4,
   "id": "5875245e",
   "metadata": {
    "scrolled": true
   },
   "outputs": [
    {
     "name": "stdout",
     "output_type": "stream",
     "text": [
      " \"Country\",\"Alpha-2 code\",\"Alpha-3 code\",\"Numeric code\",\"Latitude (average)\",\"Longitude (average)\"\n",
      " \"Afghanistan\",\"AF\",\"AFG\",\"4\",\"33\",\"65\"\n",
      " \"Albania\",\"AL\",\"ALB\",\"8\",\"41\",\"20\"\n",
      " \"Algeria\",\"DZ\",\"DZA\",\"12\",\"28\",\"3\"\n",
      " \"American Samoa\",\"AS\",\"ASM\",\"16\",\"-14.3333\",\"-170\"\n",
      " \"Andorra\",\"AD\",\"AND\",\"20\",\"42.5\",\"1.6\"\n",
      " \"Angola\",\"AO\",\"AGO\",\"24\",\"-12.5\",\"18.5\"\n",
      " \"Anguilla\",\"AI\",\"AIA\",\"660\",\"18.25\",\"-63.1667\"\n",
      " \"Antarctica\",\"AQ\",\"ATA\",\"10\",\"-90\",\"0\"\n",
      " \"Antigua and Barbuda\",\"AG\",\"ATG\",\"28\",\"17.05\",\"-61.8\"\n",
      " \"Argentina\",\n",
      "...\n"
     ]
    }
   ],
   "source": [
    "print_file_head('files/countries_codes.csv')"
   ]
  },
  {
   "cell_type": "markdown",
   "id": "92549d40",
   "metadata": {
    "slideshow": {
     "slide_type": "subslide"
    }
   },
   "source": [
    "### Reading CSV files"
   ]
  },
  {
   "cell_type": "code",
   "execution_count": 5,
   "id": "ea79d898",
   "metadata": {},
   "outputs": [],
   "source": [
    "def print_head(dictionary, count=6):\n",
    "    print(dict(list(dictionary.items())[0:count]))"
   ]
  },
  {
   "cell_type": "code",
   "execution_count": 6,
   "id": "ef5ec2fc",
   "metadata": {},
   "outputs": [
    {
     "name": "stdout",
     "output_type": "stream",
     "text": [
      "{'AF': 'AFG', 'AL': 'ALB', 'DZ': 'DZA', 'AS': 'ASM', 'AD': 'AND', 'AO': 'AGO'}\n"
     ]
    }
   ],
   "source": [
    "import csv\n",
    "\n",
    "iso2toiso3 = {}\n",
    "with open('files/countries_codes.csv', 'r') as file:\n",
    "    reader = csv.DictReader(file)\n",
    "    for line in reader:\n",
    "        iso2toiso3[line['Alpha-2 code']] = line['Alpha-3 code']\n",
    "print_head(iso2toiso3)"
   ]
  },
  {
   "cell_type": "markdown",
   "id": "44ee2d7d",
   "metadata": {
    "slideshow": {
     "slide_type": "subslide"
    }
   },
   "source": [
    "### Reading XLSX files\n",
    "\n",
    "XLSX is part of Microsoft Office Open XML specification. XLSX is a proprietary zipped, XML-based file format."
   ]
  },
  {
   "cell_type": "code",
   "execution_count": 7,
   "id": "9fcbcc56",
   "metadata": {
    "slideshow": {
     "slide_type": "-"
    }
   },
   "outputs": [
    {
     "name": "stdout",
     "output_type": "stream",
     "text": [
      "{'ABW': 107195, 'AFE': 694665117, 'AFG': 39835428, 'AFW': 470898870, 'AGO': 33933611, 'ALB': 2811666}\n"
     ]
    }
   ],
   "source": [
    "import openpyxl\n",
    "sheet = openpyxl.load_workbook(\"files/country_population.xlsx\")[\"country_population\"]\n",
    "population_dict = {}\n",
    "for row in range(1, sheet.max_row):\n",
    "    country_dict = {}\n",
    "    for col in sheet.iter_cols(1, sheet.max_column):\n",
    "        country_dict[col[0].value] = col[row].value\n",
    "    population_dict[country_dict['Country Code']] = country_dict['Population, 2021']\n",
    "print_head(population_dict)"
   ]
  },
  {
   "cell_type": "markdown",
   "id": "479e2b4b",
   "metadata": {
    "slideshow": {
     "slide_type": "slide"
    }
   },
   "source": [
    "## JSON files"
   ]
  },
  {
   "cell_type": "markdown",
   "id": "aeba2e5a",
   "metadata": {
    "slideshow": {
     "slide_type": "subslide"
    }
   },
   "source": [
    "JSON (JavaScript Object Notation) is an open standard file format and data interchange format that uses human-readable text to store and transmit data objects consisting of attribute–value pairs and arrays.\n",
    "\n",
    "Internal JSON structure:"
   ]
  },
  {
   "cell_type": "code",
   "execution_count": 8,
   "id": "66a7a3ac",
   "metadata": {
    "scrolled": false
   },
   "outputs": [
    {
     "name": "stdout",
     "output_type": "stream",
     "text": [
      " {\n",
      "   \"AD\": {\n",
      "     \"name\": \"Andorra\",\n",
      "     \"native\": \"Andorra\",\n",
      "     \"phone\": [\n",
      "       376\n",
      "     ],\n",
      "     \"continent\": \"EU\",\n",
      "     \"capital\": \"Andorra la Vella\",\n",
      "     \"currency\": [\n",
      "       \"EUR\"\n",
      "     ],\n",
      "     \"languages\": [\n",
      "       \"ca\"\n",
      "     ]\n",
      "   },\n",
      "   \"AE\": {\n",
      "     \"name\": \"United Arab Emirates\",\n",
      "     \"native\": \"دولة الإمارات العربية المتحدة\",\n",
      "     \"phone\": [\n",
      "       971\n",
      "     ],\n",
      "     \"continent\": \"AS\",\n",
      "     \"capital\": \"Abu Dhabi\",\n",
      "     \"currency\": [\n",
      "       \"AED\"\n",
      "     ],\n",
      "     \"languages\": [\n",
      "       \"ar\"\n",
      "\n",
      "...\n"
     ]
    }
   ],
   "source": [
    "print_file_head('files/countries.json')"
   ]
  },
  {
   "cell_type": "markdown",
   "id": "e1691ad7",
   "metadata": {
    "slideshow": {
     "slide_type": "subslide"
    }
   },
   "source": [
    "### Reading JSON files"
   ]
  },
  {
   "cell_type": "code",
   "execution_count": 9,
   "id": "3d928263",
   "metadata": {
    "slideshow": {
     "slide_type": "-"
    }
   },
   "outputs": [
    {
     "name": "stdout",
     "output_type": "stream",
     "text": [
      "{\n",
      "  \"name\": \"Latvia\",\n",
      "  \"native\": \"Latvija\",\n",
      "  \"phone\": [\n",
      "    371\n",
      "  ],\n",
      "  \"continent\": \"EU\",\n",
      "  \"capital\": \"Riga\",\n",
      "  \"currency\": [\n",
      "    \"EUR\"\n",
      "  ],\n",
      "  \"languages\": [\n",
      "    \"lv\"\n",
      "  ]\n",
      "}\n"
     ]
    }
   ],
   "source": [
    "import json\n",
    "\n",
    "f = open('files/countries.json', encoding= 'utf-8')\n",
    "country_dict = json.load(f)\n",
    "f.close()\n",
    "print(json.dumps(country_dict[\"LV\"], indent=2))"
   ]
  },
  {
   "cell_type": "markdown",
   "id": "91dc130f",
   "metadata": {
    "slideshow": {
     "slide_type": "slide"
    }
   },
   "source": [
    "## XML files"
   ]
  },
  {
   "cell_type": "markdown",
   "id": "b3d60da3",
   "metadata": {
    "slideshow": {
     "slide_type": "subslide"
    }
   },
   "source": [
    "XML (Extensible Markup Language) is a markup language and file format for storing, transmitting, and reconstructing arbitrary data.\n",
    "\n",
    "Internal XML structure:"
   ]
  },
  {
   "cell_type": "code",
   "execution_count": 10,
   "id": "ce9880ee",
   "metadata": {},
   "outputs": [
    {
     "name": "stdout",
     "output_type": "stream",
     "text": [
      " ﻿<?xml version=\"1.0\" encoding=\"utf-8\"?>\n",
      " <Root xmlns:wb=\"http://www.worldbank.org\">\n",
      "   <data>\n",
      "     <record>\n",
      "       <field name=\"Country or Area\" key=\"ABW\">Aruba</field>\n",
      "       <field name=\"Item\" key=\"NY.GDP.PCAP.CD\">GDP per capita (current US$)</field>\n",
      "       <field name=\"Year\">1960</field>\n",
      "       <field name=\"Value\" />\n",
      "     </record>\n",
      "     <record>\n",
      "       <field name=\"Country or Area\" key=\"ABW\">Aruba</field>\n",
      "       <field name=\"Item\" key=\"NY.GDP.PCAP.CD\">GDP per capita (current US$)</field>\n",
      "   \n",
      "...\n"
     ]
    }
   ],
   "source": [
    "print_file_head(\"files/countries_gdp.xml\")"
   ]
  },
  {
   "cell_type": "markdown",
   "id": "e14d75ad",
   "metadata": {
    "slideshow": {
     "slide_type": "subslide"
    }
   },
   "source": [
    "### Reading XML files"
   ]
  },
  {
   "cell_type": "code",
   "execution_count": 11,
   "id": "13043215",
   "metadata": {},
   "outputs": [],
   "source": [
    "from xml.dom import minidom\n",
    "\n",
    "file = minidom.parse('files/countries_gdp.xml')\n",
    "records = file.getElementsByTagName('record')\n",
    "record_list = []\n",
    "for record in records:\n",
    "    fs = {}\n",
    "    for field in record.getElementsByTagName(\"field\"):\n",
    "        if (field.firstChild is not None):\n",
    "            value = field.getAttribute(\"key\") if field.hasAttribute(\"key\") else field.firstChild.nodeValue\n",
    "            fs[field.getAttribute(\"name\")]=value\n",
    "    record_list.append(fs)\n",
    "\n"
   ]
  },
  {
   "cell_type": "markdown",
   "id": "30e91a10",
   "metadata": {
    "slideshow": {
     "slide_type": "subslide"
    }
   },
   "source": [
    "* Preprocessing - selecting the most recent value"
   ]
  },
  {
   "cell_type": "code",
   "execution_count": 12,
   "id": "57ff7678",
   "metadata": {},
   "outputs": [
    {
     "data": {
      "text/plain": [
       "20642.1679221253"
      ]
     },
     "execution_count": 12,
     "metadata": {},
     "output_type": "execute_result"
    }
   ],
   "source": [
    "gdp_dict = {}\n",
    "year_latest_gdp_available = {}\n",
    "for record in record_list:\n",
    "    if 'Value' in record:\n",
    "        country = record['Country or Area']\n",
    "        year = int(record['Year'])\n",
    "        value = float(record['Value'])\n",
    "        if (country is not  year_latest_gdp_available or year_latest_gdp_available[country]<year):\n",
    "            year_latest_gdp_available[country] = year\n",
    "            gdp_dict[country] = value\n",
    "gdp_dict[\"LVA\"]"
   ]
  },
  {
   "cell_type": "markdown",
   "id": "27b32c43",
   "metadata": {
    "slideshow": {
     "slide_type": "slide"
    }
   },
   "source": [
    "## Example: extending the data\n",
    "\n",
    "Now we are going to extent the __country_dict__ information on countries (read from theJSON file) with information on population (__population_dict__ from the XLSX file) and gdp (__gdp_dict__ from XML file). __iso2toiso3__ dictionary from the CSV file will be used for matching ISO-2 country codes (used in __country_dict__) and ISO-3 country codes (used in __population_dict__ and __gdp_dict__)."
   ]
  },
  {
   "cell_type": "code",
   "execution_count": 13,
   "id": "83c374db",
   "metadata": {
    "slideshow": {
     "slide_type": "-"
    }
   },
   "outputs": [],
   "source": [
    "for country_code in country_dict:\n",
    "    country = country_dict[country_code]\n",
    "    if country_code in iso2toiso3:\n",
    "        iso2_code = iso2toiso3[country_code]\n",
    "        if iso2_code in population_dict:\n",
    "            country[\"population\"] = population_dict[iso2_code]\n",
    "        if iso2_code in gdp_dict:\n",
    "            country[\"GDP_per_capita\"] = gdp_dict[iso2_code]\n"
   ]
  },
  {
   "cell_type": "markdown",
   "id": "234ba594",
   "metadata": {
    "slideshow": {
     "slide_type": "subslide"
    }
   },
   "source": [
    "### Extended data"
   ]
  },
  {
   "cell_type": "code",
   "execution_count": 14,
   "id": "3175ae3e",
   "metadata": {},
   "outputs": [
    {
     "name": "stdout",
     "output_type": "stream",
     "text": [
      "{\n",
      "  \"name\": \"Latvia\",\n",
      "  \"native\": \"Latvija\",\n",
      "  \"phone\": [\n",
      "    371\n",
      "  ],\n",
      "  \"continent\": \"EU\",\n",
      "  \"capital\": \"Riga\",\n",
      "  \"currency\": [\n",
      "    \"EUR\"\n",
      "  ],\n",
      "  \"languages\": [\n",
      "    \"lv\"\n",
      "  ],\n",
      "  \"population\": 1883162,\n",
      "  \"GDP_per_capita\": 20642.1679221253\n",
      "}\n"
     ]
    }
   ],
   "source": [
    "print(json.dumps(country_dict[\"LV\"], indent=2))"
   ]
  },
  {
   "cell_type": "markdown",
   "id": "07e6eb50",
   "metadata": {
    "slideshow": {
     "slide_type": "slide"
    }
   },
   "source": [
    "## Saving data to files"
   ]
  },
  {
   "cell_type": "markdown",
   "id": "32d81613",
   "metadata": {
    "slideshow": {
     "slide_type": "subslide"
    }
   },
   "source": [
    "### Writing JSON\n",
    "\n",
    "We store the extended __country_dict__ dictionary into a JSON file:"
   ]
  },
  {
   "cell_type": "code",
   "execution_count": 15,
   "id": "6a55787d",
   "metadata": {},
   "outputs": [],
   "source": [
    "with open(\"files/countries_extended.json\", \"w\") as outfile:\n",
    "    outfile.write(json.dumps(country_dict, indent=2))"
   ]
  },
  {
   "cell_type": "markdown",
   "id": "6630caea",
   "metadata": {
    "slideshow": {
     "slide_type": "subslide"
    }
   },
   "source": [
    "### Writing CSV\n",
    "\n",
    "Now we store the selected field __country_dict__ of into a CSV file:"
   ]
  },
  {
   "cell_type": "code",
   "execution_count": 16,
   "id": "244f2ef6",
   "metadata": {},
   "outputs": [],
   "source": [
    "with open('files/countries_extended.csv', 'w', encoding='utf-8', newline='') as outfile:\n",
    "    writer = csv.writer(outfile)\n",
    "    writer.writerow(('ISO2','Name','Population','GDP per capita'))\n",
    "    for country_code in country_dict:\n",
    "        country = country_dict[country_code]\n",
    "        writer.writerow((country_code,country[\"name\"],\n",
    "                        country[\"population\"] if \"population\" in country else \"\",\n",
    "                        country[\"GDP_per_capita\"] if \"GDP_per_capita\" in country else \"\"))"
   ]
  },
  {
   "cell_type": "markdown",
   "id": "7d1077e2",
   "metadata": {
    "slideshow": {
     "slide_type": "subslide"
    }
   },
   "source": [
    "## Pickle files\n",
    "\n",
    "Pickle can be used to serialize Python object structures, which refers to the process of converting an object in the memory to a byte stream that can be stored as a binary file on disk. "
   ]
  },
  {
   "cell_type": "markdown",
   "id": "864ff7cf",
   "metadata": {
    "slideshow": {
     "slide_type": "subslide"
    }
   },
   "source": [
    "### Writing Pickle"
   ]
  },
  {
   "cell_type": "code",
   "execution_count": 17,
   "id": "0de7771b",
   "metadata": {},
   "outputs": [],
   "source": [
    "import pickle\n",
    "\n",
    "with open('files/countries_extended.pickle', 'wb') as outfile:\n",
    "    pickle.dump(country_dict, outfile)"
   ]
  },
  {
   "cell_type": "markdown",
   "id": "8198dfd5",
   "metadata": {
    "slideshow": {
     "slide_type": "subslide"
    }
   },
   "source": [
    "### Reading Pickle"
   ]
  },
  {
   "cell_type": "code",
   "execution_count": 18,
   "id": "c6f6b4d8",
   "metadata": {},
   "outputs": [
    {
     "name": "stdout",
     "output_type": "stream",
     "text": [
      "Successfully stored?  True\n",
      "{\n",
      "  \"name\": \"Latvia\",\n",
      "  \"native\": \"Latvija\",\n",
      "  \"phone\": [\n",
      "    371\n",
      "  ],\n",
      "  \"continent\": \"EU\",\n",
      "  \"capital\": \"Riga\",\n",
      "  \"currency\": [\n",
      "    \"EUR\"\n",
      "  ],\n",
      "  \"languages\": [\n",
      "    \"lv\"\n",
      "  ],\n",
      "  \"population\": 1883162,\n",
      "  \"GDP_per_capita\": 20642.1679221253\n",
      "}\n"
     ]
    }
   ],
   "source": [
    "with open('files/countries_extended.pickle', 'rb') as infile:\n",
    "    country_dict_stored = pickle.load(infile)\n",
    "    \n",
    "print(\"Successfully stored? \",country_dict_stored == country_dict)\n",
    "print(json.dumps(country_dict[\"LV\"], indent=2))"
   ]
  },
  {
   "cell_type": "markdown",
   "id": "4bc9dbfe",
   "metadata": {
    "slideshow": {
     "slide_type": "slide"
    }
   },
   "source": [
    "# Thank you"
   ]
  }
 ],
 "metadata": {
  "celltoolbar": "Slideshow",
  "kernelspec": {
   "display_name": "Python 3 (ipykernel)",
   "language": "python",
   "name": "python3"
  },
  "language_info": {
   "codemirror_mode": {
    "name": "ipython",
    "version": 3
   },
   "file_extension": ".py",
   "mimetype": "text/x-python",
   "name": "python",
   "nbconvert_exporter": "python",
   "pygments_lexer": "ipython3",
   "version": "3.9.12"
  },
  "rise": {
   "height": "100%",
   "theme": "blood",
   "width": "100%"
  }
 },
 "nbformat": 4,
 "nbformat_minor": 5
}
