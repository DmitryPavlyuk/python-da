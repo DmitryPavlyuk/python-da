{
 "cells": [
  {
   "cell_type": "markdown",
   "id": "88ab8900",
   "metadata": {},
   "source": [
    "# Python for Data Analytics\n",
    "## Week 3 lab: Functions, Libraries, Files"
   ]
  },
  {
   "cell_type": "markdown",
   "id": "bacd6b39",
   "metadata": {},
   "source": [
    "### Review Week 3 presentation notebooks"
   ]
  },
  {
   "cell_type": "markdown",
   "id": "17ddf60a",
   "metadata": {},
   "source": [
    "# Exercises\n",
    "\n",
    "Please organise your solutions as a separate notebook and upload to the LMS (Moodle):\n",
    "* Notebook (.ipynb)\n",
    "* Generate pdf (File -> Download as -> PDF).\n",
    "* .py  file with all functions"
   ]
  },
  {
   "cell_type": "markdown",
   "id": "e6722493",
   "metadata": {},
   "source": [
    "### EXERCISE 1\n",
    "\n",
    "Write a function _info_ that returns information about the argument:\n",
    "\n",
    "* type\n",
    "* size in the memory\n",
    "* length (for sequence objects)\n",
    "* hash (if hashable)\n",
    "\n",
    "Test the function for the following types of objects: bool, str, int, float, list, tuple, dict, set"
   ]
  },
  {
   "cell_type": "code",
   "execution_count": 1,
   "id": "e745d67e",
   "metadata": {},
   "outputs": [],
   "source": [
    "# YOUR CODE HERE:"
   ]
  },
  {
   "cell_type": "markdown",
   "id": "a0b64da3",
   "metadata": {},
   "source": [
    "### EXERCISE 2\n",
    "\n",
    "Extende the previous function to support lists, sets and tupples - it should provide info on all object in a collection argument."
   ]
  },
  {
   "cell_type": "code",
   "execution_count": 2,
   "id": "b4f12e28",
   "metadata": {},
   "outputs": [],
   "source": [
    "# YOUR CODE HERE:"
   ]
  },
  {
   "cell_type": "markdown",
   "id": "33e464ac",
   "metadata": {},
   "source": [
    "### EXERCISE 3\n",
    "\n",
    "Write a programme that returns a list of first _n_ powers of 2:\n",
    "\n",
    "get_list_2(5)\n",
    "\n",
    "returns\n",
    "\n",
    "2, 4, 8, 16, 32\n"
   ]
  },
  {
   "cell_type": "code",
   "execution_count": 3,
   "id": "89c9bdc0",
   "metadata": {},
   "outputs": [],
   "source": [
    "# YOUR CODE HERE:"
   ]
  },
  {
   "cell_type": "markdown",
   "id": "80fdefb0",
   "metadata": {},
   "source": [
    "### EXERCISE 4\n",
    "\n",
    "Write a programme that returns a list of powers of 2 between two specified arguments:\n",
    "\n",
    "get_list_b(5, 50)\n",
    "\n",
    "returns\n",
    "\n",
    "8, 16, 32"
   ]
  },
  {
   "cell_type": "code",
   "execution_count": 4,
   "id": "8fe2f436",
   "metadata": {},
   "outputs": [],
   "source": [
    "# YOUR CODE HERE:"
   ]
  },
  {
   "cell_type": "markdown",
   "id": "fdd73426",
   "metadata": {},
   "source": [
    "### EXERCISE 5\n",
    "\n",
    "The presentation notebook \"3.2. Files\" defines a function _print_file_head_ that prints the specified number of first symbols in the file. Write a function _print_file_tail_ that prints the specified number of last symbols in the file."
   ]
  },
  {
   "cell_type": "code",
   "execution_count": 5,
   "id": "0e4e5fa5",
   "metadata": {},
   "outputs": [],
   "source": [
    "# YOUR CODE HERE:"
   ]
  },
  {
   "cell_type": "markdown",
   "id": "bfe0a58b",
   "metadata": {},
   "source": [
    "### EXERCISE 6\n",
    "\n",
    "Write a function that returns the most frequently used word in the text argument"
   ]
  },
  {
   "cell_type": "code",
   "execution_count": 6,
   "id": "7e3d2196",
   "metadata": {},
   "outputs": [],
   "source": [
    "# YOUR CODE HERE:"
   ]
  },
  {
   "cell_type": "markdown",
   "id": "596c1db5",
   "metadata": {},
   "source": [
    "### EXERCISE 7\n",
    "\n",
    "Write a function that use a list argument and returns a dictionary, where every list element is linked with its number of occurances in the list:\n",
    "\n",
    "todict([\"a\", \"b\", \"c\", \"b\", \"b\", \"c\"])\n",
    "\n",
    "returns\n",
    "\n",
    "{\n",
    "    \"a\": 1,\n",
    "    \"b\": 3,\n",
    "    \"c\": 2\n",
    "}\n"
   ]
  },
  {
   "cell_type": "code",
   "execution_count": 7,
   "id": "0fa31c3f",
   "metadata": {},
   "outputs": [],
   "source": [
    "# YOUR CODE HERE:"
   ]
  },
  {
   "cell_type": "markdown",
   "id": "043f69d6",
   "metadata": {},
   "source": [
    "### EXERCISE 8\n",
    "\n",
    "Using the _country_dict_ data structure, loaded from JSON in the presentation notebook, print all different offcial country languages in the world"
   ]
  },
  {
   "cell_type": "code",
   "execution_count": 8,
   "id": "a25fd762",
   "metadata": {},
   "outputs": [],
   "source": [
    "# YOUR CODE HERE:"
   ]
  },
  {
   "cell_type": "markdown",
   "id": "138eb3a2",
   "metadata": {},
   "source": [
    "### EXERCISE 9\n",
    "\n",
    "Download any CSV data set from https://data.gov.lv/dati/lv/dataset and load it to Python programme. Print number of observations (lines) and a randomly selected observation."
   ]
  },
  {
   "cell_type": "code",
   "execution_count": 9,
   "id": "87fb1f66",
   "metadata": {},
   "outputs": [],
   "source": [
    "# YOUR CODE HERE:"
   ]
  },
  {
   "cell_type": "markdown",
   "id": "a498b125",
   "metadata": {},
   "source": [
    "### EXERCISE 10\n",
    "\n",
    "Download any JSON data set from https://data.gov.lv/dati/lv/dataset and load it to Python programme. Print number of observations (high-level objects) and a randomly selected observation."
   ]
  },
  {
   "cell_type": "code",
   "execution_count": 10,
   "id": "0edd108c",
   "metadata": {},
   "outputs": [],
   "source": [
    "# YOUR CODE HERE:"
   ]
  },
  {
   "cell_type": "markdown",
   "id": "3f5adee8",
   "metadata": {},
   "source": [
    "### EXERCISE 11\n",
    "\n",
    "Develop a function that saves Python objects into JSON file of the given name and another function to restore them.\n",
    "\n",
    "Illustrate usage of these functions for saving/restoring data structures from Lab 2 Exercise 10, Exercise 11, and Exercise 12."
   ]
  },
  {
   "cell_type": "code",
   "execution_count": 11,
   "id": "e5501a4a",
   "metadata": {},
   "outputs": [],
   "source": [
    "# YOUR CODE HERE:"
   ]
  },
  {
   "cell_type": "markdown",
   "id": "a7e4f92d",
   "metadata": {},
   "source": [
    "### EXERCISE 12\n",
    "\n",
    "Organise all functions in a module (.py) and illustrate its import and usage."
   ]
  },
  {
   "cell_type": "code",
   "execution_count": 12,
   "id": "0ae4a1ad",
   "metadata": {},
   "outputs": [],
   "source": [
    "# YOUR CODE HERE:"
   ]
  }
 ],
 "metadata": {
  "kernelspec": {
   "display_name": "Python 3 (ipykernel)",
   "language": "python",
   "name": "python3"
  },
  "language_info": {
   "codemirror_mode": {
    "name": "ipython",
    "version": 3
   },
   "file_extension": ".py",
   "mimetype": "text/x-python",
   "name": "python",
   "nbconvert_exporter": "python",
   "pygments_lexer": "ipython3",
   "version": "3.9.12"
  }
 },
 "nbformat": 4,
 "nbformat_minor": 5
}
