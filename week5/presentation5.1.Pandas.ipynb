{
 "cells": [
  {
   "cell_type": "markdown",
   "id": "69429c05",
   "metadata": {
    "slideshow": {
     "slide_type": "slide"
    }
   },
   "source": [
    "# 5.1. Pandas: Basics\n",
    "\n",
    "Module M-227-04: Programming for Data Analytics\n",
    "\n",
    "Instructor: prof. Dmitry Pavlyuk"
   ]
  },
  {
   "cell_type": "markdown",
   "id": "3237706b",
   "metadata": {
    "slideshow": {
     "slide_type": "slide"
    }
   },
   "source": [
    "## pandas\n",
    "\n",
    "__pandas__ is a fast, powerful, flexible and easy to use open source data analysis and manipulation tool,\n",
    "built on top of the Python programming language.\n",
    "\n",
    "McKinney (the author of the base book for this course, Python for Data Analysis: Data Wrangling with pandas, NumPy, and Jupyter) is one of the founding developers of this library\n"
   ]
  },
  {
   "cell_type": "code",
   "execution_count": 1,
   "id": "26a9433c",
   "metadata": {},
   "outputs": [
    {
     "name": "stdout",
     "output_type": "stream",
     "text": [
      "Requirement already satisfied: pandas in c:\\users\\dmitry\\anaconda3\\lib\\site-packages (1.4.2)\n",
      "Requirement already satisfied: numpy>=1.18.5 in c:\\users\\dmitry\\anaconda3\\lib\\site-packages (from pandas) (1.21.5)\n",
      "Requirement already satisfied: pytz>=2020.1 in c:\\users\\dmitry\\anaconda3\\lib\\site-packages (from pandas) (2021.3)\n",
      "Requirement already satisfied: python-dateutil>=2.8.1 in c:\\users\\dmitry\\anaconda3\\lib\\site-packages (from pandas) (2.8.2)\n",
      "Requirement already satisfied: six>=1.5 in c:\\users\\dmitry\\anaconda3\\lib\\site-packages (from python-dateutil>=2.8.1->pandas) (1.16.0)\n"
     ]
    }
   ],
   "source": [
    "!pip install pandas"
   ]
  },
  {
   "cell_type": "code",
   "execution_count": 2,
   "id": "212bfe42",
   "metadata": {},
   "outputs": [],
   "source": [
    "import pandas as pd"
   ]
  },
  {
   "cell_type": "markdown",
   "id": "5a9c2052",
   "metadata": {
    "slideshow": {
     "slide_type": "subslide"
    }
   },
   "source": [
    "## pandas vs numpy\n",
    "\n",
    "|                 | NumPy                                          | pandas                                    |\n",
    "|-----------------|------------------------------------------------|-------------------------------------------|\n",
    "| Data            | Homogeneous                                    | Heterogeneous                             |\n",
    "| Primary objects | ndarray                                        | DataFrame, Series                         |\n",
    "| Indexing        | By position                                    | By position and index                     |\n",
    "| Memory          | Efficient                                      | Larger                                    |\n",
    "| Speed           | Faster for arrays of several thousand elements | Faster for arrays of millions of elements |\n",
    "| Primary purpose | Calculations                                   | Data wrangling                            |\n",
    "\n",
    "Usually the packages are used together!"
   ]
  },
  {
   "cell_type": "markdown",
   "id": "ddb0f5cc",
   "metadata": {
    "slideshow": {
     "slide_type": "slide"
    }
   },
   "source": [
    "## Loading / Saving Data"
   ]
  },
  {
   "cell_type": "markdown",
   "id": "a2a2e9f4",
   "metadata": {
    "slideshow": {
     "slide_type": "subslide"
    }
   },
   "source": [
    "### Loading data to pandas\n",
    "\n",
    "* from CSV __read_csv__ \n",
    "* from XLS, XLSX __read_excel___\n",
    "* from JSON __read_json__\n",
    "* from databases __read_sql__\n",
    "* from HTML __read_html__\n",
    "\n",
    "Methods work not only for local files, but also accept URLs"
   ]
  },
  {
   "cell_type": "markdown",
   "id": "61a89f78",
   "metadata": {
    "slideshow": {
     "slide_type": "subslide"
    }
   },
   "source": [
    "### Example data set: Bike Sharing Demand\n",
    "\n",
    "Source: Kaggle machine learning competition\n",
    "URL: https://www.kaggle.com/competitions/bike-sharing-demand/overview/description"
   ]
  },
  {
   "cell_type": "markdown",
   "id": "6e8e9d22",
   "metadata": {},
   "source": [
    "* __datetime__ - hourly date + timestamp  \n",
    "* __season__ -  spring / summer / fall / winter \n",
    "* __holiday__, __workingday__- whether the day is considered a holiday/workingday\n",
    "* __weather__ \n",
    "    * 1: Clear, Few clouds, Partly cloudy, Partly cloudy\n",
    "    * 2: Mist + Cloudy, Mist + Broken clouds, Mist + Few clouds, Mist\n",
    "    * 3: Light Snow, Light Rain + Thunderstorm + Scattered clouds, Light Rain + Scattered clouds\n",
    "    * 4: Heavy Rain + Ice Pallets + Thunderstorm + Mist, Snow + Fog \n",
    "* __temp__ and __atemp__- temperature and \"feels like\" temperature in Celsius\n",
    "* __humidity__ - relative humidity\n",
    "* __windspeed__ - wind speed\n",
    "* __casual__, __registered__, __count__ - number of non-registered / registered / total user rentals initiated"
   ]
  },
  {
   "cell_type": "markdown",
   "id": "e31417dd",
   "metadata": {
    "slideshow": {
     "slide_type": "subslide"
    }
   },
   "source": [
    "### Loading Bike Sharing Demand Data"
   ]
  },
  {
   "cell_type": "code",
   "execution_count": 3,
   "id": "9ab22b1f",
   "metadata": {
    "slideshow": {
     "slide_type": "-"
    }
   },
   "outputs": [
    {
     "data": {
      "text/html": [
       "<div>\n",
       "<style scoped>\n",
       "    .dataframe tbody tr th:only-of-type {\n",
       "        vertical-align: middle;\n",
       "    }\n",
       "\n",
       "    .dataframe tbody tr th {\n",
       "        vertical-align: top;\n",
       "    }\n",
       "\n",
       "    .dataframe thead th {\n",
       "        text-align: right;\n",
       "    }\n",
       "</style>\n",
       "<table border=\"1\" class=\"dataframe\">\n",
       "  <thead>\n",
       "    <tr style=\"text-align: right;\">\n",
       "      <th></th>\n",
       "      <th>datetime</th>\n",
       "      <th>season</th>\n",
       "      <th>holiday</th>\n",
       "      <th>workingday</th>\n",
       "      <th>weather</th>\n",
       "      <th>temp</th>\n",
       "      <th>atemp</th>\n",
       "      <th>humidity</th>\n",
       "      <th>windspeed</th>\n",
       "      <th>casual</th>\n",
       "      <th>registered</th>\n",
       "      <th>count</th>\n",
       "    </tr>\n",
       "  </thead>\n",
       "  <tbody>\n",
       "    <tr>\n",
       "      <th>0</th>\n",
       "      <td>01/01/2011 00:00</td>\n",
       "      <td>spring</td>\n",
       "      <td>0</td>\n",
       "      <td>0</td>\n",
       "      <td>1</td>\n",
       "      <td>9.84</td>\n",
       "      <td>14.395</td>\n",
       "      <td>81</td>\n",
       "      <td>0.0</td>\n",
       "      <td>3</td>\n",
       "      <td>13</td>\n",
       "      <td>16</td>\n",
       "    </tr>\n",
       "    <tr>\n",
       "      <th>1</th>\n",
       "      <td>01/01/2011 01:00</td>\n",
       "      <td>spring</td>\n",
       "      <td>0</td>\n",
       "      <td>0</td>\n",
       "      <td>1</td>\n",
       "      <td>9.02</td>\n",
       "      <td>13.635</td>\n",
       "      <td>80</td>\n",
       "      <td>0.0</td>\n",
       "      <td>8</td>\n",
       "      <td>32</td>\n",
       "      <td>40</td>\n",
       "    </tr>\n",
       "    <tr>\n",
       "      <th>2</th>\n",
       "      <td>01/01/2011 02:00</td>\n",
       "      <td>spring</td>\n",
       "      <td>0</td>\n",
       "      <td>0</td>\n",
       "      <td>1</td>\n",
       "      <td>9.02</td>\n",
       "      <td>13.635</td>\n",
       "      <td>80</td>\n",
       "      <td>0.0</td>\n",
       "      <td>5</td>\n",
       "      <td>27</td>\n",
       "      <td>32</td>\n",
       "    </tr>\n",
       "    <tr>\n",
       "      <th>3</th>\n",
       "      <td>01/01/2011 03:00</td>\n",
       "      <td>spring</td>\n",
       "      <td>0</td>\n",
       "      <td>0</td>\n",
       "      <td>1</td>\n",
       "      <td>9.84</td>\n",
       "      <td>14.395</td>\n",
       "      <td>75</td>\n",
       "      <td>0.0</td>\n",
       "      <td>3</td>\n",
       "      <td>10</td>\n",
       "      <td>13</td>\n",
       "    </tr>\n",
       "    <tr>\n",
       "      <th>4</th>\n",
       "      <td>01/01/2011 04:00</td>\n",
       "      <td>spring</td>\n",
       "      <td>0</td>\n",
       "      <td>0</td>\n",
       "      <td>1</td>\n",
       "      <td>9.84</td>\n",
       "      <td>14.395</td>\n",
       "      <td>75</td>\n",
       "      <td>0.0</td>\n",
       "      <td>0</td>\n",
       "      <td>1</td>\n",
       "      <td>1</td>\n",
       "    </tr>\n",
       "  </tbody>\n",
       "</table>\n",
       "</div>"
      ],
      "text/plain": [
       "           datetime  season  holiday  workingday  weather  temp   atemp  \\\n",
       "0  01/01/2011 00:00  spring        0           0        1  9.84  14.395   \n",
       "1  01/01/2011 01:00  spring        0           0        1  9.02  13.635   \n",
       "2  01/01/2011 02:00  spring        0           0        1  9.02  13.635   \n",
       "3  01/01/2011 03:00  spring        0           0        1  9.84  14.395   \n",
       "4  01/01/2011 04:00  spring        0           0        1  9.84  14.395   \n",
       "\n",
       "   humidity  windspeed  casual  registered  count  \n",
       "0        81        0.0       3          13     16  \n",
       "1        80        0.0       8          32     40  \n",
       "2        80        0.0       5          27     32  \n",
       "3        75        0.0       3          10     13  \n",
       "4        75        0.0       0           1      1  "
      ]
     },
     "execution_count": 3,
     "metadata": {},
     "output_type": "execute_result"
    }
   ],
   "source": [
    "bikes = pd.read_csv('data/bikes.csv') \n",
    "bikes.head()"
   ]
  },
  {
   "cell_type": "markdown",
   "id": "b928cf7c",
   "metadata": {
    "slideshow": {
     "slide_type": "subslide"
    }
   },
   "source": [
    "### Loading HTML data"
   ]
  },
  {
   "cell_type": "code",
   "execution_count": 4,
   "id": "740e0e17",
   "metadata": {
    "slideshow": {
     "slide_type": "-"
    }
   },
   "outputs": [
    {
     "name": "stdout",
     "output_type": "stream",
     "text": [
      "8\n"
     ]
    },
    {
     "data": {
      "text/html": [
       "<div>\n",
       "<style scoped>\n",
       "    .dataframe tbody tr th:only-of-type {\n",
       "        vertical-align: middle;\n",
       "    }\n",
       "\n",
       "    .dataframe tbody tr th {\n",
       "        vertical-align: top;\n",
       "    }\n",
       "\n",
       "    .dataframe thead th {\n",
       "        text-align: right;\n",
       "    }\n",
       "</style>\n",
       "<table border=\"1\" class=\"dataframe\">\n",
       "  <thead>\n",
       "    <tr style=\"text-align: right;\">\n",
       "      <th></th>\n",
       "      <th>Sludinājumi \\tdatums</th>\n",
       "      <th>Sludinājumi \\tdatums.1</th>\n",
       "      <th>Sludinājumi \\tdatums.2</th>\n",
       "      <th>Modelis</th>\n",
       "      <th>Gads</th>\n",
       "      <th>Tilp.</th>\n",
       "      <th>Nobrauk.</th>\n",
       "      <th>Cena</th>\n",
       "    </tr>\n",
       "  </thead>\n",
       "  <tbody>\n",
       "    <tr>\n",
       "      <th>0</th>\n",
       "      <td>NaN</td>\n",
       "      <td>NaN</td>\n",
       "      <td>Pārdodu tikko ievestu BMW E46 M-pack 330d Face...</td>\n",
       "      <td>330</td>\n",
       "      <td>2003</td>\n",
       "      <td>3.0D</td>\n",
       "      <td>339 tūkst.</td>\n",
       "      <td>1,899 €</td>\n",
       "    </tr>\n",
       "    <tr>\n",
       "      <th>1</th>\n",
       "      <td>NaN</td>\n",
       "      <td>NaN</td>\n",
       "      <td>Jauna TA, jaunas m+s riepas. Rūsa ir tek bāka ...</td>\n",
       "      <td>725</td>\n",
       "      <td>1998</td>\n",
       "      <td>2.5D</td>\n",
       "      <td>385 tūkst.</td>\n",
       "      <td>1,700 €</td>\n",
       "    </tr>\n",
       "    <tr>\n",
       "      <th>2</th>\n",
       "      <td>NaN</td>\n",
       "      <td>NaN</td>\n",
       "      <td>BMW F10 535d 230kW/313zs, 2012.G, M+S, Bagātīg...</td>\n",
       "      <td>535</td>\n",
       "      <td>2012</td>\n",
       "      <td>3.0D</td>\n",
       "      <td>-</td>\n",
       "      <td>15,700 €</td>\n",
       "    </tr>\n",
       "    <tr>\n",
       "      <th>3</th>\n",
       "      <td>NaN</td>\n",
       "      <td>NaN</td>\n",
       "      <td>Tikko atvests , viss strādā rūc un brauc, apak...</td>\n",
       "      <td>316</td>\n",
       "      <td>1990</td>\n",
       "      <td>1.6</td>\n",
       "      <td>185 tūkst.</td>\n",
       "      <td>3,799 €</td>\n",
       "    </tr>\n",
       "    <tr>\n",
       "      <th>4</th>\n",
       "      <td>NaN</td>\n",
       "      <td>NaN</td>\n",
       "      <td>Продаётся бмв е46 110кв 2.0 дизель, стоит чип ...</td>\n",
       "      <td>320</td>\n",
       "      <td>2002</td>\n",
       "      <td>2.0D</td>\n",
       "      <td>-</td>\n",
       "      <td>1,800 €</td>\n",
       "    </tr>\n",
       "  </tbody>\n",
       "</table>\n",
       "</div>"
      ],
      "text/plain": [
       "   Sludinājumi \\tdatums  Sludinājumi \\tdatums.1  \\\n",
       "0                   NaN                     NaN   \n",
       "1                   NaN                     NaN   \n",
       "2                   NaN                     NaN   \n",
       "3                   NaN                     NaN   \n",
       "4                   NaN                     NaN   \n",
       "\n",
       "                              Sludinājumi \\tdatums.2 Modelis  Gads Tilp.  \\\n",
       "0  Pārdodu tikko ievestu BMW E46 M-pack 330d Face...     330  2003  3.0D   \n",
       "1  Jauna TA, jaunas m+s riepas. Rūsa ir tek bāka ...     725  1998  2.5D   \n",
       "2  BMW F10 535d 230kW/313zs, 2012.G, M+S, Bagātīg...     535  2012  3.0D   \n",
       "3  Tikko atvests , viss strādā rūc un brauc, apak...     316  1990   1.6   \n",
       "4  Продаётся бмв е46 110кв 2.0 дизель, стоит чип ...     320  2002  2.0D   \n",
       "\n",
       "     Nobrauk.      Cena  \n",
       "0  339 tūkst.   1,899 €  \n",
       "1  385 tūkst.   1,700 €  \n",
       "2           -  15,700 €  \n",
       "3  185 tūkst.   3,799 €  \n",
       "4           -   1,800 €  "
      ]
     },
     "execution_count": 4,
     "metadata": {},
     "output_type": "execute_result"
    }
   ],
   "source": [
    "ss_bmw = pd.read_html('https://www.ss.lv/lv/transport/cars/bmw/sell/', header=0)\n",
    "print(len(ss_bmw))\n",
    "main_table = sorted(ss_bmw,key=lambda x:len(x), reverse=True)[0]\n",
    "main_table.head()"
   ]
  },
  {
   "cell_type": "markdown",
   "id": "7d81d7d3",
   "metadata": {
    "slideshow": {
     "slide_type": "subslide"
    }
   },
   "source": [
    "## Loading data - options\n",
    "\n",
    ".read_xxx has many parameters (50+) for\n",
    "\n",
    "* Indexing - get column/row names from the file, arguments you provide, or not at all.\n",
    "* Type inference and data conversion - including the user-defined value conversions, list of missing value markers, etc.\n",
    "* Date and time parsing - parsing format, including merging several columns\n",
    "* Iterating - support for iterating over chunks of very large files.\n",
    "* Unclean data issues - skipping rows, comments, or other minor things like numeric data with thousands separated by commas\n",
    "* Dialects (e.g., CSV dialect)"
   ]
  },
  {
   "cell_type": "markdown",
   "id": "3b598c4c",
   "metadata": {
    "slideshow": {
     "slide_type": "subslide"
    }
   },
   "source": [
    "## Saving data\n",
    "\n",
    "Very straightforward using __.to_XXX__ methods:\n",
    "* .to_csv()\n",
    "* .to_excel()\n",
    "* .to_sql()\n",
    "* .to_markdown()"
   ]
  },
  {
   "cell_type": "markdown",
   "id": "408bbe23",
   "metadata": {
    "slideshow": {
     "slide_type": "slide"
    }
   },
   "source": [
    "## Pandas Data Structures"
   ]
  },
  {
   "cell_type": "markdown",
   "id": "780512f2",
   "metadata": {
    "slideshow": {
     "slide_type": "subslide"
    }
   },
   "source": [
    "### Series and Dataframes\n",
    "\n",
    "* __Series__\n",
    "    * 1D array\n",
    "    * Homogeneous\n",
    "    * size immutable\n",
    "* __DataFrame__\n",
    "    * list of Series\n",
    "    * 2D array\n",
    "    * Heterogeneous\n",
    "    * size mutable\n",
    "* __Panel__\n",
    "    * 3D array\n",
    "    * Deprecated"
   ]
  },
  {
   "cell_type": "markdown",
   "id": "e8839bee",
   "metadata": {
    "slideshow": {
     "slide_type": "subslide"
    }
   },
   "source": [
    "### Bikes dataset: Series"
   ]
  },
  {
   "cell_type": "code",
   "execution_count": 5,
   "id": "55d5f0e1",
   "metadata": {},
   "outputs": [
    {
     "name": "stdout",
     "output_type": "stream",
     "text": [
      "<class 'pandas.core.series.Series'>\n"
     ]
    },
    {
     "data": {
      "text/plain": [
       "0    16\n",
       "1    40\n",
       "2    32\n",
       "3    13\n",
       "4     1\n",
       "Name: count, dtype: int64"
      ]
     },
     "execution_count": 5,
     "metadata": {},
     "output_type": "execute_result"
    }
   ],
   "source": [
    "print(type(bikes[\"count\"]))\n",
    "bikes[\"count\"].head()"
   ]
  },
  {
   "cell_type": "markdown",
   "id": "e3e9f06c",
   "metadata": {
    "slideshow": {
     "slide_type": "subslide"
    }
   },
   "source": [
    "### Bikes dataset: DataFrame"
   ]
  },
  {
   "cell_type": "code",
   "execution_count": 6,
   "id": "f6d9ce19",
   "metadata": {},
   "outputs": [
    {
     "name": "stdout",
     "output_type": "stream",
     "text": [
      "<class 'pandas.core.frame.DataFrame'>\n"
     ]
    },
    {
     "data": {
      "text/html": [
       "<div>\n",
       "<style scoped>\n",
       "    .dataframe tbody tr th:only-of-type {\n",
       "        vertical-align: middle;\n",
       "    }\n",
       "\n",
       "    .dataframe tbody tr th {\n",
       "        vertical-align: top;\n",
       "    }\n",
       "\n",
       "    .dataframe thead th {\n",
       "        text-align: right;\n",
       "    }\n",
       "</style>\n",
       "<table border=\"1\" class=\"dataframe\">\n",
       "  <thead>\n",
       "    <tr style=\"text-align: right;\">\n",
       "      <th></th>\n",
       "      <th>datetime</th>\n",
       "      <th>season</th>\n",
       "      <th>holiday</th>\n",
       "      <th>workingday</th>\n",
       "      <th>weather</th>\n",
       "      <th>temp</th>\n",
       "      <th>atemp</th>\n",
       "      <th>humidity</th>\n",
       "      <th>windspeed</th>\n",
       "      <th>casual</th>\n",
       "      <th>registered</th>\n",
       "      <th>count</th>\n",
       "    </tr>\n",
       "  </thead>\n",
       "  <tbody>\n",
       "    <tr>\n",
       "      <th>0</th>\n",
       "      <td>01/01/2011 00:00</td>\n",
       "      <td>spring</td>\n",
       "      <td>0</td>\n",
       "      <td>0</td>\n",
       "      <td>1</td>\n",
       "      <td>9.84</td>\n",
       "      <td>14.395</td>\n",
       "      <td>81</td>\n",
       "      <td>0.0</td>\n",
       "      <td>3</td>\n",
       "      <td>13</td>\n",
       "      <td>16</td>\n",
       "    </tr>\n",
       "    <tr>\n",
       "      <th>1</th>\n",
       "      <td>01/01/2011 01:00</td>\n",
       "      <td>spring</td>\n",
       "      <td>0</td>\n",
       "      <td>0</td>\n",
       "      <td>1</td>\n",
       "      <td>9.02</td>\n",
       "      <td>13.635</td>\n",
       "      <td>80</td>\n",
       "      <td>0.0</td>\n",
       "      <td>8</td>\n",
       "      <td>32</td>\n",
       "      <td>40</td>\n",
       "    </tr>\n",
       "    <tr>\n",
       "      <th>2</th>\n",
       "      <td>01/01/2011 02:00</td>\n",
       "      <td>spring</td>\n",
       "      <td>0</td>\n",
       "      <td>0</td>\n",
       "      <td>1</td>\n",
       "      <td>9.02</td>\n",
       "      <td>13.635</td>\n",
       "      <td>80</td>\n",
       "      <td>0.0</td>\n",
       "      <td>5</td>\n",
       "      <td>27</td>\n",
       "      <td>32</td>\n",
       "    </tr>\n",
       "    <tr>\n",
       "      <th>3</th>\n",
       "      <td>01/01/2011 03:00</td>\n",
       "      <td>spring</td>\n",
       "      <td>0</td>\n",
       "      <td>0</td>\n",
       "      <td>1</td>\n",
       "      <td>9.84</td>\n",
       "      <td>14.395</td>\n",
       "      <td>75</td>\n",
       "      <td>0.0</td>\n",
       "      <td>3</td>\n",
       "      <td>10</td>\n",
       "      <td>13</td>\n",
       "    </tr>\n",
       "    <tr>\n",
       "      <th>4</th>\n",
       "      <td>01/01/2011 04:00</td>\n",
       "      <td>spring</td>\n",
       "      <td>0</td>\n",
       "      <td>0</td>\n",
       "      <td>1</td>\n",
       "      <td>9.84</td>\n",
       "      <td>14.395</td>\n",
       "      <td>75</td>\n",
       "      <td>0.0</td>\n",
       "      <td>0</td>\n",
       "      <td>1</td>\n",
       "      <td>1</td>\n",
       "    </tr>\n",
       "  </tbody>\n",
       "</table>\n",
       "</div>"
      ],
      "text/plain": [
       "           datetime  season  holiday  workingday  weather  temp   atemp  \\\n",
       "0  01/01/2011 00:00  spring        0           0        1  9.84  14.395   \n",
       "1  01/01/2011 01:00  spring        0           0        1  9.02  13.635   \n",
       "2  01/01/2011 02:00  spring        0           0        1  9.02  13.635   \n",
       "3  01/01/2011 03:00  spring        0           0        1  9.84  14.395   \n",
       "4  01/01/2011 04:00  spring        0           0        1  9.84  14.395   \n",
       "\n",
       "   humidity  windspeed  casual  registered  count  \n",
       "0        81        0.0       3          13     16  \n",
       "1        80        0.0       8          32     40  \n",
       "2        80        0.0       5          27     32  \n",
       "3        75        0.0       3          10     13  \n",
       "4        75        0.0       0           1      1  "
      ]
     },
     "execution_count": 6,
     "metadata": {},
     "output_type": "execute_result"
    }
   ],
   "source": [
    "print(type(bikes))\n",
    "bikes.head()"
   ]
  },
  {
   "cell_type": "markdown",
   "id": "6d6b1f01",
   "metadata": {},
   "source": [
    "Note the index!"
   ]
  },
  {
   "cell_type": "markdown",
   "id": "1dcb0bfb",
   "metadata": {
    "slideshow": {
     "slide_type": "subslide"
    }
   },
   "source": [
    "### Series and DataFrames as dictionaries"
   ]
  },
  {
   "cell_type": "markdown",
   "id": "3fc632fc",
   "metadata": {},
   "source": [
    "### Series as a dictionary"
   ]
  },
  {
   "cell_type": "code",
   "execution_count": 7,
   "id": "a861c7be",
   "metadata": {},
   "outputs": [
    {
     "data": {
      "text/plain": [
       "{0: 16, 1: 40, 2: 32, 3: 13, 4: 1}"
      ]
     },
     "execution_count": 7,
     "metadata": {},
     "output_type": "execute_result"
    }
   ],
   "source": [
    "bikes[\"count\"].head().to_dict()"
   ]
  },
  {
   "cell_type": "markdown",
   "id": "f7b3d98c",
   "metadata": {},
   "source": [
    "### Dataframe row as a dictionary"
   ]
  },
  {
   "cell_type": "code",
   "execution_count": 8,
   "id": "98279f43",
   "metadata": {},
   "outputs": [
    {
     "data": {
      "text/plain": [
       "{'datetime': '01/01/2011 00:00',\n",
       " 'season': 'spring',\n",
       " 'holiday': 0,\n",
       " 'workingday': 0,\n",
       " 'weather': 1,\n",
       " 'temp': 9.84,\n",
       " 'atemp': 14.395,\n",
       " 'humidity': 81,\n",
       " 'windspeed': 0.0,\n",
       " 'casual': 3,\n",
       " 'registered': 13,\n",
       " 'count': 16}"
      ]
     },
     "execution_count": 8,
     "metadata": {},
     "output_type": "execute_result"
    }
   ],
   "source": [
    "bikes.iloc[0,:].to_dict()"
   ]
  },
  {
   "cell_type": "markdown",
   "id": "8acf8e7a",
   "metadata": {
    "slideshow": {
     "slide_type": "slide"
    }
   },
   "source": [
    "## Pandas Data Types"
   ]
  },
  {
   "cell_type": "markdown",
   "id": "ea117cdf",
   "metadata": {
    "slideshow": {
     "slide_type": "subslide"
    }
   },
   "source": [
    "### Python / NumPy / Pandas  Data Types"
   ]
  },
  {
   "cell_type": "markdown",
   "id": "677b7dc3",
   "metadata": {},
   "source": [
    "| Pandas dtype    | Python type  | NumPy type                                                      | Usage                                        |\n",
    "| --------------- | ------------ | --------------------------------------------------------------- | -------------------------------------------- |\n",
    "| object          | str or mixed | string\\_, unicode\\_, mixed types                                | Text or mixed numeric and non-numeric values |\n",
    "| int64           | int          | int\\_, int8, int16, int32, int64, uint8, uint16, uint32, uint64 | Integer numbers                              |\n",
    "| float64         | float        | float\\_, float16, float32, float64                              | Floating point numbers                       |\n",
    "| bool            | bool         | bool\\_                                                          | True/False values                            |\n",
    "| datetime64      | NA           | datetime64\\[ns\\]                                                | Date and time values                         |\n",
    "| timedelta\\[ns\\] | NA           | NA                                                              | Differences between two datetimes            |\n",
    "| category        | NA           | NA                                                              | Finite list of text values                   |"
   ]
  },
  {
   "cell_type": "markdown",
   "id": "17116d6a",
   "metadata": {
    "slideshow": {
     "slide_type": "subslide"
    }
   },
   "source": [
    "### Dataframe dtypes"
   ]
  },
  {
   "cell_type": "code",
   "execution_count": 9,
   "id": "98d9bb77",
   "metadata": {},
   "outputs": [
    {
     "data": {
      "text/plain": [
       "datetime       object\n",
       "season         object\n",
       "holiday         int64\n",
       "workingday      int64\n",
       "weather         int64\n",
       "temp          float64\n",
       "atemp         float64\n",
       "humidity        int64\n",
       "windspeed     float64\n",
       "casual          int64\n",
       "registered      int64\n",
       "count           int64\n",
       "dtype: object"
      ]
     },
     "execution_count": 9,
     "metadata": {},
     "output_type": "execute_result"
    }
   ],
   "source": [
    "bikes.dtypes"
   ]
  },
  {
   "cell_type": "markdown",
   "id": "28946144",
   "metadata": {
    "slideshow": {
     "slide_type": "slide"
    }
   },
   "source": [
    "## Indexing"
   ]
  },
  {
   "cell_type": "markdown",
   "id": "06bfe9cd",
   "metadata": {
    "slideshow": {
     "slide_type": "subslide"
    }
   },
   "source": [
    "### Index properties\n",
    "\n",
    "* Index is an immutable sequence, used for accessing any data point across the dataframe or series\n",
    "* Rows and columns both have indexes: rows indices are called as __index__ and for __columns__ its general column names.\n",
    "* Indexes support set operations like __union__, __intersection__, etc.\n",
    "* Built-in indexes:\n",
    "    * RangeIndex - a monotonic integer range.\n",
    "    * NumericIndex - a sequence of numpy int/uint/float data.\n",
    "    * CategoricalIndex - a sequence of fixed categories (strings)\n",
    "    * DatetimeIndex - a sequence of datetime64 objects\n",
    "    * TimedeltaIndex - a sequence of timedelta64 objects\n",
    "    * PeriodIndex - a sequence of ordinal values indicating regular periods in time, e.g., period [Q-DEC]\n",
    "    * IntervalIndex - a sequence of intervals, closed on the same side,e.g., (0, 1], (1, 2], (2, 3], (3, 4], (4, 5]"
   ]
  },
  {
   "cell_type": "markdown",
   "id": "51d1cb7d",
   "metadata": {
    "slideshow": {
     "slide_type": "subslide"
    }
   },
   "source": [
    "### Bikes: Indexes"
   ]
  },
  {
   "cell_type": "code",
   "execution_count": 10,
   "id": "bd6477ce",
   "metadata": {},
   "outputs": [
    {
     "data": {
      "text/plain": [
       "RangeIndex(start=0, stop=10886, step=1)"
      ]
     },
     "execution_count": 10,
     "metadata": {},
     "output_type": "execute_result"
    }
   ],
   "source": [
    "bikes.index"
   ]
  },
  {
   "cell_type": "code",
   "execution_count": 11,
   "id": "90c73b78",
   "metadata": {},
   "outputs": [
    {
     "data": {
      "text/plain": [
       "Index(['datetime', 'season', 'holiday', 'workingday', 'weather', 'temp',\n",
       "       'atemp', 'humidity', 'windspeed', 'casual', 'registered', 'count'],\n",
       "      dtype='object')"
      ]
     },
     "execution_count": 11,
     "metadata": {},
     "output_type": "execute_result"
    }
   ],
   "source": [
    "bikes.columns"
   ]
  },
  {
   "cell_type": "markdown",
   "id": "723a73dc",
   "metadata": {
    "slideshow": {
     "slide_type": "subslide"
    }
   },
   "source": [
    "## Assigning index\n",
    "\n",
    "Indexes are immutable, but can be reassigned:"
   ]
  },
  {
   "cell_type": "code",
   "execution_count": 12,
   "id": "c8d1053a",
   "metadata": {},
   "outputs": [
    {
     "data": {
      "text/plain": [
       "Int64Index([ 16,  40,  32,  13,   1,   1,   2,   3,   8,  14,\n",
       "            ...\n",
       "            218, 237, 334, 562, 569, 336, 241, 168, 129,  88],\n",
       "           dtype='int64', name='count', length=10886)"
      ]
     },
     "execution_count": 12,
     "metadata": {},
     "output_type": "execute_result"
    }
   ],
   "source": [
    "bikes.index = bikes['count']\n",
    "bikes.index"
   ]
  },
  {
   "cell_type": "code",
   "execution_count": 13,
   "id": "40dd00c2",
   "metadata": {
    "scrolled": true
   },
   "outputs": [
    {
     "data": {
      "text/html": [
       "<div>\n",
       "<style scoped>\n",
       "    .dataframe tbody tr th:only-of-type {\n",
       "        vertical-align: middle;\n",
       "    }\n",
       "\n",
       "    .dataframe tbody tr th {\n",
       "        vertical-align: top;\n",
       "    }\n",
       "\n",
       "    .dataframe thead th {\n",
       "        text-align: right;\n",
       "    }\n",
       "</style>\n",
       "<table border=\"1\" class=\"dataframe\">\n",
       "  <thead>\n",
       "    <tr style=\"text-align: right;\">\n",
       "      <th></th>\n",
       "      <th>datetime</th>\n",
       "      <th>season</th>\n",
       "      <th>holiday</th>\n",
       "      <th>workingday</th>\n",
       "      <th>weather</th>\n",
       "      <th>temp</th>\n",
       "      <th>atemp</th>\n",
       "      <th>humidity</th>\n",
       "      <th>windspeed</th>\n",
       "      <th>casual</th>\n",
       "      <th>registered</th>\n",
       "      <th>count</th>\n",
       "    </tr>\n",
       "    <tr>\n",
       "      <th>count</th>\n",
       "      <th></th>\n",
       "      <th></th>\n",
       "      <th></th>\n",
       "      <th></th>\n",
       "      <th></th>\n",
       "      <th></th>\n",
       "      <th></th>\n",
       "      <th></th>\n",
       "      <th></th>\n",
       "      <th></th>\n",
       "      <th></th>\n",
       "      <th></th>\n",
       "    </tr>\n",
       "  </thead>\n",
       "  <tbody>\n",
       "    <tr>\n",
       "      <th>16</th>\n",
       "      <td>01/01/2011 00:00</td>\n",
       "      <td>spring</td>\n",
       "      <td>0</td>\n",
       "      <td>0</td>\n",
       "      <td>1</td>\n",
       "      <td>9.84</td>\n",
       "      <td>14.395</td>\n",
       "      <td>81</td>\n",
       "      <td>0.0</td>\n",
       "      <td>3</td>\n",
       "      <td>13</td>\n",
       "      <td>16</td>\n",
       "    </tr>\n",
       "    <tr>\n",
       "      <th>40</th>\n",
       "      <td>01/01/2011 01:00</td>\n",
       "      <td>spring</td>\n",
       "      <td>0</td>\n",
       "      <td>0</td>\n",
       "      <td>1</td>\n",
       "      <td>9.02</td>\n",
       "      <td>13.635</td>\n",
       "      <td>80</td>\n",
       "      <td>0.0</td>\n",
       "      <td>8</td>\n",
       "      <td>32</td>\n",
       "      <td>40</td>\n",
       "    </tr>\n",
       "    <tr>\n",
       "      <th>32</th>\n",
       "      <td>01/01/2011 02:00</td>\n",
       "      <td>spring</td>\n",
       "      <td>0</td>\n",
       "      <td>0</td>\n",
       "      <td>1</td>\n",
       "      <td>9.02</td>\n",
       "      <td>13.635</td>\n",
       "      <td>80</td>\n",
       "      <td>0.0</td>\n",
       "      <td>5</td>\n",
       "      <td>27</td>\n",
       "      <td>32</td>\n",
       "    </tr>\n",
       "    <tr>\n",
       "      <th>13</th>\n",
       "      <td>01/01/2011 03:00</td>\n",
       "      <td>spring</td>\n",
       "      <td>0</td>\n",
       "      <td>0</td>\n",
       "      <td>1</td>\n",
       "      <td>9.84</td>\n",
       "      <td>14.395</td>\n",
       "      <td>75</td>\n",
       "      <td>0.0</td>\n",
       "      <td>3</td>\n",
       "      <td>10</td>\n",
       "      <td>13</td>\n",
       "    </tr>\n",
       "    <tr>\n",
       "      <th>1</th>\n",
       "      <td>01/01/2011 04:00</td>\n",
       "      <td>spring</td>\n",
       "      <td>0</td>\n",
       "      <td>0</td>\n",
       "      <td>1</td>\n",
       "      <td>9.84</td>\n",
       "      <td>14.395</td>\n",
       "      <td>75</td>\n",
       "      <td>0.0</td>\n",
       "      <td>0</td>\n",
       "      <td>1</td>\n",
       "      <td>1</td>\n",
       "    </tr>\n",
       "  </tbody>\n",
       "</table>\n",
       "</div>"
      ],
      "text/plain": [
       "               datetime  season  holiday  workingday  weather  temp   atemp  \\\n",
       "count                                                                         \n",
       "16     01/01/2011 00:00  spring        0           0        1  9.84  14.395   \n",
       "40     01/01/2011 01:00  spring        0           0        1  9.02  13.635   \n",
       "32     01/01/2011 02:00  spring        0           0        1  9.02  13.635   \n",
       "13     01/01/2011 03:00  spring        0           0        1  9.84  14.395   \n",
       "1      01/01/2011 04:00  spring        0           0        1  9.84  14.395   \n",
       "\n",
       "       humidity  windspeed  casual  registered  count  \n",
       "count                                                  \n",
       "16           81        0.0       3          13     16  \n",
       "40           80        0.0       8          32     40  \n",
       "32           80        0.0       5          27     32  \n",
       "13           75        0.0       3          10     13  \n",
       "1            75        0.0       0           1      1  "
      ]
     },
     "execution_count": 13,
     "metadata": {},
     "output_type": "execute_result"
    }
   ],
   "source": [
    "bikes.head()"
   ]
  },
  {
   "cell_type": "markdown",
   "id": "e0c7b1ac",
   "metadata": {
    "slideshow": {
     "slide_type": "subslide"
    }
   },
   "source": [
    "## Set/reset index"
   ]
  },
  {
   "cell_type": "code",
   "execution_count": 14,
   "id": "0c6a130f",
   "metadata": {
    "scrolled": true
   },
   "outputs": [
    {
     "data": {
      "text/html": [
       "<div>\n",
       "<style scoped>\n",
       "    .dataframe tbody tr th:only-of-type {\n",
       "        vertical-align: middle;\n",
       "    }\n",
       "\n",
       "    .dataframe tbody tr th {\n",
       "        vertical-align: top;\n",
       "    }\n",
       "\n",
       "    .dataframe thead th {\n",
       "        text-align: right;\n",
       "    }\n",
       "</style>\n",
       "<table border=\"1\" class=\"dataframe\">\n",
       "  <thead>\n",
       "    <tr style=\"text-align: right;\">\n",
       "      <th></th>\n",
       "      <th>season</th>\n",
       "      <th>holiday</th>\n",
       "      <th>workingday</th>\n",
       "      <th>weather</th>\n",
       "      <th>temp</th>\n",
       "      <th>atemp</th>\n",
       "      <th>humidity</th>\n",
       "      <th>windspeed</th>\n",
       "      <th>casual</th>\n",
       "      <th>registered</th>\n",
       "      <th>count</th>\n",
       "    </tr>\n",
       "    <tr>\n",
       "      <th>datetime</th>\n",
       "      <th></th>\n",
       "      <th></th>\n",
       "      <th></th>\n",
       "      <th></th>\n",
       "      <th></th>\n",
       "      <th></th>\n",
       "      <th></th>\n",
       "      <th></th>\n",
       "      <th></th>\n",
       "      <th></th>\n",
       "      <th></th>\n",
       "    </tr>\n",
       "  </thead>\n",
       "  <tbody>\n",
       "    <tr>\n",
       "      <th>01/01/2011 00:00</th>\n",
       "      <td>spring</td>\n",
       "      <td>0</td>\n",
       "      <td>0</td>\n",
       "      <td>1</td>\n",
       "      <td>9.84</td>\n",
       "      <td>14.395</td>\n",
       "      <td>81</td>\n",
       "      <td>0.0</td>\n",
       "      <td>3</td>\n",
       "      <td>13</td>\n",
       "      <td>16</td>\n",
       "    </tr>\n",
       "    <tr>\n",
       "      <th>01/01/2011 01:00</th>\n",
       "      <td>spring</td>\n",
       "      <td>0</td>\n",
       "      <td>0</td>\n",
       "      <td>1</td>\n",
       "      <td>9.02</td>\n",
       "      <td>13.635</td>\n",
       "      <td>80</td>\n",
       "      <td>0.0</td>\n",
       "      <td>8</td>\n",
       "      <td>32</td>\n",
       "      <td>40</td>\n",
       "    </tr>\n",
       "    <tr>\n",
       "      <th>01/01/2011 02:00</th>\n",
       "      <td>spring</td>\n",
       "      <td>0</td>\n",
       "      <td>0</td>\n",
       "      <td>1</td>\n",
       "      <td>9.02</td>\n",
       "      <td>13.635</td>\n",
       "      <td>80</td>\n",
       "      <td>0.0</td>\n",
       "      <td>5</td>\n",
       "      <td>27</td>\n",
       "      <td>32</td>\n",
       "    </tr>\n",
       "    <tr>\n",
       "      <th>01/01/2011 03:00</th>\n",
       "      <td>spring</td>\n",
       "      <td>0</td>\n",
       "      <td>0</td>\n",
       "      <td>1</td>\n",
       "      <td>9.84</td>\n",
       "      <td>14.395</td>\n",
       "      <td>75</td>\n",
       "      <td>0.0</td>\n",
       "      <td>3</td>\n",
       "      <td>10</td>\n",
       "      <td>13</td>\n",
       "    </tr>\n",
       "    <tr>\n",
       "      <th>01/01/2011 04:00</th>\n",
       "      <td>spring</td>\n",
       "      <td>0</td>\n",
       "      <td>0</td>\n",
       "      <td>1</td>\n",
       "      <td>9.84</td>\n",
       "      <td>14.395</td>\n",
       "      <td>75</td>\n",
       "      <td>0.0</td>\n",
       "      <td>0</td>\n",
       "      <td>1</td>\n",
       "      <td>1</td>\n",
       "    </tr>\n",
       "  </tbody>\n",
       "</table>\n",
       "</div>"
      ],
      "text/plain": [
       "                  season  holiday  workingday  weather  temp   atemp  \\\n",
       "datetime                                                               \n",
       "01/01/2011 00:00  spring        0           0        1  9.84  14.395   \n",
       "01/01/2011 01:00  spring        0           0        1  9.02  13.635   \n",
       "01/01/2011 02:00  spring        0           0        1  9.02  13.635   \n",
       "01/01/2011 03:00  spring        0           0        1  9.84  14.395   \n",
       "01/01/2011 04:00  spring        0           0        1  9.84  14.395   \n",
       "\n",
       "                  humidity  windspeed  casual  registered  count  \n",
       "datetime                                                          \n",
       "01/01/2011 00:00        81        0.0       3          13     16  \n",
       "01/01/2011 01:00        80        0.0       8          32     40  \n",
       "01/01/2011 02:00        80        0.0       5          27     32  \n",
       "01/01/2011 03:00        75        0.0       3          10     13  \n",
       "01/01/2011 04:00        75        0.0       0           1      1  "
      ]
     },
     "execution_count": 14,
     "metadata": {},
     "output_type": "execute_result"
    }
   ],
   "source": [
    "bikes.set_index(\"datetime\", inplace=True)\n",
    "bikes.head()"
   ]
  },
  {
   "cell_type": "code",
   "execution_count": 15,
   "id": "1f9e2170",
   "metadata": {},
   "outputs": [
    {
     "data": {
      "text/html": [
       "<div>\n",
       "<style scoped>\n",
       "    .dataframe tbody tr th:only-of-type {\n",
       "        vertical-align: middle;\n",
       "    }\n",
       "\n",
       "    .dataframe tbody tr th {\n",
       "        vertical-align: top;\n",
       "    }\n",
       "\n",
       "    .dataframe thead th {\n",
       "        text-align: right;\n",
       "    }\n",
       "</style>\n",
       "<table border=\"1\" class=\"dataframe\">\n",
       "  <thead>\n",
       "    <tr style=\"text-align: right;\">\n",
       "      <th></th>\n",
       "      <th>datetime</th>\n",
       "      <th>season</th>\n",
       "      <th>holiday</th>\n",
       "      <th>workingday</th>\n",
       "      <th>weather</th>\n",
       "      <th>temp</th>\n",
       "      <th>atemp</th>\n",
       "      <th>humidity</th>\n",
       "      <th>windspeed</th>\n",
       "      <th>casual</th>\n",
       "      <th>registered</th>\n",
       "      <th>count</th>\n",
       "    </tr>\n",
       "  </thead>\n",
       "  <tbody>\n",
       "    <tr>\n",
       "      <th>0</th>\n",
       "      <td>01/01/2011 00:00</td>\n",
       "      <td>spring</td>\n",
       "      <td>0</td>\n",
       "      <td>0</td>\n",
       "      <td>1</td>\n",
       "      <td>9.84</td>\n",
       "      <td>14.395</td>\n",
       "      <td>81</td>\n",
       "      <td>0.0</td>\n",
       "      <td>3</td>\n",
       "      <td>13</td>\n",
       "      <td>16</td>\n",
       "    </tr>\n",
       "    <tr>\n",
       "      <th>1</th>\n",
       "      <td>01/01/2011 01:00</td>\n",
       "      <td>spring</td>\n",
       "      <td>0</td>\n",
       "      <td>0</td>\n",
       "      <td>1</td>\n",
       "      <td>9.02</td>\n",
       "      <td>13.635</td>\n",
       "      <td>80</td>\n",
       "      <td>0.0</td>\n",
       "      <td>8</td>\n",
       "      <td>32</td>\n",
       "      <td>40</td>\n",
       "    </tr>\n",
       "    <tr>\n",
       "      <th>2</th>\n",
       "      <td>01/01/2011 02:00</td>\n",
       "      <td>spring</td>\n",
       "      <td>0</td>\n",
       "      <td>0</td>\n",
       "      <td>1</td>\n",
       "      <td>9.02</td>\n",
       "      <td>13.635</td>\n",
       "      <td>80</td>\n",
       "      <td>0.0</td>\n",
       "      <td>5</td>\n",
       "      <td>27</td>\n",
       "      <td>32</td>\n",
       "    </tr>\n",
       "    <tr>\n",
       "      <th>3</th>\n",
       "      <td>01/01/2011 03:00</td>\n",
       "      <td>spring</td>\n",
       "      <td>0</td>\n",
       "      <td>0</td>\n",
       "      <td>1</td>\n",
       "      <td>9.84</td>\n",
       "      <td>14.395</td>\n",
       "      <td>75</td>\n",
       "      <td>0.0</td>\n",
       "      <td>3</td>\n",
       "      <td>10</td>\n",
       "      <td>13</td>\n",
       "    </tr>\n",
       "    <tr>\n",
       "      <th>4</th>\n",
       "      <td>01/01/2011 04:00</td>\n",
       "      <td>spring</td>\n",
       "      <td>0</td>\n",
       "      <td>0</td>\n",
       "      <td>1</td>\n",
       "      <td>9.84</td>\n",
       "      <td>14.395</td>\n",
       "      <td>75</td>\n",
       "      <td>0.0</td>\n",
       "      <td>0</td>\n",
       "      <td>1</td>\n",
       "      <td>1</td>\n",
       "    </tr>\n",
       "  </tbody>\n",
       "</table>\n",
       "</div>"
      ],
      "text/plain": [
       "           datetime  season  holiday  workingday  weather  temp   atemp  \\\n",
       "0  01/01/2011 00:00  spring        0           0        1  9.84  14.395   \n",
       "1  01/01/2011 01:00  spring        0           0        1  9.02  13.635   \n",
       "2  01/01/2011 02:00  spring        0           0        1  9.02  13.635   \n",
       "3  01/01/2011 03:00  spring        0           0        1  9.84  14.395   \n",
       "4  01/01/2011 04:00  spring        0           0        1  9.84  14.395   \n",
       "\n",
       "   humidity  windspeed  casual  registered  count  \n",
       "0        81        0.0       3          13     16  \n",
       "1        80        0.0       8          32     40  \n",
       "2        80        0.0       5          27     32  \n",
       "3        75        0.0       3          10     13  \n",
       "4        75        0.0       0           1      1  "
      ]
     },
     "execution_count": 15,
     "metadata": {},
     "output_type": "execute_result"
    }
   ],
   "source": [
    "bikes.reset_index(inplace=True)\n",
    "bikes.head()"
   ]
  },
  {
   "cell_type": "markdown",
   "id": "04828fbc",
   "metadata": {
    "slideshow": {
     "slide_type": "subslide"
    }
   },
   "source": [
    "## Reindexing\n",
    "\n",
    "__.reindex()__  rearranges the data according to the new index, introducing missing values if any index values were not already present."
   ]
  },
  {
   "cell_type": "code",
   "execution_count": 16,
   "id": "263603e3",
   "metadata": {},
   "outputs": [
    {
     "data": {
      "text/html": [
       "<div>\n",
       "<style scoped>\n",
       "    .dataframe tbody tr th:only-of-type {\n",
       "        vertical-align: middle;\n",
       "    }\n",
       "\n",
       "    .dataframe tbody tr th {\n",
       "        vertical-align: top;\n",
       "    }\n",
       "\n",
       "    .dataframe thead th {\n",
       "        text-align: right;\n",
       "    }\n",
       "</style>\n",
       "<table border=\"1\" class=\"dataframe\">\n",
       "  <thead>\n",
       "    <tr style=\"text-align: right;\">\n",
       "      <th></th>\n",
       "      <th>value</th>\n",
       "    </tr>\n",
       "  </thead>\n",
       "  <tbody>\n",
       "    <tr>\n",
       "      <th>0</th>\n",
       "      <td>0</td>\n",
       "    </tr>\n",
       "    <tr>\n",
       "      <th>2</th>\n",
       "      <td>1</td>\n",
       "    </tr>\n",
       "    <tr>\n",
       "      <th>4</th>\n",
       "      <td>2</td>\n",
       "    </tr>\n",
       "  </tbody>\n",
       "</table>\n",
       "</div>"
      ],
      "text/plain": [
       "   value\n",
       "0      0\n",
       "2      1\n",
       "4      2"
      ]
     },
     "execution_count": 16,
     "metadata": {},
     "output_type": "execute_result"
    }
   ],
   "source": [
    "df = pd.DataFrame({\"value\":list(range(3))}, index = list(range(0,6,2)))\n",
    "df"
   ]
  },
  {
   "cell_type": "code",
   "execution_count": 17,
   "id": "7910bd36",
   "metadata": {
    "scrolled": true
   },
   "outputs": [
    {
     "data": {
      "text/html": [
       "<div>\n",
       "<style scoped>\n",
       "    .dataframe tbody tr th:only-of-type {\n",
       "        vertical-align: middle;\n",
       "    }\n",
       "\n",
       "    .dataframe tbody tr th {\n",
       "        vertical-align: top;\n",
       "    }\n",
       "\n",
       "    .dataframe thead th {\n",
       "        text-align: right;\n",
       "    }\n",
       "</style>\n",
       "<table border=\"1\" class=\"dataframe\">\n",
       "  <thead>\n",
       "    <tr style=\"text-align: right;\">\n",
       "      <th></th>\n",
       "      <th>value</th>\n",
       "    </tr>\n",
       "  </thead>\n",
       "  <tbody>\n",
       "    <tr>\n",
       "      <th>0</th>\n",
       "      <td>0.0</td>\n",
       "    </tr>\n",
       "    <tr>\n",
       "      <th>1</th>\n",
       "      <td>NaN</td>\n",
       "    </tr>\n",
       "    <tr>\n",
       "      <th>2</th>\n",
       "      <td>1.0</td>\n",
       "    </tr>\n",
       "    <tr>\n",
       "      <th>3</th>\n",
       "      <td>NaN</td>\n",
       "    </tr>\n",
       "    <tr>\n",
       "      <th>4</th>\n",
       "      <td>2.0</td>\n",
       "    </tr>\n",
       "    <tr>\n",
       "      <th>5</th>\n",
       "      <td>NaN</td>\n",
       "    </tr>\n",
       "  </tbody>\n",
       "</table>\n",
       "</div>"
      ],
      "text/plain": [
       "   value\n",
       "0    0.0\n",
       "1    NaN\n",
       "2    1.0\n",
       "3    NaN\n",
       "4    2.0\n",
       "5    NaN"
      ]
     },
     "execution_count": 17,
     "metadata": {},
     "output_type": "execute_result"
    }
   ],
   "source": [
    "df.reindex(index = list(range(0,6)))"
   ]
  },
  {
   "cell_type": "markdown",
   "id": "1ae732b8",
   "metadata": {
    "slideshow": {
     "slide_type": "subslide"
    }
   },
   "source": [
    "## Duplicated index values\n",
    "\n",
    "Index values are not necessarily unique (unlike _primary keys_ in databases), so selecting by index can return multiple records"
   ]
  },
  {
   "cell_type": "code",
   "execution_count": 18,
   "id": "b33e6658",
   "metadata": {
    "scrolled": true
   },
   "outputs": [
    {
     "data": {
      "text/plain": [
       "datetime      01/01/2011 01:00\n",
       "season                  spring\n",
       "holiday                      0\n",
       "workingday                   0\n",
       "weather                      1\n",
       "Name: 1, dtype: object"
      ]
     },
     "execution_count": 18,
     "metadata": {},
     "output_type": "execute_result"
    }
   ],
   "source": [
    "bikes.loc[1,:].head()"
   ]
  },
  {
   "cell_type": "markdown",
   "id": "c01c4feb",
   "metadata": {
    "slideshow": {
     "slide_type": "slide"
    }
   },
   "source": [
    "## Selectors\n"
   ]
  },
  {
   "cell_type": "markdown",
   "id": "e5b339c1",
   "metadata": {
    "slideshow": {
     "slide_type": "subslide"
    }
   },
   "source": [
    "### Selectors\n",
    "\n",
    "Selectors for NumPy arrays are straightforward - they always use the position (row number), e.g. [1,:] selector returns the second row\n"
   ]
  },
  {
   "cell_type": "code",
   "execution_count": 19,
   "id": "12802e59",
   "metadata": {},
   "outputs": [
    {
     "data": {
      "text/plain": [
       "array([0., 1., 0., 0., 0., 0., 0., 0., 0., 0.])"
      ]
     },
     "execution_count": 19,
     "metadata": {},
     "output_type": "execute_result"
    }
   ],
   "source": [
    "import numpy as np\n",
    "np.eye(10)[1,:]"
   ]
  },
  {
   "cell_type": "markdown",
   "id": "8cc70655",
   "metadata": {},
   "source": [
    "For __pandas__ dataframes there is a point of ambiguity here - Does \"[1,:]\" mean the second row or the rows with index values of 1? \n",
    "\n",
    "The ambiguity is solved by __loc__ / __iloc__ selectors\n"
   ]
  },
  {
   "cell_type": "markdown",
   "id": "f6a7f8f0",
   "metadata": {
    "slideshow": {
     "slide_type": "subslide"
    }
   },
   "source": [
    "### Selectors loc/iloc"
   ]
  },
  {
   "cell_type": "markdown",
   "id": "fbd08fc3",
   "metadata": {},
   "source": [
    "* __.loc__ selector works exclusively with index values\n",
    "* __.iloc__ selector works exclusively with positions"
   ]
  },
  {
   "cell_type": "code",
   "execution_count": 20,
   "id": "469150c4",
   "metadata": {},
   "outputs": [
    {
     "data": {
      "text/html": [
       "<div>\n",
       "<style scoped>\n",
       "    .dataframe tbody tr th:only-of-type {\n",
       "        vertical-align: middle;\n",
       "    }\n",
       "\n",
       "    .dataframe tbody tr th {\n",
       "        vertical-align: top;\n",
       "    }\n",
       "\n",
       "    .dataframe thead th {\n",
       "        text-align: right;\n",
       "    }\n",
       "</style>\n",
       "<table border=\"1\" class=\"dataframe\">\n",
       "  <thead>\n",
       "    <tr style=\"text-align: right;\">\n",
       "      <th></th>\n",
       "      <th>datetime</th>\n",
       "      <th>season</th>\n",
       "      <th>holiday</th>\n",
       "      <th>workingday</th>\n",
       "      <th>weather</th>\n",
       "      <th>temp</th>\n",
       "      <th>atemp</th>\n",
       "      <th>humidity</th>\n",
       "      <th>windspeed</th>\n",
       "      <th>casual</th>\n",
       "      <th>registered</th>\n",
       "      <th>count</th>\n",
       "    </tr>\n",
       "    <tr>\n",
       "      <th>count</th>\n",
       "      <th></th>\n",
       "      <th></th>\n",
       "      <th></th>\n",
       "      <th></th>\n",
       "      <th></th>\n",
       "      <th></th>\n",
       "      <th></th>\n",
       "      <th></th>\n",
       "      <th></th>\n",
       "      <th></th>\n",
       "      <th></th>\n",
       "      <th></th>\n",
       "    </tr>\n",
       "  </thead>\n",
       "  <tbody>\n",
       "    <tr>\n",
       "      <th>40</th>\n",
       "      <td>01/01/2011 01:00</td>\n",
       "      <td>spring</td>\n",
       "      <td>0</td>\n",
       "      <td>0</td>\n",
       "      <td>1</td>\n",
       "      <td>9.02</td>\n",
       "      <td>13.635</td>\n",
       "      <td>80</td>\n",
       "      <td>0.0</td>\n",
       "      <td>8</td>\n",
       "      <td>32</td>\n",
       "      <td>40</td>\n",
       "    </tr>\n",
       "  </tbody>\n",
       "</table>\n",
       "</div>"
      ],
      "text/plain": [
       "               datetime  season  holiday  workingday  weather  temp   atemp  \\\n",
       "count                                                                         \n",
       "40     01/01/2011 01:00  spring        0           0        1  9.02  13.635   \n",
       "\n",
       "       humidity  windspeed  casual  registered  count  \n",
       "count                                                  \n",
       "40           80        0.0       8          32     40  "
      ]
     },
     "execution_count": 20,
     "metadata": {},
     "output_type": "execute_result"
    }
   ],
   "source": [
    "bikes.index = bikes['count']\n",
    "bikes.iloc[[1]]\n",
    "# Second row"
   ]
  },
  {
   "cell_type": "code",
   "execution_count": 21,
   "id": "c8ce53c0",
   "metadata": {},
   "outputs": [
    {
     "data": {
      "text/html": [
       "<div>\n",
       "<style scoped>\n",
       "    .dataframe tbody tr th:only-of-type {\n",
       "        vertical-align: middle;\n",
       "    }\n",
       "\n",
       "    .dataframe tbody tr th {\n",
       "        vertical-align: top;\n",
       "    }\n",
       "\n",
       "    .dataframe thead th {\n",
       "        text-align: right;\n",
       "    }\n",
       "</style>\n",
       "<table border=\"1\" class=\"dataframe\">\n",
       "  <thead>\n",
       "    <tr style=\"text-align: right;\">\n",
       "      <th></th>\n",
       "      <th>datetime</th>\n",
       "      <th>season</th>\n",
       "      <th>holiday</th>\n",
       "      <th>workingday</th>\n",
       "      <th>weather</th>\n",
       "      <th>temp</th>\n",
       "      <th>atemp</th>\n",
       "      <th>humidity</th>\n",
       "      <th>windspeed</th>\n",
       "      <th>casual</th>\n",
       "      <th>registered</th>\n",
       "      <th>count</th>\n",
       "    </tr>\n",
       "    <tr>\n",
       "      <th>count</th>\n",
       "      <th></th>\n",
       "      <th></th>\n",
       "      <th></th>\n",
       "      <th></th>\n",
       "      <th></th>\n",
       "      <th></th>\n",
       "      <th></th>\n",
       "      <th></th>\n",
       "      <th></th>\n",
       "      <th></th>\n",
       "      <th></th>\n",
       "      <th></th>\n",
       "    </tr>\n",
       "  </thead>\n",
       "  <tbody>\n",
       "    <tr>\n",
       "      <th>1</th>\n",
       "      <td>01/01/2011 04:00</td>\n",
       "      <td>spring</td>\n",
       "      <td>0</td>\n",
       "      <td>0</td>\n",
       "      <td>1</td>\n",
       "      <td>9.84</td>\n",
       "      <td>14.395</td>\n",
       "      <td>75</td>\n",
       "      <td>0.0000</td>\n",
       "      <td>0</td>\n",
       "      <td>1</td>\n",
       "      <td>1</td>\n",
       "    </tr>\n",
       "    <tr>\n",
       "      <th>1</th>\n",
       "      <td>01/01/2011 05:00</td>\n",
       "      <td>spring</td>\n",
       "      <td>0</td>\n",
       "      <td>0</td>\n",
       "      <td>2</td>\n",
       "      <td>9.84</td>\n",
       "      <td>12.880</td>\n",
       "      <td>75</td>\n",
       "      <td>6.0032</td>\n",
       "      <td>0</td>\n",
       "      <td>1</td>\n",
       "      <td>1</td>\n",
       "    </tr>\n",
       "    <tr>\n",
       "      <th>1</th>\n",
       "      <td>02/01/2011 07:00</td>\n",
       "      <td>spring</td>\n",
       "      <td>0</td>\n",
       "      <td>0</td>\n",
       "      <td>2</td>\n",
       "      <td>16.40</td>\n",
       "      <td>20.455</td>\n",
       "      <td>76</td>\n",
       "      <td>12.9980</td>\n",
       "      <td>0</td>\n",
       "      <td>1</td>\n",
       "      <td>1</td>\n",
       "    </tr>\n",
       "    <tr>\n",
       "      <th>1</th>\n",
       "      <td>03/01/2011 04:00</td>\n",
       "      <td>spring</td>\n",
       "      <td>0</td>\n",
       "      <td>1</td>\n",
       "      <td>1</td>\n",
       "      <td>6.56</td>\n",
       "      <td>6.820</td>\n",
       "      <td>47</td>\n",
       "      <td>26.0027</td>\n",
       "      <td>0</td>\n",
       "      <td>1</td>\n",
       "      <td>1</td>\n",
       "    </tr>\n",
       "    <tr>\n",
       "      <th>1</th>\n",
       "      <td>04/01/2011 02:00</td>\n",
       "      <td>spring</td>\n",
       "      <td>0</td>\n",
       "      <td>1</td>\n",
       "      <td>1</td>\n",
       "      <td>5.74</td>\n",
       "      <td>7.575</td>\n",
       "      <td>63</td>\n",
       "      <td>8.9981</td>\n",
       "      <td>0</td>\n",
       "      <td>1</td>\n",
       "      <td>1</td>\n",
       "    </tr>\n",
       "  </tbody>\n",
       "</table>\n",
       "</div>"
      ],
      "text/plain": [
       "               datetime  season  holiday  workingday  weather   temp   atemp  \\\n",
       "count                                                                          \n",
       "1      01/01/2011 04:00  spring        0           0        1   9.84  14.395   \n",
       "1      01/01/2011 05:00  spring        0           0        2   9.84  12.880   \n",
       "1      02/01/2011 07:00  spring        0           0        2  16.40  20.455   \n",
       "1      03/01/2011 04:00  spring        0           1        1   6.56   6.820   \n",
       "1      04/01/2011 02:00  spring        0           1        1   5.74   7.575   \n",
       "\n",
       "       humidity  windspeed  casual  registered  count  \n",
       "count                                                  \n",
       "1            75     0.0000       0           1      1  \n",
       "1            75     6.0032       0           1      1  \n",
       "1            76    12.9980       0           1      1  \n",
       "1            47    26.0027       0           1      1  \n",
       "1            63     8.9981       0           1      1  "
      ]
     },
     "execution_count": 21,
     "metadata": {},
     "output_type": "execute_result"
    }
   ],
   "source": [
    "bikes.loc[1].head()\n",
    "# Rows with 1 rental"
   ]
  },
  {
   "cell_type": "markdown",
   "id": "b7608bf1",
   "metadata": {
    "slideshow": {
     "slide_type": "subslide"
    }
   },
   "source": [
    "### Default selector"
   ]
  },
  {
   "cell_type": "markdown",
   "id": "a6a87a07",
   "metadata": {},
   "source": [
    "\"Default\" selector  (df[...]) is a smart one: \n",
    "* if the row index contains integers, then numbers interpreted as index values, otherwise - as position.\n",
    "* if only one element is provided it is interpreted as a column name\n",
    "* if a bool mask is provided it is applied to rows\n",
    "\n",
    "etc. - long list of _ifs_\n"
   ]
  },
  {
   "cell_type": "code",
   "execution_count": 22,
   "id": "1c75c51e",
   "metadata": {},
   "outputs": [
    {
     "data": {
      "text/html": [
       "<div>\n",
       "<style scoped>\n",
       "    .dataframe tbody tr th:only-of-type {\n",
       "        vertical-align: middle;\n",
       "    }\n",
       "\n",
       "    .dataframe tbody tr th {\n",
       "        vertical-align: top;\n",
       "    }\n",
       "\n",
       "    .dataframe thead th {\n",
       "        text-align: right;\n",
       "    }\n",
       "</style>\n",
       "<table border=\"1\" class=\"dataframe\">\n",
       "  <thead>\n",
       "    <tr style=\"text-align: right;\">\n",
       "      <th></th>\n",
       "      <th>datetime</th>\n",
       "      <th>season</th>\n",
       "      <th>holiday</th>\n",
       "      <th>workingday</th>\n",
       "      <th>weather</th>\n",
       "      <th>temp</th>\n",
       "      <th>atemp</th>\n",
       "      <th>humidity</th>\n",
       "      <th>windspeed</th>\n",
       "      <th>casual</th>\n",
       "      <th>registered</th>\n",
       "      <th>count</th>\n",
       "    </tr>\n",
       "    <tr>\n",
       "      <th>count</th>\n",
       "      <th></th>\n",
       "      <th></th>\n",
       "      <th></th>\n",
       "      <th></th>\n",
       "      <th></th>\n",
       "      <th></th>\n",
       "      <th></th>\n",
       "      <th></th>\n",
       "      <th></th>\n",
       "      <th></th>\n",
       "      <th></th>\n",
       "      <th></th>\n",
       "    </tr>\n",
       "  </thead>\n",
       "  <tbody>\n",
       "    <tr>\n",
       "      <th>40</th>\n",
       "      <td>01/01/2011 01:00</td>\n",
       "      <td>spring</td>\n",
       "      <td>0</td>\n",
       "      <td>0</td>\n",
       "      <td>1</td>\n",
       "      <td>9.02</td>\n",
       "      <td>13.635</td>\n",
       "      <td>80</td>\n",
       "      <td>0.0</td>\n",
       "      <td>8</td>\n",
       "      <td>32</td>\n",
       "      <td>40</td>\n",
       "    </tr>\n",
       "  </tbody>\n",
       "</table>\n",
       "</div>"
      ],
      "text/plain": [
       "               datetime  season  holiday  workingday  weather  temp   atemp  \\\n",
       "count                                                                         \n",
       "40     01/01/2011 01:00  spring        0           0        1  9.02  13.635   \n",
       "\n",
       "       humidity  windspeed  casual  registered  count  \n",
       "count                                                  \n",
       "40           80        0.0       8          32     40  "
      ]
     },
     "execution_count": 22,
     "metadata": {},
     "output_type": "execute_result"
    }
   ],
   "source": [
    "bikes[1:2]"
   ]
  },
  {
   "cell_type": "markdown",
   "id": "c835d6c5",
   "metadata": {
    "slideshow": {
     "slide_type": "subslide"
    }
   },
   "source": [
    "### Default selector"
   ]
  },
  {
   "cell_type": "code",
   "execution_count": 23,
   "id": "73303dea",
   "metadata": {},
   "outputs": [
    {
     "data": {
      "text/plain": [
       "count\n",
       "16      9.84\n",
       "40      9.02\n",
       "32      9.02\n",
       "13      9.84\n",
       "1       9.84\n",
       "       ...  \n",
       "336    15.58\n",
       "241    14.76\n",
       "168    13.94\n",
       "129    13.94\n",
       "88     13.12\n",
       "Name: temp, Length: 10886, dtype: float64"
      ]
     },
     "execution_count": 23,
     "metadata": {},
     "output_type": "execute_result"
    }
   ],
   "source": [
    "bikes[\"temp\"]"
   ]
  },
  {
   "cell_type": "code",
   "execution_count": 24,
   "id": "1324b52f",
   "metadata": {},
   "outputs": [
    {
     "data": {
      "text/html": [
       "<div>\n",
       "<style scoped>\n",
       "    .dataframe tbody tr th:only-of-type {\n",
       "        vertical-align: middle;\n",
       "    }\n",
       "\n",
       "    .dataframe tbody tr th {\n",
       "        vertical-align: top;\n",
       "    }\n",
       "\n",
       "    .dataframe thead th {\n",
       "        text-align: right;\n",
       "    }\n",
       "</style>\n",
       "<table border=\"1\" class=\"dataframe\">\n",
       "  <thead>\n",
       "    <tr style=\"text-align: right;\">\n",
       "      <th></th>\n",
       "      <th>datetime</th>\n",
       "      <th>season</th>\n",
       "      <th>holiday</th>\n",
       "      <th>workingday</th>\n",
       "      <th>weather</th>\n",
       "      <th>temp</th>\n",
       "      <th>atemp</th>\n",
       "      <th>humidity</th>\n",
       "      <th>windspeed</th>\n",
       "      <th>casual</th>\n",
       "      <th>registered</th>\n",
       "      <th>count</th>\n",
       "    </tr>\n",
       "    <tr>\n",
       "      <th>count</th>\n",
       "      <th></th>\n",
       "      <th></th>\n",
       "      <th></th>\n",
       "      <th></th>\n",
       "      <th></th>\n",
       "      <th></th>\n",
       "      <th></th>\n",
       "      <th></th>\n",
       "      <th></th>\n",
       "      <th></th>\n",
       "      <th></th>\n",
       "      <th></th>\n",
       "    </tr>\n",
       "  </thead>\n",
       "  <tbody>\n",
       "    <tr>\n",
       "      <th>5</th>\n",
       "      <td>15/02/2011 01:00</td>\n",
       "      <td>spring</td>\n",
       "      <td>0</td>\n",
       "      <td>1</td>\n",
       "      <td>1</td>\n",
       "      <td>12.30</td>\n",
       "      <td>12.12</td>\n",
       "      <td>42</td>\n",
       "      <td>51.9987</td>\n",
       "      <td>0</td>\n",
       "      <td>5</td>\n",
       "      <td>5</td>\n",
       "    </tr>\n",
       "    <tr>\n",
       "      <th>171</th>\n",
       "      <td>19/02/2011 15:00</td>\n",
       "      <td>spring</td>\n",
       "      <td>0</td>\n",
       "      <td>0</td>\n",
       "      <td>1</td>\n",
       "      <td>18.04</td>\n",
       "      <td>21.97</td>\n",
       "      <td>16</td>\n",
       "      <td>50.0021</td>\n",
       "      <td>84</td>\n",
       "      <td>87</td>\n",
       "      <td>171</td>\n",
       "    </tr>\n",
       "    <tr>\n",
       "      <th>358</th>\n",
       "      <td>03/07/2011 17:00</td>\n",
       "      <td>fall</td>\n",
       "      <td>0</td>\n",
       "      <td>0</td>\n",
       "      <td>3</td>\n",
       "      <td>32.80</td>\n",
       "      <td>37.12</td>\n",
       "      <td>49</td>\n",
       "      <td>56.9969</td>\n",
       "      <td>181</td>\n",
       "      <td>177</td>\n",
       "      <td>358</td>\n",
       "    </tr>\n",
       "    <tr>\n",
       "      <th>181</th>\n",
       "      <td>03/07/2011 18:00</td>\n",
       "      <td>fall</td>\n",
       "      <td>0</td>\n",
       "      <td>0</td>\n",
       "      <td>3</td>\n",
       "      <td>32.80</td>\n",
       "      <td>37.12</td>\n",
       "      <td>49</td>\n",
       "      <td>56.9969</td>\n",
       "      <td>74</td>\n",
       "      <td>107</td>\n",
       "      <td>181</td>\n",
       "    </tr>\n",
       "  </tbody>\n",
       "</table>\n",
       "</div>"
      ],
      "text/plain": [
       "               datetime  season  holiday  workingday  weather   temp  atemp  \\\n",
       "count                                                                         \n",
       "5      15/02/2011 01:00  spring        0           1        1  12.30  12.12   \n",
       "171    19/02/2011 15:00  spring        0           0        1  18.04  21.97   \n",
       "358    03/07/2011 17:00    fall        0           0        3  32.80  37.12   \n",
       "181    03/07/2011 18:00    fall        0           0        3  32.80  37.12   \n",
       "\n",
       "       humidity  windspeed  casual  registered  count  \n",
       "count                                                  \n",
       "5            42    51.9987       0           5      5  \n",
       "171          16    50.0021      84          87    171  \n",
       "358          49    56.9969     181         177    358  \n",
       "181          49    56.9969      74         107    181  "
      ]
     },
     "execution_count": 24,
     "metadata": {},
     "output_type": "execute_result"
    }
   ],
   "source": [
    "bikes[bikes[\"windspeed\"]>50]"
   ]
  },
  {
   "cell_type": "markdown",
   "id": "d2c450b1",
   "metadata": {},
   "source": [
    "I recommend to use __loc__ / __iloc__ instead of the default selector for disambiguity"
   ]
  },
  {
   "cell_type": "markdown",
   "id": "d7214504",
   "metadata": {
    "slideshow": {
     "slide_type": "slide"
    }
   },
   "source": [
    "## Sorting\n"
   ]
  },
  {
   "cell_type": "markdown",
   "id": "30b40a27",
   "metadata": {
    "slideshow": {
     "slide_type": "subslide"
    }
   },
   "source": [
    "### Sorting by index\n",
    "\n",
    "* __.sort_index__ for sorting by index\n"
   ]
  },
  {
   "cell_type": "code",
   "execution_count": 25,
   "id": "07400949",
   "metadata": {
    "scrolled": true
   },
   "outputs": [
    {
     "data": {
      "text/html": [
       "<div>\n",
       "<style scoped>\n",
       "    .dataframe tbody tr th:only-of-type {\n",
       "        vertical-align: middle;\n",
       "    }\n",
       "\n",
       "    .dataframe tbody tr th {\n",
       "        vertical-align: top;\n",
       "    }\n",
       "\n",
       "    .dataframe thead th {\n",
       "        text-align: right;\n",
       "    }\n",
       "</style>\n",
       "<table border=\"1\" class=\"dataframe\">\n",
       "  <thead>\n",
       "    <tr style=\"text-align: right;\">\n",
       "      <th></th>\n",
       "      <th>season</th>\n",
       "      <th>holiday</th>\n",
       "      <th>workingday</th>\n",
       "      <th>weather</th>\n",
       "      <th>temp</th>\n",
       "      <th>atemp</th>\n",
       "      <th>humidity</th>\n",
       "      <th>windspeed</th>\n",
       "      <th>casual</th>\n",
       "      <th>registered</th>\n",
       "      <th>count</th>\n",
       "    </tr>\n",
       "    <tr>\n",
       "      <th>datetime</th>\n",
       "      <th></th>\n",
       "      <th></th>\n",
       "      <th></th>\n",
       "      <th></th>\n",
       "      <th></th>\n",
       "      <th></th>\n",
       "      <th></th>\n",
       "      <th></th>\n",
       "      <th></th>\n",
       "      <th></th>\n",
       "      <th></th>\n",
       "    </tr>\n",
       "  </thead>\n",
       "  <tbody>\n",
       "    <tr>\n",
       "      <th>01/01/2011 00:00</th>\n",
       "      <td>spring</td>\n",
       "      <td>0</td>\n",
       "      <td>0</td>\n",
       "      <td>1</td>\n",
       "      <td>9.84</td>\n",
       "      <td>14.395</td>\n",
       "      <td>81</td>\n",
       "      <td>0.0</td>\n",
       "      <td>3</td>\n",
       "      <td>13</td>\n",
       "      <td>16</td>\n",
       "    </tr>\n",
       "    <tr>\n",
       "      <th>01/01/2011 01:00</th>\n",
       "      <td>spring</td>\n",
       "      <td>0</td>\n",
       "      <td>0</td>\n",
       "      <td>1</td>\n",
       "      <td>9.02</td>\n",
       "      <td>13.635</td>\n",
       "      <td>80</td>\n",
       "      <td>0.0</td>\n",
       "      <td>8</td>\n",
       "      <td>32</td>\n",
       "      <td>40</td>\n",
       "    </tr>\n",
       "    <tr>\n",
       "      <th>01/01/2011 02:00</th>\n",
       "      <td>spring</td>\n",
       "      <td>0</td>\n",
       "      <td>0</td>\n",
       "      <td>1</td>\n",
       "      <td>9.02</td>\n",
       "      <td>13.635</td>\n",
       "      <td>80</td>\n",
       "      <td>0.0</td>\n",
       "      <td>5</td>\n",
       "      <td>27</td>\n",
       "      <td>32</td>\n",
       "    </tr>\n",
       "  </tbody>\n",
       "</table>\n",
       "</div>"
      ],
      "text/plain": [
       "                  season  holiday  workingday  weather  temp   atemp  \\\n",
       "datetime                                                               \n",
       "01/01/2011 00:00  spring        0           0        1  9.84  14.395   \n",
       "01/01/2011 01:00  spring        0           0        1  9.02  13.635   \n",
       "01/01/2011 02:00  spring        0           0        1  9.02  13.635   \n",
       "\n",
       "                  humidity  windspeed  casual  registered  count  \n",
       "datetime                                                          \n",
       "01/01/2011 00:00        81        0.0       3          13     16  \n",
       "01/01/2011 01:00        80        0.0       8          32     40  \n",
       "01/01/2011 02:00        80        0.0       5          27     32  "
      ]
     },
     "execution_count": 25,
     "metadata": {},
     "output_type": "execute_result"
    }
   ],
   "source": [
    "bikes.set_index(\"datetime\").sort_index(). head(3)"
   ]
  },
  {
   "cell_type": "markdown",
   "id": "1dae8d0b",
   "metadata": {},
   "source": [
    "### Sorting by column values\n",
    "\n",
    "* __.sort_values__ for sorting by column values"
   ]
  },
  {
   "cell_type": "code",
   "execution_count": 26,
   "id": "05500dff",
   "metadata": {},
   "outputs": [
    {
     "data": {
      "text/html": [
       "<div>\n",
       "<style scoped>\n",
       "    .dataframe tbody tr th:only-of-type {\n",
       "        vertical-align: middle;\n",
       "    }\n",
       "\n",
       "    .dataframe tbody tr th {\n",
       "        vertical-align: top;\n",
       "    }\n",
       "\n",
       "    .dataframe thead th {\n",
       "        text-align: right;\n",
       "    }\n",
       "</style>\n",
       "<table border=\"1\" class=\"dataframe\">\n",
       "  <thead>\n",
       "    <tr style=\"text-align: right;\">\n",
       "      <th></th>\n",
       "      <th>season</th>\n",
       "      <th>holiday</th>\n",
       "      <th>workingday</th>\n",
       "      <th>weather</th>\n",
       "      <th>temp</th>\n",
       "      <th>atemp</th>\n",
       "      <th>humidity</th>\n",
       "      <th>windspeed</th>\n",
       "      <th>casual</th>\n",
       "      <th>registered</th>\n",
       "      <th>count</th>\n",
       "    </tr>\n",
       "    <tr>\n",
       "      <th>datetime</th>\n",
       "      <th></th>\n",
       "      <th></th>\n",
       "      <th></th>\n",
       "      <th></th>\n",
       "      <th></th>\n",
       "      <th></th>\n",
       "      <th></th>\n",
       "      <th></th>\n",
       "      <th></th>\n",
       "      <th></th>\n",
       "      <th></th>\n",
       "    </tr>\n",
       "  </thead>\n",
       "  <tbody>\n",
       "    <tr>\n",
       "      <th>07/07/2012 16:00</th>\n",
       "      <td>fall</td>\n",
       "      <td>0</td>\n",
       "      <td>0</td>\n",
       "      <td>1</td>\n",
       "      <td>41.00</td>\n",
       "      <td>43.18</td>\n",
       "      <td>19</td>\n",
       "      <td>11.0014</td>\n",
       "      <td>102</td>\n",
       "      <td>192</td>\n",
       "      <td>294</td>\n",
       "    </tr>\n",
       "    <tr>\n",
       "      <th>07/07/2012 14:00</th>\n",
       "      <td>fall</td>\n",
       "      <td>0</td>\n",
       "      <td>0</td>\n",
       "      <td>2</td>\n",
       "      <td>39.36</td>\n",
       "      <td>43.18</td>\n",
       "      <td>30</td>\n",
       "      <td>8.9981</td>\n",
       "      <td>105</td>\n",
       "      <td>203</td>\n",
       "      <td>308</td>\n",
       "    </tr>\n",
       "    <tr>\n",
       "      <th>07/07/2012 12:00</th>\n",
       "      <td>fall</td>\n",
       "      <td>0</td>\n",
       "      <td>0</td>\n",
       "      <td>1</td>\n",
       "      <td>39.36</td>\n",
       "      <td>43.18</td>\n",
       "      <td>31</td>\n",
       "      <td>23.9994</td>\n",
       "      <td>124</td>\n",
       "      <td>218</td>\n",
       "      <td>342</td>\n",
       "    </tr>\n",
       "  </tbody>\n",
       "</table>\n",
       "</div>"
      ],
      "text/plain": [
       "                 season  holiday  workingday  weather   temp  atemp  humidity  \\\n",
       "datetime                                                                        \n",
       "07/07/2012 16:00   fall        0           0        1  41.00  43.18        19   \n",
       "07/07/2012 14:00   fall        0           0        2  39.36  43.18        30   \n",
       "07/07/2012 12:00   fall        0           0        1  39.36  43.18        31   \n",
       "\n",
       "                  windspeed  casual  registered  count  \n",
       "datetime                                                \n",
       "07/07/2012 16:00    11.0014     102         192    294  \n",
       "07/07/2012 14:00     8.9981     105         203    308  \n",
       "07/07/2012 12:00    23.9994     124         218    342  "
      ]
     },
     "execution_count": 26,
     "metadata": {},
     "output_type": "execute_result"
    }
   ],
   "source": [
    "bikes.set_index(\"datetime\").sort_values(\"temp\", ascending=False). head(3)"
   ]
  },
  {
   "cell_type": "markdown",
   "id": "74244fd9",
   "metadata": {
    "slideshow": {
     "slide_type": "slide"
    }
   },
   "source": [
    "## Transforming column values"
   ]
  },
  {
   "cell_type": "markdown",
   "id": "b5e43252",
   "metadata": {
    "slideshow": {
     "slide_type": "subslide"
    }
   },
   "source": [
    "## Creating new / Transforming column values"
   ]
  },
  {
   "cell_type": "markdown",
   "id": "e7ba7bcf",
   "metadata": {},
   "source": [
    "* Direct function call for a Series or using __apply__ (__apply__ tranforming all values in the dataframe and  selecting the axis and transform columns or rows)"
   ]
  },
  {
   "cell_type": "code",
   "execution_count": 39,
   "id": "859094af",
   "metadata": {},
   "outputs": [
    {
     "data": {
      "text/html": [
       "<div>\n",
       "<style scoped>\n",
       "    .dataframe tbody tr th:only-of-type {\n",
       "        vertical-align: middle;\n",
       "    }\n",
       "\n",
       "    .dataframe tbody tr th {\n",
       "        vertical-align: top;\n",
       "    }\n",
       "\n",
       "    .dataframe thead th {\n",
       "        text-align: right;\n",
       "    }\n",
       "</style>\n",
       "<table border=\"1\" class=\"dataframe\">\n",
       "  <thead>\n",
       "    <tr style=\"text-align: right;\">\n",
       "      <th></th>\n",
       "      <th>datetime</th>\n",
       "      <th>temp</th>\n",
       "      <th>tempF</th>\n",
       "      <th>atemp</th>\n",
       "      <th>atempF</th>\n",
       "    </tr>\n",
       "    <tr>\n",
       "      <th>count</th>\n",
       "      <th></th>\n",
       "      <th></th>\n",
       "      <th></th>\n",
       "      <th></th>\n",
       "      <th></th>\n",
       "    </tr>\n",
       "  </thead>\n",
       "  <tbody>\n",
       "    <tr>\n",
       "      <th>5</th>\n",
       "      <td>2011-02-15 01:00:00</td>\n",
       "      <td>12.30</td>\n",
       "      <td>54.140</td>\n",
       "      <td>12.12</td>\n",
       "      <td>53.816</td>\n",
       "    </tr>\n",
       "    <tr>\n",
       "      <th>171</th>\n",
       "      <td>2011-02-19 15:00:00</td>\n",
       "      <td>18.04</td>\n",
       "      <td>64.472</td>\n",
       "      <td>21.97</td>\n",
       "      <td>71.546</td>\n",
       "    </tr>\n",
       "    <tr>\n",
       "      <th>358</th>\n",
       "      <td>2011-07-03 17:00:00</td>\n",
       "      <td>32.80</td>\n",
       "      <td>91.040</td>\n",
       "      <td>37.12</td>\n",
       "      <td>98.816</td>\n",
       "    </tr>\n",
       "    <tr>\n",
       "      <th>181</th>\n",
       "      <td>2011-07-03 18:00:00</td>\n",
       "      <td>32.80</td>\n",
       "      <td>91.040</td>\n",
       "      <td>37.12</td>\n",
       "      <td>98.816</td>\n",
       "    </tr>\n",
       "  </tbody>\n",
       "</table>\n",
       "</div>"
      ],
      "text/plain": [
       "                 datetime   temp   tempF  atemp  atempF\n",
       "count                                                  \n",
       "5     2011-02-15 01:00:00  12.30  54.140  12.12  53.816\n",
       "171   2011-02-19 15:00:00  18.04  64.472  21.97  71.546\n",
       "358   2011-07-03 17:00:00  32.80  91.040  37.12  98.816\n",
       "181   2011-07-03 18:00:00  32.80  91.040  37.12  98.816"
      ]
     },
     "execution_count": 39,
     "metadata": {},
     "output_type": "execute_result"
    }
   ],
   "source": [
    "bikes[\"datetime\"] = pd.to_datetime(bikes[\"datetime\"], format='%d/%m/%Y %H:%M')\n",
    "bikes[\"tempF\"] = bikes[\"temp\"] * 9.0/5 + 32 #Direct call\n",
    "bikes[\"atempF\"] = bikes[\"atemp\"].apply(lambda x: x*9.0/5 +32)\n",
    "bikes.loc[bikes[\"windspeed\"]>50,[\"datetime\",\"temp\",\"tempF\",\"atemp\",\"atempF\"]]"
   ]
  },
  {
   "cell_type": "markdown",
   "id": "721c9156",
   "metadata": {
    "slideshow": {
     "slide_type": "subslide"
    }
   },
   "source": [
    "## Creating new / Transforming column values"
   ]
  },
  {
   "cell_type": "markdown",
   "id": "ce644f86",
   "metadata": {
    "slideshow": {
     "slide_type": "-"
    }
   },
   "source": [
    "* Using __applymap__ (element-wise function)"
   ]
  },
  {
   "cell_type": "code",
   "execution_count": 28,
   "id": "f0499f40",
   "metadata": {},
   "outputs": [
    {
     "data": {
      "text/html": [
       "<div>\n",
       "<style scoped>\n",
       "    .dataframe tbody tr th:only-of-type {\n",
       "        vertical-align: middle;\n",
       "    }\n",
       "\n",
       "    .dataframe tbody tr th {\n",
       "        vertical-align: top;\n",
       "    }\n",
       "\n",
       "    .dataframe thead th {\n",
       "        text-align: right;\n",
       "    }\n",
       "</style>\n",
       "<table border=\"1\" class=\"dataframe\">\n",
       "  <thead>\n",
       "    <tr style=\"text-align: right;\">\n",
       "      <th></th>\n",
       "      <th>datetime</th>\n",
       "      <th>tempF</th>\n",
       "      <th>tempF_formatted</th>\n",
       "    </tr>\n",
       "    <tr>\n",
       "      <th>count</th>\n",
       "      <th></th>\n",
       "      <th></th>\n",
       "      <th></th>\n",
       "    </tr>\n",
       "  </thead>\n",
       "  <tbody>\n",
       "    <tr>\n",
       "      <th>5</th>\n",
       "      <td>2011-02-15 01:00:00</td>\n",
       "      <td>54.140</td>\n",
       "      <td>54.14</td>\n",
       "    </tr>\n",
       "    <tr>\n",
       "      <th>171</th>\n",
       "      <td>2011-02-19 15:00:00</td>\n",
       "      <td>64.472</td>\n",
       "      <td>64.47</td>\n",
       "    </tr>\n",
       "    <tr>\n",
       "      <th>358</th>\n",
       "      <td>2011-07-03 17:00:00</td>\n",
       "      <td>91.040</td>\n",
       "      <td>91.04</td>\n",
       "    </tr>\n",
       "    <tr>\n",
       "      <th>181</th>\n",
       "      <td>2011-07-03 18:00:00</td>\n",
       "      <td>91.040</td>\n",
       "      <td>91.04</td>\n",
       "    </tr>\n",
       "  </tbody>\n",
       "</table>\n",
       "</div>"
      ],
      "text/plain": [
       "                 datetime   tempF tempF_formatted\n",
       "count                                            \n",
       "5     2011-02-15 01:00:00  54.140           54.14\n",
       "171   2011-02-19 15:00:00  64.472           64.47\n",
       "358   2011-07-03 17:00:00  91.040           91.04\n",
       "181   2011-07-03 18:00:00  91.040           91.04"
      ]
     },
     "execution_count": 28,
     "metadata": {},
     "output_type": "execute_result"
    }
   ],
   "source": [
    "bikes[\"tempF_formatted\"] = bikes[[\"tempF\"]].applymap(lambda x: f'{x:.2f}')\n",
    "bikes.loc[bikes[\"windspeed\"]>50,[\"datetime\",\"tempF\",\"tempF_formatted\"]]"
   ]
  },
  {
   "cell_type": "markdown",
   "id": "5b6908d9",
   "metadata": {
    "slideshow": {
     "slide_type": "subslide"
    }
   },
   "source": [
    "### Dropping columns / rows\n",
    "* Using __del__ statement\n"
   ]
  },
  {
   "cell_type": "code",
   "execution_count": 29,
   "id": "ac3b505e",
   "metadata": {},
   "outputs": [],
   "source": [
    "del bikes[\"tempF_formatted\"]"
   ]
  },
  {
   "cell_type": "markdown",
   "id": "7e08dbe6",
   "metadata": {
    "slideshow": {
     "slide_type": "-"
    }
   },
   "source": [
    "* Using __drop__ method\n"
   ]
  },
  {
   "cell_type": "code",
   "execution_count": 40,
   "id": "ed1c6013",
   "metadata": {},
   "outputs": [
    {
     "data": {
      "text/html": [
       "<div>\n",
       "<style scoped>\n",
       "    .dataframe tbody tr th:only-of-type {\n",
       "        vertical-align: middle;\n",
       "    }\n",
       "\n",
       "    .dataframe tbody tr th {\n",
       "        vertical-align: top;\n",
       "    }\n",
       "\n",
       "    .dataframe thead th {\n",
       "        text-align: right;\n",
       "    }\n",
       "</style>\n",
       "<table border=\"1\" class=\"dataframe\">\n",
       "  <thead>\n",
       "    <tr style=\"text-align: right;\">\n",
       "      <th></th>\n",
       "      <th>datetime</th>\n",
       "      <th>season</th>\n",
       "      <th>holiday</th>\n",
       "      <th>workingday</th>\n",
       "      <th>weather</th>\n",
       "      <th>temp</th>\n",
       "      <th>atemp</th>\n",
       "      <th>humidity</th>\n",
       "      <th>windspeed</th>\n",
       "      <th>casual</th>\n",
       "      <th>registered</th>\n",
       "      <th>count</th>\n",
       "    </tr>\n",
       "    <tr>\n",
       "      <th>count</th>\n",
       "      <th></th>\n",
       "      <th></th>\n",
       "      <th></th>\n",
       "      <th></th>\n",
       "      <th></th>\n",
       "      <th></th>\n",
       "      <th></th>\n",
       "      <th></th>\n",
       "      <th></th>\n",
       "      <th></th>\n",
       "      <th></th>\n",
       "      <th></th>\n",
       "    </tr>\n",
       "  </thead>\n",
       "  <tbody>\n",
       "    <tr>\n",
       "      <th>16</th>\n",
       "      <td>2011-01-01 00:00:00</td>\n",
       "      <td>spring</td>\n",
       "      <td>0</td>\n",
       "      <td>0</td>\n",
       "      <td>1</td>\n",
       "      <td>9.84</td>\n",
       "      <td>14.395</td>\n",
       "      <td>81</td>\n",
       "      <td>0.0</td>\n",
       "      <td>3</td>\n",
       "      <td>13</td>\n",
       "      <td>16</td>\n",
       "    </tr>\n",
       "    <tr>\n",
       "      <th>40</th>\n",
       "      <td>2011-01-01 01:00:00</td>\n",
       "      <td>spring</td>\n",
       "      <td>0</td>\n",
       "      <td>0</td>\n",
       "      <td>1</td>\n",
       "      <td>9.02</td>\n",
       "      <td>13.635</td>\n",
       "      <td>80</td>\n",
       "      <td>0.0</td>\n",
       "      <td>8</td>\n",
       "      <td>32</td>\n",
       "      <td>40</td>\n",
       "    </tr>\n",
       "    <tr>\n",
       "      <th>32</th>\n",
       "      <td>2011-01-01 02:00:00</td>\n",
       "      <td>spring</td>\n",
       "      <td>0</td>\n",
       "      <td>0</td>\n",
       "      <td>1</td>\n",
       "      <td>9.02</td>\n",
       "      <td>13.635</td>\n",
       "      <td>80</td>\n",
       "      <td>0.0</td>\n",
       "      <td>5</td>\n",
       "      <td>27</td>\n",
       "      <td>32</td>\n",
       "    </tr>\n",
       "    <tr>\n",
       "      <th>13</th>\n",
       "      <td>2011-01-01 03:00:00</td>\n",
       "      <td>spring</td>\n",
       "      <td>0</td>\n",
       "      <td>0</td>\n",
       "      <td>1</td>\n",
       "      <td>9.84</td>\n",
       "      <td>14.395</td>\n",
       "      <td>75</td>\n",
       "      <td>0.0</td>\n",
       "      <td>3</td>\n",
       "      <td>10</td>\n",
       "      <td>13</td>\n",
       "    </tr>\n",
       "    <tr>\n",
       "      <th>1</th>\n",
       "      <td>2011-01-01 04:00:00</td>\n",
       "      <td>spring</td>\n",
       "      <td>0</td>\n",
       "      <td>0</td>\n",
       "      <td>1</td>\n",
       "      <td>9.84</td>\n",
       "      <td>14.395</td>\n",
       "      <td>75</td>\n",
       "      <td>0.0</td>\n",
       "      <td>0</td>\n",
       "      <td>1</td>\n",
       "      <td>1</td>\n",
       "    </tr>\n",
       "  </tbody>\n",
       "</table>\n",
       "</div>"
      ],
      "text/plain": [
       "                 datetime  season  holiday  workingday  weather  temp   atemp  \\\n",
       "count                                                                           \n",
       "16    2011-01-01 00:00:00  spring        0           0        1  9.84  14.395   \n",
       "40    2011-01-01 01:00:00  spring        0           0        1  9.02  13.635   \n",
       "32    2011-01-01 02:00:00  spring        0           0        1  9.02  13.635   \n",
       "13    2011-01-01 03:00:00  spring        0           0        1  9.84  14.395   \n",
       "1     2011-01-01 04:00:00  spring        0           0        1  9.84  14.395   \n",
       "\n",
       "       humidity  windspeed  casual  registered  count  \n",
       "count                                                  \n",
       "16           81        0.0       3          13     16  \n",
       "40           80        0.0       8          32     40  \n",
       "32           80        0.0       5          27     32  \n",
       "13           75        0.0       3          10     13  \n",
       "1            75        0.0       0           1      1  "
      ]
     },
     "execution_count": 40,
     "metadata": {},
     "output_type": "execute_result"
    }
   ],
   "source": [
    "bikes.drop(columns=[\"atempF\",\"tempF\"], inplace=True)\n",
    "bikes.head()"
   ]
  },
  {
   "cell_type": "markdown",
   "id": "fe583241",
   "metadata": {
    "slideshow": {
     "slide_type": "slide"
    }
   },
   "source": [
    "## Statistics"
   ]
  },
  {
   "cell_type": "markdown",
   "id": "2c5ac027",
   "metadata": {
    "slideshow": {
     "slide_type": "subslide"
    }
   },
   "source": [
    "### Statistics\n",
    "Pandas DataFrames provide many frequently used methods:"
   ]
  },
  {
   "cell_type": "code",
   "execution_count": 31,
   "id": "4487156c",
   "metadata": {},
   "outputs": [
    {
     "data": {
      "text/plain": [
       "temp          20.230860\n",
       "humidity      61.886460\n",
       "windspeed     12.799395\n",
       "count        191.574132\n",
       "dtype: float64"
      ]
     },
     "execution_count": 31,
     "metadata": {},
     "output_type": "execute_result"
    }
   ],
   "source": [
    "bikes[[\"temp\", \"humidity\", \"windspeed\", \"count\"]].mean()"
   ]
  },
  {
   "cell_type": "code",
   "execution_count": 32,
   "id": "e83dc6e8",
   "metadata": {},
   "outputs": [
    {
     "data": {
      "text/plain": [
       "temp          41.0000\n",
       "humidity     100.0000\n",
       "windspeed     56.9969\n",
       "count        977.0000\n",
       "dtype: float64"
      ]
     },
     "execution_count": 32,
     "metadata": {},
     "output_type": "execute_result"
    }
   ],
   "source": [
    "bikes[[\"temp\", \"humidity\", \"windspeed\", \"count\"]].max()"
   ]
  },
  {
   "cell_type": "markdown",
   "id": "ff1b30ab",
   "metadata": {
    "slideshow": {
     "slide_type": "subslide"
    }
   },
   "source": [
    "### Statistics"
   ]
  },
  {
   "cell_type": "code",
   "execution_count": 33,
   "id": "1a8b167f",
   "metadata": {},
   "outputs": [
    {
     "data": {
      "text/html": [
       "<div>\n",
       "<style scoped>\n",
       "    .dataframe tbody tr th:only-of-type {\n",
       "        vertical-align: middle;\n",
       "    }\n",
       "\n",
       "    .dataframe tbody tr th {\n",
       "        vertical-align: top;\n",
       "    }\n",
       "\n",
       "    .dataframe thead th {\n",
       "        text-align: right;\n",
       "    }\n",
       "</style>\n",
       "<table border=\"1\" class=\"dataframe\">\n",
       "  <thead>\n",
       "    <tr style=\"text-align: right;\">\n",
       "      <th></th>\n",
       "      <th>temp</th>\n",
       "      <th>humidity</th>\n",
       "      <th>windspeed</th>\n",
       "      <th>count</th>\n",
       "    </tr>\n",
       "  </thead>\n",
       "  <tbody>\n",
       "    <tr>\n",
       "      <th>count</th>\n",
       "      <td>10886.00000</td>\n",
       "      <td>10886.000000</td>\n",
       "      <td>10886.000000</td>\n",
       "      <td>10886.000000</td>\n",
       "    </tr>\n",
       "    <tr>\n",
       "      <th>mean</th>\n",
       "      <td>20.23086</td>\n",
       "      <td>61.886460</td>\n",
       "      <td>12.799395</td>\n",
       "      <td>191.574132</td>\n",
       "    </tr>\n",
       "    <tr>\n",
       "      <th>std</th>\n",
       "      <td>7.79159</td>\n",
       "      <td>19.245033</td>\n",
       "      <td>8.164537</td>\n",
       "      <td>181.144454</td>\n",
       "    </tr>\n",
       "    <tr>\n",
       "      <th>min</th>\n",
       "      <td>0.82000</td>\n",
       "      <td>0.000000</td>\n",
       "      <td>0.000000</td>\n",
       "      <td>1.000000</td>\n",
       "    </tr>\n",
       "    <tr>\n",
       "      <th>25%</th>\n",
       "      <td>13.94000</td>\n",
       "      <td>47.000000</td>\n",
       "      <td>7.001500</td>\n",
       "      <td>42.000000</td>\n",
       "    </tr>\n",
       "    <tr>\n",
       "      <th>50%</th>\n",
       "      <td>20.50000</td>\n",
       "      <td>62.000000</td>\n",
       "      <td>12.998000</td>\n",
       "      <td>145.000000</td>\n",
       "    </tr>\n",
       "    <tr>\n",
       "      <th>75%</th>\n",
       "      <td>26.24000</td>\n",
       "      <td>77.000000</td>\n",
       "      <td>16.997900</td>\n",
       "      <td>284.000000</td>\n",
       "    </tr>\n",
       "    <tr>\n",
       "      <th>max</th>\n",
       "      <td>41.00000</td>\n",
       "      <td>100.000000</td>\n",
       "      <td>56.996900</td>\n",
       "      <td>977.000000</td>\n",
       "    </tr>\n",
       "  </tbody>\n",
       "</table>\n",
       "</div>"
      ],
      "text/plain": [
       "              temp      humidity     windspeed         count\n",
       "count  10886.00000  10886.000000  10886.000000  10886.000000\n",
       "mean      20.23086     61.886460     12.799395    191.574132\n",
       "std        7.79159     19.245033      8.164537    181.144454\n",
       "min        0.82000      0.000000      0.000000      1.000000\n",
       "25%       13.94000     47.000000      7.001500     42.000000\n",
       "50%       20.50000     62.000000     12.998000    145.000000\n",
       "75%       26.24000     77.000000     16.997900    284.000000\n",
       "max       41.00000    100.000000     56.996900    977.000000"
      ]
     },
     "execution_count": 33,
     "metadata": {},
     "output_type": "execute_result"
    }
   ],
   "source": [
    "bikes[[\"temp\", \"humidity\", \"windspeed\", \"count\"]].describe()"
   ]
  },
  {
   "cell_type": "code",
   "execution_count": 34,
   "id": "3bf8e214",
   "metadata": {},
   "outputs": [
    {
     "data": {
      "text/html": [
       "<div>\n",
       "<style scoped>\n",
       "    .dataframe tbody tr th:only-of-type {\n",
       "        vertical-align: middle;\n",
       "    }\n",
       "\n",
       "    .dataframe tbody tr th {\n",
       "        vertical-align: top;\n",
       "    }\n",
       "\n",
       "    .dataframe thead th {\n",
       "        text-align: right;\n",
       "    }\n",
       "</style>\n",
       "<table border=\"1\" class=\"dataframe\">\n",
       "  <thead>\n",
       "    <tr style=\"text-align: right;\">\n",
       "      <th></th>\n",
       "      <th>temp</th>\n",
       "      <th>humidity</th>\n",
       "      <th>windspeed</th>\n",
       "      <th>count</th>\n",
       "    </tr>\n",
       "  </thead>\n",
       "  <tbody>\n",
       "    <tr>\n",
       "      <th>temp</th>\n",
       "      <td>1.000000</td>\n",
       "      <td>-0.064949</td>\n",
       "      <td>-0.017852</td>\n",
       "      <td>0.394454</td>\n",
       "    </tr>\n",
       "    <tr>\n",
       "      <th>humidity</th>\n",
       "      <td>-0.064949</td>\n",
       "      <td>1.000000</td>\n",
       "      <td>-0.318607</td>\n",
       "      <td>-0.317371</td>\n",
       "    </tr>\n",
       "    <tr>\n",
       "      <th>windspeed</th>\n",
       "      <td>-0.017852</td>\n",
       "      <td>-0.318607</td>\n",
       "      <td>1.000000</td>\n",
       "      <td>0.101369</td>\n",
       "    </tr>\n",
       "    <tr>\n",
       "      <th>count</th>\n",
       "      <td>0.394454</td>\n",
       "      <td>-0.317371</td>\n",
       "      <td>0.101369</td>\n",
       "      <td>1.000000</td>\n",
       "    </tr>\n",
       "  </tbody>\n",
       "</table>\n",
       "</div>"
      ],
      "text/plain": [
       "               temp  humidity  windspeed     count\n",
       "temp       1.000000 -0.064949  -0.017852  0.394454\n",
       "humidity  -0.064949  1.000000  -0.318607 -0.317371\n",
       "windspeed -0.017852 -0.318607   1.000000  0.101369\n",
       "count      0.394454 -0.317371   0.101369  1.000000"
      ]
     },
     "execution_count": 34,
     "metadata": {},
     "output_type": "execute_result"
    }
   ],
   "source": [
    "bikes[[\"temp\", \"humidity\", \"windspeed\", \"count\"]].corr()"
   ]
  },
  {
   "cell_type": "markdown",
   "id": "e6b9a6dc",
   "metadata": {
    "slideshow": {
     "slide_type": "slide"
    }
   },
   "source": [
    "## Plots"
   ]
  },
  {
   "cell_type": "markdown",
   "id": "53e11da3",
   "metadata": {
    "slideshow": {
     "slide_type": "subslide"
    }
   },
   "source": [
    "### Plots\n",
    "\n",
    "Pandas DataFrames provide many frequently used plots:\n",
    "* histograms\n",
    "* pie charts\n",
    "* boxplots\n",
    "* lines\n",
    "* scatters\n",
    "etc."
   ]
  },
  {
   "cell_type": "markdown",
   "id": "30442beb",
   "metadata": {
    "slideshow": {
     "slide_type": "subslide"
    }
   },
   "source": [
    "### Histogram"
   ]
  },
  {
   "cell_type": "code",
   "execution_count": 35,
   "id": "00621c17",
   "metadata": {
    "scrolled": false
   },
   "outputs": [
    {
     "data": {
      "text/plain": [
       "<AxesSubplot:ylabel='Frequency'>"
      ]
     },
     "execution_count": 35,
     "metadata": {},
     "output_type": "execute_result"
    },
    {
     "data": {
      "image/png": "[encoded data removed]",
      "text/plain": [
       "<Figure size 432x288 with 1 Axes>"
      ]
     },
     "metadata": {
      "needs_background": "light"
     },
     "output_type": "display_data"
    }
   ],
   "source": [
    "bikes[\"temp\"].plot.hist()"
   ]
  },
  {
   "cell_type": "markdown",
   "id": "da7efd08",
   "metadata": {
    "slideshow": {
     "slide_type": "subslide"
    }
   },
   "source": [
    "### Lines"
   ]
  },
  {
   "cell_type": "code",
   "execution_count": 36,
   "id": "040734f9",
   "metadata": {},
   "outputs": [
    {
     "data": {
      "text/plain": [
       "<AxesSubplot:xlabel='datetime'>"
      ]
     },
     "execution_count": 36,
     "metadata": {},
     "output_type": "execute_result"
    },
    {
     "data": {
      "image/png": "[encoded data removed]",
      "text/plain": [
       "<Figure size 432x288 with 1 Axes>"
      ]
     },
     "metadata": {
      "needs_background": "light"
     },
     "output_type": "display_data"
    }
   ],
   "source": [
    "bikes.set_index(\"datetime\").sort_index()[[\"atemp\",\"temp\"]].plot.line(alpha=0.7)"
   ]
  },
  {
   "cell_type": "markdown",
   "id": "2d686ba8",
   "metadata": {
    "slideshow": {
     "slide_type": "subslide"
    }
   },
   "source": [
    "### Boxplots"
   ]
  },
  {
   "cell_type": "code",
   "execution_count": 37,
   "id": "8fd18b81",
   "metadata": {
    "scrolled": false
   },
   "outputs": [
    {
     "data": {
      "text/plain": [
       "<AxesSubplot:>"
      ]
     },
     "execution_count": 37,
     "metadata": {},
     "output_type": "execute_result"
    },
    {
     "data": {
      "image/png": "[encoded data removed]",
      "text/plain": [
       "<Figure size 432x288 with 1 Axes>"
      ]
     },
     "metadata": {
      "needs_background": "light"
     },
     "output_type": "display_data"
    }
   ],
   "source": [
    "bikes[[\"temp\", \"humidity\", \"windspeed\"]].plot.box()"
   ]
  },
  {
   "cell_type": "markdown",
   "id": "663ba5be",
   "metadata": {
    "slideshow": {
     "slide_type": "slide"
    }
   },
   "source": [
    "## Conclusion"
   ]
  },
  {
   "cell_type": "markdown",
   "id": "540ff4a9",
   "metadata": {
    "slideshow": {
     "slide_type": "slide"
    }
   },
   "source": [
    "### Conclusion\n",
    "\n",
    "Pandas is a pretty library with data manipulation routines:\n",
    "1. Efficient data storage and computations - via NumPy\n",
    "2. Indexes - database-like\n",
    "3. Functions for data loading - easier than direct file reading/parsing\n",
    "4. Functions for statistics - cover most frequently used descriptive statistics\n",
    "5. Functions for plots - easier than plotting with specialised libraries\n",
    "6. Flexibility - easy to extend with required data manipulation routines"
   ]
  },
  {
   "cell_type": "markdown",
   "id": "8c1b6b5e",
   "metadata": {
    "slideshow": {
     "slide_type": "slide"
    }
   },
   "source": [
    "# Thank you"
   ]
  }
 ],
 "metadata": {
  "celltoolbar": "Slideshow",
  "kernelspec": {
   "display_name": "Python 3 (ipykernel)",
   "language": "python",
   "name": "python3"
  },
  "language_info": {
   "codemirror_mode": {
    "name": "ipython",
    "version": 3
   },
   "file_extension": ".py",
   "mimetype": "text/x-python",
   "name": "python",
   "nbconvert_exporter": "python",
   "pygments_lexer": "ipython3",
   "version": "3.9.12"
  }
 },
 "nbformat": 4,
 "nbformat_minor": 5
}
