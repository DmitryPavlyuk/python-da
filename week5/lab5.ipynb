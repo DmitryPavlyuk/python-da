{
 "cells": [
  {
   "cell_type": "markdown",
   "id": "88ab8900",
   "metadata": {},
   "source": [
    "# Python for Data Analytics\n",
    "## Week 5 lab: pandas for Data Manipulation"
   ]
  },
  {
   "cell_type": "markdown",
   "id": "bacd6b39",
   "metadata": {},
   "source": [
    "### Review Week 5 presentation notebooks"
   ]
  },
  {
   "cell_type": "markdown",
   "id": "17ddf60a",
   "metadata": {},
   "source": [
    "# Exercises\n",
    "\n",
    "Please organise your solutions as a separate notebook and upload to the LMS (Moodle):\n",
    "* Notebook (.ipynb)\n",
    "* Generate pdf (File -> Download as -> PDF)."
   ]
  },
  {
   "cell_type": "markdown",
   "id": "e6722493",
   "metadata": {},
   "source": [
    "### EXERCISE 1\n",
    "\n",
    "Create:\n",
    "\n"
   ]
  }
 ],
 "metadata": {
  "kernelspec": {
   "display_name": "Python 3 (ipykernel)",
   "language": "python",
   "name": "python3"
  },
  "language_info": {
   "codemirror_mode": {
    "name": "ipython",
    "version": 3
   },
   "file_extension": ".py",
   "mimetype": "text/x-python",
   "name": "python",
   "nbconvert_exporter": "python",
   "pygments_lexer": "ipython3",
   "version": "3.9.12"
  }
 },
 "nbformat": 4,
 "nbformat_minor": 5
}
